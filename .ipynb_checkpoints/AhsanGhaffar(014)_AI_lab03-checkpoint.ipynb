{
 "cells": [
  {
   "cell_type": "code",
   "execution_count": 82,
   "metadata": {},
   "outputs": [],
   "source": [
    "class Flight:\n",
    "    \n",
    "    __reservedSeats=0\n",
    "    \n",
    "    def __init__(self, flightNum, source=\"\", destination=\"\", available_seats=0):\n",
    "        \n",
    "        self.__flightNum=flightNum\n",
    "        self.__source=source\n",
    "        self.__destination=destination\n",
    "        self.__available_seats=available_seats\n",
    "        self.short_sorc_des(self.__source, self.__destination)\n",
    "        \n",
    "    ##Setters:\n",
    "    \n",
    "    def setSource(self, sour):\n",
    "        self.__source=sour\n",
    "    \n",
    "    def setDestination(self, dest):\n",
    "        self.__destination=dest\n",
    "    \n",
    "    def setAvailable_seats(self, seats):\n",
    "        self.__available_seats=seats\n",
    "    \n",
    "    def setReservedSeats(self,res):\n",
    "        self.__reservedSeats=res\n",
    "    ##Getters:\n",
    "        \n",
    "    def getFlightNum(self):\n",
    "        return self.__flightNum\n",
    "    \n",
    "    def getSource(self):\n",
    "        return self.__source\n",
    "    \n",
    "    def getDestination(self):\n",
    "        return self.__destination\n",
    "    \n",
    "    def getAvailable_seats(self):\n",
    "        return self.__available_seats\n",
    "    \n",
    "    def getReservedSeats(self):\n",
    "        return self.__reservedSeats\n",
    "    \n",
    "    def short_sorc_des(self,sor,des):\n",
    "        \"\"\"\n",
    "        This function is used for the shortenning of source and destination address\n",
    "        \"\"\"\n",
    "        # short the source address\n",
    "        if len(sor)<= 3:\n",
    "            self.setSource(sor.upper())\n",
    "        else:\n",
    "            self.setSource(sor[0:3].upper())\n",
    "        \n",
    "        #short the destination address\n",
    "        if len(des)<= 4:\n",
    "            self.setDestination(des.upper())\n",
    "        else:\n",
    "            self.setDestination(des[0:3].upper())\n",
    "    \n",
    "    \n",
    "    def reserve(self, numberOfSeats):\n",
    "        \"\"\"\n",
    "        This function is used for reservation of Flight seats\n",
    "        \"\"\"\n",
    "        \n",
    "        if( numberOfSeats > 0 and numberOfSeats <= self.getAvailable_seats()):\n",
    "            \n",
    "            self.setAvailable_seats(self.getAvailable_seats()-numberOfSeats)\n",
    "            self.setReservedSeats(self.getReservedSeats()+numberOfSeats)\n",
    "            print(self.getReservedSeats(),\"seats reserved successfully:\")\n",
    "            \n",
    "        elif(numberOfSeats > self.getAvailable_seats()):\n",
    "            print(\"Sorry, seats are not available\")\n",
    "            print(\"The available number of seats are:\",self.getAvailable_seats())\n",
    "            \n",
    "        else:\n",
    "            print(\"Something went wrong, Please try again for seat reservation\")\n",
    "    \n",
    "    def cancel(self, cancel):\n",
    "        \"\"\"\n",
    "        This function is used for cancelling of Flight seats\n",
    "        \"\"\"\n",
    "        \n",
    "        if( cancel>0 and cancel <= self.getReservedSeats()):\n",
    "            self.setAvailable_seats(self.getAvailable_seats()+cancel)\n",
    "            self.setReservedSeats(self.getReservedSeats()-cancel)\n",
    "            print(cancel,\"seats are cancelled:\")\n",
    "        elif(cancel > self.getReservedSeats()):\n",
    "            print(\"cancellation seats are out of bound:\")\n",
    "            print(\"Total Reserved seats are:\",self.getReservedSeats())\n",
    "            print(\"Number of seats you try to cancel:\",cancel)\n",
    "            \n",
    "        else:\n",
    "            print(\"Please enter valid number:\")\n",
    "\n",
    "    def __str__(self):\n",
    "        return (\"Flight Number: \"+str(self.getFlightNum())+\"\\nFrom: \"+ self.getSource()+\"\\nTo: \"+ self.getDestination())\n",
    "\n",
    "def obj_equal(obj1,obj2):\n",
    "    \n",
    "    if(obj1==obj2):\n",
    "        print(\"both flights have same flight number:\")\n",
    "    else:\n",
    "        print(\"Both flights are not same\")\n",
    "    "
   ]
  },
  {
   "cell_type": "code",
   "execution_count": 95,
   "metadata": {},
   "outputs": [],
   "source": [
    "f1=Flight(12,\"karachi\", \"Lahore\",10)"
   ]
  },
  {
   "cell_type": "code",
   "execution_count": 96,
   "metadata": {},
   "outputs": [
    {
     "name": "stdout",
     "output_type": "stream",
     "text": [
      "Flight Number: 12\n",
      "From: KAR\n",
      "To: LAH\n"
     ]
    }
   ],
   "source": [
    "print(f1)"
   ]
  },
  {
   "cell_type": "code",
   "execution_count": 97,
   "metadata": {},
   "outputs": [
    {
     "name": "stdout",
     "output_type": "stream",
     "text": [
      "Sorry, seats are not available\n",
      "The available number of seats are: 10\n",
      "None\n"
     ]
    }
   ],
   "source": [
    "print(f1.reserve(20))"
   ]
  },
  {
   "cell_type": "code",
   "execution_count": 98,
   "metadata": {},
   "outputs": [
    {
     "name": "stdout",
     "output_type": "stream",
     "text": [
      "5 seats reserved successfully:\n",
      "None\n"
     ]
    }
   ],
   "source": [
    "print(f1.reserve(5))"
   ]
  },
  {
   "cell_type": "code",
   "execution_count": 99,
   "metadata": {},
   "outputs": [
    {
     "name": "stdout",
     "output_type": "stream",
     "text": [
      "cancellation seats are out of bound:\n",
      "Total Reserved seats are: 5\n",
      "Number of seats you try to cancel: 6\n",
      "None\n"
     ]
    }
   ],
   "source": [
    "print(f1.cancel(6))"
   ]
  },
  {
   "cell_type": "code",
   "execution_count": 100,
   "metadata": {},
   "outputs": [
    {
     "name": "stdout",
     "output_type": "stream",
     "text": [
      "2 seats are cancelled:\n"
     ]
    }
   ],
   "source": [
    "f1.cancel(2)"
   ]
  },
  {
   "cell_type": "code",
   "execution_count": 101,
   "metadata": {},
   "outputs": [
    {
     "name": "stdout",
     "output_type": "stream",
     "text": [
      "Both flights are not same\n"
     ]
    }
   ],
   "source": [
    "f2=Flight(13,\"Multan\", \"Peshawar\",30)\n",
    "obj_equal(f1,f2)"
   ]
  },
  {
   "cell_type": "code",
   "execution_count": 113,
   "metadata": {},
   "outputs": [],
   "source": [
    "class coffee:\n",
    "    \n",
    "    __n_lb=0\n",
    "    __n_mb=0\n",
    "    __n_sb=0\n",
    "    \n",
    "    def __init__(self, bags):\n",
    "        self.__bags=bags\n",
    "        \n",
    "        self.__cost_of_order=bags*5.50\n",
    "        self.__total_price=self.__cost_of_order\n",
    "        \n",
    "        self.place_order()\n",
    "    \n",
    "    ##Setters:    \n",
    "    def setBags(self, bags):\n",
    "        self.__bags=bags\n",
    "    \n",
    "    def setTotalPrice(self, price):\n",
    "        self.__total_price=price\n",
    "        \n",
    "    ##Getters:\n",
    "    def getBags(self):\n",
    "        return self.__bags\n",
    "    \n",
    "    def getOrderCost(self):\n",
    "        return self.__cost_of_order\n",
    "    \n",
    "    def getTotalPrice(self):\n",
    "        return self.__total_price\n",
    "    \n",
    "    def place_order(self):\n",
    "        \n",
    "        total_bags=self.getBags()\n",
    "        \n",
    "        while(total_bags>0):\n",
    "            if(total_bags>20):\n",
    "                total_bags-=20\n",
    "                self.setTotalPrice(self.getTotalPrice()+1.80)\n",
    "                self.__n_lb+=1\n",
    "            \n",
    "            elif(total_bags>10):\n",
    "                total_bags-=10\n",
    "                self.setTotalPrice(self.getTotalPrice()+1)\n",
    "                self.__n_mb+=1\n",
    "                \n",
    "            elif(total_bags>5 or total_bags>0):\n",
    "                total_bags-=5\n",
    "                self.setTotalPrice(self.getTotalPrice()+0.60)\n",
    "                self.__n_sb+=1\n",
    "            else:\n",
    "                print(\"bags finished:\",self.getTotalPrice())\n",
    "        \n",
    "        \n",
    "    def __str__(self):\n",
    "        return (\"Number of bags Ordered: \"+str(self.getBags())+\"\\nThe cost of Order: $\"+str(self.getOrderCost())+\"\\n\\nBoxes used:\\n\"+str(self.__n_lb)+\" Large- $3.60\\n\"+str(self.__n_mb)+\" Medium- $1.00\\n\"+str(self.__n_sb)+\" Small- $0.60\"+\"\\n\\nYour total cost is: $\"+str(self.getTotalPrice()))\n",
    "        "
   ]
  },
  {
   "cell_type": "code",
   "execution_count": 114,
   "metadata": {},
   "outputs": [
    {
     "name": "stdout",
     "output_type": "stream",
     "text": [
      "Number of bags Ordered: 52\n",
      " The cost of Order: $286.0\n",
      "\n",
      "Boxes used:\n",
      "2 Large- $3.60\n",
      "1 Medium- $1.00\n",
      "1 Small- $0.60\n",
      "\n",
      "Your total cost is: $291.20000000000005\n"
     ]
    }
   ],
   "source": [
    "b=coffee(52)\n",
    "# b.place_order()\n",
    "print(b)"
   ]
  },
  {
   "cell_type": "code",
   "execution_count": null,
   "metadata": {},
   "outputs": [],
   "source": []
  },
  {
   "cell_type": "code",
   "execution_count": 23,
   "metadata": {},
   "outputs": [],
   "source": [
    "class Employee:\n",
    "    def __init__( self, ID, name, basic_sal ):\n",
    "        self.ID=ID\n",
    "        self.name=name\n",
    "        self.basic_sal=basic_sal\n",
    "        \n",
    "    ##Setters:\n",
    "    \n",
    "    def setID(self, ID):\n",
    "        self.__ID=ID\n",
    "    \n",
    "    def setName(self, name):\n",
    "        self.__name=name\n",
    "    \n",
    "    def setBasic_sal(self, basic_sal):\n",
    "        self.__basic_sal=basic_sal\n",
    "    \n",
    "    ##Getters:\n",
    "        \n",
    "    def getID(self):\n",
    "        return self.__ID\n",
    "    \n",
    "    def getName(self):\n",
    "        return self.__name\n",
    "    \n",
    "    def getBasic_sal(self):\n",
    "        return self.__basic_sal\n",
    "    \n",
    "    def salary():\n",
    "        return self.__basic_sal\n",
    "    \n",
    "    def __str__():\n",
    "        return (\"ID:\"+ str(self.ID) +\"– Name:\"+ self.name+ \"- Salary:\"+ str(salary()))"
   ]
  },
  {
   "cell_type": "code",
   "execution_count": 24,
   "metadata": {},
   "outputs": [],
   "source": [
    "class Faculty(Employee):\n",
    "    def __init__(self, ID, name, basic_sal, degree, teaching ):\n",
    "        super().__init__(ID,name,basic_sal)\n",
    "        self.degree=degree\n",
    "        self.teaching=teaching\n",
    "        \n",
    "    ##Setters:\n",
    "    \n",
    "    def setDegree(self, degree):\n",
    "        self.__degree=degree\n",
    "    \n",
    "    def setTeaching(self, teaching):\n",
    "        self.__teaching=teaching\n",
    "    \n",
    "    ##Getters:\n",
    "        \n",
    "    def getDegree(self):\n",
    "        return self.__degree\n",
    "    \n",
    "    def getTeaching(self):\n",
    "        return self.__teaching\n",
    "    \n",
    "    def salary(self):\n",
    "        return super.basic_sal+self.teaching*1000\n",
    "    \n",
    "    def _str_():\n",
    "        return (\"ID:\"+ str(super.ID) +\"– Name:\"+ super.name +\"– Degree:\"+ self.degree+ \"- Salary:\"+ str(salary()))"
   ]
  },
  {
   "cell_type": "code",
   "execution_count": 25,
   "metadata": {},
   "outputs": [],
   "source": [
    "class Staff(Employee):\n",
    "    def __init__(self, ID, name, basic_sal, job_title, working_hours ):\n",
    "        super().__init__(ID,name,basic_sal)\n",
    "        self.job_title=job_title\n",
    "        self.working_hours=working_hours\n",
    "        \n",
    "    ##Setters:\n",
    "    \n",
    "    def setJob_title(self, job_title):\n",
    "        self.__job_title=job_title\n",
    "    \n",
    "    def setWorking_hours(self, working_hours):\n",
    "        self.__working_hours=working_hours\n",
    "    \n",
    "    \n",
    "    ##Getters:\n",
    "        \n",
    "    def getJob_title(self):\n",
    "        return self.__job_title\n",
    "    \n",
    "    def getWorking_hours(self):\n",
    "        return self.__working_hours\n",
    "    \n",
    "    \n",
    "    def salary(self):\n",
    "        return (super.basic_sal+((super.basic_sal+25)/100))\n",
    "    \n",
    "    def _str_():\n",
    "        return (\"ID:\"+ str(super.ID) +\"– Name:\"+ super.name +\"– Job Title:\"+ self.job_title+ \"- Salary:\"+ str(salary()))"
   ]
  },
  {
   "cell_type": "code",
   "execution_count": null,
   "metadata": {},
   "outputs": [],
   "source": []
  }
 ],
 "metadata": {
  "kernelspec": {
   "display_name": "Python 3",
   "language": "python",
   "name": "python3"
  },
  "language_info": {
   "codemirror_mode": {
    "name": "ipython",
    "version": 3
   },
   "file_extension": ".py",
   "mimetype": "text/x-python",
   "name": "python",
   "nbconvert_exporter": "python",
   "pygments_lexer": "ipython3",
   "version": "3.7.3"
  }
 },
 "nbformat": 4,
 "nbformat_minor": 2
}
