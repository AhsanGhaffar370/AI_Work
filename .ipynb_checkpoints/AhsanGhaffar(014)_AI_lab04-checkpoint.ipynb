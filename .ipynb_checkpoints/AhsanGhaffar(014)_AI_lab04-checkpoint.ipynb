{
 "cells": [
  {
   "cell_type": "code",
   "execution_count": 210,
   "metadata": {},
   "outputs": [],
   "source": [
    "class facebook:\n",
    "    \n",
    "    visited={\"Amna\":False,\"Sara\":False,\"Razi\":False,\"Ali\":False,\"Ahmed\":False,\"Rida\":False,\"Hassan\":False,\"Taha\":False,\"Uzma\":False}\n",
    "\n",
    "    def __init__(self):\n",
    "        self.undir_graph={}\n",
    "        self.queue=[]\n",
    "        self.path=[]\n",
    "        \n",
    "    def undir_add_edges(self,n1,n2):\n",
    "        \n",
    "        if n1 not in self.undir_graph:\n",
    "            self.undir_graph[n1]=[n2]\n",
    "        else:\n",
    "            self.undir_graph[n1].append(n2)\n",
    "            \n",
    "        if n2 not in self.undir_graph:\n",
    "            self.undir_graph[n2]=[n1]\n",
    "        else:\n",
    "            self.undir_graph[n2].append(n1)\n",
    "            \n",
    "            \n",
    "    def show_undir_graph(self):\n",
    "        return self.undir_graph\n",
    "        \n",
    "        \n",
    "    def show_undir_neighbours(self,n1):\n",
    "        return self.undir_graph[n1]\n",
    "        \n",
    "        \n",
    "    def BFS(self,sn,dn):\n",
    "        self.visited[sn]=True\n",
    "        \n",
    "        if(sn==dn):\n",
    "            print(\"Complete Path:\")\n",
    "            for i in self.path:\n",
    "                print(i)\n",
    "            self.path.clear()\n",
    "            self.queue.clear()\n",
    "            return (sn+\" successfully communicate a message to \"+dn)\n",
    "            \n",
    "        else:\n",
    "            for i in self.show_undir_neighbours(sn):\n",
    "                self.queue.append(i)\n",
    "                \n",
    "            for i in self.queue:\n",
    "                if self.visited[i]==True:\n",
    "                    self.queue.remove(i)\n",
    "                \n",
    "            node=self.queue.pop(0)\n",
    "            \n",
    "            self.visited[node]=True\n",
    "            \n",
    "            if len(self.path)==0:\n",
    "                self.path.append(sn)\n",
    "#                 self.path.append(node)\n",
    "            else:\n",
    "                self.path.append(sn)\n",
    "                \n",
    "            return self.BFS(node,dn)\n",
    "        \n",
    "        "
   ]
  },
  {
   "cell_type": "code",
   "execution_count": 211,
   "metadata": {},
   "outputs": [],
   "source": [
    "g1=facebook()\n",
    "g1.undir_add_edges('Amna','Sara')\n",
    "g1.undir_add_edges('Amna','Razi')\n",
    "g1.undir_add_edges('Razi','Ali')\n",
    "g1.undir_add_edges('Razi','Ahmed')\n",
    "g1.undir_add_edges('Ahmed','Amna')\n",
    "g1.undir_add_edges('Ahmed','Ahsan')\n",
    "g1.undir_add_edges('Rida','Hassan')\n",
    "g1.undir_add_edges('Rida','Taha')\n",
    "g1.undir_add_edges('Uzma','Ahsan')\n",
    "g1.undir_add_edges('Uzma','Taha')\n"
   ]
  },
  {
   "cell_type": "code",
   "execution_count": 212,
   "metadata": {},
   "outputs": [
    {
     "data": {
      "text/plain": [
       "{'Amna': ['Sara', 'Razi', 'Ahmed'],\n",
       " 'Sara': ['Amna'],\n",
       " 'Razi': ['Amna', 'Ali', 'Ahmed'],\n",
       " 'Ali': ['Razi'],\n",
       " 'Ahmed': ['Razi', 'Amna', 'Ahsan'],\n",
       " 'Ahsan': ['Ahmed', 'Uzma'],\n",
       " 'Rida': ['Hassan', 'Taha'],\n",
       " 'Hassan': ['Rida'],\n",
       " 'Taha': ['Rida', 'Uzma'],\n",
       " 'Uzma': ['Ahsan', 'Taha']}"
      ]
     },
     "execution_count": 212,
     "metadata": {},
     "output_type": "execute_result"
    }
   ],
   "source": [
    "g1.show_undir_graph()"
   ]
  },
  {
   "cell_type": "code",
   "execution_count": 213,
   "metadata": {},
   "outputs": [
    {
     "data": {
      "text/plain": [
       "['Razi', 'Amna', 'Ahsan']"
      ]
     },
     "execution_count": 213,
     "metadata": {},
     "output_type": "execute_result"
    }
   ],
   "source": [
    "g1.undir_graph[\"Ahmed\"]"
   ]
  },
  {
   "cell_type": "code",
   "execution_count": 214,
   "metadata": {},
   "outputs": [
    {
     "name": "stdout",
     "output_type": "stream",
     "text": [
      "Complete Path:\n",
      "Sara\n",
      "Amna\n",
      "Razi\n",
      "Ahmed\n",
      "Ali\n",
      "Ahsan\n"
     ]
    },
    {
     "data": {
      "text/plain": [
       "'Uzma successfully communicate a message to Uzma'"
      ]
     },
     "execution_count": 214,
     "metadata": {},
     "output_type": "execute_result"
    }
   ],
   "source": [
    "g1.BFS(\"Sara\",\"Uzma\")"
   ]
  },
  {
   "cell_type": "code",
   "execution_count": 215,
   "metadata": {},
   "outputs": [],
   "source": [
    "class pacman:\n",
    "    visited={\"1\":False,\"2\":False,\"3\":False,\"4\":False,\"5\":False,\"6\":False,\"7\":False,\"8\":False,\"9\":False}\n",
    "    \n",
    "    def __init__(self):\n",
    "        self.dir_graph={}\n",
    "        self.queue=[]\n",
    "        self.path=[]\n",
    "        \n",
    "    def dir_add_edges(self,n1,n2):\n",
    "        \n",
    "        if n1 not in self.dir_graph:\n",
    "            self.dir_graph[n1]=[n2]\n",
    "        else:\n",
    "            self.dir_graph[n1].append(n2)\n",
    "            \n",
    "            \n",
    "    def show_dir_graph(self):\n",
    "        return self.dir_graph\n",
    "        \n",
    "        \n",
    "    def show_dir_neighbours(self,n1):\n",
    "        return self.dir_graph[n1]\n",
    "        \n",
    "        \n",
    "    def DFS(self,sn,dn):\n",
    "        if(sn==dn):\n",
    "            print(\"Complete Path:\")\n",
    "            for i in self.path:\n",
    "                print(i)\n",
    "            self.path.clear()\n",
    "            self.queue.clear()\n",
    "            return \"Success\"\n",
    "        \n",
    "        else:\n",
    "            self.queue=self.show_dir_neighbours(sn)\n",
    "            \n",
    "            node=self.queue.pop()\n",
    "            \n",
    "            self.visited[sn]=True\n",
    "            \n",
    "            self.path.append(node)\n",
    "                \n",
    "            return self.DFS(node,dn='9')"
   ]
  },
  {
   "cell_type": "code",
   "execution_count": 216,
   "metadata": {},
   "outputs": [],
   "source": [
    "p1=pacman()\n",
    "p1.dir_add_edges('1','2')\n",
    "p1.dir_add_edges('1','6')\n",
    "p1.dir_add_edges('2','3')\n",
    "p1.dir_add_edges('2','5')\n",
    "p1.dir_add_edges('3','4')\n",
    "p1.dir_add_edges('4','9')\n",
    "p1.dir_add_edges('5','4')\n",
    "p1.dir_add_edges('5','8')\n",
    "p1.dir_add_edges('6','5')\n",
    "p1.dir_add_edges('6','7')\n",
    "p1.dir_add_edges('7','8')\n",
    "p1.dir_add_edges('8','9')"
   ]
  },
  {
   "cell_type": "code",
   "execution_count": 217,
   "metadata": {},
   "outputs": [
    {
     "data": {
      "text/plain": [
       "{'1': ['2', '6'],\n",
       " '2': ['3', '5'],\n",
       " '3': ['4'],\n",
       " '4': ['9'],\n",
       " '5': ['4', '8'],\n",
       " '6': ['5', '7'],\n",
       " '7': ['8'],\n",
       " '8': ['9']}"
      ]
     },
     "execution_count": 217,
     "metadata": {},
     "output_type": "execute_result"
    }
   ],
   "source": [
    "p1.show_dir_graph()"
   ]
  },
  {
   "cell_type": "code",
   "execution_count": 218,
   "metadata": {},
   "outputs": [
    {
     "name": "stdout",
     "output_type": "stream",
     "text": [
      "Complete Path:\n",
      "6\n",
      "7\n",
      "8\n",
      "9\n"
     ]
    },
    {
     "data": {
      "text/plain": [
       "'Success'"
      ]
     },
     "execution_count": 218,
     "metadata": {},
     "output_type": "execute_result"
    }
   ],
   "source": [
    "p1.DFS(\"1\",\"9\")"
   ]
  },
  {
   "cell_type": "code",
   "execution_count": null,
   "metadata": {},
   "outputs": [],
   "source": []
  }
 ],
 "metadata": {
  "kernelspec": {
   "display_name": "Python 3",
   "language": "python",
   "name": "python3"
  },
  "language_info": {
   "codemirror_mode": {
    "name": "ipython",
    "version": 3
   },
   "file_extension": ".py",
   "mimetype": "text/x-python",
   "name": "python",
   "nbconvert_exporter": "python",
   "pygments_lexer": "ipython3",
   "version": "3.7.3"
  }
 },
 "nbformat": 4,
 "nbformat_minor": 2
}
