{
 "cells": [
  {
   "cell_type": "markdown",
   "metadata": {},
   "source": [
    "# # Name: Ahsan Ghaffar\n",
    "\n",
    "## PYTHON very 1st Assignment\n",
    "## Roll Number: AIC028631\n",
    "## Teacher Name: Sir qasim\n",
    "## Institute Name:Saylani Office Head Campus\n",
    "## Timing:Sunday (12:15 to 3:15)"
   ]
  },
  {
   "cell_type": "markdown",
   "metadata": {},
   "source": [
    "##  Q1. Calculate Area of a Circle\n",
    "#### Write a Python program which accepts the radius of a circle from the user and compute the area.\n",
    "#### Program Console Sample Output 1:\n",
    "#### Input Radius: 0.5\n",
    "#### Area of Circle with radius 0.5 is 0.7853981634"
   ]
  },
  {
   "cell_type": "code",
   "execution_count": 1,
   "metadata": {},
   "outputs": [
    {
     "name": "stdout",
     "output_type": "stream",
     "text": [
      "Enter radius of the Circle:1\n",
      "\n",
      "Area of Circle with 1.0 is: 3.142\n"
     ]
    }
   ],
   "source": [
    "radius=float(input(\"Enter radius of the Circle:\"))\n",
    "\n",
    "print((\"\\nArea of Circle with {} is: {}\").format(str(radius),str(3.142*(radius**2))))"
   ]
  },
  {
   "cell_type": "markdown",
   "metadata": {},
   "source": [
    "##  Q2. Check Number either positive, negative or zero\n",
    "#### Write a Python program to check if a number is positive, negative or zero\n",
    "#### Program Console Sample Output 1:\n",
    "#### Enter Number: -1\n",
    "#### Negative Number Entered\n",
    "#### Program Console Sample Output 2:\n",
    "#### Integer: 3\n",
    "#### Positive Number Entered\n",
    "#### Program Console Sample Output 3:\n",
    "#### Integer: 0\n",
    "##### Zero Entered"
   ]
  },
  {
   "cell_type": "code",
   "execution_count": 2,
   "metadata": {},
   "outputs": [
    {
     "name": "stdout",
     "output_type": "stream",
     "text": [
      "Enter Number: 4\n",
      "Positive number entered\n"
     ]
    }
   ],
   "source": [
    "num=int(input(\"Enter Number: \"))\n",
    "\n",
    "if num == 0:\n",
    "    print(\"Zero entered\")\n",
    "\n",
    "elif num < 0:\n",
    "    print(\"Negative number entered\")\n",
    "\n",
    "elif num > 0:\n",
    "    print(\"Positive number entered\")\n",
    "    \n",
    "else:\n",
    "    print(\"invalid input\")\n",
    "    \n",
    "    "
   ]
  },
  {
   "cell_type": "markdown",
   "metadata": {},
   "source": [
    "## Q3. Divisibility Check of two numbers\n",
    "\n",
    "#### Write a Python program to check whether a number is completely divisible by another number. Accept two integer values form the user\n",
    "##### Program Console Sample Output 1:\n",
    "###### Enter numerator: 4\n",
    "###### Enter Denominator: 2\n",
    "##### Number 4 is Completely divisible by 2\n",
    "###### Program Console Sample Output 2:\n",
    "##### Enter numerator: 7\n",
    "\n",
    "##### Enter Denominator: 4\n",
    "###### Number 7 is not Completely divisible by 4"
   ]
  },
  {
   "cell_type": "code",
   "execution_count": 3,
   "metadata": {},
   "outputs": [
    {
     "name": "stdout",
     "output_type": "stream",
     "text": [
      "Enter Numerator: 3\n",
      "Enter Deumerator: 4\n",
      "\n",
      "Number 3.0 is not completely divisible by 4.0\n"
     ]
    }
   ],
   "source": [
    "num=float(input(\"Enter Numerator: \"))\n",
    "den=float(input(\"Enter Deumerator: \"))\n",
    "\n",
    "print((\"\\nNumber {} is completely divisible by {}\").format(str(num),str(den))) if num%den==0 else print((\"\\nNumber {} is not completely divisible by {}\").format(str(num),str(den)))"
   ]
  },
  {
   "cell_type": "markdown",
   "metadata": {},
   "source": [
    "## Q4. Days Calculator\n",
    "#### Write a Python program to calculate number of days between two dates\n",
    "#### Program Console Output:\n",
    "#### Enter a date in (dd/mm/yy) format: 12/12/2018\n",
    "#### Enter a date in (dd/mm/yy) format: 16/12/2018\n",
    "#### There are 4 days in between 12/12/2018 and 16/12/18\n"
   ]
  },
  {
   "cell_type": "code",
   "execution_count": 8,
   "metadata": {},
   "outputs": [
    {
     "name": "stdout",
     "output_type": "stream",
     "text": [
      "2019-07-28 00:58:07.528382\n",
      "datetime.date\n",
      "<method 'date' of 'datetime.datetime' objects>2019-07-28\n",
      "<method 'date' of 'datetime.datetime' objects>2019-07-28\n"
     ]
    },
    {
     "ename": "TypeError",
     "evalue": "an integer is required (got type str)",
     "output_type": "error",
     "traceback": [
      "\u001b[1;31m---------------------------------------------------------------------------\u001b[0m",
      "\u001b[1;31mTypeError\u001b[0m                                 Traceback (most recent call last)",
      "\u001b[1;32m<ipython-input-8-6612a9d874ee>\u001b[0m in \u001b[0;36m<module>\u001b[1;34m\u001b[0m\n\u001b[0;32m      7\u001b[0m \u001b[0mdate1\u001b[0m\u001b[1;33m=\u001b[0m\u001b[0minput\u001b[0m\u001b[1;33m(\u001b[0m\u001b[0mdatetime\u001b[0m\u001b[1;33m.\u001b[0m\u001b[0mdate\u001b[0m\u001b[1;33m)\u001b[0m\u001b[1;33m\u001b[0m\u001b[1;33m\u001b[0m\u001b[0m\n\u001b[0;32m      8\u001b[0m \u001b[0mdate2\u001b[0m\u001b[1;33m=\u001b[0m\u001b[0minput\u001b[0m\u001b[1;33m(\u001b[0m\u001b[0mdatetime\u001b[0m\u001b[1;33m.\u001b[0m\u001b[0mdate\u001b[0m\u001b[1;33m)\u001b[0m\u001b[1;33m\u001b[0m\u001b[1;33m\u001b[0m\u001b[0m\n\u001b[1;32m----> 9\u001b[1;33m \u001b[0mdd1\u001b[0m\u001b[1;33m=\u001b[0m\u001b[0mdatetime\u001b[0m\u001b[1;33m(\u001b[0m\u001b[0mdate1\u001b[0m\u001b[1;33m)\u001b[0m\u001b[1;33m\u001b[0m\u001b[1;33m\u001b[0m\u001b[0m\n\u001b[0m\u001b[0;32m     10\u001b[0m \u001b[1;33m\u001b[0m\u001b[0m\n\u001b[0;32m     11\u001b[0m \u001b[0mprint\u001b[0m\u001b[1;33m(\u001b[0m\u001b[0mdd1\u001b[0m\u001b[1;33m)\u001b[0m\u001b[1;33m\u001b[0m\u001b[1;33m\u001b[0m\u001b[0m\n",
      "\u001b[1;31mTypeError\u001b[0m: an integer is required (got type str)"
     ]
    }
   ],
   "source": [
    "from datetime import datetime, timedelta\n",
    "print(datetime.now())\n",
    "#t=datetime.date\n",
    "#d1=t.today()\n",
    "#d2=t.today()\n",
    "print(\"datetime.date\")\n",
    "date1=input(datetime.date)\n",
    "date2=input(datetime.date)\n",
    "dd1=datetime(date1)\n",
    "\n",
    "print(dd1)\n",
    "d1,m1,y1=map(int,date1.split('/'))\n",
    "d2,m2,y2=map(int,date2.split('/'))\n",
    "print(\"date1:\",y1,m1,d1)\n",
    "print(\"date2:\",y2,m2,d2)\n",
    "dd1=datetime(d1,m1,y1)\n",
    "dd2=datetime(d2,m2,y2)\n",
    "dd3=datetime.date(d2-d1,m2,y2)\n",
    "print(dd3)"
   ]
  },
  {
   "cell_type": "code",
   "execution_count": null,
   "metadata": {},
   "outputs": [],
   "source": []
  },
  {
   "cell_type": "markdown",
   "metadata": {},
   "source": [
    "## Q5. Calculate Volume of a sphere\n",
    "\n",
    "#### Write a Python program to get the volume of a sphere, please take the radius as input from user\n",
    "#### Program Console Output:\n",
    "#### Enter Radius of Sphere: 1\n",
    "#### Volume of the Sphere with Radius 1 is 4.18"
   ]
  },
  {
   "cell_type": "code",
   "execution_count": 5,
   "metadata": {},
   "outputs": [
    {
     "name": "stdout",
     "output_type": "stream",
     "text": [
      "Enter radius of sphere: 5\n",
      "Volume of the Sphere with radius 5.0 is: 523.67\n"
     ]
    }
   ],
   "source": [
    "radius=float(input(\"Enter radius of sphere: \"))\n",
    "\n",
    "sphere=round((4/3)*3.142*radius**3,2)\n",
    "print((\"Volume of the Sphere with radius {} is: {}\").format(str(radius),str(sphere)))\n"
   ]
  },
  {
   "cell_type": "markdown",
   "metadata": {},
   "source": [
    "## Q6. Copy string n times\n",
    "\n",
    "#### Write a Python program to get a string which is n (non-negative integer) copies of a given string.\n",
    "#### Program Console Output:\n",
    "#### Enter String: Hi\n",
    "#### How many copies of String you need: 4\n",
    "#### 4 Copies of Hi are HiHiHiHi"
   ]
  },
  {
   "cell_type": "code",
   "execution_count": 6,
   "metadata": {},
   "outputs": [
    {
     "name": "stdout",
     "output_type": "stream",
     "text": [
      "Enter String: ab\n",
      "How many copies of String you need: 3\n",
      "\n",
      "3 Copies of 'ab' are 'ababab'\n"
     ]
    }
   ],
   "source": [
    "str1=input(\"Enter String: \")\n",
    "num=int(input(\"How many copies of String you need: \"))\n",
    "\n",
    "print((\"\\n{} Copies of '{}' are '{}'\").format(str(num),str1,str1.__rmul__(num)))\n"
   ]
  },
  {
   "cell_type": "markdown",
   "metadata": {},
   "source": [
    "### Q7. Check if number is Even or Odd\n",
    "\n",
    "#### Write a Python program to find whether a given number (accept from the user) is even or odd, print out an appropriate message to the user\n",
    "#### Program Console Output 1:\n",
    "#### Enter Number: 4\n",
    "#### 4 is Even\n",
    "#### Program Console Output 2:\n",
    "#### Enter Number: 9\n",
    "#### 9 is Odd\n",
    "\n"
   ]
  },
  {
   "cell_type": "code",
   "execution_count": 7,
   "metadata": {},
   "outputs": [
    {
     "name": "stdout",
     "output_type": "stream",
     "text": [
      "Enter Number: 34\n",
      "34 is EVEN: \n"
     ]
    }
   ],
   "source": [
    "num=int(input(\"Enter Number: \"))\n",
    "\n",
    "print(str(num),\"is EVEN: \") if num%2==0 else print(str(num),\"is ODD: \")\n"
   ]
  },
  {
   "cell_type": "markdown",
   "metadata": {},
   "source": [
    "## Q8. Vowel Tester\n",
    "\n",
    "#### Write a Python program to test whether a passed letter is a vowel or not\n",
    "#### Program Console Output 1:\n",
    "##### Enter a character: A\n",
    "###### Letter A is Vowel\n",
    "#### Program Console Output 2:\n",
    "##### Enter a character: e\n",
    "###### Letter e is Vowel\n",
    "#### Program Console Output 2:\n",
    "##### Enter a character: N\n",
    "###### Letter N is not Vowel\n",
    "\n"
   ]
  },
  {
   "cell_type": "code",
   "execution_count": 8,
   "metadata": {},
   "outputs": [
    {
     "name": "stdout",
     "output_type": "stream",
     "text": [
      "Enter a character: a\n",
      "Letter a is Vovel:\n"
     ]
    }
   ],
   "source": [
    "ch1=input(\"Enter a character: \")\n",
    "\n",
    "ch=str(ch1.lower())\n",
    "vovel=('a','e','i','o','u')\n",
    "\n",
    "if ch in vovel:\n",
    "    print(\"Letter \"+ch1+\" is Vovel:\")\n",
    "    \n",
    "elif ch in list(map(chr,list(range(97,122)))): \n",
    "    if ch not in vovel:\n",
    "        print(\"Letter \"+ch1+\" is not Vovel:\")\n",
    "else:\n",
    "    print(\"Invalid string:\")"
   ]
  },
  {
   "cell_type": "markdown",
   "metadata": {},
   "source": [
    "## Q9. Triangle area\n",
    "\n",
    "### Write a Python program that will accept the base and height of a triangle and compute the area"
   ]
  },
  {
   "cell_type": "code",
   "execution_count": 9,
   "metadata": {},
   "outputs": [
    {
     "name": "stdout",
     "output_type": "stream",
     "text": [
      "Enter base: 2\n",
      "Enter height: 3\n",
      "Area of Triangle is: 3.0\n"
     ]
    }
   ],
   "source": [
    "base = float(input(\"Enter base: \"))\n",
    "height = float(input(\"Enter height: \"))\n",
    "\n",
    "print(\"Area of Triangle is: \" + str(round(base*height*(1/2),2)))"
   ]
  },
  {
   "cell_type": "markdown",
   "metadata": {},
   "source": [
    "## Q10. Calculate Interest\n",
    "\n",
    "#### Write a Python program to compute the future value of a specified principal amount, rate of interest, and a number of years\n",
    "#### Program Console Sample 1:\n",
    "#### Please enter principal amount: 10000\n",
    "#### Please Enter Rate of interest in %: 0.1\n",
    "#### Enter number of years for investment: 5\n",
    "#### After 5 years your principal amount 10000 over an interest rate of 0.1 % will be 16105.1\n",
    "\n"
   ]
  },
  {
   "cell_type": "code",
   "execution_count": 10,
   "metadata": {},
   "outputs": [
    {
     "name": "stdout",
     "output_type": "stream",
     "text": [
      "Enter principal amount: 10000\n",
      "Enter Rate of Interest in %: 0.1\n",
      "Enter number of years for investment: 5\n",
      "\n",
      "After 5.0 Years your principal amount 10000.0 over an interest rate of 0.1 % will be: 16105.1\n"
     ]
    }
   ],
   "source": [
    "P=float(input('Enter principal amount: '))\n",
    "R=float(input('Enter Rate of Interest in %: '))\n",
    "T=float(input('Enter number of years for investment: '))\n",
    "\n",
    "print((\"\\nAfter {} Years your principal amount {} over an interest rate of {} % will be: {}\").format(str(T),str(P),str(R),str(round(P*((1+R)**T),1))))"
   ]
  },
  {
   "cell_type": "markdown",
   "metadata": {},
   "source": [
    "## Q11. Euclidean distance\n",
    "\n",
    "#### write a Python program to compute the distance between the points (x1, y1) and (x2, y2).\n",
    "#### Program Console Sample 1:\n",
    "#### Enter Co-ordinate for x1: 2\n",
    "#### Enter Co-ordinate for x2: 4\n",
    "#### Enter Co-ordinate for y1: 4\n",
    "#### Enter Co-ordinate for y2: 4\n",
    "#### Distance between points (2, 4) and (4, 4) is 2"
   ]
  },
  {
   "cell_type": "code",
   "execution_count": 11,
   "metadata": {},
   "outputs": [
    {
     "name": "stdout",
     "output_type": "stream",
     "text": [
      "Enter Co-ordinate for x1: 2\n",
      "Enter Co-ordinate for x2: 4\n",
      "Enter Co-ordinate for y1: 4\n",
      "Enter Co-ordinate for y2: 4\n",
      "Distance between points (2.0,4.0) and (4.0,4.0) is: 2.0\n"
     ]
    }
   ],
   "source": [
    "x1=float(input(\"Enter Co-ordinate for x1: \"))\n",
    "x2=float(input(\"Enter Co-ordinate for x2: \"))\n",
    "y1=float(input(\"Enter Co-ordinate for y1: \"))\n",
    "y2=float(input(\"Enter Co-ordinate for y2: \"))\n",
    "\n",
    "dist = ((y1-x1)**2+(y2-x2)**2)**(1/2)\n",
    "print((\"Distance between points ({},{}) and ({},{}) is: {}\").format(str(x1),str(y1),str(x2),str(y2),str(dist)))"
   ]
  },
  {
   "cell_type": "markdown",
   "metadata": {},
   "source": [
    "## Q12. Feet to Centimeter Converter\n",
    "\n",
    "#### Write a Python program to convert height in feet to centimetres.\n",
    "#### Program Console Sample 1:\n",
    "#### Enter Height in Feet: 5\n",
    "#### There are 152.4 Cm in 5 ft"
   ]
  },
  {
   "cell_type": "code",
   "execution_count": 12,
   "metadata": {},
   "outputs": [
    {
     "name": "stdout",
     "output_type": "stream",
     "text": [
      "Enter Height in Feet: 5\n",
      "There are '152.4' cm in '5.0' ft\n"
     ]
    }
   ],
   "source": [
    "ft = float(input(\"Enter Height in Feet: \"))\n",
    "\n",
    "print(\"There are '{}' cm in '{}' ft\".format(str(round(ft*30.48,1)),str(ft)))"
   ]
  },
  {
   "cell_type": "markdown",
   "metadata": {},
   "source": [
    "## Q13. BMI Calculator\n",
    "\n",
    "#### Write a Python program to calculate body mass index\n",
    "#### Program Console Sample 1:\n",
    "#### Enter Height in Cm: 180\n",
    "#### Enter Weight in Kg: 75\n",
    "#### Your BMI is 23.15"
   ]
  },
  {
   "cell_type": "code",
   "execution_count": 13,
   "metadata": {},
   "outputs": [
    {
     "name": "stdout",
     "output_type": "stream",
     "text": [
      "Enter Height in Cm: 65\n",
      "Enter Weight in Kg: 45\n",
      "Your BMI is '106.51'\n"
     ]
    }
   ],
   "source": [
    "h = float(input(\"Enter Height in Cm: \"))\n",
    "w = float(input(\"Enter Weight in Kg: \"))\n",
    "\n",
    "bmi = round(w/((h/100)**2),2)\n",
    "print(\"Your BMI is '{}'\".format(str(bmi)))"
   ]
  },
  {
   "cell_type": "markdown",
   "metadata": {},
   "source": [
    "## Q14. Sum of n Positive Integers\n",
    "\n",
    "#### Write a python program to sum of the first n positive integers\n",
    "#### Program Console Sample 1:\n",
    "#### Enter value of n: 5\n",
    "#### Sum of n Positive integers till 5 is 15"
   ]
  },
  {
   "cell_type": "code",
   "execution_count": 14,
   "metadata": {},
   "outputs": [
    {
     "name": "stdout",
     "output_type": "stream",
     "text": [
      "Enter value of n: 5\n",
      "Sum of n Positive integers till 5 is 15\n"
     ]
    }
   ],
   "source": [
    "n=int(input(\"Enter value of n: \"))\n",
    "\n",
    "print((\"Sum of n Positive integers till {} is {}\").format(str(n),str(sum(range(1,n+1)))))"
   ]
  },
  {
   "cell_type": "markdown",
   "metadata": {},
   "source": [
    "## Q15. Digits Sum of a Number\n",
    "\n",
    "#### Write a Python program to calculate the sum of the digits in an integer\n",
    "#### Program Console Sample 1:\n",
    "#### Enter a number: 15\n",
    "#### Sum of 1 + 5 is 6\n",
    "#### Program Console Sample 2:\n",
    "#### Enter a number: 1234\n",
    "#### Sum of 1 + 2 + 3 + 4 is 10"
   ]
  },
  {
   "cell_type": "code",
   "execution_count": 15,
   "metadata": {},
   "outputs": [
    {
     "name": "stdout",
     "output_type": "stream",
     "text": [
      "Enter a number: 12345\n",
      "\n",
      "Sum of \" 1 2 3 4 5 \" is:  15\n"
     ]
    }
   ],
   "source": [
    "num=list(input(\"Enter a number: \"))\n",
    "\n",
    "print(\"\\nSum of \\\"\",*num,\"\\\" is: \",str(sum(map(int,num))))"
   ]
  },
  {
   "cell_type": "markdown",
   "metadata": {},
   "source": [
    "## Q16. Decimal to Binary Converter\n",
    "\n",
    "#### Write a Python program to convert an decimal integer to binary\n",
    "#### Program Console Sample 1:\n",
    "#### Enter a decimal number: 5\n",
    "#### Binary Representation of 5 is 101\n",
    "#### Program Console Sample 2:\n",
    "#### Enter a decimal number: 32\n",
    "#### Binary Representation of 32 is 100000‬\n",
    "#### Reference:\n",
    "#### https://www.rapidtables.com/convert/number/decimal-to-binary.html"
   ]
  },
  {
   "cell_type": "code",
   "execution_count": 16,
   "metadata": {},
   "outputs": [
    {
     "name": "stdout",
     "output_type": "stream",
     "text": [
      "Enter any decimal number:4\n",
      "Binary Representation of 4 is 0b100\n"
     ]
    }
   ],
   "source": [
    "inp=int(input(\"Enter any decimal number:\"))\n",
    "b=bin(inp)\n",
    "\n",
    "print(\"Binary Representation of {} is {}\".format(inp,b))"
   ]
  },
  {
   "cell_type": "markdown",
   "metadata": {},
   "source": [
    "## Q17.\tBinary to Decimal Converter\n",
    "\n",
    "#### Write a program to convert binary number to Decimal number\n",
    "#### Program Console Sample 1:\n",
    "#### Enter a Binary number: 1101\n",
    "#### Decimal Representation of 1101 is 13\n",
    "#### Program Console Sample 2:\n",
    "#### Enter a Binary number: 1001\n",
    "#### Decimal Representation of 1001 is 9\n",
    "#### Reference:\n",
    "#### https://www.rapidtables.com/convert/number/binary-to-decimal.html"
   ]
  },
  {
   "cell_type": "code",
   "execution_count": 17,
   "metadata": {},
   "outputs": [
    {
     "name": "stdout",
     "output_type": "stream",
     "text": [
      "Enter any Binary number:100\n",
      "Decimal Representation of 100 is 4\n"
     ]
    }
   ],
   "source": [
    "binary=input(\"Enter any Binary number:\")\n",
    "decimal=int(binary,2)\n",
    "print(\"Decimal Representation of {} is {}\".format(binary,decimal))"
   ]
  },
  {
   "cell_type": "markdown",
   "metadata": {},
   "source": [
    "## Q18.\tVowel and Consonants Counter\n",
    "\n",
    "#### Input a text and count the occurrences of vowels and consonant\n",
    "#### Program Console Sample 1:\n",
    "#### Enter text: QuickBrownFoxJumpsovertheDog\n",
    "#### Vowels: 9\n",
    "#### Consonants: 19"
   ]
  },
  {
   "cell_type": "code",
   "execution_count": 18,
   "metadata": {},
   "outputs": [
    {
     "name": "stdout",
     "output_type": "stream",
     "text": [
      "Enter a String: QuickBrownFoxJumpsovertheDog\n",
      "consonant: 19\n",
      "vovel: 9\n"
     ]
    }
   ],
   "source": [
    "ch1=list(input(\"Enter a String: \"))\n",
    "\n",
    "vovel=('a','e','i','o','u')\n",
    "consonant=list(map(chr,list(range(97,122))))\n",
    "count_vovel=0\n",
    "count_consonant=0\n",
    "\n",
    "for ch in ch1:\n",
    "    if ch.lower() in vovel:\n",
    "        count_vovel+=1\n",
    "\n",
    "    elif ch.lower() in consonant: \n",
    "        if ch.lower() not in vovel:\n",
    "            count_consonant+=1\n",
    "    else:\n",
    "        print(\"Invalid character:\",ch)\n",
    "\n",
    "print(\"consonant:\",count_consonant)\n",
    "print(\"vovel:\",count_vovel)"
   ]
  },
  {
   "cell_type": "markdown",
   "metadata": {},
   "source": [
    "## Q19.\tPalindrome tester\n",
    "\n",
    "#### Write a program to check whether given input is palindrome or not\n",
    "#### Program Console Sample 1:\n",
    "#### Enter text: AHA\n",
    "#### Text AHA is Palindrome\n",
    "#### Program Console Sample 2:\n",
    "#### Enter text: Hello\n",
    "#### Text Hello is not a Palindrome\n"
   ]
  },
  {
   "cell_type": "code",
   "execution_count": 19,
   "metadata": {},
   "outputs": [
    {
     "name": "stdout",
     "output_type": "stream",
     "text": [
      "Enter a String: noon\n",
      "Text noon is Palindrome\n"
     ]
    }
   ],
   "source": [
    "ch1=input(\"Enter a String: \")\n",
    "ch2=list(ch1)\n",
    "ch3=ch2\n",
    "\n",
    "ch2.reverse()\n",
    "\n",
    "if ch3 == ch2:\n",
    "    print(\"Text\",ch1,\"is Palindrome\")\n",
    "else:\n",
    "    print(\"Text\",ch1,\"is not a Palindrome\")"
   ]
  },
  {
   "cell_type": "markdown",
   "metadata": {},
   "source": [
    "## Q20.\tCount Alphabets, Numbers and Special Characters\n",
    "\n",
    "#### Write a Python program that accepts a string and calculate the number of digits and letters\n",
    "#### Program Console Sample 1:\n",
    "#### Enter text: Python 3.2\n",
    "#### Numbers = 2\n",
    "#### Alphabets = 6\n",
    "#### Special Characters = 1\n",
    "#### Spaces = 1 \n"
   ]
  },
  {
   "cell_type": "code",
   "execution_count": 20,
   "metadata": {},
   "outputs": [
    {
     "name": "stdout",
     "output_type": "stream",
     "text": [
      "enter text:Python 3.2\n",
      "numbers: 2\n",
      "alphabets: 6\n",
      "special charaters: 1\n",
      "Spaces: 1\n"
     ]
    }
   ],
   "source": [
    "import re\n",
    "\n",
    "inp=list(input(r\"enter text:\"))\n",
    "\n",
    "d,c,sc,sp=0,0,0,0\n",
    "special=re.compile(\"^[^\\w ]$\")\n",
    "\n",
    "for i in inp:\n",
    "    if i.isdigit():\n",
    "        d+=1\n",
    "    elif i.isalpha():\n",
    "        c+=1\n",
    "    elif special.search(i):\n",
    "        sc+=1\n",
    "    elif i.isspace():\n",
    "        sp+=1\n",
    "print(\"numbers:\",d)\n",
    "print(\"alphabets:\",c)\n",
    "print(\"special charaters:\",sc)\n",
    "print(\"Spaces:\",sp)"
   ]
  },
  {
   "cell_type": "markdown",
   "metadata": {},
   "source": [
    "## Q21.\tWrite a Python program to construct the following pattern\n",
    "\n",
    "#### * \n",
    "#### * * \n",
    "#### * * * \n",
    "#### * * * * \n",
    "#### * * * * * \n",
    "#### * * * * \n",
    "#### * * * \n",
    "#### * * \n",
    "#### *"
   ]
  },
  {
   "cell_type": "code",
   "execution_count": 21,
   "metadata": {},
   "outputs": [
    {
     "name": "stdout",
     "output_type": "stream",
     "text": [
      "*\n",
      "**\n",
      "***\n",
      "****\n",
      "*****\n",
      "****\n",
      "***\n",
      "**\n",
      "*\n"
     ]
    }
   ],
   "source": [
    "st=\"*\"\n",
    "i,j=1,5\n",
    "    \n",
    "while i<5:\n",
    "    print(st*i)\n",
    "    i+=1\n",
    "    if i == 5:\n",
    "        while j>0:\n",
    "            print(st*j)\n",
    "            j-=1"
   ]
  },
  {
   "cell_type": "markdown",
   "metadata": {},
   "source": [
    "## Q22.\tWrite a Python program to construct the following pattern\n",
    "\n",
    "#### 1 \n",
    "#### 1 2 \n",
    "#### 1 2 3 \n",
    "#### 1 2 3 4 \n",
    "#### 1 2 3 4 5 \n",
    "#### 1 2 3 4 \n",
    "#### 1 2 3 \n",
    "#### 1 2 \n",
    "#### 1"
   ]
  },
  {
   "cell_type": "code",
   "execution_count": 22,
   "metadata": {},
   "outputs": [
    {
     "name": "stdout",
     "output_type": "stream",
     "text": [
      " 1\n",
      " 1 2\n",
      " 1 2 3\n",
      " 1 2 3 4\n",
      " 1 2 3 4 5\n",
      " 1 2 3 4\n",
      " 1 2 3\n",
      " 1 2\n",
      " 1\n"
     ]
    }
   ],
   "source": [
    "i,j,k=1,1,4\n",
    "s=\"\"    \n",
    "while i<6:\n",
    "    s+=str(i)\n",
    "    print(\"\",*list(s))\n",
    "    i+=1\n",
    "\n",
    "    if i==6:\n",
    "        s1=list(s)\n",
    "        s1.pop()\n",
    "        while k>0:\n",
    "            print(\"\",*s1)\n",
    "            s1.pop()\n",
    "            k-=1"
   ]
  },
  {
   "cell_type": "markdown",
   "metadata": {},
   "source": [
    "## Q23.\tWrite a Python program to construct the following pattern\n",
    "\n",
    "#### 1\n",
    "#### 22\n",
    "#### 333\n",
    "#### 4444\n",
    "#### 55555\n",
    "#### 666666\n",
    "#### 7777777\n",
    "#### 88888888\n",
    "#### 999999999"
   ]
  },
  {
   "cell_type": "code",
   "execution_count": 23,
   "metadata": {},
   "outputs": [
    {
     "name": "stdout",
     "output_type": "stream",
     "text": [
      "1\n",
      "22\n",
      "333\n",
      "4444\n",
      "55555\n",
      "666666\n",
      "7777777\n",
      "88888888\n",
      "999999999\n"
     ]
    }
   ],
   "source": [
    "inp=9\n",
    "i=1\n",
    "    \n",
    "while i<10:\n",
    "    print(str(i)*i)\n",
    "    i+=1"
   ]
  }
 ],
 "metadata": {
  "kernelspec": {
   "display_name": "Python 3",
   "language": "python",
   "name": "python3"
  },
  "language_info": {
   "codemirror_mode": {
    "name": "ipython",
    "version": 3
   },
   "file_extension": ".py",
   "mimetype": "text/x-python",
   "name": "python",
   "nbconvert_exporter": "python",
   "pygments_lexer": "ipython3",
   "version": "3.7.3"
  }
 },
 "nbformat": 4,
 "nbformat_minor": 2
}
