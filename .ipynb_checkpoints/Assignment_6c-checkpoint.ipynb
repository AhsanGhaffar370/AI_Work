{
 "cells": [
  {
   "cell_type": "code",
   "execution_count": 1,
   "metadata": {},
   "outputs": [
    {
     "data": {
      "text/plain": [
       "'Mimic pyquick exercise -- optional extra exercise.\\nPython Class\\n\\nRead in the file specified on the command line.\\nDo a simple split() on whitespace to obtain all the words in the file.\\nRather than read the file line by line, it\\'s easier to read\\nit into one giant string and split it once.\\n\\nBuild a \"mimic\" dict that maps each word that appears in the file\\nto a list of all the words that immediately follow that word in the file.\\nThe list of words can be be in any order and should include\\nduplicates. So for example the key \"and\" might have the list\\n[\"then\", \"best\", \"then\", \"after\", ...] listing\\nall the words which came after \"and\" in the text.\\nWe\\'ll say that the empty string is what comes before\\nthe first word in the file.\\n\\nWith the mimic dict, it\\'s fairly easy to emit random\\ntext that mimics the original. Print a word, then look\\nup what words might come next and pick one at random as\\nthe next work.\\nUse the empty string as the first word to prime things.\\nIf we ever get stuck with a word that is not in the dict,\\ngo back to the empty string to keep things moving.\\n\\nNote: the standard python module \\'random\\' includes a\\nrandom.choice(list) method which picks a random element\\nfrom a non-empty list.\\n\\nFor fun, feed your program to itself as input.\\nCould work on getting it to put in linebreaks around 70\\ncolumns, so the output looks better.\\n\\n'"
      ]
     },
     "execution_count": 1,
     "metadata": {},
     "output_type": "execute_result"
    }
   ],
   "source": [
    "\"\"\"Mimic pyquick exercise -- optional extra exercise.\n",
    "Python Class\n",
    "\n",
    "Read in the file specified on the command line.\n",
    "Do a simple split() on whitespace to obtain all the words in the file.\n",
    "Rather than read the file line by line, it's easier to read\n",
    "it into one giant string and split it once.\n",
    "\n",
    "Build a \"mimic\" dict that maps each word that appears in the file\n",
    "to a list of all the words that immediately follow that word in the file.\n",
    "The list of words can be be in any order and should include\n",
    "duplicates. So for example the key \"and\" might have the list\n",
    "[\"then\", \"best\", \"then\", \"after\", ...] listing\n",
    "all the words which came after \"and\" in the text.\n",
    "We'll say that the empty string is what comes before\n",
    "the first word in the file.\n",
    "\n",
    "With the mimic dict, it's fairly easy to emit random\n",
    "text that mimics the original. Print a word, then look\n",
    "up what words might come next and pick one at random as\n",
    "the next work.\n",
    "Use the empty string as the first word to prime things.\n",
    "If we ever get stuck with a word that is not in the dict,\n",
    "go back to the empty string to keep things moving.\n",
    "\n",
    "Note: the standard python module 'random' includes a\n",
    "random.choice(list) method which picks a random element\n",
    "from a non-empty list.\n",
    "\n",
    "For fun, feed your program to itself as input.\n",
    "Could work on getting it to put in linebreaks around 70\n",
    "columns, so the output looks better.\n",
    "\n",
    "\"\"\""
   ]
  },
  {
   "cell_type": "code",
   "execution_count": 2,
   "metadata": {},
   "outputs": [
    {
     "name": "stdout",
     "output_type": "stream",
     "text": [
      "usage: ./mimic.py file-to-read\n"
     ]
    },
    {
     "ename": "SystemExit",
     "evalue": "1",
     "output_type": "error",
     "traceback": [
      "An exception has occurred, use %tb to see the full traceback.\n",
      "\u001b[1;31mSystemExit\u001b[0m\u001b[1;31m:\u001b[0m 1\n"
     ]
    },
    {
     "name": "stderr",
     "output_type": "stream",
     "text": [
      "C:\\Users\\HP\\Anaconda3\\lib\\site-packages\\IPython\\core\\interactiveshell.py:3304: UserWarning: To exit: use 'exit', 'quit', or Ctrl-D.\n",
      "  warn(\"To exit: use 'exit', 'quit', or Ctrl-D.\", stacklevel=1)\n"
     ]
    }
   ],
   "source": [
    "import random\n",
    "import sys\n",
    "\n",
    "\n",
    "def mimic_dict(filename):\n",
    "    \"\"\"Returns mimic dict mapping each word to list of words which follow it.\"\"\"\n",
    "    # +++your code here+++\n",
    "    return\n",
    "\n",
    "\n",
    "def print_mimic(mimic_dict, word):\n",
    "    \"\"\"Given mimic dict and start word, prints 200 random words.\"\"\"\n",
    "    # +++your code here+++\n",
    "    return\n",
    "\n",
    "\n",
    "# Provided main(), calls mimic_dict() and mimic()\n",
    "def main():\n",
    "    if len(sys.argv) != 2:\n",
    "        print('usage: ./mimic.py file-to-read') \n",
    "        sys.exit(1)\n",
    "\n",
    "    dict = mimic_dict(sys.argv[1])\n",
    "    print_mimic(dict, '')\n",
    "\n",
    "\n",
    "if __name__ == '__main__':\n",
    "    main()\n"
   ]
  },
  {
   "cell_type": "code",
   "execution_count": null,
   "metadata": {},
   "outputs": [],
   "source": []
  },
  {
   "cell_type": "code",
   "execution_count": null,
   "metadata": {},
   "outputs": [],
   "source": []
  }
 ],
 "metadata": {
  "kernelspec": {
   "display_name": "Python 3",
   "language": "python",
   "name": "python3"
  },
  "language_info": {
   "codemirror_mode": {
    "name": "ipython",
    "version": 3
   },
   "file_extension": ".py",
   "mimetype": "text/x-python",
   "name": "python",
   "nbconvert_exporter": "python",
   "pygments_lexer": "ipython3",
   "version": "3.7.3"
  }
 },
 "nbformat": 4,
 "nbformat_minor": 2
}
