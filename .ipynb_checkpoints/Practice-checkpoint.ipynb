{
 "cells": [
  {
   "cell_type": "markdown",
   "metadata": {},
   "source": [
    "# Mathematic Operations"
   ]
  },
  {
   "cell_type": "markdown",
   "metadata": {},
   "source": [
    "### round off division -> //\n",
    "### Modulus -> %\n",
    "### power -> **"
   ]
  },
  {
   "cell_type": "code",
   "execution_count": 7,
   "metadata": {},
   "outputs": [
    {
     "data": {
      "text/plain": [
       "3"
      ]
     },
     "execution_count": 7,
     "metadata": {},
     "output_type": "execute_result"
    }
   ],
   "source": [
    "x=3\n",
    "x"
   ]
  },
  {
   "cell_type": "code",
   "execution_count": 8,
   "metadata": {},
   "outputs": [
    {
     "data": {
      "text/plain": [
       "6"
      ]
     },
     "execution_count": 8,
     "metadata": {},
     "output_type": "execute_result"
    }
   ],
   "source": [
    "x*=2\n",
    "x"
   ]
  },
  {
   "cell_type": "code",
   "execution_count": 9,
   "metadata": {},
   "outputs": [
    {
     "data": {
      "text/plain": [
       "3.0"
      ]
     },
     "execution_count": 9,
     "metadata": {},
     "output_type": "execute_result"
    }
   ],
   "source": [
    "x/=2\n",
    "x"
   ]
  },
  {
   "cell_type": "code",
   "execution_count": 267,
   "metadata": {},
   "outputs": [],
   "source": [
    "x=6"
   ]
  },
  {
   "cell_type": "code",
   "execution_count": 268,
   "metadata": {},
   "outputs": [],
   "source": [
    "x**=2\n"
   ]
  },
  {
   "cell_type": "code",
   "execution_count": 269,
   "metadata": {},
   "outputs": [
    {
     "data": {
      "text/plain": [
       "36"
      ]
     },
     "execution_count": 269,
     "metadata": {},
     "output_type": "execute_result"
    }
   ],
   "source": [
    "x"
   ]
  },
  {
   "cell_type": "code",
   "execution_count": 270,
   "metadata": {},
   "outputs": [
    {
     "data": {
      "text/plain": [
       "36"
      ]
     },
     "execution_count": 270,
     "metadata": {},
     "output_type": "execute_result"
    }
   ],
   "source": [
    "x"
   ]
  },
  {
   "cell_type": "code",
   "execution_count": 271,
   "metadata": {},
   "outputs": [
    {
     "data": {
      "text/plain": [
       "36"
      ]
     },
     "execution_count": 271,
     "metadata": {},
     "output_type": "execute_result"
    }
   ],
   "source": [
    "x=6\n",
    "x=x**2\n",
    "x"
   ]
  },
  {
   "cell_type": "code",
   "execution_count": 272,
   "metadata": {},
   "outputs": [
    {
     "name": "stdout",
     "output_type": "stream",
     "text": [
      "12.0\n"
     ]
    }
   ],
   "source": [
    "print(x/3)"
   ]
  },
  {
   "cell_type": "code",
   "execution_count": 273,
   "metadata": {},
   "outputs": [
    {
     "name": "stdout",
     "output_type": "stream",
     "text": [
      "7.2\n"
     ]
    }
   ],
   "source": [
    "print(x/5)"
   ]
  },
  {
   "cell_type": "code",
   "execution_count": 274,
   "metadata": {},
   "outputs": [
    {
     "data": {
      "text/plain": [
       "18"
      ]
     },
     "execution_count": 274,
     "metadata": {},
     "output_type": "execute_result"
    }
   ],
   "source": [
    "x=x//2\n",
    "x"
   ]
  },
  {
   "cell_type": "code",
   "execution_count": 275,
   "metadata": {},
   "outputs": [
    {
     "data": {
      "text/plain": [
       "2"
      ]
     },
     "execution_count": 275,
     "metadata": {},
     "output_type": "execute_result"
    }
   ],
   "source": [
    "x=5\n",
    "x//=2\n",
    "x"
   ]
  },
  {
   "cell_type": "code",
   "execution_count": 276,
   "metadata": {},
   "outputs": [
    {
     "data": {
      "text/plain": [
       "2"
      ]
     },
     "execution_count": 276,
     "metadata": {},
     "output_type": "execute_result"
    }
   ],
   "source": [
    "x=5\n",
    "x=x//2\n",
    "x"
   ]
  },
  {
   "cell_type": "markdown",
   "metadata": {},
   "source": [
    "# STRING  \n",
    "\n",
    "### type( any variable ) -> return data type of variable\n",
    "### .upper()\n",
    "### .lower()\n",
    "### .title()\n",
    "### .lstrip() OR .lstrip(character)\n",
    "### .rstrip()\n",
    "### .strip()\n",
    "### .count(string) OR .count(string, start_index) OR .count(string, start_index, end_index) \n",
    "### .index(string) OR .index(string, start_index) OR .index(string, start_index, end_index) ->with error \n",
    "### .find(string) OR .find(string, start_index) OR .find(string, start_index, end_index) ->without error \n",
    "### .isalnum() ->find alphanumeric characters in string\n",
    "### .isdigit()  -> find digits\n",
    "### .islower()\n",
    "### .isalpha() -> find alphabets\n",
    "### .isnumeric() -> find alphabets and digits\n",
    "### .isspace()\n",
    "### .istitle()\n",
    "### .replace(old, new, number of char to replace)\n",
    "### .split('char') OR .split('char',2) -> convert string into list\n",
    "### .swapcase() "
   ]
  },
  {
   "cell_type": "code",
   "execution_count": 3,
   "metadata": {},
   "outputs": [
    {
     "name": "stdout",
     "output_type": "stream",
     "text": [
      "my name is ahsan ghaffar Rajput. I'm 23 years old\n",
      "<class 'str'>\n"
     ]
    }
   ],
   "source": [
    "name=\"ahsan ghaffar Rajput\"\n",
    "age=23\n",
    "print (\"my name is \" +name+ \". \" + \"I'm \"+str(age)+\" years old\" )\n",
    "print(type(name))"
   ]
  },
  {
   "cell_type": "code",
   "execution_count": 278,
   "metadata": {},
   "outputs": [
    {
     "data": {
      "text/plain": [
       "'Ahsan Ghaffar Rajput'"
      ]
     },
     "execution_count": 278,
     "metadata": {},
     "output_type": "execute_result"
    }
   ],
   "source": [
    "name.title()"
   ]
  },
  {
   "cell_type": "code",
   "execution_count": 279,
   "metadata": {},
   "outputs": [
    {
     "data": {
      "text/plain": [
       "'Ahsan Ghaffar Rajput'"
      ]
     },
     "execution_count": 279,
     "metadata": {},
     "output_type": "execute_result"
    }
   ],
   "source": [
    "name=\"ahsan ghaffar Rajput\"\n",
    "name.title()"
   ]
  },
  {
   "cell_type": "code",
   "execution_count": 280,
   "metadata": {},
   "outputs": [
    {
     "data": {
      "text/plain": [
       "'AHSAN GHAFFAR RAJPUT'"
      ]
     },
     "execution_count": 280,
     "metadata": {},
     "output_type": "execute_result"
    }
   ],
   "source": [
    "name.upper()"
   ]
  },
  {
   "cell_type": "code",
   "execution_count": 281,
   "metadata": {},
   "outputs": [
    {
     "data": {
      "text/plain": [
       "'ahsan ghaffar rajput'"
      ]
     },
     "execution_count": 281,
     "metadata": {},
     "output_type": "execute_result"
    }
   ],
   "source": [
    "name.lower()"
   ]
  },
  {
   "cell_type": "code",
   "execution_count": 282,
   "metadata": {},
   "outputs": [
    {
     "data": {
      "text/plain": [
       "'ahsan ghaffar Rajput         '"
      ]
     },
     "execution_count": 282,
     "metadata": {},
     "output_type": "execute_result"
    }
   ],
   "source": [
    "name=\"       ahsan ghaffar Rajput         \"\n",
    "name.lstrip()"
   ]
  },
  {
   "cell_type": "code",
   "execution_count": 283,
   "metadata": {},
   "outputs": [
    {
     "data": {
      "text/plain": [
       "'       ahsan ghaffar Rajput'"
      ]
     },
     "execution_count": 283,
     "metadata": {},
     "output_type": "execute_result"
    }
   ],
   "source": [
    "name.rstrip()"
   ]
  },
  {
   "cell_type": "code",
   "execution_count": 284,
   "metadata": {},
   "outputs": [
    {
     "data": {
      "text/plain": [
       "'ahsan ghaffar Rajput'"
      ]
     },
     "execution_count": 284,
     "metadata": {},
     "output_type": "execute_result"
    }
   ],
   "source": [
    "name.strip()"
   ]
  },
  {
   "cell_type": "code",
   "execution_count": 4,
   "metadata": {},
   "outputs": [
    {
     "name": "stdout",
     "output_type": "stream",
     "text": [
      "2\n",
      "1\n",
      "2\n",
      "1\n"
     ]
    }
   ],
   "source": [
    "name=\"ahsan rao ghaffar rao\"\n",
    "\n",
    "print(name.count('rao'))\n",
    "print(name.count('rao',8))\n",
    "print(name.count('rao',6))\n",
    "print(name.count('rao',0,15))"
   ]
  },
  {
   "cell_type": "code",
   "execution_count": 8,
   "metadata": {},
   "outputs": [
    {
     "name": "stdout",
     "output_type": "stream",
     "text": [
      "He love Pakistan, He love Pakistan, He love python\n",
      "He love Pakistan, I love Pakistan, I love python\n"
     ]
    }
   ],
   "source": [
    "s=\"I love Pakistan, I love Pakistan, I love python\"\n",
    "print(s.replace('I','He'))\n",
    "print(s.replace('I','He',1))"
   ]
  },
  {
   "cell_type": "code",
   "execution_count": 13,
   "metadata": {},
   "outputs": [
    {
     "name": "stdout",
     "output_type": "stream",
     "text": [
      "['I love Pakistan', ' I love Pakistan', ' I love python']\n",
      "['I love Pakistan', ' I love Pakistan, I love python']\n"
     ]
    }
   ],
   "source": [
    "s=\"I love Pakistan, I love Pakistan, I love python\"\n",
    "\n",
    "print(s.split(','))\n",
    "print(s.split(',',1)) "
   ]
  },
  {
   "cell_type": "markdown",
   "metadata": {},
   "source": [
    "# ARRAYS"
   ]
  },
  {
   "cell_type": "code",
   "execution_count": 1,
   "metadata": {},
   "outputs": [],
   "source": [
    "import array"
   ]
  },
  {
   "cell_type": "code",
   "execution_count": 42,
   "metadata": {},
   "outputs": [],
   "source": [
    "#  i=int\n",
    "#  f=float\n",
    "#  d=double\n",
    "#  l=long\n",
    "#  b=char\n",
    "#  i=int\n",
    "vals=array.array(\"i\",[1,2,34,1,2,4,3])"
   ]
  },
  {
   "cell_type": "code",
   "execution_count": 50,
   "metadata": {},
   "outputs": [
    {
     "name": "stdout",
     "output_type": "stream",
     "text": [
      "array('i', [0, 3, 4, 2, 1, 34, 2, 1])\n",
      "(1541197573744, 8)\n",
      "0\n",
      "3\n",
      "4\n",
      "2\n",
      "1\n",
      "34\n",
      "2\n",
      "1\n",
      "\n",
      "\n",
      "\n",
      "0\n",
      "9\n",
      "16\n",
      "4\n",
      "1\n",
      "1156\n",
      "4\n",
      "1\n"
     ]
    }
   ],
   "source": [
    "print(vals)\n",
    "print(vals.buffer_info())   ###(1541182283984, 7) --> (Address, size)\n",
    "\n",
    "#copy elements of old array\n",
    "\n",
    "new_arr=array.array(vals.typecode,(a for a in vals)) ###(could_done_any_thing_with_a for a in vals)\n",
    "\n",
    "new2=array.array(vals.typecode,(a*a for a in vals))\n",
    "\n",
    "for i in new_arr:\n",
    "    print(i)\n",
    "print(\"\\n\\n\")\n",
    "for i in new2:\n",
    "    print(i)"
   ]
  },
  {
   "cell_type": "code",
   "execution_count": 44,
   "metadata": {},
   "outputs": [
    {
     "name": "stdout",
     "output_type": "stream",
     "text": [
      "enter element: 12\n",
      "enter element: 2\n",
      "enter element: 3\n",
      "enter element: 1\n",
      "array('f', [12.0, 2.0, 3.0, 1.0])\n"
     ]
    }
   ],
   "source": [
    "val2=array.array(\"f\",[])\n",
    "num=4 ##user input\n",
    "for i in range(num):\n",
    "    inp=float(input(\"enter element: \"))\n",
    "    val2.append(inp)\n",
    "\n",
    "print(val2)"
   ]
  },
  {
   "cell_type": "code",
   "execution_count": 45,
   "metadata": {},
   "outputs": [],
   "source": [
    "vals.append(0)\n",
    "vals.insert(0,122)"
   ]
  },
  {
   "cell_type": "code",
   "execution_count": 46,
   "metadata": {},
   "outputs": [
    {
     "data": {
      "text/plain": [
       "array('i', [122, 1, 2, 34, 1, 2, 4, 3, 0])"
      ]
     },
     "execution_count": 46,
     "metadata": {},
     "output_type": "execute_result"
    }
   ],
   "source": [
    "vals"
   ]
  },
  {
   "cell_type": "code",
   "execution_count": 47,
   "metadata": {},
   "outputs": [
    {
     "data": {
      "text/plain": [
       "array('i', [1, 2, 34, 1, 2, 4, 3, 0])"
      ]
     },
     "execution_count": 47,
     "metadata": {},
     "output_type": "execute_result"
    }
   ],
   "source": [
    "vals.pop(0)\n",
    "vals"
   ]
  },
  {
   "cell_type": "code",
   "execution_count": 48,
   "metadata": {},
   "outputs": [
    {
     "data": {
      "text/plain": [
       "array('i', [0, 3, 4, 2, 1, 34, 2, 1])"
      ]
     },
     "execution_count": 48,
     "metadata": {},
     "output_type": "execute_result"
    }
   ],
   "source": [
    "vals.reverse()\n",
    "vals"
   ]
  },
  {
   "cell_type": "markdown",
   "metadata": {},
   "source": [
    "# NUMPY"
   ]
  },
  {
   "cell_type": "code",
   "execution_count": 69,
   "metadata": {},
   "outputs": [],
   "source": [
    "import numpy ##nupy used for multi dimensional array\n",
    "#from numpy import numpy --> this method doesn't required extension \n",
    "#exp: numpy.array([1,2,3]) -----> array([1,2,3]) (can write in this manner)"
   ]
  },
  {
   "cell_type": "code",
   "execution_count": 76,
   "metadata": {},
   "outputs": [
    {
     "name": "stdout",
     "output_type": "stream",
     "text": [
      "int32\n",
      "[ 2  4  1  4 23  3]\n",
      "\n",
      "\n",
      "\n",
      "float64\n",
      "[ 2.   4.   1.   4.  23.   3.1]\n",
      "\n",
      "\n",
      "\n",
      "int32\n",
      "[ 2  4  1  4 23  3]\n",
      "\n",
      "\n",
      "\n",
      "float64\n",
      "[ 2.  4.  1.  4. 23.  3.]\n"
     ]
    }
   ],
   "source": [
    "arr1=numpy.array([2,4,1,4,23,3]) ##by default choose its data type on the basis of elements\n",
    "print(arr1.dtype)\n",
    "print(arr1)\n",
    "\n",
    "print(\"\\n\\n\")\n",
    "arr2=numpy.array([2,4,1,4,23,3.1]) #by_default choose its DT on basis of elements values -->single 3.1 so convert it in float\n",
    "print(arr2.dtype)\n",
    "print(arr2)\n",
    "\n",
    "print(\"\\n\\n\")\n",
    "arr3=numpy.array([2.7,4.9,1,4,23,3.1],int) ##you can also assign data type \n",
    "print(arr3.dtype)\n",
    "print(arr3)\n",
    "\n",
    "print(\"\\n\\n\")\n",
    "arr2=numpy.array([2,4,1,4,23,3],float) ##you can also assign data type \n",
    "print(arr2.dtype)\n",
    "print(arr2)"
   ]
  },
  {
   "cell_type": "code",
   "execution_count": null,
   "metadata": {},
   "outputs": [],
   "source": []
  },
  {
   "cell_type": "code",
   "execution_count": null,
   "metadata": {},
   "outputs": [],
   "source": []
  },
  {
   "cell_type": "code",
   "execution_count": null,
   "metadata": {},
   "outputs": [],
   "source": []
  },
  {
   "cell_type": "code",
   "execution_count": null,
   "metadata": {},
   "outputs": [],
   "source": []
  },
  {
   "cell_type": "code",
   "execution_count": null,
   "metadata": {},
   "outputs": [],
   "source": []
  },
  {
   "cell_type": "code",
   "execution_count": null,
   "metadata": {},
   "outputs": [],
   "source": []
  },
  {
   "cell_type": "markdown",
   "metadata": {},
   "source": [
    "# LIST  \n",
    "\n",
    "### .append (\"any value\")\n",
    "### .insert ( index , \"value\" )\n",
    "### del  list  OR  del list[index] \n",
    "### .remove (index)\n",
    "### .pop ()  OR  .pop(index)\n",
    "### .index (value)\n",
    "### .enumerate()  -> create tuple inside list in this format [ ( index, value1 ) ,  ( index, value2 ) ..... ]"
   ]
  },
  {
   "cell_type": "code",
   "execution_count": 53,
   "metadata": {},
   "outputs": [
    {
     "data": {
      "text/plain": [
       "['ahsan', 'ali', 'faraz', 'talha']"
      ]
     },
     "execution_count": 53,
     "metadata": {},
     "output_type": "execute_result"
    }
   ],
   "source": [
    "names=[\"ahsan\",\"ali\",\"faraz\",\"talha\"] ##LIST \n",
    "names"
   ]
  },
  {
   "cell_type": "code",
   "execution_count": 54,
   "metadata": {},
   "outputs": [
    {
     "data": {
      "text/plain": [
       "'faraz'"
      ]
     },
     "execution_count": 54,
     "metadata": {},
     "output_type": "execute_result"
    }
   ],
   "source": [
    "names[2]"
   ]
  },
  {
   "cell_type": "code",
   "execution_count": 55,
   "metadata": {},
   "outputs": [
    {
     "data": {
      "text/plain": [
       "'AHSAN'"
      ]
     },
     "execution_count": 55,
     "metadata": {},
     "output_type": "execute_result"
    }
   ],
   "source": [
    "names[0].upper()"
   ]
  },
  {
   "cell_type": "code",
   "execution_count": 56,
   "metadata": {},
   "outputs": [
    {
     "data": {
      "text/plain": [
       "['ahsan', 'ali', 'faraz', 'talha', 'rao']"
      ]
     },
     "execution_count": 56,
     "metadata": {},
     "output_type": "execute_result"
    }
   ],
   "source": [
    "names.append(\"rao\")\n",
    "names"
   ]
  },
  {
   "cell_type": "code",
   "execution_count": 57,
   "metadata": {},
   "outputs": [
    {
     "data": {
      "text/plain": [
       "['ahsan', 'noman', 'ali', 'faraz', 'talha', 'rao']"
      ]
     },
     "execution_count": 57,
     "metadata": {},
     "output_type": "execute_result"
    }
   ],
   "source": [
    "names.insert(1,\"noman\")\n",
    "names"
   ]
  },
  {
   "cell_type": "code",
   "execution_count": 58,
   "metadata": {},
   "outputs": [
    {
     "data": {
      "text/plain": [
       "['ahsan', 'noman', 'faraz', 'talha', 'rao']"
      ]
     },
     "execution_count": 58,
     "metadata": {},
     "output_type": "execute_result"
    }
   ],
   "source": [
    "del names[2]\n",
    "names"
   ]
  },
  {
   "cell_type": "code",
   "execution_count": 59,
   "metadata": {},
   "outputs": [
    {
     "data": {
      "text/plain": [
       "['ahsan', 'noman', 'talha', 'rao']"
      ]
     },
     "execution_count": 59,
     "metadata": {},
     "output_type": "execute_result"
    }
   ],
   "source": [
    "names.remove(\"faraz\")\n",
    "names"
   ]
  },
  {
   "cell_type": "code",
   "execution_count": 60,
   "metadata": {},
   "outputs": [
    {
     "data": {
      "text/plain": [
       "['ahsan', 'noman', 'talha']"
      ]
     },
     "execution_count": 60,
     "metadata": {},
     "output_type": "execute_result"
    }
   ],
   "source": [
    "delName=names.pop()\n",
    "delName\n",
    "names"
   ]
  },
  {
   "cell_type": "code",
   "execution_count": 61,
   "metadata": {},
   "outputs": [
    {
     "name": "stdout",
     "output_type": "stream",
     "text": [
      "rao\n"
     ]
    }
   ],
   "source": [
    "print(delName)"
   ]
  },
  {
   "cell_type": "code",
   "execution_count": 62,
   "metadata": {},
   "outputs": [
    {
     "name": "stdout",
     "output_type": "stream",
     "text": [
      "noman\n",
      "['ahsan', 'talha']\n"
     ]
    }
   ],
   "source": [
    "delName=names.pop(1)\n",
    "print(delName)\n",
    "print(names)"
   ]
  },
  {
   "cell_type": "code",
   "execution_count": 63,
   "metadata": {},
   "outputs": [
    {
     "name": "stdout",
     "output_type": "stream",
     "text": [
      "noman\n",
      "['ahsan', 'talha']\n"
     ]
    }
   ],
   "source": [
    "names=['ahsan', 'noman', 'talha']\n",
    "delName=names.pop(1)\n",
    "print(delName)\n",
    "print(names)"
   ]
  },
  {
   "cell_type": "code",
   "execution_count": 64,
   "metadata": {},
   "outputs": [
    {
     "name": "stdout",
     "output_type": "stream",
     "text": [
      "noman\n",
      "['ahsan', 'talha']\n"
     ]
    }
   ],
   "source": [
    "names=['ahsan', 'noman', 'talha']\n",
    "delName=names.pop(1)\n",
    "print(delName)\n",
    "print(names)"
   ]
  },
  {
   "cell_type": "code",
   "execution_count": 65,
   "metadata": {},
   "outputs": [
    {
     "data": {
      "text/plain": [
       "1"
      ]
     },
     "execution_count": 65,
     "metadata": {},
     "output_type": "execute_result"
    }
   ],
   "source": [
    "marks=[23,44,11,9,0,5,55,32]\n",
    "marks.index(44)"
   ]
  },
  {
   "cell_type": "code",
   "execution_count": 66,
   "metadata": {},
   "outputs": [
    {
     "data": {
      "text/plain": [
       "[(0, 23), (1, 44), (2, 11), (3, 9), (4, 0), (5, 5), (6, 55), (7, 32)]"
      ]
     },
     "execution_count": 66,
     "metadata": {},
     "output_type": "execute_result"
    }
   ],
   "source": [
    "list(enumerate(marks))"
   ]
  },
  {
   "cell_type": "code",
   "execution_count": 67,
   "metadata": {},
   "outputs": [
    {
     "name": "stdout",
     "output_type": "stream",
     "text": [
      "140716164223936\n",
      "140716164223936\n"
     ]
    }
   ],
   "source": [
    "a,b=5,5\n",
    "print(id(a))\n",
    "print(id(b))"
   ]
  },
  {
   "cell_type": "code",
   "execution_count": 301,
   "metadata": {},
   "outputs": [
    {
     "data": {
      "text/plain": [
       "[23, 44, 11, 9, 0, 5, 55, 32]"
      ]
     },
     "execution_count": 301,
     "metadata": {},
     "output_type": "execute_result"
    }
   ],
   "source": [
    "marks"
   ]
  },
  {
   "cell_type": "markdown",
   "metadata": {},
   "source": [
    "# LIST\n",
    "\n",
    "## list( any_string) -> convert any string in list\n",
    "## sort() -> list sort permenetly\n",
    "## sorted( list ) -> list sort temporarily\n",
    "## sort(reverse=True)\n",
    "## reverse()\n",
    "## min(list_name)\n",
    "## max(list_name)\n",
    "## len(list_name)\n",
    "## sum(list_name)\n",
    "## count(value) \n",
    "## list3=list1+list2\n",
    "## list1.extend(list2) -> store list2 values in list1"
   ]
  },
  {
   "cell_type": "code",
   "execution_count": 3,
   "metadata": {},
   "outputs": [
    {
     "name": "stdout",
     "output_type": "stream",
     "text": [
      "[0, 5, 9, 11, 23, 32, 44, 55]\n",
      "[23, 44, 11, 9, 0, 5, 55, 32]\n",
      "[0, 5, 9, 11, 23, 32, 44, 55]\n"
     ]
    }
   ],
   "source": [
    "marks=[23,44,11,9,0,5,55,32]\n",
    "\n",
    "print(sorted(marks)) #list sort temporarily\n",
    "print(marks)\n",
    "\n",
    "marks.sort() #list sort permenetly\n",
    "print(marks)"
   ]
  },
  {
   "cell_type": "code",
   "execution_count": 4,
   "metadata": {},
   "outputs": [
    {
     "name": "stdout",
     "output_type": "stream",
     "text": [
      "[0, 5, 9, 11, 23, 32, 44, 55]\n"
     ]
    }
   ],
   "source": [
    "print(marks)"
   ]
  },
  {
   "cell_type": "code",
   "execution_count": 5,
   "metadata": {},
   "outputs": [
    {
     "name": "stdout",
     "output_type": "stream",
     "text": [
      "[55, 44, 32, 23, 11, 9, 5, 0]\n",
      "[55, 44, 32, 23, 11, 9, 5, 0]\n"
     ]
    }
   ],
   "source": [
    "marks=[23,44,11,9,0,5,55,32]\n",
    "\n",
    "marks.sort(reverse=True)#1st method\n",
    "print(marks)\n",
    "\n",
    "print(sorted(marks,reverse=True))#2nd method\n"
   ]
  },
  {
   "cell_type": "code",
   "execution_count": 304,
   "metadata": {},
   "outputs": [],
   "source": [
    "marks=[23,44,11,9,0,5,55,32]\n",
    "marks.reverse()"
   ]
  },
  {
   "cell_type": "code",
   "execution_count": 305,
   "metadata": {},
   "outputs": [
    {
     "data": {
      "text/plain": [
       "[32, 55, 5, 0, 9, 11, 44, 23]"
      ]
     },
     "execution_count": 305,
     "metadata": {},
     "output_type": "execute_result"
    }
   ],
   "source": [
    "marks"
   ]
  },
  {
   "cell_type": "code",
   "execution_count": 306,
   "metadata": {},
   "outputs": [
    {
     "data": {
      "text/plain": [
       "8"
      ]
     },
     "execution_count": 306,
     "metadata": {},
     "output_type": "execute_result"
    }
   ],
   "source": [
    "len(marks)"
   ]
  },
  {
   "cell_type": "code",
   "execution_count": 307,
   "metadata": {},
   "outputs": [
    {
     "data": {
      "text/plain": [
       "0"
      ]
     },
     "execution_count": 307,
     "metadata": {},
     "output_type": "execute_result"
    }
   ],
   "source": [
    "min(marks)"
   ]
  },
  {
   "cell_type": "code",
   "execution_count": 308,
   "metadata": {},
   "outputs": [
    {
     "data": {
      "text/plain": [
       "55"
      ]
     },
     "execution_count": 308,
     "metadata": {},
     "output_type": "execute_result"
    }
   ],
   "source": [
    "max(marks)"
   ]
  },
  {
   "cell_type": "code",
   "execution_count": 309,
   "metadata": {},
   "outputs": [
    {
     "data": {
      "text/plain": [
       "179"
      ]
     },
     "execution_count": 309,
     "metadata": {},
     "output_type": "execute_result"
    }
   ],
   "source": [
    "sum(marks)"
   ]
  },
  {
   "cell_type": "code",
   "execution_count": 310,
   "metadata": {},
   "outputs": [
    {
     "data": {
      "text/plain": [
       "4"
      ]
     },
     "execution_count": 310,
     "metadata": {},
     "output_type": "execute_result"
    }
   ],
   "source": [
    "a=list(\"pakistan zindabad\")\n",
    "a.count(\"a\")"
   ]
  },
  {
   "cell_type": "code",
   "execution_count": 9,
   "metadata": {},
   "outputs": [],
   "source": [
    "l1=[21,32,4,21]\n",
    "l2=[43,5,2,56]\n",
    "l3=l1+l2 #inline"
   ]
  },
  {
   "cell_type": "code",
   "execution_count": 10,
   "metadata": {},
   "outputs": [
    {
     "name": "stdout",
     "output_type": "stream",
     "text": [
      "[21, 32, 4, 21]\n",
      "[43, 5, 2, 56]\n",
      "[21, 32, 4, 21, 43, 5, 2, 56]\n"
     ]
    }
   ],
   "source": [
    "print(l1)\n",
    "print(l2)\n",
    "print(l3)"
   ]
  },
  {
   "cell_type": "code",
   "execution_count": 312,
   "metadata": {},
   "outputs": [],
   "source": [
    "l1.extend(l2) #in memory"
   ]
  },
  {
   "cell_type": "code",
   "execution_count": 313,
   "metadata": {},
   "outputs": [
    {
     "data": {
      "text/plain": [
       "[21, 32, 4, 21, 43, 5, 2, 56]"
      ]
     },
     "execution_count": 313,
     "metadata": {},
     "output_type": "execute_result"
    }
   ],
   "source": [
    "l1"
   ]
  },
  {
   "cell_type": "markdown",
   "metadata": {},
   "source": [
    "## map(function_name, list_name) -> apply function on each value of list\n",
    "## chr( ASCII_code ) -> find value from ASCII code\n",
    "## ord( value ) -> find ASCII code from value\n",
    "## range( start, end, difference)"
   ]
  },
  {
   "cell_type": "code",
   "execution_count": 1,
   "metadata": {},
   "outputs": [
    {
     "data": {
      "text/plain": [
       "['A',\n",
       " 'B',\n",
       " 'C',\n",
       " 'D',\n",
       " 'E',\n",
       " 'F',\n",
       " 'G',\n",
       " 'H',\n",
       " 'I',\n",
       " 'J',\n",
       " 'K',\n",
       " 'L',\n",
       " 'M',\n",
       " 'N',\n",
       " 'O',\n",
       " 'P',\n",
       " 'Q',\n",
       " 'R',\n",
       " 'S',\n",
       " 'T',\n",
       " 'U',\n",
       " 'V',\n",
       " 'W',\n",
       " 'X',\n",
       " 'Y',\n",
       " 'Z']"
      ]
     },
     "execution_count": 1,
     "metadata": {},
     "output_type": "execute_result"
    }
   ],
   "source": [
    "marks=[]\n",
    "for i in range(65,91,1):\n",
    "    marks.append(i)\n",
    "    i+=1\n",
    "list(map(chr,marks))"
   ]
  },
  {
   "cell_type": "code",
   "execution_count": 316,
   "metadata": {},
   "outputs": [
    {
     "data": {
      "text/plain": [
       "[1, 1, 5, 4]"
      ]
     },
     "execution_count": 316,
     "metadata": {},
     "output_type": "execute_result"
    }
   ],
   "source": [
    "mark1=['2','2',\"ahsan\",\"33.4\"]\n",
    "list(map(len,mark1))"
   ]
  },
  {
   "cell_type": "code",
   "execution_count": 317,
   "metadata": {},
   "outputs": [
    {
     "data": {
      "text/plain": [
       "[1, 2, 3, 4, 5, 6, 7, 8, 9, 10]"
      ]
     },
     "execution_count": 317,
     "metadata": {},
     "output_type": "execute_result"
    }
   ],
   "source": [
    "mark2=list(range(1,11))\n",
    "mark2"
   ]
  },
  {
   "cell_type": "code",
   "execution_count": 318,
   "metadata": {},
   "outputs": [
    {
     "data": {
      "text/plain": [
       "[1.0, 2.0, 3.0, 4.0, 5.0, 6.0, 7.0, 8.0, 9.0, 10.0]"
      ]
     },
     "execution_count": 318,
     "metadata": {},
     "output_type": "execute_result"
    }
   ],
   "source": [
    "list(map(float,mark2))"
   ]
  },
  {
   "cell_type": "code",
   "execution_count": 345,
   "metadata": {},
   "outputs": [
    {
     "data": {
      "text/plain": [
       "65"
      ]
     },
     "execution_count": 345,
     "metadata": {},
     "output_type": "execute_result"
    }
   ],
   "source": [
    "#to find ASCII code from value we use ord function ord(value)\n",
    "ord(\"A\")"
   ]
  },
  {
   "cell_type": "code",
   "execution_count": 344,
   "metadata": {},
   "outputs": [
    {
     "data": {
      "text/plain": [
       "'A'"
      ]
     },
     "execution_count": 344,
     "metadata": {},
     "output_type": "execute_result"
    }
   ],
   "source": [
    "#to find value from ASCII code we use chr function chr(ASCII_code)\n",
    "chr(65)"
   ]
  },
  {
   "cell_type": "code",
   "execution_count": 1,
   "metadata": {},
   "outputs": [
    {
     "data": {
      "text/plain": [
       "'A'"
      ]
     },
     "execution_count": 1,
     "metadata": {},
     "output_type": "execute_result"
    }
   ],
   "source": [
    "chr(65)"
   ]
  },
  {
   "cell_type": "code",
   "execution_count": 320,
   "metadata": {},
   "outputs": [],
   "source": [
    "#0 - 9  ( 48 - 57 )\n",
    "#A - Z  ( 65 - 90 )\n",
    "#a - z  ( 97 - 122 )"
   ]
  },
  {
   "cell_type": "code",
   "execution_count": 321,
   "metadata": {},
   "outputs": [
    {
     "name": "stdout",
     "output_type": "stream",
     "text": [
      "[97, 98, 99, 100, 101, 102, 103, 104, 105, 106, 107, 108, 109, 110, 111, 112, 113, 114, 115, 116, 117, 118, 119, 120, 121, 122]\n",
      "[65, 66, 67, 68, 69, 70, 71, 72, 73, 74, 75, 76, 77, 78, 79, 80, 81, 82, 83, 84, 85, 86, 87, 88, 89, 90]\n",
      "[48, 49, 50, 51, 52, 53, 54, 55, 56, 57]\n"
     ]
    }
   ],
   "source": [
    "abc=list(range(97,123))\n",
    "ABC=list(range(65,91))\n",
    "zero_nine=list(range(48,58))\n",
    "print(abc)\n",
    "print(ABC)\n",
    "print(zero_nine)"
   ]
  },
  {
   "cell_type": "code",
   "execution_count": 322,
   "metadata": {},
   "outputs": [
    {
     "data": {
      "text/plain": [
       "['a',\n",
       " 'b',\n",
       " 'c',\n",
       " 'd',\n",
       " 'e',\n",
       " 'f',\n",
       " 'g',\n",
       " 'h',\n",
       " 'i',\n",
       " 'j',\n",
       " 'k',\n",
       " 'l',\n",
       " 'm',\n",
       " 'n',\n",
       " 'o',\n",
       " 'p',\n",
       " 'q',\n",
       " 'r',\n",
       " 's',\n",
       " 't',\n",
       " 'u',\n",
       " 'v',\n",
       " 'w',\n",
       " 'x',\n",
       " 'y',\n",
       " 'z']"
      ]
     },
     "execution_count": 322,
     "metadata": {},
     "output_type": "execute_result"
    }
   ],
   "source": [
    "list(map(chr,abc))"
   ]
  },
  {
   "cell_type": "code",
   "execution_count": 323,
   "metadata": {},
   "outputs": [
    {
     "data": {
      "text/plain": [
       "['A',\n",
       " 'B',\n",
       " 'C',\n",
       " 'D',\n",
       " 'E',\n",
       " 'F',\n",
       " 'G',\n",
       " 'H',\n",
       " 'I',\n",
       " 'J',\n",
       " 'K',\n",
       " 'L',\n",
       " 'M',\n",
       " 'N',\n",
       " 'O',\n",
       " 'P',\n",
       " 'Q',\n",
       " 'R',\n",
       " 'S',\n",
       " 'T',\n",
       " 'U',\n",
       " 'V',\n",
       " 'W',\n",
       " 'X',\n",
       " 'Y',\n",
       " 'Z']"
      ]
     },
     "execution_count": 323,
     "metadata": {},
     "output_type": "execute_result"
    }
   ],
   "source": [
    "list(map(chr,ABC))"
   ]
  },
  {
   "cell_type": "code",
   "execution_count": 324,
   "metadata": {},
   "outputs": [
    {
     "data": {
      "text/plain": [
       "['0', '1', '2', '3', '4', '5', '6', '7', '8', '9']"
      ]
     },
     "execution_count": 324,
     "metadata": {},
     "output_type": "execute_result"
    }
   ],
   "source": [
    "list(map(chr,zero_nine))"
   ]
  },
  {
   "cell_type": "code",
   "execution_count": null,
   "metadata": {},
   "outputs": [],
   "source": []
  },
  {
   "cell_type": "markdown",
   "metadata": {},
   "source": [
    "## help(function_name) \n",
    "## ?\n",
    "## ??\n",
    "## \"\"\"  \"\"\" \n",
    "## '''   ''' \n",
    "## .format() "
   ]
  },
  {
   "cell_type": "code",
   "execution_count": 325,
   "metadata": {},
   "outputs": [
    {
     "name": "stdout",
     "output_type": "stream",
     "text": [
      "Help on built-in function print in module builtins:\n",
      "\n",
      "print(...)\n",
      "    print(value, ..., sep=' ', end='\\n', file=sys.stdout, flush=False)\n",
      "    \n",
      "    Prints the values to a stream, or to sys.stdout by default.\n",
      "    Optional keyword arguments:\n",
      "    file:  a file-like object (stream); defaults to the current sys.stdout.\n",
      "    sep:   string inserted between values, default a space.\n",
      "    end:   string appended after the last value, default a newline.\n",
      "    flush: whether to forcibly flush the stream.\n",
      "\n"
     ]
    }
   ],
   "source": [
    "help(print)"
   ]
  },
  {
   "cell_type": "code",
   "execution_count": 326,
   "metadata": {},
   "outputs": [
    {
     "name": "stdout",
     "output_type": "stream",
     "text": [
      "Help on built-in function sum in module builtins:\n",
      "\n",
      "sum(iterable, start=0, /)\n",
      "    Return the sum of a 'start' value (default: 0) plus an iterable of numbers\n",
      "    \n",
      "    When the iterable is empty, return the start value.\n",
      "    This function is intended specifically for use with numeric values and may\n",
      "    reject non-numeric types.\n",
      "\n"
     ]
    }
   ],
   "source": [
    "help(sum)"
   ]
  },
  {
   "cell_type": "code",
   "execution_count": 327,
   "metadata": {},
   "outputs": [],
   "source": [
    "sum?"
   ]
  },
  {
   "cell_type": "code",
   "execution_count": 328,
   "metadata": {},
   "outputs": [],
   "source": [
    "sum??"
   ]
  },
  {
   "cell_type": "code",
   "execution_count": 329,
   "metadata": {},
   "outputs": [],
   "source": [
    "num=\"\"\"\n",
    "my name is\n",
    "ahsan\n",
    "ghaffar\n",
    "\"\"\""
   ]
  },
  {
   "cell_type": "code",
   "execution_count": 330,
   "metadata": {},
   "outputs": [
    {
     "name": "stdout",
     "output_type": "stream",
     "text": [
      "\n",
      "name: ahsan\n",
      "fname: ghaffar\n",
      "age: 23\n",
      "\n"
     ]
    }
   ],
   "source": [
    "name=\"ahsan\"\n",
    "fname=\"ghaffar\"\n",
    "age=23\n",
    "list1=\"\"\"\n",
    "name: {}\n",
    "fname: {}\n",
    "age: {}\n",
    "\"\"\"\n",
    "print(list1.format(name,fname,age))"
   ]
  },
  {
   "cell_type": "code",
   "execution_count": 331,
   "metadata": {},
   "outputs": [
    {
     "name": "stdout",
     "output_type": "stream",
     "text": [
      "\n",
      "name: ghaffar\n",
      "fname: 23\n",
      "age: ahsan\n",
      "\n"
     ]
    }
   ],
   "source": [
    "name=\"ahsan\"\n",
    "fname=\"ghaffar\"\n",
    "age=23\n",
    "list1=\"\"\"\n",
    "name: {1}\n",
    "fname: {2}\n",
    "age: {0}\n",
    "\"\"\"\n",
    "print(list1.format(name,fname,age))"
   ]
  },
  {
   "cell_type": "code",
   "execution_count": 332,
   "metadata": {},
   "outputs": [
    {
     "name": "stdout",
     "output_type": "stream",
     "text": [
      "Enter your name: ahsan\n"
     ]
    }
   ],
   "source": [
    "a=input(\"Enter your name: \")"
   ]
  },
  {
   "cell_type": "code",
   "execution_count": 333,
   "metadata": {},
   "outputs": [
    {
     "name": "stdout",
     "output_type": "stream",
     "text": [
      "Enter your name: ahsan\n",
      "Enter your fname: rao\n",
      "Enter your age: 12\n",
      "\n",
      "name: ahsan\n",
      "fname: rao\n",
      "age: 12\n",
      "\n"
     ]
    }
   ],
   "source": [
    "name=input(\"Enter your name: \")\n",
    "fname=input(\"Enter your fname: \")\n",
    "age=input(\"Enter your age: \")\n",
    "list1=\"\"\"\n",
    "name: {}\n",
    "fname: {}\n",
    "age: {}\n",
    "\"\"\"\n",
    "print(list1.format(name,fname,age))"
   ]
  },
  {
   "cell_type": "code",
   "execution_count": 334,
   "metadata": {},
   "outputs": [],
   "source": [
    "import this"
   ]
  },
  {
   "cell_type": "markdown",
   "metadata": {},
   "source": [
    "# while\n",
    "# for\n",
    "# if elif else "
   ]
  },
  {
   "cell_type": "code",
   "execution_count": 335,
   "metadata": {},
   "outputs": [
    {
     "name": "stdout",
     "output_type": "stream",
     "text": [
      "65\n",
      "66\n",
      "67\n",
      "68\n",
      "69\n",
      "70\n",
      "71\n",
      "72\n",
      "73\n",
      "74\n",
      "75\n",
      "76\n",
      "77\n",
      "78\n",
      "79\n",
      "80\n",
      "81\n",
      "82\n",
      "83\n",
      "84\n",
      "85\n",
      "86\n",
      "87\n",
      "88\n",
      "89\n",
      "90\n"
     ]
    }
   ],
   "source": [
    "i=0\n",
    "while i<len(marks):\n",
    "    print(marks[i])\n",
    "    i+=1\n",
    "    "
   ]
  },
  {
   "cell_type": "code",
   "execution_count": 336,
   "metadata": {},
   "outputs": [
    {
     "name": "stdout",
     "output_type": "stream",
     "text": [
      "25\n",
      "5\n",
      "4\n",
      "542\n",
      "2\n",
      "5\n",
      "24\n",
      "23\n"
     ]
    }
   ],
   "source": [
    "marks=[23,24,5,2,542,4,5,25]\n",
    "i=len(marks)-1\n",
    "while i>=0:\n",
    "    print(marks[i])\n",
    "    i-=1"
   ]
  },
  {
   "cell_type": "code",
   "execution_count": 337,
   "metadata": {},
   "outputs": [
    {
     "data": {
      "text/plain": [
       "[23, 24, 5, 2, 542, 4, 5, 25]"
      ]
     },
     "execution_count": 337,
     "metadata": {},
     "output_type": "execute_result"
    }
   ],
   "source": [
    "marks"
   ]
  },
  {
   "cell_type": "code",
   "execution_count": 338,
   "metadata": {},
   "outputs": [
    {
     "name": "stdout",
     "output_type": "stream",
     "text": [
      "name: ahsan\n",
      "name: rao\n",
      "name: ali\n",
      "name: x\n"
     ]
    },
    {
     "data": {
      "text/plain": [
       "['ahsan', 'rao', 'ali']"
      ]
     },
     "execution_count": 338,
     "metadata": {},
     "output_type": "execute_result"
    }
   ],
   "source": [
    "name2=[]\n",
    "\n",
    "while True: ##while true means to run the loop infinite times\n",
    "    a=input(\"name: \")\n",
    "    if a != \"x\":\n",
    "        name2.append(a)\n",
    "    else:\n",
    "        break\n",
    "name2        \n",
    "        "
   ]
  },
  {
   "cell_type": "code",
   "execution_count": 339,
   "metadata": {},
   "outputs": [
    {
     "name": "stdout",
     "output_type": "stream",
     "text": [
      "23\n",
      "24\n",
      "5\n",
      "2\n",
      "542\n",
      "4\n",
      "5\n",
      "25\n"
     ]
    }
   ],
   "source": [
    "marks=[23,24,5,2,542,4,5,25]\n",
    "for i in marks:\n",
    "    print(i)\n",
    "    i+=1\n",
    "    "
   ]
  },
  {
   "cell_type": "code",
   "execution_count": 340,
   "metadata": {},
   "outputs": [
    {
     "data": {
      "text/plain": [
       "['__add__',\n",
       " '__class__',\n",
       " '__contains__',\n",
       " '__delattr__',\n",
       " '__delitem__',\n",
       " '__dir__',\n",
       " '__doc__',\n",
       " '__eq__',\n",
       " '__format__',\n",
       " '__ge__',\n",
       " '__getattribute__',\n",
       " '__getitem__',\n",
       " '__gt__',\n",
       " '__hash__',\n",
       " '__iadd__',\n",
       " '__imul__',\n",
       " '__init__',\n",
       " '__init_subclass__',\n",
       " '__iter__',\n",
       " '__le__',\n",
       " '__len__',\n",
       " '__lt__',\n",
       " '__mul__',\n",
       " '__ne__',\n",
       " '__new__',\n",
       " '__reduce__',\n",
       " '__reduce_ex__',\n",
       " '__repr__',\n",
       " '__reversed__',\n",
       " '__rmul__',\n",
       " '__setattr__',\n",
       " '__setitem__',\n",
       " '__sizeof__',\n",
       " '__str__',\n",
       " '__subclasshook__',\n",
       " 'append',\n",
       " 'clear',\n",
       " 'copy',\n",
       " 'count',\n",
       " 'extend',\n",
       " 'index',\n",
       " 'insert',\n",
       " 'pop',\n",
       " 'remove',\n",
       " 'reverse',\n",
       " 'sort']"
      ]
     },
     "execution_count": 340,
     "metadata": {},
     "output_type": "execute_result"
    }
   ],
   "source": [
    "dir(marks)"
   ]
  },
  {
   "cell_type": "code",
   "execution_count": 341,
   "metadata": {},
   "outputs": [
    {
     "data": {
      "text/plain": [
       "list"
      ]
     },
     "execution_count": 341,
     "metadata": {},
     "output_type": "execute_result"
    }
   ],
   "source": [
    "marks.__class__"
   ]
  },
  {
   "cell_type": "code",
   "execution_count": 342,
   "metadata": {},
   "outputs": [
    {
     "name": "stdout",
     "output_type": "stream",
     "text": [
      "[23, 24, 5, 2, 542, 4, 5, 25]\n"
     ]
    }
   ],
   "source": [
    "if 2>3 or 4>1 or 5<3 or 5!=3:\n",
    "    print(marks)\n",
    "elif len(marks) >= len(names):\n",
    "    print(names)\n",
    "else:\n",
    "    print(\"none of the above\")"
   ]
  },
  {
   "cell_type": "code",
   "execution_count": 343,
   "metadata": {},
   "outputs": [
    {
     "name": "stdout",
     "output_type": "stream",
     "text": [
      "23\n",
      "24\n",
      "5\n",
      "2\n",
      "542\n",
      "4\n",
      "5\n",
      "25\n"
     ]
    }
   ],
   "source": [
    "for i in marks:\n",
    "    print(i)"
   ]
  },
  {
   "cell_type": "markdown",
   "metadata": {},
   "source": [
    "# range()\n",
    "# list comprehensive [::] ->slice"
   ]
  },
  {
   "cell_type": "code",
   "execution_count": 346,
   "metadata": {},
   "outputs": [
    {
     "data": {
      "text/plain": [
       "[65,\n",
       " 66,\n",
       " 67,\n",
       " 68,\n",
       " 69,\n",
       " 70,\n",
       " 71,\n",
       " 72,\n",
       " 73,\n",
       " 74,\n",
       " 75,\n",
       " 76,\n",
       " 77,\n",
       " 78,\n",
       " 79,\n",
       " 80,\n",
       " 81,\n",
       " 82,\n",
       " 83,\n",
       " 84,\n",
       " 85,\n",
       " 86,\n",
       " 87,\n",
       " 88,\n",
       " 89,\n",
       " 90]"
      ]
     },
     "execution_count": 346,
     "metadata": {},
     "output_type": "execute_result"
    }
   ],
   "source": [
    "l1=list(range(65,91))\n",
    "l1"
   ]
  },
  {
   "cell_type": "code",
   "execution_count": 347,
   "metadata": {},
   "outputs": [
    {
     "name": "stdout",
     "output_type": "stream",
     "text": [
      "A\n",
      "B\n",
      "C\n",
      "D\n",
      "E\n",
      "F\n",
      "G\n",
      "H\n",
      "I\n",
      "J\n",
      "K\n",
      "L\n",
      "M\n",
      "N\n",
      "O\n",
      "P\n",
      "Q\n",
      "R\n",
      "S\n",
      "T\n",
      "U\n",
      "V\n",
      "W\n",
      "X\n",
      "Y\n",
      "Z\n"
     ]
    }
   ],
   "source": [
    "for e in l1:\n",
    "    print(chr(e))"
   ]
  },
  {
   "cell_type": "code",
   "execution_count": 348,
   "metadata": {},
   "outputs": [
    {
     "data": {
      "text/plain": [
       "[1, 2, 3, 4, 5, 6, 7, 8, 9, 10]"
      ]
     },
     "execution_count": 348,
     "metadata": {},
     "output_type": "execute_result"
    }
   ],
   "source": [
    "#for itteration we can do 2 thing \n",
    "#1st one is using loop eg: for, while\n",
    "#2nd one is using itterative method eg: list()\n",
    "list(range(1,11))"
   ]
  },
  {
   "cell_type": "code",
   "execution_count": 349,
   "metadata": {},
   "outputs": [
    {
     "name": "stdout",
     "output_type": "stream",
     "text": [
      "1\n",
      "2\n",
      "3\n",
      "4\n",
      "5\n",
      "6\n",
      "7\n",
      "8\n",
      "9\n",
      "10\n"
     ]
    }
   ],
   "source": [
    "#for itteration we can do 2 thing \n",
    "#1st one is using loop eg: for, while\n",
    "#2nd one is using itterative method eg: list()\n",
    "for j in range(1,11): \n",
    "    print(j)"
   ]
  },
  {
   "cell_type": "code",
   "execution_count": 350,
   "metadata": {},
   "outputs": [
    {
     "data": {
      "text/plain": [
       "[0, 20, 40, 60, 80, 100]"
      ]
     },
     "execution_count": 350,
     "metadata": {},
     "output_type": "execute_result"
    }
   ],
   "source": [
    "list(range(0,101,20))"
   ]
  },
  {
   "cell_type": "code",
   "execution_count": 2,
   "metadata": {},
   "outputs": [
    {
     "name": "stdout",
     "output_type": "stream",
     "text": [
      "a b c d e f g h i j k l m n o p q r s t u v w x y z  \n",
      "['a', 'b', 'c', 'd', 'e', 'f', 'g', 'h', 'i', 'j', 'k', 'l', 'm', 'n', 'o', 'p', 'q', 'r', 's', 't', 'u', 'v', 'w', 'x', 'y', 'z']\n"
     ]
    }
   ],
   "source": [
    "val=list(map(chr,list(range(97,123))))\n",
    "print(*val, \" \")"
   ]
  },
  {
   "cell_type": "code",
   "execution_count": 352,
   "metadata": {},
   "outputs": [
    {
     "name": "stdout",
     "output_type": "stream",
     "text": [
      "a\n",
      "c\n",
      "e\n",
      "g\n",
      "i\n",
      "k\n"
     ]
    }
   ],
   "source": [
    "for j in range(0,11,2): # range(start, end, difference) \n",
    "    print(val[j])"
   ]
  },
  {
   "cell_type": "code",
   "execution_count": 353,
   "metadata": {},
   "outputs": [
    {
     "name": "stdout",
     "output_type": "stream",
     "text": [
      "length of val is: 26\n",
      "a\n",
      "c\n",
      "e\n",
      "g\n",
      "i\n",
      "k\n",
      "m\n",
      "o\n",
      "q\n",
      "s\n",
      "u\n",
      "w\n",
      "y\n"
     ]
    }
   ],
   "source": [
    "print(\"length of val is: \"+str(len(val)))\n",
    "for j in range(0,len(val),2): # range(start, end, difference) \n",
    "    print(val[j])"
   ]
  },
  {
   "cell_type": "code",
   "execution_count": 354,
   "metadata": {},
   "outputs": [
    {
     "name": "stdout",
     "output_type": "stream",
     "text": [
      "\n",
      "name: ahsan\n",
      "fname: ghaffar\n",
      "age: 23\n",
      "\n",
      "pakistan\n",
      "2\n",
      "4\n",
      "6\n",
      "8\n",
      "10\n",
      "12\n",
      "14\n",
      "16\n",
      "18\n",
      "20\n"
     ]
    }
   ],
   "source": [
    "#format without comprehension\n",
    "name=\"ahsan\"\n",
    "fname=\"ghaffar\"\n",
    "age=23\n",
    "list1=\"\"\"\n",
    "name: {}\n",
    "fname: {}\n",
    "age: {}\n",
    "\"\"\"\n",
    "print(list1.format(name,fname,age))\n",
    "\n",
    "#if else without comprehension\n",
    "a=5\n",
    "if a==5:\n",
    "    print(\"pakistan\")\n",
    "else:\n",
    "    print(\"india\")\n",
    "\n",
    "#for loop without comprehension\n",
    "for x in range(1,11):\n",
    "    print(x*2)"
   ]
  },
  {
   "cell_type": "code",
   "execution_count": 355,
   "metadata": {},
   "outputs": [
    {
     "name": "stdout",
     "output_type": "stream",
     "text": [
      "pakistan\n",
      "[0, 1, 4, 9, 16, 25, 36, 49, 64, 81]\n",
      "[0, 1, 2, 3, 4, 5, 6, 7, 8, 9]\n"
     ]
    },
    {
     "data": {
      "text/plain": [
       "['2 X 1=  2',\n",
       " '2 X 2=  4',\n",
       " '2 X 3=  6',\n",
       " '2 X 4=  8',\n",
       " '2 X 5=  10',\n",
       " '2 X 6=  12',\n",
       " '2 X 7=  14',\n",
       " '2 X 8=  16',\n",
       " '2 X 9=  18',\n",
       " '2 X 10=  20']"
      ]
     },
     "execution_count": 355,
     "metadata": {},
     "output_type": "execute_result"
    }
   ],
   "source": [
    "#list comprehensive \n",
    "#compressing the syntax in 1 line is called comprehensive\n",
    "a=5 \n",
    "print(\"pakistan\") if a==5 else print(\"india\") #if else condition using comprehension\n",
    "\n",
    "print([y**2 for y in range(0,10)]) #for looop using comprehension\n",
    "abc=[x for x in range(0,10)]\n",
    "print(abc)\n",
    "\n",
    "[\"name={}, fname={} , age={}\".format(\"ahsan\", \"ghaffar\", \"23\")] #format using comprehension\n",
    "\n",
    "[\"{} X {}=  {}\".format(2, x, x*2) for x in range(1,11)]\n"
   ]
  },
  {
   "cell_type": "code",
   "execution_count": 356,
   "metadata": {},
   "outputs": [
    {
     "data": {
      "text/plain": [
       "[280, 560, 840]"
      ]
     },
     "execution_count": 356,
     "metadata": {},
     "output_type": "execute_result"
    }
   ],
   "source": [
    "[x for x in range(1,1001) if x%5==0 and x%7==0 and x%40==0]"
   ]
  },
  {
   "cell_type": "code",
   "execution_count": 357,
   "metadata": {},
   "outputs": [
    {
     "name": "stdout",
     "output_type": "stream",
     "text": [
      "[32, 55, 5, 0, 9]\n",
      "[32, 5, 9, 44]\n"
     ]
    }
   ],
   "source": [
    "#SLICING\n",
    "marks=[32, 55, 5, 0, 9, 11, 44, 23]\n",
    "print(marks[0:5])\n",
    "print(marks[0:9:2])"
   ]
  },
  {
   "cell_type": "code",
   "execution_count": 358,
   "metadata": {},
   "outputs": [
    {
     "name": "stdout",
     "output_type": "stream",
     "text": [
      "['A', 'B', 'C', 'D', 'E', 'F', 'G', 'H', 'I', 'J', 'K', 'L', 'M', 'N', 'O', 'P', 'Q', 'R', 'S', 'T', 'U', 'V', 'W', 'X', 'Y', 'Z']\n",
      "['A', 'B', 'C', 'D', 'E', 'F', 'G', 'H', 'I', 'J', 'K', 'L', 'M', 'N', 'O', 'P', 'Q', 'R', 'S', 'T', 'U', 'V', 'W', 'X', 'Y', 'Z']\n",
      "['Z', 'Y', 'X', 'W', 'V', 'U', 'T', 'S', 'R', 'Q', 'P', 'O', 'N', 'M', 'L', 'K', 'J', 'I', 'H', 'G', 'F', 'E', 'D', 'C', 'B', 'A']\n",
      "['A', 'C', 'E', 'G', 'I', 'K', 'M', 'O', 'Q', 'S', 'U', 'W', 'Y']\n",
      "['V', 'W', 'X', 'Y', 'Z']\n",
      "['G', 'F', 'E', 'D', 'C', 'B', 'A']\n",
      "['M', 'N']\n",
      "[]\n",
      "['V', 'U']\n"
     ]
    }
   ],
   "source": [
    "marks=list(map(chr,list(range(65,91))))\n",
    "print(marks)\n",
    "#print(marks[0::])\n",
    "#print(marks[:])\n",
    "#print(marks[::])\n",
    "print(marks[-26::])\n",
    "print(marks[::-1])\n",
    "print(marks[::2])\n",
    "print(marks[-5:])\n",
    "print(marks[-20::-1])\n",
    "print(marks[-14:-12])\n",
    "print(marks[-5:-7:])\n",
    "print(marks[-5:-7:-1])"
   ]
  },
  {
   "cell_type": "markdown",
   "metadata": {},
   "source": [
    "# DICTIONARY"
   ]
  },
  {
   "cell_type": "code",
   "execution_count": 359,
   "metadata": {},
   "outputs": [
    {
     "name": "stdout",
     "output_type": "stream",
     "text": [
      "{'fname': 'ahsan', 'lastname': 'Elliott', 'address': '4803 Wellesley St.'}\n"
     ]
    }
   ],
   "source": [
    "##DICTIONARY\n",
    "customer= {\"fname\": \"David\", \"lastname\": \"Elliott\", \"address\": \"4803 Wellesley St.\"}\n",
    "customer[\"fname\"]=\"ahsan\"\n",
    "print(customer)"
   ]
  },
  {
   "cell_type": "code",
   "execution_count": 360,
   "metadata": {},
   "outputs": [
    {
     "ename": "TypeError",
     "evalue": "unhashable type: 'list'",
     "output_type": "error",
     "traceback": [
      "\u001b[1;31m---------------------------------------------------------------------------\u001b[0m",
      "\u001b[1;31mTypeError\u001b[0m                                 Traceback (most recent call last)",
      "\u001b[1;32m<ipython-input-360-ff46015de6ae>\u001b[0m in \u001b[0;36m<module>\u001b[1;34m\u001b[0m\n\u001b[0;32m      1\u001b[0m \u001b[1;31m##DICTIONARY\u001b[0m\u001b[1;33m\u001b[0m\u001b[1;33m\u001b[0m\u001b[1;33m\u001b[0m\u001b[0m\n\u001b[1;32m----> 2\u001b[1;33m \u001b[0mcustomer\u001b[0m\u001b[1;33m=\u001b[0m \u001b[1;33m{\u001b[0m\u001b[1;34m\"fname\"\u001b[0m\u001b[1;33m:\u001b[0m \u001b[1;34m\"David\"\u001b[0m\u001b[1;33m,\u001b[0m \u001b[1;34m\"lastname\"\u001b[0m\u001b[1;33m:\u001b[0m \u001b[1;34m\"Elliott\"\u001b[0m\u001b[1;33m,\u001b[0m \u001b[1;33m[\u001b[0m\u001b[1;34m\"address\"\u001b[0m\u001b[1;33m]\u001b[0m\u001b[1;33m:\u001b[0m \u001b[1;34m\"4803 Wellesley St.\"\u001b[0m\u001b[1;33m,\u001b[0m \u001b[1;36m0\u001b[0m\u001b[1;33m:\u001b[0m\u001b[1;34m\"PAkistan\"\u001b[0m\u001b[1;33m}\u001b[0m\u001b[1;33m\u001b[0m\u001b[1;33m\u001b[0m\u001b[0m\n\u001b[0m\u001b[0;32m      3\u001b[0m \u001b[1;31m#here \"address\" key list is not hashable thats why it couldn't use in dictionary\u001b[0m\u001b[1;33m\u001b[0m\u001b[1;33m\u001b[0m\u001b[1;33m\u001b[0m\u001b[0m\n\u001b[0;32m      4\u001b[0m \u001b[0mcustomer\u001b[0m\u001b[1;33m[\u001b[0m\u001b[1;34m\"fname\"\u001b[0m\u001b[1;33m]\u001b[0m\u001b[1;33m=\u001b[0m\u001b[1;34m\"ahsan\"\u001b[0m\u001b[1;33m\u001b[0m\u001b[1;33m\u001b[0m\u001b[0m\n\u001b[0;32m      5\u001b[0m \u001b[0mprint\u001b[0m\u001b[1;33m(\u001b[0m\u001b[0mcustomer\u001b[0m\u001b[1;33m)\u001b[0m\u001b[1;33m\u001b[0m\u001b[1;33m\u001b[0m\u001b[0m\n",
      "\u001b[1;31mTypeError\u001b[0m: unhashable type: 'list'"
     ]
    }
   ],
   "source": [
    "##DICTIONARY\n",
    "customer= {\"fname\": \"David\", \"lastname\": \"Elliott\", [\"address\"]: \"4803 Wellesley St.\", 0:\"PAkistan\"}\n",
    "#here \"address\" key list is not hashable thats why it couldn't use in dictionary\n",
    "customer[\"fname\"]=\"ahsan\"\n",
    "print(customer)\n",
    "print(customer[0])"
   ]
  },
  {
   "cell_type": "code",
   "execution_count": 361,
   "metadata": {},
   "outputs": [
    {
     "name": "stdout",
     "output_type": "stream",
     "text": [
      "{'fname': 'ahsan', 'lastname': 'Elliott', 'address': '4803 Wellesley St.', 0: 'PAkistan'}\n",
      "PAkistan\n",
      "dict_keys(['fname', 'lastname', 'address', 0])\n"
     ]
    }
   ],
   "source": [
    "##DICTIONARY\n",
    "customer= {\"fname\": \"David\", \"lastname\": \"Elliott\", (\"address\"): \"4803 Wellesley St.\", 0:\"PAkistan\"} \n",
    "#here \"address\" tuple is hashable thats why it could use in dictionary\n",
    "customer[\"fname\"]=\"ahsan\"\n",
    "print(customer)\n",
    "print(customer[0])\n",
    "print(customer.keys())"
   ]
  },
  {
   "cell_type": "code",
   "execution_count": 362,
   "metadata": {},
   "outputs": [
    {
     "data": {
      "text/plain": [
       "['12', 23, 'abc']"
      ]
     },
     "execution_count": 362,
     "metadata": {},
     "output_type": "execute_result"
    }
   ],
   "source": [
    "customer= {\"fname\": \"ahsan\", \"lname\": \"ghaffar\", \"address\": \"4321\", 'abc': [\"12\", 23, \"abc\"]} \n",
    "\n",
    "customer['abc']"
   ]
  },
  {
   "cell_type": "code",
   "execution_count": 363,
   "metadata": {},
   "outputs": [
    {
     "data": {
      "text/plain": [
       "23"
      ]
     },
     "execution_count": 363,
     "metadata": {},
     "output_type": "execute_result"
    }
   ],
   "source": [
    "customer[\"abc\"][1]"
   ]
  },
  {
   "cell_type": "markdown",
   "metadata": {},
   "source": [
    "# FUNCTIONS\n",
    "### Refer to ch_46"
   ]
  },
  {
   "cell_type": "code",
   "execution_count": 364,
   "metadata": {},
   "outputs": [
    {
     "name": "stdout",
     "output_type": "stream",
     "text": [
      "name=ahsan\n",
      "fname=rao\n",
      "ID=123\n"
     ]
    }
   ],
   "source": [
    "def abc(name, fname, id1):\n",
    "    print(\"name=\"+name+\"\\nfname=\"+fname+\"\\nID=\"+str(id1))\n",
    "\n",
    "abc(\"ahsan\",\"rao\", 123)\n",
    "    "
   ]
  },
  {
   "cell_type": "code",
   "execution_count": 365,
   "metadata": {},
   "outputs": [
    {
     "name": "stdout",
     "output_type": "stream",
     "text": [
      "\n",
      "    name= ahsan\n",
      "    fname= ghaffar\n",
      "    rollNo= 1234\n",
      "    course= math\n",
      "    \n"
     ]
    }
   ],
   "source": [
    "def student(name,fname,rollNo,course):\n",
    "    data=\"\"\"\n",
    "    name= {}\n",
    "    fname= {}\n",
    "    rollNo= {}\n",
    "    course= {}\n",
    "    \"\"\".format(name,fname,rollNo,course)\n",
    "    \n",
    "    return data\n",
    "\n",
    "print(student(\"ahsan\",\"ghaffar\",1234,\"math\"))\n"
   ]
  },
  {
   "cell_type": "code",
   "execution_count": 366,
   "metadata": {},
   "outputs": [
    {
     "name": "stdout",
     "output_type": "stream",
     "text": [
      "15\n",
      "38\n",
      "11\n",
      "5\n"
     ]
    }
   ],
   "source": [
    "def abc1(*val): #inifinite parameters for list in other words we can say infinite variables\n",
    "    return sum(val)\n",
    "\n",
    "print(abc1(1,2,3,4,5))\n",
    "print(abc1(1,2,35))\n",
    "print(abc1(1,2,3,5))\n",
    "print(abc1(5))\n"
   ]
  },
  {
   "cell_type": "code",
   "execution_count": 367,
   "metadata": {},
   "outputs": [
    {
     "name": "stdout",
     "output_type": "stream",
     "text": [
      "{'name': 'ahsan'}\n",
      "{'a': 'b', 'c': 'd'}\n",
      "{'a': 'b', 'c': 'd', 'b': 'b', 'd': 'd'}\n"
     ]
    }
   ],
   "source": [
    "def abc2(**d): #infinite parameters for dictionary\n",
    "    return d\n",
    "\n",
    "print(abc2(name=\"ahsan\"))\n",
    "print(abc2(a=\"b\",c=\"d\"))\n",
    "print(abc2(a=\"b\",c=\"d\",b=\"b\",d=\"d\"))"
   ]
  },
  {
   "cell_type": "code",
   "execution_count": 368,
   "metadata": {},
   "outputs": [
    {
     "name": "stdout",
     "output_type": "stream",
     "text": [
      "0\n",
      "1\n",
      "3\n",
      "6\n"
     ]
    }
   ],
   "source": [
    "def add(a=0, b=0, c=0): #it means we set pre default value for a,b,c in case when we not pass argument of any variable\n",
    "    return a+b+c\n",
    "\n",
    "print(add())\n",
    "print(add(1))\n",
    "print(add(1,2))\n",
    "print(add(1,2,3))"
   ]
  },
  {
   "cell_type": "code",
   "execution_count": 369,
   "metadata": {},
   "outputs": [
    {
     "name": "stdout",
     "output_type": "stream",
     "text": [
      "name=ahsan\n",
      "fname=ghaffar\n",
      "ID=444\n"
     ]
    }
   ],
   "source": [
    "l3=[\"ahsan\",\"ghaffar\",444]\n",
    "\n",
    "abc(l3[0],l3[1],l3[2])"
   ]
  },
  {
   "cell_type": "code",
   "execution_count": 370,
   "metadata": {},
   "outputs": [
    {
     "name": "stdout",
     "output_type": "stream",
     "text": [
      "name=ahsan\n",
      "fname=ghaffar\n",
      "ID=444\n"
     ]
    }
   ],
   "source": [
    "abc(*l3)"
   ]
  },
  {
   "cell_type": "code",
   "execution_count": 371,
   "metadata": {},
   "outputs": [
    {
     "name": "stdout",
     "output_type": "stream",
     "text": [
      "name=ahsan\n",
      "fname=ghaffar\n",
      "ID=54321\n"
     ]
    }
   ],
   "source": [
    "abc(id1=54321,name=\"ahsan\",fname=\"ghaffar\")"
   ]
  },
  {
   "cell_type": "code",
   "execution_count": 372,
   "metadata": {},
   "outputs": [
    {
     "name": "stdout",
     "output_type": "stream",
     "text": [
      "name=David\n",
      "fname=Elliott\n",
      "ID=4803\n"
     ]
    }
   ],
   "source": [
    "customer= {\"name\": \"David\", \"fname\": \"Elliott\", \"id1\": 4803}\n",
    "\n",
    "abc(**customer)"
   ]
  },
  {
   "cell_type": "markdown",
   "metadata": {},
   "source": [
    "# dictionary \n",
    "\n",
    "### .copy\n",
    "### dict.fromkeys( list ) -> convert list into dictionary\n",
    "### .get( key ) -> to prevent from errors in case of wrong key input\n",
    "### keys -> return keys of dictionary\n",
    "### .values -> return values of dictionary\n",
    "### .items -> convert dict into tuple inside list [('name', 'David'), ('fname', 'Elliott'), ('id1', 4803)]\n",
    "### dict1.update( dict2 ) -> dict1 me dict2 ki values+keys insert krdega or jo keys same hongi unki values dict2 ki dal dega\n",
    "### .pop( key ) -> returns value \n",
    "### .popitem ( )  -> return value+ key\n",
    "### setdefault  -> insert default key+value"
   ]
  },
  {
   "cell_type": "code",
   "execution_count": 373,
   "metadata": {},
   "outputs": [
    {
     "name": "stdout",
     "output_type": "stream",
     "text": [
      "shallow copy\n",
      "2370302385104\n",
      "2370302385104\n",
      "\n",
      "deep copy\n",
      "2370302385104\n",
      "2370302290032\n"
     ]
    }
   ],
   "source": [
    "##deep opy: when 2 objects are same but their address are diffrent\n",
    "##shallow copy: when 2 objects are same and their addresses are also same\n",
    "customer1=customer #shallow copy\n",
    "customer2=customer.copy() #deep copy\n",
    "\n",
    "print(\"shallow copy\")\n",
    "print(id(customer))\n",
    "print(id(customer1))\n",
    "\n",
    "print(\"\\ndeep copy\")\n",
    "print(id(customer))\n",
    "print(id(customer2))"
   ]
  },
  {
   "cell_type": "code",
   "execution_count": 374,
   "metadata": {},
   "outputs": [
    {
     "data": {
      "text/plain": [
       "{'name': None, 'fname': None, 'id': None}"
      ]
     },
     "execution_count": 374,
     "metadata": {},
     "output_type": "execute_result"
    }
   ],
   "source": [
    "#how to convert list items into dictionary keys\n",
    "l4=[\"name\",\"fname\",\"id\"]\n",
    "dic1=dict.fromkeys(l4)\n",
    "\n",
    "dic1"
   ]
  },
  {
   "cell_type": "code",
   "execution_count": 375,
   "metadata": {},
   "outputs": [
    {
     "data": {
      "text/plain": [
       "{'name': 'ahsan', 'fname': None, 'id': None}"
      ]
     },
     "execution_count": 375,
     "metadata": {},
     "output_type": "execute_result"
    }
   ],
   "source": [
    "dic1[\"name\"]=\"ahsan\"\n",
    "\n",
    "dic1"
   ]
  },
  {
   "cell_type": "code",
   "execution_count": 376,
   "metadata": {},
   "outputs": [
    {
     "data": {
      "text/plain": [
       "{'name': 'abc', 'fname': 'abc', 'id': 'abc'}"
      ]
     },
     "execution_count": 376,
     "metadata": {},
     "output_type": "execute_result"
    }
   ],
   "source": [
    "dic1=dict.fromkeys(l4,\"abc\")\n",
    "dic1"
   ]
  },
  {
   "cell_type": "code",
   "execution_count": 377,
   "metadata": {},
   "outputs": [
    {
     "data": {
      "text/plain": [
       "dict_keys(['name', 'fname', 'id'])"
      ]
     },
     "execution_count": 377,
     "metadata": {},
     "output_type": "execute_result"
    }
   ],
   "source": [
    "#how to convert dictionary keys into ist items\n",
    "l3=dic1.keys()\n",
    "l3"
   ]
  },
  {
   "cell_type": "code",
   "execution_count": 378,
   "metadata": {},
   "outputs": [
    {
     "ename": "KeyError",
     "evalue": "'course'",
     "output_type": "error",
     "traceback": [
      "\u001b[1;31m---------------------------------------------------------------------------\u001b[0m",
      "\u001b[1;31mKeyError\u001b[0m                                  Traceback (most recent call last)",
      "\u001b[1;32m<ipython-input-378-5cfef451c43c>\u001b[0m in \u001b[0;36m<module>\u001b[1;34m\u001b[0m\n\u001b[0;32m      1\u001b[0m \u001b[1;31m### direct calling of element\u001b[0m\u001b[1;33m\u001b[0m\u001b[1;33m\u001b[0m\u001b[1;33m\u001b[0m\u001b[0m\n\u001b[1;32m----> 2\u001b[1;33m \u001b[0mdic1\u001b[0m\u001b[1;33m[\u001b[0m\u001b[1;34m\"course\"\u001b[0m\u001b[1;33m]\u001b[0m\u001b[1;33m\u001b[0m\u001b[1;33m\u001b[0m\u001b[0m\n\u001b[0m",
      "\u001b[1;31mKeyError\u001b[0m: 'course'"
     ]
    }
   ],
   "source": [
    "### direct calling of element \n",
    "dic1[\"course\"]"
   ]
  },
  {
   "cell_type": "code",
   "execution_count": 379,
   "metadata": {},
   "outputs": [],
   "source": [
    "##calling of element using get method\n",
    "dic1.get(\"course\")"
   ]
  },
  {
   "cell_type": "code",
   "execution_count": 380,
   "metadata": {},
   "outputs": [
    {
     "data": {
      "text/plain": [
       "'invalid key'"
      ]
     },
     "execution_count": 380,
     "metadata": {},
     "output_type": "execute_result"
    }
   ],
   "source": [
    "##or \n",
    "dic1.get(\"course\", \"invalid key\")"
   ]
  },
  {
   "cell_type": "code",
   "execution_count": 381,
   "metadata": {},
   "outputs": [
    {
     "data": {
      "text/plain": [
       "'abc'"
      ]
     },
     "execution_count": 381,
     "metadata": {},
     "output_type": "execute_result"
    }
   ],
   "source": [
    "dic1.get(\"name\", \"invalid key\")"
   ]
  },
  {
   "cell_type": "code",
   "execution_count": 382,
   "metadata": {},
   "outputs": [
    {
     "name": "stdout",
     "output_type": "stream",
     "text": [
      "dict_keys(['name', 'fname', 'id'])\n",
      "False\n"
     ]
    }
   ],
   "source": [
    "print(l3)\n",
    "for j in l3:\n",
    "    if j==\"pakistan\":\n",
    "        print(True)\n",
    "        break\n",
    "    else:\n",
    "        print(False) \n",
    "        break"
   ]
  },
  {
   "cell_type": "code",
   "execution_count": 383,
   "metadata": {},
   "outputs": [
    {
     "data": {
      "text/plain": [
       "False"
      ]
     },
     "execution_count": 383,
     "metadata": {},
     "output_type": "execute_result"
    }
   ],
   "source": [
    "##simply we can do\n",
    "\"ahsan\" in l3"
   ]
  },
  {
   "cell_type": "code",
   "execution_count": 384,
   "metadata": {},
   "outputs": [
    {
     "data": {
      "text/plain": [
       "True"
      ]
     },
     "execution_count": 384,
     "metadata": {},
     "output_type": "execute_result"
    }
   ],
   "source": [
    "\"name\" in l3"
   ]
  },
  {
   "cell_type": "markdown",
   "metadata": {},
   "source": [
    "## keys, values, items using for loop"
   ]
  },
  {
   "cell_type": "code",
   "execution_count": 25,
   "metadata": {},
   "outputs": [
    {
     "data": {
      "text/plain": [
       "dict_keys(['name', 'fname', 'id1'])"
      ]
     },
     "execution_count": 25,
     "metadata": {},
     "output_type": "execute_result"
    }
   ],
   "source": [
    "customer= {\"name\": \"David\", \"fname\": \"Elliott\", \"id1\": 4803}\n",
    "customer.keys()"
   ]
  },
  {
   "cell_type": "code",
   "execution_count": 26,
   "metadata": {},
   "outputs": [
    {
     "data": {
      "text/plain": [
       "dict_values(['David', 'Elliott', 4803])"
      ]
     },
     "execution_count": 26,
     "metadata": {},
     "output_type": "execute_result"
    }
   ],
   "source": [
    "customer.values()"
   ]
  },
  {
   "cell_type": "code",
   "execution_count": 27,
   "metadata": {},
   "outputs": [
    {
     "data": {
      "text/plain": [
       "dict_items([('name', 'David'), ('fname', 'Elliott'), ('id1', 4803)])"
      ]
     },
     "execution_count": 27,
     "metadata": {},
     "output_type": "execute_result"
    }
   ],
   "source": [
    "customer.items()"
   ]
  },
  {
   "cell_type": "code",
   "execution_count": 35,
   "metadata": {},
   "outputs": [
    {
     "name": "stdout",
     "output_type": "stream",
     "text": [
      "David\n",
      "Elliott\n",
      "4803\n",
      "*\n",
      "name\n",
      "fname\n",
      "id1\n",
      "*\n",
      "David\n",
      "Elliott\n",
      "4803\n"
     ]
    }
   ],
   "source": [
    "for key in customer.keys(): #OR we can write customer only instead of customer.keys()\n",
    "    print(customer[key])\n",
    "print(\"*\")    \n",
    "for key in customer.keys(): #OR we can write customer only instead of customer.keys()\n",
    "    print(key)  \n",
    "print(\"*\")    \n",
    "for val in customer.values(): \n",
    "    print(val)"
   ]
  },
  {
   "cell_type": "code",
   "execution_count": 388,
   "metadata": {},
   "outputs": [
    {
     "data": {
      "text/plain": [
       "{0: 'a', 3: 'd', 1: 'b', 2: 'c'}"
      ]
     },
     "execution_count": 388,
     "metadata": {},
     "output_type": "execute_result"
    }
   ],
   "source": [
    "dic={0:'a',\n",
    "     3:'d',\n",
    "     1:'b',\n",
    "     2:'c',}\n",
    "dic"
   ]
  },
  {
   "cell_type": "code",
   "execution_count": 389,
   "metadata": {},
   "outputs": [
    {
     "ename": "AttributeError",
     "evalue": "'dict' object has no attribute 'sort'",
     "output_type": "error",
     "traceback": [
      "\u001b[1;31m---------------------------------------------------------------------------\u001b[0m",
      "\u001b[1;31mAttributeError\u001b[0m                            Traceback (most recent call last)",
      "\u001b[1;32m<ipython-input-389-34e3017b8e18>\u001b[0m in \u001b[0;36m<module>\u001b[1;34m\u001b[0m\n\u001b[1;32m----> 1\u001b[1;33m \u001b[0mdic\u001b[0m\u001b[1;33m.\u001b[0m\u001b[0msort\u001b[0m\u001b[1;33m(\u001b[0m\u001b[1;33m)\u001b[0m\u001b[1;33m\u001b[0m\u001b[1;33m\u001b[0m\u001b[0m\n\u001b[0m",
      "\u001b[1;31mAttributeError\u001b[0m: 'dict' object has no attribute 'sort'"
     ]
    }
   ],
   "source": [
    "dic.sort()"
   ]
  },
  {
   "cell_type": "code",
   "execution_count": 390,
   "metadata": {},
   "outputs": [
    {
     "data": {
      "text/plain": [
       "[0, 1, 2, 3]"
      ]
     },
     "execution_count": 390,
     "metadata": {},
     "output_type": "execute_result"
    }
   ],
   "source": [
    "sorted(dic)"
   ]
  },
  {
   "cell_type": "code",
   "execution_count": 391,
   "metadata": {},
   "outputs": [
    {
     "data": {
      "text/plain": [
       "[0, 1, 2, 3]"
      ]
     },
     "execution_count": 391,
     "metadata": {},
     "output_type": "execute_result"
    }
   ],
   "source": [
    "sorted(dic.keys())"
   ]
  },
  {
   "cell_type": "code",
   "execution_count": 392,
   "metadata": {},
   "outputs": [
    {
     "name": "stdout",
     "output_type": "stream",
     "text": [
      "name\n",
      "fname\n",
      "id1\n"
     ]
    }
   ],
   "source": [
    "for e in customer:\n",
    "    print(e)"
   ]
  },
  {
   "cell_type": "code",
   "execution_count": 393,
   "metadata": {},
   "outputs": [
    {
     "name": "stdout",
     "output_type": "stream",
     "text": [
      "name\n",
      "fname\n",
      "id1\n"
     ]
    }
   ],
   "source": [
    "for e in customer.keys():\n",
    "    print(e)"
   ]
  },
  {
   "cell_type": "code",
   "execution_count": 394,
   "metadata": {},
   "outputs": [
    {
     "name": "stdout",
     "output_type": "stream",
     "text": [
      "David\n",
      "Elliott\n",
      "4803\n"
     ]
    }
   ],
   "source": [
    "for e in customer.values():\n",
    "    print(e)"
   ]
  },
  {
   "cell_type": "code",
   "execution_count": 395,
   "metadata": {},
   "outputs": [
    {
     "name": "stdout",
     "output_type": "stream",
     "text": [
      "keys= name\tvalues= David\n",
      "\n",
      "keys= fname\tvalues= Elliott\n",
      "\n",
      "keys= id1\tvalues= 4803\n",
      "\n"
     ]
    }
   ],
   "source": [
    "for k,v in customer.items():\n",
    "    print(\"keys= \"+str(k)+\"\\tvalues= \"+str(v)+\"\\n\")"
   ]
  },
  {
   "cell_type": "code",
   "execution_count": 9,
   "metadata": {},
   "outputs": [
    {
     "name": "stdout",
     "output_type": "stream",
     "text": [
      "{'fname': 'ahsan', 'lname': 'ghaffar', 'id1': '4321', 'abc': ['12', 23, 'abc']}\n",
      "{'fname': 'ahsan', 'lname': 'ghaffar', 'id1': '4321', 'abc': ['12', 23, 'abc']}\n"
     ]
    }
   ],
   "source": [
    "customer= {\"fname\": \"ahsan\", \"lname\": \"ghaffar\", \"id1\": \"4321\", 'abc': [\"12\", 23, \"abc\"]} \n",
    "customerd=customer\n",
    "print(customerd)\n",
    "print(customer)"
   ]
  },
  {
   "cell_type": "code",
   "execution_count": 10,
   "metadata": {},
   "outputs": [
    {
     "data": {
      "text/plain": [
       "'4321'"
      ]
     },
     "execution_count": 10,
     "metadata": {},
     "output_type": "execute_result"
    }
   ],
   "source": [
    "customerd.pop(\"id1\")"
   ]
  },
  {
   "cell_type": "code",
   "execution_count": 16,
   "metadata": {},
   "outputs": [
    {
     "data": {
      "text/plain": [
       "{'fname': 'ahsan', 'lname': 'ghaffar', 'abc': ['12', 23, 'abc'], 0: 'pakistan'}"
      ]
     },
     "execution_count": 16,
     "metadata": {},
     "output_type": "execute_result"
    }
   ],
   "source": [
    "#insert value in dictionary\n",
    "customerd[0]=\"pakistan\"\n",
    "customerd"
   ]
  },
  {
   "cell_type": "code",
   "execution_count": 17,
   "metadata": {},
   "outputs": [
    {
     "data": {
      "text/plain": [
       "(0, 'pakistan')"
      ]
     },
     "execution_count": 17,
     "metadata": {},
     "output_type": "execute_result"
    }
   ],
   "source": [
    "customerd.popitem()"
   ]
  },
  {
   "cell_type": "code",
   "execution_count": 400,
   "metadata": {},
   "outputs": [
    {
     "data": {
      "text/plain": [
       "'default value'"
      ]
     },
     "execution_count": 400,
     "metadata": {},
     "output_type": "execute_result"
    }
   ],
   "source": [
    "customerd.setdefault('def key',\"default value\")"
   ]
  },
  {
   "cell_type": "code",
   "execution_count": 401,
   "metadata": {},
   "outputs": [
    {
     "data": {
      "text/plain": [
       "{'fname': 'ahsan',\n",
       " 'lname': 'ghaffar',\n",
       " 'abc': ['12', 23, 'abc'],\n",
       " 'def key': 'default value'}"
      ]
     },
     "execution_count": 401,
     "metadata": {},
     "output_type": "execute_result"
    }
   ],
   "source": [
    "customerd"
   ]
  },
  {
   "cell_type": "code",
   "execution_count": 402,
   "metadata": {},
   "outputs": [],
   "source": [
    "#how to update dict\n",
    "new_dic={\"fname\": \"update fname\", \"lname\": \"update lname\",\"new items\":\"123\"}"
   ]
  },
  {
   "cell_type": "code",
   "execution_count": 403,
   "metadata": {},
   "outputs": [
    {
     "data": {
      "text/plain": [
       "{'fname': 'update fname',\n",
       " 'lname': 'update lname',\n",
       " 'abc': ['12', 23, 'abc'],\n",
       " 'def key': 'default value',\n",
       " 'new items': '123'}"
      ]
     },
     "execution_count": 403,
     "metadata": {},
     "output_type": "execute_result"
    }
   ],
   "source": [
    "customerd.update(new_dic)\n",
    "customerd"
   ]
  },
  {
   "cell_type": "code",
   "execution_count": 404,
   "metadata": {},
   "outputs": [
    {
     "data": {
      "text/plain": [
       "{1, 2, 3, 4}"
      ]
     },
     "execution_count": 404,
     "metadata": {},
     "output_type": "execute_result"
    }
   ],
   "source": [
    "#set\n",
    "{1,2,3,4,1,2,4}"
   ]
  },
  {
   "cell_type": "code",
   "execution_count": 19,
   "metadata": {},
   "outputs": [],
   "source": [
    "dic1={}"
   ]
  },
  {
   "cell_type": "code",
   "execution_count": 24,
   "metadata": {},
   "outputs": [
    {
     "data": {
      "text/plain": [
       "{'name': 'ahsan', 1: 'new'}"
      ]
     },
     "execution_count": 24,
     "metadata": {},
     "output_type": "execute_result"
    }
   ],
   "source": [
    "dic1[\"name\"]=\"ahsan\"\n",
    "dic1[1]=\"new\"\n",
    "dic1"
   ]
  },
  {
   "cell_type": "code",
   "execution_count": 408,
   "metadata": {},
   "outputs": [
    {
     "name": "stdout",
     "output_type": "stream",
     "text": [
      "name: ahsan\n",
      "fname: rao\n",
      "name: ali\n",
      "fname: raza\n",
      "name: x\n",
      "fname: x\n"
     ]
    }
   ],
   "source": [
    "db=[]\n",
    "\n",
    "while True: ##while true means to run the loop infinite times\n",
    "    name=input(\"name: \")\n",
    "    fname=input(\"fname: \")\n",
    "    r={}\n",
    "    if name != \"x\" or fname != \"x\":\n",
    "        r[\"name\"]=name\n",
    "        r[\"fname\"]=fname\n",
    "        db.append(r)\n",
    "    else:\n",
    "        break\n",
    "        db    "
   ]
  },
  {
   "cell_type": "code",
   "execution_count": 409,
   "metadata": {},
   "outputs": [
    {
     "data": {
      "text/plain": [
       "[{'name': 'ahsan', 'fname': 'rao'}, {'name': 'ali', 'fname': 'raza'}]"
      ]
     },
     "execution_count": 409,
     "metadata": {},
     "output_type": "execute_result"
    }
   ],
   "source": [
    "db #dictionary inside list"
   ]
  },
  {
   "cell_type": "code",
   "execution_count": 410,
   "metadata": {},
   "outputs": [
    {
     "data": {
      "text/plain": [
       "'ahsan'"
      ]
     },
     "execution_count": 410,
     "metadata": {},
     "output_type": "execute_result"
    }
   ],
   "source": [
    "db[0]['name'] #access dictionary values inside list"
   ]
  }
 ],
 "metadata": {
  "kernelspec": {
   "display_name": "Python 3",
   "language": "python",
   "name": "python3"
  },
  "language_info": {
   "codemirror_mode": {
    "name": "ipython",
    "version": 3
   },
   "file_extension": ".py",
   "mimetype": "text/x-python",
   "name": "python",
   "nbconvert_exporter": "python",
   "pygments_lexer": "ipython3",
   "version": "3.7.3"
  }
 },
 "nbformat": 4,
 "nbformat_minor": 2
}
