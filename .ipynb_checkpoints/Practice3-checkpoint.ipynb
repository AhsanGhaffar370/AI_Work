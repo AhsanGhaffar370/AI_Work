{
 "cells": [
  {
   "cell_type": "markdown",
   "metadata": {},
   "source": [
    "# ARRAYS\n",
    "# Numpy\n",
    "# Iterators\n",
    "# generators\n",
    "# decorators\n",
    "# JSON-->javascript object notation"
   ]
  },
  {
   "cell_type": "markdown",
   "metadata": {},
   "source": [
    "# # ARRAYS"
   ]
  },
  {
   "cell_type": "code",
   "execution_count": 3,
   "metadata": {},
   "outputs": [],
   "source": [
    "import PyQt5"
   ]
  },
  {
   "cell_type": "code",
   "execution_count": 4,
   "metadata": {},
   "outputs": [],
   "source": [
    "from PyQt5 import QtCore, QtGui, QtWidgets"
   ]
  },
  {
   "cell_type": "code",
   "execution_count": 1,
   "metadata": {},
   "outputs": [],
   "source": [
    "import array"
   ]
  },
  {
   "cell_type": "code",
   "execution_count": 2,
   "metadata": {},
   "outputs": [],
   "source": [
    "#  i=int\n",
    "#  f=float\n",
    "#  d=double\n",
    "#  l=long\n",
    "#  b=char\n",
    "#  i=int\n",
    "vals=array.array(\"i\",[1,2,34,1,2,4,3])"
   ]
  },
  {
   "cell_type": "code",
   "execution_count": 3,
   "metadata": {},
   "outputs": [
    {
     "name": "stdout",
     "output_type": "stream",
     "text": [
      "array('i', [1, 2, 34, 1, 2, 4, 3])\n",
      "(2877143712400, 7)\n",
      "1\n",
      "2\n",
      "34\n",
      "1\n",
      "2\n",
      "4\n",
      "3\n",
      "\n",
      "\n",
      "\n",
      "1\n",
      "4\n",
      "1156\n",
      "1\n",
      "4\n",
      "16\n",
      "9\n"
     ]
    }
   ],
   "source": [
    "print(vals)\n",
    "print(vals.buffer_info())   ###(1541182283984, 7) --> (Address, size)\n",
    "\n",
    "#copy elements of old array\n",
    "\n",
    "new_arr=array.array(vals.typecode,(a for a in vals)) ###(could_done_any_thing_with_a for a in vals)\n",
    "\n",
    "new2=array.array(vals.typecode,(a*a for a in vals))\n",
    "\n",
    "for i in new_arr:\n",
    "    print(i)\n",
    "print(\"\\n\\n\")\n",
    "for i in new2:\n",
    "    print(i)"
   ]
  },
  {
   "cell_type": "code",
   "execution_count": 4,
   "metadata": {},
   "outputs": [
    {
     "name": "stdout",
     "output_type": "stream",
     "text": [
      "enter element: 3\n",
      "enter element: 4\n",
      "enter element: 2\n",
      "enter element: 1\n",
      "array('f', [3.0, 4.0, 2.0, 1.0])\n"
     ]
    }
   ],
   "source": [
    "val2=array.array(\"f\",[])\n",
    "num=4 ##user input\n",
    "for i in range(num):\n",
    "    inp=float(input(\"enter element: \"))\n",
    "    val2.append(inp)\n",
    "\n",
    "print(val2)"
   ]
  },
  {
   "cell_type": "code",
   "execution_count": 5,
   "metadata": {},
   "outputs": [],
   "source": [
    "vals.append(0)\n",
    "vals.insert(0,122)"
   ]
  },
  {
   "cell_type": "code",
   "execution_count": 6,
   "metadata": {},
   "outputs": [
    {
     "data": {
      "text/plain": [
       "array('i', [122, 1, 2, 34, 1, 2, 4, 3, 0])"
      ]
     },
     "execution_count": 6,
     "metadata": {},
     "output_type": "execute_result"
    }
   ],
   "source": [
    "vals"
   ]
  },
  {
   "cell_type": "code",
   "execution_count": 7,
   "metadata": {},
   "outputs": [
    {
     "data": {
      "text/plain": [
       "array('i', [1, 2, 34, 1, 2, 4, 3, 0])"
      ]
     },
     "execution_count": 7,
     "metadata": {},
     "output_type": "execute_result"
    }
   ],
   "source": [
    "vals.pop(0)\n",
    "vals"
   ]
  },
  {
   "cell_type": "code",
   "execution_count": 8,
   "metadata": {},
   "outputs": [
    {
     "data": {
      "text/plain": [
       "array('i', [0, 3, 4, 2, 1, 34, 2, 1])"
      ]
     },
     "execution_count": 8,
     "metadata": {},
     "output_type": "execute_result"
    }
   ],
   "source": [
    "vals.reverse()\n",
    "vals"
   ]
  },
  {
   "cell_type": "markdown",
   "metadata": {},
   "source": [
    "# # NUMPY\n",
    "\n",
    "### numpy.array([],DT)\n",
    "### numpy.arange(start,end,steps)\n",
    "### numpy.linspace(start,end,num of elements)\n",
    "### numpy.logspace(start,end,num of elements)\n",
    "### numpy.zeros(array_size,DT)\n",
    "### numpy.ones(array_size,DT)"
   ]
  },
  {
   "cell_type": "code",
   "execution_count": 9,
   "metadata": {},
   "outputs": [],
   "source": [
    "import numpy ##nupy used for multi dimensional array\n",
    "#from numpy import numpy --> this method doesn't required extension \n",
    "#exp: numpy.array([1,2,3]) -----> array([1,2,3]) (can write in this manner)"
   ]
  },
  {
   "cell_type": "code",
   "execution_count": 10,
   "metadata": {},
   "outputs": [
    {
     "name": "stdout",
     "output_type": "stream",
     "text": [
      "int32\n",
      "[ 2  4  1  4 23  3]\n",
      "\n",
      "\n",
      "\n",
      "float64\n",
      "[ 2.   4.   1.   4.  23.   3.1]\n",
      "\n",
      "\n",
      "\n",
      "int32\n",
      "[ 2  4  1  4 23  3]\n",
      "\n",
      "\n",
      "\n",
      "float64\n",
      "[ 2.  4.  1.  4. 23.  3.]\n"
     ]
    }
   ],
   "source": [
    "arr1=numpy.array([2,4,1,4,23,3]) ##by default choose its data type on the basis of elements\n",
    "print(arr1.dtype)\n",
    "print(arr1)\n",
    "\n",
    "print(\"\\n\\n\")\n",
    "arr2=numpy.array([2,4,1,4,23,3.1]) #by_default choose its DT on basis of elements values -->single 3.1 so convert it in float\n",
    "print(arr2.dtype)\n",
    "print(arr2)\n",
    "\n",
    "print(\"\\n\\n\")\n",
    "arr3=numpy.array([2.7,4.9,1,4,23,3.1],int) ##you can also assign data type \n",
    "print(arr3.dtype)\n",
    "print(arr3)\n",
    "\n",
    "print(\"\\n\\n\")\n",
    "arr2=numpy.array([2,4,1,4,23,3],float) ##you can also assign data type \n",
    "print(arr2.dtype)\n",
    "print(arr2)"
   ]
  },
  {
   "cell_type": "code",
   "execution_count": 11,
   "metadata": {},
   "outputs": [
    {
     "data": {
      "text/plain": [
       "array([ 5,  6,  7,  8,  9, 10, 11, 12, 13, 14, 15, 16, 17, 18, 19, 20, 21,\n",
       "       22, 23, 24, 25, 26, 27, 28, 29, 30, 31, 32, 33, 34, 35, 36, 37, 38,\n",
       "       39, 40, 41, 42, 43, 44, 45, 46, 47, 48, 49])"
      ]
     },
     "execution_count": 11,
     "metadata": {},
     "output_type": "execute_result"
    }
   ],
   "source": [
    "#arange(start,end-1,steps_optional)\n",
    "arr=numpy.arange(5,50)\n",
    "arr"
   ]
  },
  {
   "cell_type": "code",
   "execution_count": 12,
   "metadata": {},
   "outputs": [
    {
     "data": {
      "text/plain": [
       "array([ 5,  8, 11, 14, 17, 20, 23, 26, 29, 32, 35, 38, 41, 44, 47])"
      ]
     },
     "execution_count": 12,
     "metadata": {},
     "output_type": "execute_result"
    }
   ],
   "source": [
    "arr=numpy.arange(5,50,3)\n",
    "arr"
   ]
  },
  {
   "cell_type": "code",
   "execution_count": 13,
   "metadata": {},
   "outputs": [
    {
     "data": {
      "text/plain": [
       "array([ 5., 10., 15., 20., 25., 30., 35., 40., 45., 50.])"
      ]
     },
     "execution_count": 13,
     "metadata": {},
     "output_type": "execute_result"
    }
   ],
   "source": [
    "#arange(start,end,how many evenly spaced elements required) -->last section btata he ke start se end bech ktne \n",
    "#elements required he to phr jtne elements required hote he usi hisab se ek num se dusre number ke darmian difference create \n",
    "# hota he\n",
    "arr=numpy.linspace(5,50,10)\n",
    "arr"
   ]
  },
  {
   "cell_type": "code",
   "execution_count": 14,
   "metadata": {},
   "outputs": [
    {
     "data": {
      "text/plain": [
       "array([ 5.        ,  8.21428571, 11.42857143, 14.64285714, 17.85714286,\n",
       "       21.07142857, 24.28571429, 27.5       , 30.71428571, 33.92857143,\n",
       "       37.14285714, 40.35714286, 43.57142857, 46.78571429, 50.        ])"
      ]
     },
     "execution_count": 14,
     "metadata": {},
     "output_type": "execute_result"
    }
   ],
   "source": [
    "arr=numpy.linspace(5,50,15)\n",
    "arr"
   ]
  },
  {
   "cell_type": "code",
   "execution_count": 15,
   "metadata": {},
   "outputs": [
    {
     "data": {
      "text/plain": [
       "array([1.00000000e+05, 1.63789371e+08, 2.68269580e+11, 4.39397056e+14,\n",
       "       7.19685673e+17, 1.17876863e+21, 1.93069773e+24, 3.16227766e+27,\n",
       "       5.17947468e+30, 8.48342898e+33, 1.38949549e+37, 2.27584593e+40,\n",
       "       3.72759372e+43, 6.10540230e+46, 1.00000000e+50])"
      ]
     },
     "execution_count": 15,
     "metadata": {},
     "output_type": "execute_result"
    }
   ],
   "source": [
    "arr=numpy.logspace(5,50,15) ##here the spacing between 2 numbers is depends upon the log of it\n",
    "arr"
   ]
  },
  {
   "cell_type": "code",
   "execution_count": 16,
   "metadata": {},
   "outputs": [
    {
     "name": "stdout",
     "output_type": "stream",
     "text": [
      "100000.000000\n",
      "100000.0\n",
      "\n",
      "\n",
      "268269579527.972717\n",
      "268269579527.97272\n"
     ]
    }
   ],
   "source": [
    "print(\"%2f\"%arr[0])\n",
    "print(arr[0])\n",
    "print(\"\\n\")\n",
    "print(\"%2f\"%arr[2])\n",
    "print(arr[2])"
   ]
  },
  {
   "cell_type": "code",
   "execution_count": 17,
   "metadata": {},
   "outputs": [
    {
     "name": "stdout",
     "output_type": "stream",
     "text": [
      "[0. 0. 0. 0. 0. 0. 0. 0. 0. 0.]\n",
      "[1. 1. 1. 1. 1. 1. 1. 1. 1. 1.]\n"
     ]
    }
   ],
   "source": [
    "arr=numpy.zeros(10)\n",
    "arr1=numpy.ones(10)\n",
    "print(arr)\n",
    "print(arr1)"
   ]
  },
  {
   "cell_type": "code",
   "execution_count": 18,
   "metadata": {},
   "outputs": [
    {
     "name": "stdout",
     "output_type": "stream",
     "text": [
      "[0 0 0 0 0 0 0 0 0 0]\n",
      "[1 1 1 1 1 1 1 1 1 1]\n"
     ]
    }
   ],
   "source": [
    "arr=numpy.zeros(10,int)\n",
    "arr1=numpy.ones(10,int)\n",
    "print(arr)\n",
    "print(arr1)"
   ]
  },
  {
   "cell_type": "code",
   "execution_count": 19,
   "metadata": {},
   "outputs": [
    {
     "name": "stdout",
     "output_type": "stream",
     "text": [
      "[-0.95892427 -0.2794155   0.6569866   0.98935825  0.41211849 -0.54402111]\n",
      "[ 0.28366219  0.96017029  0.75390225 -0.14550003 -0.91113026 -0.83907153]\n",
      "[   74.20321058   201.71315737   548.31612327  1490.47882579\n",
      "  4051.54190208 11013.2328747 ]\n",
      "[   74.20321058   201.71315737   548.31612327  1490.47882579\n",
      "  4051.54190208 11013.2328747 ]\n",
      "[-3.38051501 -0.29100619  0.87144798 -6.79971146 -0.45231566  0.64836083]\n",
      "45\n",
      "5\n",
      "10\n"
     ]
    }
   ],
   "source": [
    "import math\n",
    "arr=numpy.array([5,6,7,8,9,10])\n",
    "print(numpy.sin(arr))\n",
    "print(numpy.cos(arr))\n",
    "print(numpy.sinh(arr))\n",
    "print(numpy.sinh(arr))\n",
    "print(numpy.tan(arr))\n",
    "print(numpy.sum(arr))\n",
    "print(numpy.min(arr))\n",
    "print(numpy.max(arr))\n",
    "\n"
   ]
  },
  {
   "cell_type": "markdown",
   "metadata": {},
   "source": [
    "#### Numpy  multi dimensional array"
   ]
  },
  {
   "cell_type": "code",
   "execution_count": 20,
   "metadata": {},
   "outputs": [
    {
     "name": "stdout",
     "output_type": "stream",
     "text": [
      "[[1 2 3 4]\n",
      " [5 6 7 8]]\n",
      "2\n",
      "(2, 4)\n",
      "8\n"
     ]
    }
   ],
   "source": [
    "arr1=numpy.array([[1,2,3,4],\n",
    "                 [5,6,7,8]])\n",
    "\n",
    "print(arr1)\n",
    "print(arr1.ndim) ##return the dimesions of array\n",
    "print(arr1.shape) ##return the rows and columns of array\n",
    "print(arr1.size) ##return the number of elements present in array"
   ]
  },
  {
   "cell_type": "code",
   "execution_count": 21,
   "metadata": {},
   "outputs": [],
   "source": [
    "arr2=arr1.flatten() ##make a multi dimensional array in 1 dimensional "
   ]
  },
  {
   "cell_type": "code",
   "execution_count": 22,
   "metadata": {},
   "outputs": [
    {
     "data": {
      "text/plain": [
       "array([1, 2, 3, 4, 5, 6, 7, 8])"
      ]
     },
     "execution_count": 22,
     "metadata": {},
     "output_type": "execute_result"
    }
   ],
   "source": [
    "arr2"
   ]
  },
  {
   "cell_type": "code",
   "execution_count": 23,
   "metadata": {},
   "outputs": [
    {
     "name": "stdout",
     "output_type": "stream",
     "text": [
      "[[1 2 3 4]\n",
      " [5 6 7 8]]\n"
     ]
    }
   ],
   "source": [
    "arr3=arr2.reshape(2,4) ##reshape(rows,columns)\n",
    "print(arr3)"
   ]
  },
  {
   "cell_type": "code",
   "execution_count": 24,
   "metadata": {},
   "outputs": [
    {
     "name": "stdout",
     "output_type": "stream",
     "text": [
      "[[[1 2]]\n",
      "\n",
      " [[3 4]]\n",
      "\n",
      " [[5 6]]\n",
      "\n",
      " [[7 8]]]\n"
     ]
    }
   ],
   "source": [
    "arr3=arr2.reshape(4,1,2)##3d array\n",
    "print(arr3)"
   ]
  },
  {
   "cell_type": "code",
   "execution_count": 25,
   "metadata": {},
   "outputs": [
    {
     "data": {
      "text/plain": [
       "matrix([[1, 2, 3, 4],\n",
       "        [5, 6, 7, 8]])"
      ]
     },
     "execution_count": 25,
     "metadata": {},
     "output_type": "execute_result"
    }
   ],
   "source": [
    "arr1=numpy.array([[1,2,3,4],\n",
    "                 [5,6,7,8]])\n",
    "mat=numpy.matrix(arr1)\n",
    "mat"
   ]
  },
  {
   "cell_type": "code",
   "execution_count": 26,
   "metadata": {},
   "outputs": [
    {
     "name": "stdout",
     "output_type": "stream",
     "text": [
      "[[1 2 3]\n",
      " [5 7 5]\n",
      " [4 3 9]]\n",
      "\n",
      "\n",
      "[[1 0 8]\n",
      " [1 3 0]\n",
      " [0 2 4]]\n"
     ]
    }
   ],
   "source": [
    "mat2=numpy.matrix('1 2 3 ; 5 7 5 ; 4 3 9')\n",
    "mat3=numpy.matrix('1 0 8 ; 1 3 0 ; 0 2 4')\n",
    "print(mat2)\n",
    "print(\"\\n\")\n",
    "print(mat3)"
   ]
  },
  {
   "cell_type": "code",
   "execution_count": 27,
   "metadata": {},
   "outputs": [
    {
     "name": "stdout",
     "output_type": "stream",
     "text": [
      "[[1 7 9]]\n"
     ]
    }
   ],
   "source": [
    "\n",
    "print(mat2.diagonal())"
   ]
  },
  {
   "cell_type": "code",
   "execution_count": 28,
   "metadata": {},
   "outputs": [
    {
     "data": {
      "text/plain": [
       "matrix([[ 2,  2, 11],\n",
       "        [ 6, 10,  5],\n",
       "        [ 4,  5, 13]])"
      ]
     },
     "execution_count": 28,
     "metadata": {},
     "output_type": "execute_result"
    }
   ],
   "source": [
    "mat4=mat2+mat3\n",
    "mat4"
   ]
  },
  {
   "cell_type": "code",
   "execution_count": 29,
   "metadata": {},
   "outputs": [
    {
     "data": {
      "text/plain": [
       "matrix([[ 3, 12, 20],\n",
       "        [12, 31, 60],\n",
       "        [ 7, 27, 68]])"
      ]
     },
     "execution_count": 29,
     "metadata": {},
     "output_type": "execute_result"
    }
   ],
   "source": [
    "mat4=mat2*mat3\n",
    "mat4"
   ]
  },
  {
   "cell_type": "markdown",
   "metadata": {},
   "source": [
    "# ITTERATORS"
   ]
  },
  {
   "cell_type": "code",
   "execution_count": 30,
   "metadata": {},
   "outputs": [
    {
     "name": "stdout",
     "output_type": "stream",
     "text": [
      "1\n",
      "4\n",
      "2\n"
     ]
    }
   ],
   "source": [
    "##built in itterator\n",
    "lis=[1,4,2,54]\n",
    "\n",
    "iter1=iter(lis)\n",
    "\n",
    "print(iter1.__next__())\n",
    "print(iter1.__next__())\n",
    "print(next(iter1))"
   ]
  },
  {
   "cell_type": "code",
   "execution_count": 31,
   "metadata": {},
   "outputs": [
    {
     "name": "stdout",
     "output_type": "stream",
     "text": [
      "0\n",
      "1\n",
      "2\n"
     ]
    }
   ],
   "source": [
    "##built in itterator without passing list \n",
    "import itertools\n",
    "\n",
    "it=itertools.count()\n",
    "\n",
    "print(next(it))\n",
    "print(next(it))\n",
    "print(next(it))"
   ]
  },
  {
   "cell_type": "code",
   "execution_count": 47,
   "metadata": {},
   "outputs": [
    {
     "name": "stdout",
     "output_type": "stream",
     "text": [
      "(0, 0)\n",
      "(1, 1)\n",
      "(2, 4)\n",
      "(3, 2)\n",
      "[(0, 0), (1, 1), (2, 4), (3, 2), (4, 54), (5, 34), (6, None), (7, None), (8, None), (9, None)]\n",
      "[(11, 0), (12, 1), (13, 4), (14, 2), (15, 54), (16, 34)]\n"
     ]
    }
   ],
   "source": [
    "import itertools\n",
    "it01=itertools.count()\n",
    "lis=[0,1,4,2,54,34]\n",
    "\n",
    "zip1=zip(it01,lis)##can be itterate\n",
    "zip2=list(itertools.zip_longest(range(10),lis))##to prevent from error we can itterate as long as we want \n",
    "zip2_list=list(zip(it1,lis)) ##cant be itterate\n",
    "\n",
    "print(next(zip1))\n",
    "print(next(zip1))\n",
    "print(next(zip1))\n",
    "print(next(zip1))\n",
    "\n",
    "print(zip2)\n",
    "\n",
    "print(zip2_list)"
   ]
  },
  {
   "cell_type": "code",
   "execution_count": 33,
   "metadata": {},
   "outputs": [
    {
     "name": "stdout",
     "output_type": "stream",
     "text": [
      "6\n",
      "8\n",
      "----\n",
      "5\n",
      "2.5\n",
      "----\n",
      "1\n",
      "4\n",
      "end\n",
      "1\n",
      "----\n",
      "on\n",
      "off\n",
      "on\n",
      "off\n",
      "----\n",
      "[1, 4, 9, 25]\n",
      "----\n",
      "3\n",
      "3\n"
     ]
    }
   ],
   "source": [
    "lis=[1,4,\"end\"]\n",
    "nums=[1,2,3,5]\n",
    "\n",
    "###itertools.count\n",
    "it2=itertools.count(start=6,step=2)\n",
    "it3=itertools.count(start=5,step=-2.5)\n",
    "\n",
    "###itertools.cycle\n",
    "it4=itertools.cycle(lis)\n",
    "it5=itertools.cycle((\"on\",\"off\"))##we can use it for on-off as well\n",
    "\n",
    "###itertools.repeat\n",
    "rep=itertools.repeat(3,times=2)\n",
    "square=list(map(pow,nums,itertools.repeat(2)))\n",
    "\n",
    "print(next(it2))\n",
    "print(next(it2))\n",
    "print(\"----\")\n",
    "print(next(it3))\n",
    "print(next(it3))\n",
    "print(\"----\")\n",
    "print(next(it4))\n",
    "print(next(it4))\n",
    "print(next(it4))\n",
    "print(next(it4))\n",
    "print(\"----\")\n",
    "print(next(it5))\n",
    "print(next(it5))\n",
    "print(next(it5))\n",
    "print(next(it5))\n",
    "print(\"----\")\n",
    "print(square)\n",
    "print(\"----\")\n",
    "print(next(rep))\n",
    "print(next(rep))"
   ]
  },
  {
   "cell_type": "code",
   "execution_count": 34,
   "metadata": {},
   "outputs": [
    {
     "name": "stdout",
     "output_type": "stream",
     "text": [
      "this is the beauty of itterator, it saves the state of object which makes it efficient than loop itteration\n",
      "loop1: 1\n",
      "loop1: 2\n",
      "loop1: 3\n",
      "loop1: 4\n",
      "loop1: 5\n",
      "\n",
      "next1: 7 \n",
      "\n",
      "loop2: 8\n",
      "loop2: 9\n",
      "loop2: 10\n"
     ]
    }
   ],
   "source": [
    "##own itterator       telusko\n",
    "\n",
    "class top10: ###itterator to print top 10 numbers\n",
    "    def __init__(self):\n",
    "        self.num=1\n",
    "        \n",
    "    def __iter__(self):\n",
    "        return self\n",
    "    \n",
    "    def __next__(self):\n",
    "        if self.num<=10:\n",
    "            self.val=self.num\n",
    "            self.num+=1\n",
    "            return self.val\n",
    "        else:\n",
    "            raise StopIteration\n",
    "next1=top10()\n",
    "\n",
    "print(\"this is the beauty of itterator, it saves the state of object which makes it efficient than loop itteration\")\n",
    "for i in next1: \n",
    "    if i>5: break\n",
    "    print(\"loop1:\",i)\n",
    "    \n",
    "print(\"\\nnext1:\",next(next1),\"\\n\")\n",
    "\n",
    "for i in next1:\n",
    "    print(\"loop2:\",i)    "
   ]
  },
  {
   "cell_type": "code",
   "execution_count": 35,
   "metadata": {},
   "outputs": [
    {
     "name": "stdout",
     "output_type": "stream",
     "text": [
      "this is the beauty of itterator, it saves the state of object which makes it efficient than loop itteration\n",
      "loop1: 1\n",
      "loop1: 4\n",
      "loop1: 2\n",
      "\n",
      "next1: 54 \n",
      "\n",
      "loop2: 4\n",
      "loop2: 3\n",
      "loop2: 62\n",
      "loop2: 0\n"
     ]
    }
   ],
   "source": [
    "##own itterator       programming knowledge\n",
    "\n",
    "class ListIterator:  ###itterator to print list elements\n",
    "    def __init__(self,lis):\n",
    "        self.__lis=lis\n",
    "        self.__index=-1\n",
    "        \n",
    "    def __iter__(self):\n",
    "        return self\n",
    "    \n",
    "    def __next__(self):\n",
    "        self.__index+=1\n",
    "        if self.__index < len(self.__lis):\n",
    "            return self.__lis[self.__index]\n",
    "        else:\n",
    "            raise StopIteration\n",
    "\n",
    "lis1=[1,4,2,54,4,3,62,0]\n",
    "\n",
    "next1=ListIterator(lis1)\n",
    "\n",
    "print(\"this is the beauty of itterator, it saves the state of object which makes it efficient than loop itteration\")\n",
    "i=0\n",
    "while True: \n",
    "    if i==3: break\n",
    "    print(\"loop1:\",next(next1))\n",
    "    i+=1\n",
    "    \n",
    "print(\"\\nnext1:\",next(next1),\"\\n\")\n",
    "\n",
    "for i in next1:\n",
    "    print(\"loop2:\",i) \n",
    "   "
   ]
  },
  {
   "cell_type": "code",
   "execution_count": 51,
   "metadata": {},
   "outputs": [
    {
     "name": "stdout",
     "output_type": "stream",
     "text": [
      "this is the beauty of generator, same work done as the above iter do, but gen used only few lines to make it\n",
      "loop1: 1\n",
      "loop1: 4\n",
      "loop1: 2\n",
      "\n",
      "next1: 54 \n",
      "\n",
      "loop2: 4\n",
      "loop2: 3\n",
      "loop2: 62\n",
      "loop2: 0\n"
     ]
    }
   ],
   "source": [
    "####the same thing we done using generator whihc is an efficient way to itterate list\n",
    "\n",
    "##own generator       programming knowledge\n",
    "lis=[1,4,2,54,4,3,62,0]\n",
    "def generator2(list):\n",
    "    for n in list:\n",
    "        yield n\n",
    "\n",
    "gen=generator2(lis)\n",
    "\n",
    "print(\"this is the beauty of generator, same work done as the above iter do, but gen used only few lines to make it\")\n",
    "i=0\n",
    "while True: \n",
    "    if i==3: break\n",
    "    print(\"loop1:\",next(gen))\n",
    "    i+=1\n",
    "    \n",
    "print(\"\\nnext1:\",next(gen),\"\\n\")\n",
    "\n",
    "for i in gen:\n",
    "    print(\"loop2:\",i) "
   ]
  },
  {
   "cell_type": "markdown",
   "metadata": {},
   "source": [
    "# GENERATORS\n",
    "### uses \n",
    "#### generators are  similar to itterator but they are much easier to use than itterators\n",
    "#### generators can handle exceptions by itself but in iter we have to handle it by our own\n",
    "#### generators use less line of codes to iter values "
   ]
  },
  {
   "cell_type": "code",
   "execution_count": 36,
   "metadata": {},
   "outputs": [
    {
     "name": "stdout",
     "output_type": "stream",
     "text": [
      "a\n",
      "1\n"
     ]
    }
   ],
   "source": [
    "def generator():\n",
    "    yield 'a'\n",
    "    yield 1\n",
    "\n",
    "gen=generator()\n",
    "\n",
    "print(next(gen))\n",
    "print(next(gen))"
   ]
  },
  {
   "cell_type": "code",
   "execution_count": 53,
   "metadata": {},
   "outputs": [
    {
     "name": "stdout",
     "output_type": "stream",
     "text": [
      "previous n: 0\n",
      "\t\t\tprevious n: 0\n",
      "('yield:', 1) \t\t ('yield:', 0)\n",
      "\n",
      "previous n: 1\n",
      "\t\t\tprevious n: 1\n",
      "('yield:', 2) \t\t ('yield:', 1)\n",
      "\n",
      "previous n: 2\n",
      "\t\t\tprevious n: 2\n",
      "('yield:', 3) \t\t ('yield:', 2)\n"
     ]
    }
   ],
   "source": [
    "def generator():\n",
    "    n=0\n",
    "    print(\"previous n:\",n)\n",
    "    n+=1\n",
    "    yield \"yield:\",n\n",
    "    \n",
    "    print(\"\\nprevious n:\",n)\n",
    "    n+=1\n",
    "    yield \"yield:\",n\n",
    "    \n",
    "    print(\"\\nprevious n:\",n)\n",
    "    n+=1\n",
    "    yield \"yield:\",n\n",
    "\n",
    "def generator1():\n",
    "    for n in range(4):\n",
    "        print(\"\\t\\t\\tprevious n:\",n)\n",
    "        yield \"yield:\",n\n",
    "        \n",
    "gen=generator()\n",
    "gen1=generator1()\n",
    "\n",
    "print(next(gen),\"\\t\\t\",next(gen1))\n",
    "print(next(gen),\"\\t\\t\",next(gen1))\n",
    "print(next(gen),\"\\t\\t\",next(gen1))"
   ]
  },
  {
   "cell_type": "code",
   "execution_count": 48,
   "metadata": {},
   "outputs": [
    {
     "name": "stdout",
     "output_type": "stream",
     "text": [
      "2.1\n",
      "4\n",
      "ahsan\n"
     ]
    }
   ],
   "source": [
    "lis=[2.1,4,\"ahsan\"]\n",
    "def generator2(list):\n",
    "    for n in list:\n",
    "        yield n\n",
    "\n",
    "gen=generator2(lis)\n",
    "\n",
    "for i in gen:\n",
    "    print(i)"
   ]
  },
  {
   "cell_type": "markdown",
   "metadata": {},
   "source": [
    "# DECORATORS:"
   ]
  },
  {
   "cell_type": "code",
   "execution_count": null,
   "metadata": {},
   "outputs": [],
   "source": [
    "#we use decorator when we want to make changes in pre defined functions such as functions in modules"
   ]
  },
  {
   "cell_type": "code",
   "execution_count": null,
   "metadata": {},
   "outputs": [],
   "source": [
    "###here assume div as pre defined func. Now if we want to make changes in div func we have to use decorators functions which\n",
    "### is smart_div. \n",
    "def div(a,b):\n",
    "    return a/b\n",
    "\n",
    "def smart_div(func):\n",
    "    \n",
    "    def inner_smart_div(a,b):\n",
    "        if a<b:\n",
    "            a,b=b,a\n",
    "        return func(a,b)\n",
    "    \n",
    "    return inner_smart_div\n",
    "\n",
    "div1=smart_div(div)\n",
    "\n",
    "div1(2,4)"
   ]
  },
  {
   "cell_type": "code",
   "execution_count": null,
   "metadata": {},
   "outputs": [],
   "source": [
    "from math import sqrt,pow\n",
    "\n",
    "def smart_div(func):\n",
    "    \n",
    "    def inner_smart_div(a,b):\n",
    "        b+=2 ##increase power by 2\n",
    "        return func(a,b)\n",
    "    \n",
    "    return inner_smart_div\n",
    "\n",
    "div1=smart_div(pow)\n",
    "\n",
    "div1(2,3)"
   ]
  },
  {
   "cell_type": "markdown",
   "metadata": {},
   "source": [
    "# JSON"
   ]
  },
  {
   "cell_type": "code",
   "execution_count": 2,
   "metadata": {},
   "outputs": [
    {
     "name": "stdout",
     "output_type": "stream",
     "text": [
      "{\"id\": 1, \"name\": \"ahsan\"}\n",
      "[1, 2, 34, \"ahsan\"]\n",
      "[2, 4.2, \"a\"]\n",
      "12\n",
      "23.4\n",
      "\"ali\"\n",
      "true\n"
     ]
    }
   ],
   "source": [
    "import json\n",
    "\n",
    "print(json.dumps( {'id':1, 'name':\"ahsan\"} ))\n",
    "print(json.dumps([1,2,34,\"ahsan\"]))\n",
    "print(json.dumps((2,4.2,'a')))\n",
    "print(json.dumps(12))\n",
    "print(json.dumps(23.4))\n",
    "print(json.dumps(\"ali\"))\n",
    "print(json.dumps(True))"
   ]
  },
  {
   "cell_type": "code",
   "execution_count": 3,
   "metadata": {},
   "outputs": [
    {
     "name": "stdout",
     "output_type": "stream",
     "text": [
      "{\"id\": 1, \"name\": \"ahsan\", \"marks\": [90, 77, 23], \"age\": 21}\n",
      "{\n",
      "     \"id\": 1,\n",
      "     \"name\": \"ahsan\",\n",
      "     \"marks\": [\n",
      "          90,\n",
      "          77,\n",
      "          23\n",
      "     ],\n",
      "     \"age\": 21\n",
      "}\n",
      "{\n",
      "   \"age\": 21,\n",
      "   \"id\": 1,\n",
      "   \"marks\": [\n",
      "      90,\n",
      "      77,\n",
      "      23\n",
      "   ],\n",
      "   \"name\": \"ahsan\"\n",
      "}\n",
      "{\n",
      "   \"id\"=1.\n",
      "   \"name\"=\"ahsan\".\n",
      "   \"marks\"=[\n",
      "      90.\n",
      "      77.\n",
      "      23\n",
      "   ].\n",
      "   \"age\"=21\n",
      "}\n"
     ]
    }
   ],
   "source": [
    "dic={'id':1, \n",
    "     'name':\"ahsan\",\n",
    "     \"marks\":[90,77,23],\n",
    "     'age':21}\n",
    "\n",
    "print(json.dumps(dic))\n",
    "print(json.dumps(dic,indent=5))\n",
    "print(json.dumps(dic,indent=3,sort_keys=True))\n",
    "print(json.dumps(dic,indent=3,separators=('.','=')))\n"
   ]
  },
  {
   "cell_type": "code",
   "execution_count": 12,
   "metadata": {},
   "outputs": [],
   "source": [
    "with open(\"jss.json\",\"w\") as js:\n",
    "    js.write(json.dumps(dic,indent=3))\n",
    "#     js.write(json.dumps(dic,indent=3,separators=('.','=')))"
   ]
  },
  {
   "cell_type": "code",
   "execution_count": 5,
   "metadata": {},
   "outputs": [],
   "source": [
    "with open(\"jss.json\",\"w\") as js:\n",
    "    json.dump(dic,js,indent=3,separators=('.','='))"
   ]
  },
  {
   "cell_type": "code",
   "execution_count": 6,
   "metadata": {},
   "outputs": [
    {
     "name": "stdout",
     "output_type": "stream",
     "text": [
      "{\n",
      "   \"id\"=1.\n",
      "   \"name\"=\"ahsan\".\n",
      "   \"marks\"=[\n",
      "      90.\n",
      "      77.\n",
      "      23\n",
      "   ].\n",
      "   \"age\"=21\n",
      "}\n"
     ]
    }
   ],
   "source": [
    "with open(\"jss.json\",\"r\") as js:\n",
    "    print(js.read())"
   ]
  },
  {
   "cell_type": "code",
   "execution_count": 7,
   "metadata": {},
   "outputs": [
    {
     "name": "stdout",
     "output_type": "stream",
     "text": [
      "<class 'str'>\n"
     ]
    }
   ],
   "source": [
    "with open(\"jss.json\",\"r\") as js:\n",
    "    print(type(js.read()))"
   ]
  },
  {
   "cell_type": "code",
   "execution_count": 15,
   "metadata": {},
   "outputs": [
    {
     "name": "stdout",
     "output_type": "stream",
     "text": [
      "[90, 77, 23]\n"
     ]
    }
   ],
   "source": [
    "with open(\"jss.json\",\"r\") as js:\n",
    "#     json_str=js.read()\n",
    "    json_val=json.load(js)\n",
    "    print(json_val[\"marks\"])"
   ]
  }
 ],
 "metadata": {
  "kernelspec": {
   "display_name": "Python 3",
   "language": "python",
   "name": "python3"
  },
  "language_info": {
   "codemirror_mode": {
    "name": "ipython",
    "version": 3
   },
   "file_extension": ".py",
   "mimetype": "text/x-python",
   "name": "python",
   "nbconvert_exporter": "python",
   "pygments_lexer": "ipython3",
   "version": "3.7.3"
  }
 },
 "nbformat": 4,
 "nbformat_minor": 2
}
