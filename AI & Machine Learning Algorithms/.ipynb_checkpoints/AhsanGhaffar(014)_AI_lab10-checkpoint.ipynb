{
 "cells": [
  {
   "cell_type": "code",
   "execution_count": null,
   "metadata": {},
   "outputs": [],
   "source": [
    "import json\n",
    "\n",
    "    \n",
    "with open(\"ques_ans.json\",\"r\") as js:\n",
    "    questions=json.load(js)\n",
    "    \n",
    "sw=['is','am','are','the','a','am','of','from','in','on','you','what']\n",
    "punctuations = '''!()-[]{};:'\"\\,<>./?@#$%^&*_~'''\n",
    "\n",
    "print(\"Bot: Hi\")\n",
    "\n",
    "while True:\n",
    "    #take input and make lower case:\n",
    "    sen=input(\"Human: \").lower()\n",
    "    \n",
    "    # Remove punctuation:\n",
    "    punct = \"\"       \n",
    "    for char in sen:\n",
    "        if char not in punctuations:\n",
    "            punct = punct + char\n",
    "    sen=punct\n",
    "    \n",
    "    # remove stop words\n",
    "    sen1 = \"\"\n",
    "    b_list=sen.split(\" \")\n",
    "\n",
    "    for i in b_list:\n",
    "        if i in sw:\n",
    "            pass\n",
    "        else:\n",
    "            sen1+=i\n",
    "            sen1+=\" \"\n",
    "    \n",
    "    # remove space \n",
    "    sen1=sen1.strip()\n",
    "    \n",
    "    # search question in file \n",
    "    if sen1 in questions.keys():\n",
    "        print(\"\\t Bot: \",questions[sen1])\n",
    "    \n",
    "    # check for irrelevant question\n",
    "    else:\n",
    "        print(\"\\tBot: wrong quest\")\n",
    "        break"
   ]
  }
 ],
 "metadata": {
  "kernelspec": {
   "display_name": "Python 3",
   "language": "python",
   "name": "python3"
  },
  "language_info": {
   "codemirror_mode": {
    "name": "ipython",
    "version": 3
   },
   "file_extension": ".py",
   "mimetype": "text/x-python",
   "name": "python",
   "nbconvert_exporter": "python",
   "pygments_lexer": "ipython3",
   "version": "3.7.3"
  }
 },
 "nbformat": 4,
 "nbformat_minor": 2
}
