{
 "cells": [
  {
   "cell_type": "code",
   "execution_count": null,
   "metadata": {},
   "outputs": [],
   "source": [
    "import re\n",
    "import json\n",
    "from nltk.corpus import stopwords\n",
    "\n",
    "    \n",
    "with open(\"ques_ans.json\",\"r\") as js:\n",
    "    questions=json.load(js)\n",
    "    \n",
    "sw=stopwords.words('english')\n",
    "\n",
    "\n",
    "print(\"Bot: Hi\")\n",
    "\n",
    "while True:\n",
    "    #take input and make lower case:\n",
    "    sen=input(\"Human: \").lower()\n",
    "   \n",
    "    # Remove punctuation:\n",
    "    sen = re.sub(r'[^\\w\\s]','',sen)\n",
    "    \n",
    "    # remove stop words\n",
    "    sen1 = \"\"\n",
    "    b_list=sen.split(\" \")\n",
    "\n",
    "    for i in b_list:\n",
    "        if i in sw:\n",
    "            pass\n",
    "        else:\n",
    "            sen1+=i\n",
    "            sen1+=\" \"\n",
    "    \n",
    "    # remove space \n",
    "    sen1=sen1.strip()\n",
    "    \n",
    "    # search question in file \n",
    "    if sen1 in questions.keys():\n",
    "        print(\"\\t Bot: \",questions[sen1])\n",
    "        \n",
    "        if (questions[sen1]==\"Good bye\"):\n",
    "            break\n",
    "    \n",
    "    # check for irrelevant question\n",
    "    else:\n",
    "        print(\"\\tBot: Irrelevant question\")"
   ]
  },
  {
   "cell_type": "code",
   "execution_count": null,
   "metadata": {},
   "outputs": [],
   "source": []
  }
 ],
 "metadata": {
  "kernelspec": {
   "display_name": "Python 3",
   "language": "python",
   "name": "python3"
  },
  "language_info": {
   "codemirror_mode": {
    "name": "ipython",
    "version": 3
   },
   "file_extension": ".py",
   "mimetype": "text/x-python",
   "name": "python",
   "nbconvert_exporter": "python",
   "pygments_lexer": "ipython3",
   "version": "3.7.3"
  }
 },
 "nbformat": 4,
 "nbformat_minor": 2
}
