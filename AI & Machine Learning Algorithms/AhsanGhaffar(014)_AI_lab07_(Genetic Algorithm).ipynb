{
 "cells": [
  {
   "cell_type": "code",
   "execution_count": 17,
   "metadata": {},
   "outputs": [],
   "source": [
    "# Using GA, it is required to find the maximum of a function, f(x) = ((a + 2b + 3c + 4d) - 30) where a,b,c and d \n",
    "# are genes to form a chromosome. Write a program to implement and show the best individual, best fitness, \n",
    "# average fitness, and poorest fitness against the generation. For demonstration purposes, the following simple set \n",
    "# of parameters is to be used to design the algorithm.\n",
    "# •\tNumber of generations: 30\n",
    "# •\tThe  population size: 6\n",
    "# •\tThe  crossover rate : 1.0\n",
    "# •\tThe  mutation rate: 0.1 \n",
    "# •\tNumber of bits in each chromosome: 4\n",
    "\n",
    "import numpy as np"
   ]
  },
  {
   "cell_type": "code",
   "execution_count": 18,
   "metadata": {},
   "outputs": [
    {
     "name": "stdout",
     "output_type": "stream",
     "text": [
      "Population\n",
      " [[7 0 7 5]\n",
      " [6 0 1 6]\n",
      " [0 8 1 1]\n",
      " [5 7 6 3]\n",
      " [7 9 9 0]\n",
      " [2 5 8 9]]\n"
     ]
    }
   ],
   "source": [
    "# step01 --> population initialization\n",
    "\n",
    "\n",
    "# Generate an initial population P\n",
    "popu = np.random.randint(10,size=(6,4))\n",
    "print(\"Population\\n\",popu)"
   ]
  },
  {
   "cell_type": "code",
   "execution_count": 19,
   "metadata": {},
   "outputs": [
    {
     "name": "stdout",
     "output_type": "stream",
     "text": [
      "Fitness of each row\n",
      " [48, 33, 23, 49, 52, 72]\n"
     ]
    }
   ],
   "source": [
    "#Step02  --> fitness calculation\n",
    "\n",
    "\n",
    "def fitness(chromosome):\n",
    "    return chromosome[0]+2*chromosome[1]+3*chromosome[2]+4*chromosome[3]\n",
    "\n",
    "# pass each row of popu(numpy array) from fitness fuction to find the fitness of each row\n",
    "fit=[]\n",
    "for i in range(0,6):\n",
    "    b=fitness(popu[i])\n",
    "    fit.append(b)   \n",
    "    \n",
    "print(\"Fitness of each row\\n\",fit)"
   ]
  },
  {
   "cell_type": "code",
   "execution_count": 20,
   "metadata": {},
   "outputs": [
    {
     "name": "stdout",
     "output_type": "stream",
     "text": [
      "[18, 3, 7, 19, 22, 42]\n"
     ]
    }
   ],
   "source": [
    "# •\tNumber of generations: 30\n",
    "fits=[]\n",
    "for i in range(0,6):\n",
    "    d=abs(fit[i]-30)\n",
    "    fits.append(d)\n",
    "    \n",
    "print(fits)"
   ]
  },
  {
   "cell_type": "code",
   "execution_count": 21,
   "metadata": {},
   "outputs": [
    {
     "name": "stdout",
     "output_type": "stream",
     "text": [
      "1\n",
      "2\n",
      "parents 1: [6 0 1 6]\n",
      "parent 2: [0 8 1 1]\n"
     ]
    }
   ],
   "source": [
    "#find 2 minimum index from fits array\n",
    "# to select 2 random rows from popu array\n",
    "\n",
    "min1=fits.index(min(fits))\n",
    "print(min1)\n",
    "\n",
    "fits[min1]=1000\n",
    "\n",
    "min2=fits.index(min(fits))\n",
    "print(min2)\n",
    "\n",
    "p1=popu[min1]\n",
    "p2=popu[min2]\n",
    "\n",
    "print(\"parents 1:\",p1)\n",
    "print(\"parent 2:\",p2)"
   ]
  },
  {
   "cell_type": "code",
   "execution_count": 22,
   "metadata": {},
   "outputs": [
    {
     "name": "stdout",
     "output_type": "stream",
     "text": [
      "Offspring1:  [6, 0, 1, 1]\n",
      "Offspring2:  [0, 8, 1, 6]\n"
     ]
    }
   ],
   "source": [
    "# step03  --> crossover\n",
    "\n",
    "\n",
    "def swap(x,y):\n",
    "    lst1=[]\n",
    "    for i in x:\n",
    "        lst1.append(i)\n",
    "    for i in y:\n",
    "        lst1.append(i)\n",
    "    return lst1\n",
    "\n",
    "def crossover(p1,p2):\n",
    "    \n",
    "    mid = int(len(p1)/2)\n",
    "    \n",
    "    o1=swap(list(p1[0:mid]),list(p2[mid:len(p2)]))\n",
    "    o2=swap(list(p2[0:mid]),list(p1[mid:len(p1)]))\n",
    "    \n",
    "    return o1,o2\n",
    "\n",
    "o1,o2=crossover(p1,p2)\n",
    "\n",
    "print(\"Offspring1: \",o1)\n",
    "print(\"Offspring2: \",o2)"
   ]
  },
  {
   "cell_type": "code",
   "execution_count": 23,
   "metadata": {},
   "outputs": [
    {
     "name": "stdout",
     "output_type": "stream",
     "text": [
      "random index:  3\n",
      "[6, 0, 1, 1.1] [0, 8, 1, 6.1]\n"
     ]
    }
   ],
   "source": [
    "# step04 --> Mutation\n",
    "\n",
    "def mutation(o1,o2):\n",
    "    r_ind=np.random.randint(0,4)\n",
    "    print(\"random index: \",r_ind) #random index where we apply mutation\n",
    "    o1[r_ind]=o1[r_ind]+0.1\n",
    "    o2[r_ind]=o2[r_ind]+0.1\n",
    "    print(o1,o2)\n",
    "    \n",
    "mutation(o1,o2)   "
   ]
  },
  {
   "cell_type": "code",
   "execution_count": null,
   "metadata": {},
   "outputs": [],
   "source": []
  }
 ],
 "metadata": {
  "kernelspec": {
   "display_name": "Python 3",
   "language": "python",
   "name": "python3"
  },
  "language_info": {
   "codemirror_mode": {
    "name": "ipython",
    "version": 3
   },
   "file_extension": ".py",
   "mimetype": "text/x-python",
   "name": "python",
   "nbconvert_exporter": "python",
   "pygments_lexer": "ipython3",
   "version": "3.7.3"
  }
 },
 "nbformat": 4,
 "nbformat_minor": 2
}
