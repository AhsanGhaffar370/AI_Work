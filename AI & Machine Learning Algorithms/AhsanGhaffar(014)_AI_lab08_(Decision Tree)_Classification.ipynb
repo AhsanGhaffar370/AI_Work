{
 "cells": [
  {
   "cell_type": "code",
   "execution_count": 15,
   "metadata": {},
   "outputs": [],
   "source": [
    "# real life Example of Decision tree algorithm\n",
    "# http://what-when-how.com/artificial-intelligence/decision-tree-applications-for-data-modelling-artificial-intelligence/\n",
    "# https://medium.com/greyatom/decision-trees-a-simple-way-to-visualize-a-decision-dc506a403aeb\n",
    "# \n",
    "# https://www.youtube.com/watch?v=qDcl-FRnwSU\n",
    "# https://www.youtube.com/watch?v=PHxYNGo8NcI\n",
    "\n",
    "# scikit\n",
    "# https://www.youtube.com/watch?v=0Lt9w-BxKFQ\n",
    "# https://www.youtube.com/watch?v=RZYjsw6P4nI -->spam email\n",
    "\n",
    "\n",
    "# spam detection\n",
    "# loan approval\n",
    "# health predictor\n",
    "# stock price prediction\n",
    "# wether prediction\n"
   ]
  },
  {
   "cell_type": "markdown",
   "metadata": {},
   "source": [
    "## Task01"
   ]
  },
  {
   "cell_type": "code",
   "execution_count": 49,
   "metadata": {},
   "outputs": [
    {
     "data": {
      "text/html": [
       "<div>\n",
       "<style scoped>\n",
       "    .dataframe tbody tr th:only-of-type {\n",
       "        vertical-align: middle;\n",
       "    }\n",
       "\n",
       "    .dataframe tbody tr th {\n",
       "        vertical-align: top;\n",
       "    }\n",
       "\n",
       "    .dataframe thead th {\n",
       "        text-align: right;\n",
       "    }\n",
       "</style>\n",
       "<table border=\"1\" class=\"dataframe\">\n",
       "  <thead>\n",
       "    <tr style=\"text-align: right;\">\n",
       "      <th></th>\n",
       "      <th>Id</th>\n",
       "      <th>SepalLengthCm</th>\n",
       "      <th>SepalWidthCm</th>\n",
       "      <th>PetalLengthCm</th>\n",
       "      <th>PetalWidthCm</th>\n",
       "      <th>Species</th>\n",
       "    </tr>\n",
       "  </thead>\n",
       "  <tbody>\n",
       "    <tr>\n",
       "      <th>140</th>\n",
       "      <td>141</td>\n",
       "      <td>6.7</td>\n",
       "      <td>3.1</td>\n",
       "      <td>5.6</td>\n",
       "      <td>2.4</td>\n",
       "      <td>Iris-virginica</td>\n",
       "    </tr>\n",
       "    <tr>\n",
       "      <th>28</th>\n",
       "      <td>29</td>\n",
       "      <td>5.2</td>\n",
       "      <td>3.4</td>\n",
       "      <td>1.4</td>\n",
       "      <td>0.2</td>\n",
       "      <td>Iris-setosa</td>\n",
       "    </tr>\n",
       "    <tr>\n",
       "      <th>145</th>\n",
       "      <td>146</td>\n",
       "      <td>6.7</td>\n",
       "      <td>3.0</td>\n",
       "      <td>5.2</td>\n",
       "      <td>2.3</td>\n",
       "      <td>Iris-virginica</td>\n",
       "    </tr>\n",
       "    <tr>\n",
       "      <th>1</th>\n",
       "      <td>2</td>\n",
       "      <td>4.9</td>\n",
       "      <td>3.0</td>\n",
       "      <td>1.4</td>\n",
       "      <td>0.2</td>\n",
       "      <td>Iris-setosa</td>\n",
       "    </tr>\n",
       "    <tr>\n",
       "      <th>42</th>\n",
       "      <td>43</td>\n",
       "      <td>4.4</td>\n",
       "      <td>3.2</td>\n",
       "      <td>1.3</td>\n",
       "      <td>0.2</td>\n",
       "      <td>Iris-setosa</td>\n",
       "    </tr>\n",
       "  </tbody>\n",
       "</table>\n",
       "</div>"
      ],
      "text/plain": [
       "      Id  SepalLengthCm  SepalWidthCm  PetalLengthCm  PetalWidthCm  \\\n",
       "140  141            6.7           3.1            5.6           2.4   \n",
       "28    29            5.2           3.4            1.4           0.2   \n",
       "145  146            6.7           3.0            5.2           2.3   \n",
       "1      2            4.9           3.0            1.4           0.2   \n",
       "42    43            4.4           3.2            1.3           0.2   \n",
       "\n",
       "            Species  \n",
       "140  Iris-virginica  \n",
       "28      Iris-setosa  \n",
       "145  Iris-virginica  \n",
       "1       Iris-setosa  \n",
       "42      Iris-setosa  "
      ]
     },
     "execution_count": 49,
     "metadata": {},
     "output_type": "execute_result"
    }
   ],
   "source": [
    "import numpy as np\n",
    "import pandas as pd\n",
    "import random\n",
    "\n",
    "# step01 --> select a data set for training and testing\n",
    "\n",
    "\n",
    "data_set=pd.read_csv(\"C:\\\\Users\\HP\\\\Desktop\\\\Git_AI_Work\\\\AI & Machine Learning Algorithms\\\\datasets\\\\Iris.csv\")\n",
    "\n",
    "data_set=data_set.sample(frac=1) # for rows shuffling\n",
    "data_set.head(5)"
   ]
  },
  {
   "cell_type": "code",
   "execution_count": 50,
   "metadata": {},
   "outputs": [],
   "source": [
    "# step02 --> seperate features and labels from dataset\n",
    "features = data_set.values[:, 1:5]  #x\n",
    "labels= data_set.values[: , 5]  # y"
   ]
  },
  {
   "cell_type": "code",
   "execution_count": 51,
   "metadata": {},
   "outputs": [
    {
     "name": "stdout",
     "output_type": "stream",
     "text": [
      "Enter Training Percentage: 75\n"
     ]
    }
   ],
   "source": [
    "# step03 --> take input of what percentage of data we want to train from dataset\n",
    "train=input(\"Enter Training Percentage: \")"
   ]
  },
  {
   "cell_type": "code",
   "execution_count": 52,
   "metadata": {},
   "outputs": [],
   "source": [
    "# step04 -->  seperate data for training and testing purpose:\n",
    "\n",
    "max_index=int(len(data_set)*int(train)/100) #find last index num for 75% training data\n",
    "\n",
    "# seperate features and labels from Training dataset\n",
    "feature_train=features[0:max_index,:]\n",
    "label_train=labels[0:max_index]\n",
    "\n",
    "# seperate features and labels from Testing dataset   *labels are useless in training dataset\n",
    "feature_test=features[max_index:len(data_set),:]\n",
    "label_test=labels[max_index:len(data_set)] # in the end we use label_test for checking the percentage of correct prediction"
   ]
  },
  {
   "cell_type": "code",
   "execution_count": 53,
   "metadata": {},
   "outputs": [],
   "source": [
    "# step05 -->   use sklearn library for training and testing of dataset\n",
    "\n",
    "from sklearn.tree import  DecisionTreeClassifier  # very helpful library in machine learning\n",
    "model= DecisionTreeClassifier()"
   ]
  },
  {
   "cell_type": "code",
   "execution_count": 54,
   "metadata": {},
   "outputs": [
    {
     "data": {
      "text/plain": [
       "DecisionTreeClassifier(class_weight=None, criterion='gini', max_depth=None,\n",
       "            max_features=None, max_leaf_nodes=None,\n",
       "            min_impurity_decrease=0.0, min_impurity_split=None,\n",
       "            min_samples_leaf=1, min_samples_split=2,\n",
       "            min_weight_fraction_leaf=0.0, presort=False, random_state=None,\n",
       "            splitter='best')"
      ]
     },
     "execution_count": 54,
     "metadata": {},
     "output_type": "execute_result"
    }
   ],
   "source": [
    "# step06 -->   train the model\n",
    "model.fit(feature_train, label_train) #training ke time pr label or features dono chahiye hote he"
   ]
  },
  {
   "cell_type": "code",
   "execution_count": 55,
   "metadata": {},
   "outputs": [
    {
     "name": "stdout",
     "output_type": "stream",
     "text": [
      "Iris-setosa->Iris-setosa\n",
      "Iris-virginica->Iris-virginica\n",
      "Iris-virginica->Iris-virginica\n",
      "Iris-virginica->Iris-virginica\n",
      "Iris-virginica->Iris-virginica\n",
      "Iris-virginica->Iris-virginica\n",
      "Iris-versicolor->Iris-versicolor\n",
      "Iris-virginica->Iris-virginica\n",
      "Iris-versicolor->Iris-versicolor\n",
      "Iris-setosa->Iris-setosa\n",
      "Iris-versicolor->Iris-versicolor\n",
      "Iris-setosa->Iris-setosa\n",
      "Iris-virginica->Iris-virginica\n",
      "Iris-virginica->Iris-virginica\n",
      "Iris-versicolor->Iris-versicolor\n",
      "Iris-versicolor->Iris-versicolor\n",
      "Iris-versicolor->Iris-versicolor\n",
      "Iris-setosa->Iris-setosa\n",
      "Iris-versicolor->Iris-versicolor\n",
      "Iris-versicolor->Iris-versicolor\n",
      "Iris-virginica->Iris-virginica\n",
      "Iris-versicolor->Iris-versicolor\n",
      "Iris-setosa->Iris-setosa\n",
      "Iris-versicolor->Iris-virginica\n",
      "Iris-versicolor->Iris-virginica\n",
      "Iris-virginica->Iris-virginica\n",
      "Iris-setosa->Iris-setosa\n",
      "Iris-versicolor->Iris-versicolor\n",
      "Iris-virginica->Iris-virginica\n",
      "Iris-setosa->Iris-setosa\n",
      "Iris-versicolor->Iris-versicolor\n",
      "Iris-setosa->Iris-setosa\n",
      "Iris-setosa->Iris-setosa\n",
      "Iris-versicolor->Iris-versicolor\n",
      "Iris-setosa->Iris-setosa\n",
      "Iris-versicolor->Iris-versicolor\n",
      "Iris-virginica->Iris-virginica\n",
      "Iris-setosa->Iris-setosa\n"
     ]
    }
   ],
   "source": [
    "# step07 -->   test the model\n",
    "\n",
    "\n",
    "# save predicted values of model\n",
    "label_pred= model.predict(feature_test)\n",
    "\n",
    "# check predicted values of model whether they are correct or not\n",
    "total_values=0\n",
    "correct_values=0\n",
    "for t,p in zip(label_test, label_pred):\n",
    "    print(t+\"->\"+p)\n",
    "    \n",
    "    total_values = total_values+1\n",
    "    \n",
    "    if(t==p):\n",
    "        correct_values=correct_values+1"
   ]
  },
  {
   "cell_type": "code",
   "execution_count": 56,
   "metadata": {},
   "outputs": [
    {
     "name": "stdout",
     "output_type": "stream",
     "text": [
      "Total number of testing values:  38\n",
      "Total number of testing values which are correct:  36\n",
      "Percentage of correct prediction by Model:  94.73684210526315\n"
     ]
    }
   ],
   "source": [
    "# step08 -->   find the percetange of prediction \n",
    "\n",
    "print(\"Total number of testing values: \",total_values)\n",
    "print(\"Total number of testing values which are correct: \",correct_values)\n",
    "\n",
    "acc=(correct_values/len(label_test))*100\n",
    "print(\"Percentage of correct prediction by Model: \",acc)"
   ]
  },
  {
   "cell_type": "code",
   "execution_count": 18,
   "metadata": {},
   "outputs": [
    {
     "name": "stdout",
     "output_type": "stream",
     "text": [
      "Enter sepal_len(cm):6.3\n",
      "Enter sepal_width(cm):5.2\n",
      "Enter petal_len(cm):3.2\n",
      "Enter petal_width(cm):2.3\n",
      "predicted value by model:  ['Iris-versicolor']\n"
     ]
    }
   ],
   "source": [
    "# step09 -->   test the model by user input \n",
    "\n",
    "sepal_len=float(input(\"Enter sepal_len(cm):\"))\n",
    "sepal_width=float(input(\"Enter sepal_width(cm):\"))\n",
    "petal_len=float(input(\"Enter petal_len(cm):\"))\n",
    "petal_width=float(input(\"Enter petal_width(cm):\"))\n",
    "\n",
    "x=np.array([sepal_len,sepal_width,petal_len,petal_width])\n",
    "\n",
    "new_label= model.predict(x.reshape(1,-1))\n",
    "\n",
    "print(\"predicted value by model: \",new_label)"
   ]
  },
  {
   "cell_type": "markdown",
   "metadata": {},
   "source": [
    "## Task02"
   ]
  },
  {
   "cell_type": "code",
   "execution_count": 41,
   "metadata": {},
   "outputs": [
    {
     "data": {
      "text/html": [
       "<div>\n",
       "<style scoped>\n",
       "    .dataframe tbody tr th:only-of-type {\n",
       "        vertical-align: middle;\n",
       "    }\n",
       "\n",
       "    .dataframe tbody tr th {\n",
       "        vertical-align: top;\n",
       "    }\n",
       "\n",
       "    .dataframe thead th {\n",
       "        text-align: right;\n",
       "    }\n",
       "</style>\n",
       "<table border=\"1\" class=\"dataframe\">\n",
       "  <thead>\n",
       "    <tr style=\"text-align: right;\">\n",
       "      <th></th>\n",
       "      <th>day</th>\n",
       "      <th>outlook</th>\n",
       "      <th>temp</th>\n",
       "      <th>humidity</th>\n",
       "      <th>wind</th>\n",
       "      <th>play</th>\n",
       "    </tr>\n",
       "  </thead>\n",
       "  <tbody>\n",
       "    <tr>\n",
       "      <th>9</th>\n",
       "      <td>D10</td>\n",
       "      <td>Rain</td>\n",
       "      <td>Mild</td>\n",
       "      <td>Normal</td>\n",
       "      <td>Weak</td>\n",
       "      <td>Yes</td>\n",
       "    </tr>\n",
       "    <tr>\n",
       "      <th>4</th>\n",
       "      <td>D5</td>\n",
       "      <td>Rain</td>\n",
       "      <td>Cool</td>\n",
       "      <td>Normal</td>\n",
       "      <td>Weak</td>\n",
       "      <td>Yes</td>\n",
       "    </tr>\n",
       "    <tr>\n",
       "      <th>7</th>\n",
       "      <td>D8</td>\n",
       "      <td>Sunny</td>\n",
       "      <td>Mild</td>\n",
       "      <td>High</td>\n",
       "      <td>Weak</td>\n",
       "      <td>No</td>\n",
       "    </tr>\n",
       "    <tr>\n",
       "      <th>0</th>\n",
       "      <td>D1</td>\n",
       "      <td>Sunny</td>\n",
       "      <td>Hot</td>\n",
       "      <td>High</td>\n",
       "      <td>Weak</td>\n",
       "      <td>No</td>\n",
       "    </tr>\n",
       "    <tr>\n",
       "      <th>10</th>\n",
       "      <td>D11</td>\n",
       "      <td>Sunny</td>\n",
       "      <td>Mild</td>\n",
       "      <td>Normal</td>\n",
       "      <td>Strong</td>\n",
       "      <td>Yes</td>\n",
       "    </tr>\n",
       "  </tbody>\n",
       "</table>\n",
       "</div>"
      ],
      "text/plain": [
       "    day outlook  temp humidity    wind play\n",
       "9   D10    Rain  Mild   Normal    Weak  Yes\n",
       "4    D5    Rain  Cool   Normal    Weak  Yes\n",
       "7    D8   Sunny  Mild     High    Weak   No\n",
       "0    D1   Sunny   Hot     High    Weak   No\n",
       "10  D11   Sunny  Mild   Normal  Strong  Yes"
      ]
     },
     "execution_count": 41,
     "metadata": {},
     "output_type": "execute_result"
    }
   ],
   "source": [
    "import pandas as pd\n",
    "import numpy as np\n",
    "from sklearn.linear_model import LinearRegression \n",
    "from sklearn.preprocessing import LabelEncoder\n",
    "\n",
    "# step01 --> select a data set for training and testing\n",
    "\n",
    "dataset = pd.read_csv(\"C:\\\\Users\\\\HP\\\\Desktop\\\\Git_AI_Work\\\\AI & Machine Learning Algorithms\\\\datasets\\\\tennis.csv\")\n",
    "\n",
    "dataset=dataset.sample(frac=1) # for rows shuffling\n",
    "\n",
    "dataset.head()"
   ]
  },
  {
   "cell_type": "code",
   "execution_count": 42,
   "metadata": {},
   "outputs": [
    {
     "data": {
      "text/html": [
       "<div>\n",
       "<style scoped>\n",
       "    .dataframe tbody tr th:only-of-type {\n",
       "        vertical-align: middle;\n",
       "    }\n",
       "\n",
       "    .dataframe tbody tr th {\n",
       "        vertical-align: top;\n",
       "    }\n",
       "\n",
       "    .dataframe thead th {\n",
       "        text-align: right;\n",
       "    }\n",
       "</style>\n",
       "<table border=\"1\" class=\"dataframe\">\n",
       "  <thead>\n",
       "    <tr style=\"text-align: right;\">\n",
       "      <th></th>\n",
       "      <th>day</th>\n",
       "      <th>outlook</th>\n",
       "      <th>temp</th>\n",
       "      <th>humidity</th>\n",
       "      <th>wind</th>\n",
       "      <th>play</th>\n",
       "    </tr>\n",
       "  </thead>\n",
       "  <tbody>\n",
       "    <tr>\n",
       "      <th>9</th>\n",
       "      <td>1</td>\n",
       "      <td>1</td>\n",
       "      <td>2</td>\n",
       "      <td>1</td>\n",
       "      <td>1</td>\n",
       "      <td>1</td>\n",
       "    </tr>\n",
       "    <tr>\n",
       "      <th>4</th>\n",
       "      <td>9</td>\n",
       "      <td>1</td>\n",
       "      <td>0</td>\n",
       "      <td>1</td>\n",
       "      <td>1</td>\n",
       "      <td>1</td>\n",
       "    </tr>\n",
       "    <tr>\n",
       "      <th>7</th>\n",
       "      <td>12</td>\n",
       "      <td>2</td>\n",
       "      <td>2</td>\n",
       "      <td>0</td>\n",
       "      <td>1</td>\n",
       "      <td>0</td>\n",
       "    </tr>\n",
       "    <tr>\n",
       "      <th>0</th>\n",
       "      <td>0</td>\n",
       "      <td>2</td>\n",
       "      <td>1</td>\n",
       "      <td>0</td>\n",
       "      <td>1</td>\n",
       "      <td>0</td>\n",
       "    </tr>\n",
       "    <tr>\n",
       "      <th>10</th>\n",
       "      <td>2</td>\n",
       "      <td>2</td>\n",
       "      <td>2</td>\n",
       "      <td>1</td>\n",
       "      <td>0</td>\n",
       "      <td>1</td>\n",
       "    </tr>\n",
       "  </tbody>\n",
       "</table>\n",
       "</div>"
      ],
      "text/plain": [
       "    day  outlook  temp  humidity  wind  play\n",
       "9     1        1     2         1     1     1\n",
       "4     9        1     0         1     1     1\n",
       "7    12        2     2         0     1     0\n",
       "0     0        2     1         0     1     0\n",
       "10    2        2     2         1     0     1"
      ]
     },
     "execution_count": 42,
     "metadata": {},
     "output_type": "execute_result"
    }
   ],
   "source": [
    "#Encode String Labels\n",
    "day_enc = LabelEncoder().fit(dataset['day'])\n",
    "dataset['day']= day_enc.transform(dataset['day'])\n",
    "\n",
    "outlook_enc = LabelEncoder().fit(dataset['outlook'])\n",
    "dataset['outlook']= outlook_enc.transform(dataset['outlook'])\n",
    "\n",
    "temp_enc = LabelEncoder().fit(dataset['temp'])\n",
    "dataset['temp']= temp_enc.transform(dataset['temp'])\n",
    "\n",
    "humidity_enc = LabelEncoder().fit(dataset['humidity'])\n",
    "dataset['humidity']= humidity_enc.transform(dataset['humidity'])\n",
    "\n",
    "wind_enc = LabelEncoder().fit(dataset['wind'])\n",
    "dataset['wind']= wind_enc.transform(dataset['wind'])\n",
    "\n",
    "play_enc = LabelEncoder().fit(dataset['play'])\n",
    "dataset['play']= play_enc.transform(dataset['play'])\n",
    "\n",
    "dataset.head()"
   ]
  },
  {
   "cell_type": "code",
   "execution_count": 43,
   "metadata": {},
   "outputs": [],
   "source": [
    "############# step02 --> seperate features and labels from dataset\n",
    "features = dataset.values[:,1:5]  #x\n",
    "labels= dataset.values[:,5] # y\n",
    "\n",
    "############# step04 -->  seperate data for training and testing purpose:\n",
    "max_index=int(len(dataset)*int(60)/100) #find last index num for 75% training data\n",
    "\n",
    "# seperate features and labels from Training dataset\n",
    "feature_train=features[0:max_index, :]\n",
    "label_train=labels[0:max_index]\n",
    "\n",
    "\n",
    "# seperate features and labels from Testing dataset\n",
    "feature_test=features[max_index:, :]\n",
    "label_test=labels[max_index:]"
   ]
  },
  {
   "cell_type": "code",
   "execution_count": 44,
   "metadata": {},
   "outputs": [
    {
     "data": {
      "text/plain": [
       "LinearRegression(copy_X=True, fit_intercept=True, n_jobs=None,\n",
       "         normalize=False)"
      ]
     },
     "execution_count": 44,
     "metadata": {},
     "output_type": "execute_result"
    }
   ],
   "source": [
    "############# step05 Build Model and Train the model using train data \n",
    "model = LinearRegression()\n",
    "\n",
    "############## step06 -->   train the model\n",
    "model.fit(feature_train, label_train)"
   ]
  },
  {
   "cell_type": "code",
   "execution_count": 45,
   "metadata": {},
   "outputs": [
    {
     "name": "stdout",
     "output_type": "stream",
     "text": [
      "1 -> 0.3820224719101139\n",
      "1 -> 1.123595505617978\n",
      "1 -> 0.38202247191011346\n",
      "1 -> 0.44943820224719294\n",
      "0 -> 0.24719101123595624\n",
      "1 -> 0.5168539325842685\n"
     ]
    }
   ],
   "source": [
    "# ############### step07 -->   test the model\n",
    "\n",
    "\n",
    "# label_pred = model.predict(feature_test)\n",
    "\n",
    "# # for i in range(len(label_pred)):\n",
    "# #     if(label_pred[i]>0.5):\n",
    "# #         label_pred[i]=1\n",
    "# #     else:\n",
    "# #         label_pred[i]=0\n",
    "\n",
    "# # check predicted values of model whether they are correct or not\n",
    "# total_values=0\n",
    "# correct_values=0\n",
    "# for t,p in zip(label_test, label_pred):\n",
    "#     print(t,\"->\",p)\n",
    "    \n",
    "#     total_values = total_values+1\n",
    "    \n",
    "#     if(t==p):\n",
    "#         correct_values=correct_values+1"
   ]
  },
  {
   "cell_type": "code",
   "execution_count": 39,
   "metadata": {},
   "outputs": [
    {
     "name": "stdout",
     "output_type": "stream",
     "text": [
      "Total number of testing values:  2\n",
      "Total number of testing values which are correct:  0\n",
      "Percentage of correct prediction by Model:  0.0\n"
     ]
    }
   ],
   "source": [
    "# ################ step08 -->   find the percetange of prediction \n",
    "\n",
    "# print(\"Total number of testing values: \",total_values)\n",
    "# print(\"Total number of testing values which are correct: \",correct_values)\n",
    "\n",
    "# acc=(correct_values/len(label_test))*100\n",
    "# print(\"Percentage of correct prediction by Model: \",acc)"
   ]
  },
  {
   "cell_type": "code",
   "execution_count": 48,
   "metadata": {},
   "outputs": [
    {
     "name": "stdout",
     "output_type": "stream",
     "text": [
      "Enter input with comma_sep values: outlook, temp, humidity, wind : Sunny,Mild,High,Weak\n",
      "Tennis match take place: NO\n"
     ]
    }
   ],
   "source": [
    "#Function to create user _int\n",
    "def user_int():\n",
    "    #Take User input and create User interface to interact with model\n",
    "    outlook,temp,humidity,wind = input(\"Enter input with comma_sep values: outlook, temp, humidity, wind : \").split(',')\n",
    "    new_features = [outlook_enc.transform([outlook]),temp_enc.transform([temp]),humidity_enc.transform([humidity]),wind_enc.transform([wind])]\n",
    "    new_features = np.array(new_features)\n",
    "    new_outcome = model.predict(new_features.reshape(1,-1))\n",
    "    return new_features,new_outcome\n",
    "\n",
    "#Function calling    \n",
    "new_features,new_outcome = user_int()\n",
    "\n",
    "if(new_outcome>=0.5):\n",
    "    print(\"Tennis match take place: YES\")\n",
    "else:\n",
    "    print(\"Tennis match take place: NO\")"
   ]
  },
  {
   "cell_type": "code",
   "execution_count": null,
   "metadata": {},
   "outputs": [],
   "source": []
  }
 ],
 "metadata": {
  "kernelspec": {
   "display_name": "Python 3",
   "language": "python",
   "name": "python3"
  },
  "language_info": {
   "codemirror_mode": {
    "name": "ipython",
    "version": 3
   },
   "file_extension": ".py",
   "mimetype": "text/x-python",
   "name": "python",
   "nbconvert_exporter": "python",
   "pygments_lexer": "ipython3",
   "version": "3.7.3"
  }
 },
 "nbformat": 4,
 "nbformat_minor": 2
}
