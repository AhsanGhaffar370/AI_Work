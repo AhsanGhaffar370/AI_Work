{
 "cells": [
  {
   "cell_type": "code",
   "execution_count": 1,
   "metadata": {},
   "outputs": [],
   "source": [
    "# from tensorflow.keras.datasets import reuters\n",
    "# (train_data, train_labels), (test_data, test_labels) = reuters.load_data(\n",
    "# num_words=10000)"
   ]
  },
  {
   "cell_type": "code",
   "execution_count": 2,
   "metadata": {},
   "outputs": [
    {
     "data": {
      "text/plain": [
       "8982"
      ]
     },
     "execution_count": 2,
     "metadata": {},
     "output_type": "execute_result"
    }
   ],
   "source": [
    "len(train_data)"
   ]
  },
  {
   "cell_type": "code",
   "execution_count": 3,
   "metadata": {},
   "outputs": [
    {
     "data": {
      "text/plain": [
       "2246"
      ]
     },
     "execution_count": 3,
     "metadata": {},
     "output_type": "execute_result"
    }
   ],
   "source": [
    "len(test_data)"
   ]
  },
  {
   "cell_type": "code",
   "execution_count": 4,
   "metadata": {},
   "outputs": [
    {
     "data": {
      "text/plain": [
       "[1,\n",
       " 245,\n",
       " 273,\n",
       " 207,\n",
       " 156,\n",
       " 53,\n",
       " 74,\n",
       " 160,\n",
       " 26,\n",
       " 14,\n",
       " 46,\n",
       " 296,\n",
       " 26,\n",
       " 39,\n",
       " 74,\n",
       " 2979,\n",
       " 3554,\n",
       " 14,\n",
       " 46,\n",
       " 4689,\n",
       " 4329,\n",
       " 86,\n",
       " 61,\n",
       " 3499,\n",
       " 4795,\n",
       " 14,\n",
       " 61,\n",
       " 451,\n",
       " 4329,\n",
       " 17,\n",
       " 12]"
      ]
     },
     "execution_count": 4,
     "metadata": {},
     "output_type": "execute_result"
    }
   ],
   "source": [
    "train_data[10]"
   ]
  },
  {
   "cell_type": "code",
   "execution_count": 5,
   "metadata": {},
   "outputs": [],
   "source": [
    "# Decoding newswires back to text\n",
    "word_index = reuters.get_word_index()\n",
    "\n",
    "reverse_word_index = dict([(value, key) for (key, value) in word_index.items()])\n",
    "\n",
    "decoded_newswire = ' '.join([reverse_word_index.get(i - 3, '?') for i in train_data[0]])"
   ]
  },
  {
   "cell_type": "code",
   "execution_count": 6,
   "metadata": {},
   "outputs": [],
   "source": [
    "# Preparing the data\n",
    "# Encoding the data\n",
    "\n",
    "import numpy as np\n",
    "def vectorize_sequences(sequences, dimension=10000):\n",
    "    results = np.zeros((len(sequences), dimension))\n",
    "    for i, sequence in enumerate(sequences):\n",
    "        results[i, sequence] = 1.\n",
    "    return results\n",
    "x_train = vectorize_sequences(train_data)\n",
    "x_test = vectorize_sequences(test_data)"
   ]
  },
  {
   "cell_type": "code",
   "execution_count": 7,
   "metadata": {},
   "outputs": [],
   "source": [
    "def to_one_hot(labels, dimension=46):\n",
    "    results = np.zeros((len(labels), dimension))\n",
    "    \n",
    "    for i, label in enumerate(labels):\n",
    "        results[i, label] = 1.\n",
    "        \n",
    "    return results\n",
    "\n",
    "one_hot_train_labels = to_one_hot(train_labels)\n",
    "one_hot_test_labels = to_one_hot(test_labels)"
   ]
  },
  {
   "cell_type": "code",
   "execution_count": 8,
   "metadata": {},
   "outputs": [],
   "source": [
    "from tensorflow.keras.utils import to_categorical\n",
    "one_hot_train_labels = to_categorical(train_labels)\n",
    "one_hot_test_labels = to_categorical(test_labels)"
   ]
  },
  {
   "cell_type": "code",
   "execution_count": 9,
   "metadata": {},
   "outputs": [],
   "source": [
    "from tensorflow.keras import models\n",
    "from tensorflow.keras import layers\n",
    "model = models.Sequential()\n",
    "model.add(layers.Dense(64, activation='relu', input_shape=(10000,)))\n",
    "model.add(layers.Dense(64, activation='relu'))\n",
    "model.add(layers.Dense(46, activation='softmax'))"
   ]
  },
  {
   "cell_type": "code",
   "execution_count": 10,
   "metadata": {},
   "outputs": [],
   "source": [
    "model.compile(optimizer='rmsprop',\n",
    "loss='categorical_crossentropy',\n",
    "metrics=['accuracy'])"
   ]
  },
  {
   "cell_type": "code",
   "execution_count": 11,
   "metadata": {},
   "outputs": [],
   "source": [
    "x_val = x_train[:1000]\n",
    "partial_x_train = x_train[1000:]\n",
    "y_val = one_hot_train_labels[:1000]\n",
    "partial_y_train = one_hot_train_labels[1000:]"
   ]
  },
  {
   "cell_type": "code",
   "execution_count": 12,
   "metadata": {},
   "outputs": [
    {
     "name": "stdout",
     "output_type": "stream",
     "text": [
      "Train on 7982 samples, validate on 1000 samples\n",
      "Epoch 1/20\n",
      "7982/7982 [==============================] - 2s 201us/sample - loss: 2.5579 - accuracy: 0.5223 - val_loss: 1.7381 - val_accuracy: 0.6360\n",
      "Epoch 2/20\n",
      "7982/7982 [==============================] - 1s 145us/sample - loss: 1.4392 - accuracy: 0.7023 - val_loss: 1.3374 - val_accuracy: 0.7030\n",
      "Epoch 3/20\n",
      "7982/7982 [==============================] - 1s 145us/sample - loss: 1.0842 - accuracy: 0.7716 - val_loss: 1.1604 - val_accuracy: 0.7530\n",
      "Epoch 4/20\n",
      "7982/7982 [==============================] - 1s 154us/sample - loss: 0.8590 - accuracy: 0.8182 - val_loss: 1.0596 - val_accuracy: 0.7820\n",
      "Epoch 5/20\n",
      "7982/7982 [==============================] - 1s 149us/sample - loss: 0.6850 - accuracy: 0.8552 - val_loss: 1.0032 - val_accuracy: 0.7840\n",
      "Epoch 6/20\n",
      "7982/7982 [==============================] - 1s 162us/sample - loss: 0.5482 - accuracy: 0.8839 - val_loss: 0.9504 - val_accuracy: 0.7990\n",
      "Epoch 7/20\n",
      "7982/7982 [==============================] - 1s 143us/sample - loss: 0.4459 - accuracy: 0.9089 - val_loss: 0.9162 - val_accuracy: 0.8070\n",
      "Epoch 8/20\n",
      "7982/7982 [==============================] - 1s 145us/sample - loss: 0.3602 - accuracy: 0.9252 - val_loss: 0.9072 - val_accuracy: 0.8050\n",
      "Epoch 9/20\n",
      "7982/7982 [==============================] - 1s 143us/sample - loss: 0.2967 - accuracy: 0.9380 - val_loss: 0.8936 - val_accuracy: 0.8140\n",
      "Epoch 10/20\n",
      "7982/7982 [==============================] - 1s 149us/sample - loss: 0.2497 - accuracy: 0.9449 - val_loss: 0.9496 - val_accuracy: 0.8020\n",
      "Epoch 11/20\n",
      "7982/7982 [==============================] - 1s 143us/sample - loss: 0.2123 - accuracy: 0.9479 - val_loss: 0.9426 - val_accuracy: 0.8040\n",
      "Epoch 12/20\n",
      "7982/7982 [==============================] - 1s 137us/sample - loss: 0.1855 - accuracy: 0.9500 - val_loss: 0.9168 - val_accuracy: 0.8070\n",
      "Epoch 13/20\n",
      "7982/7982 [==============================] - 1s 141us/sample - loss: 0.1696 - accuracy: 0.9515 - val_loss: 0.9918 - val_accuracy: 0.7970\n",
      "Epoch 14/20\n",
      "7982/7982 [==============================] - 1s 138us/sample - loss: 0.1533 - accuracy: 0.9545 - val_loss: 0.9563 - val_accuracy: 0.8070\n",
      "Epoch 15/20\n",
      "7982/7982 [==============================] - 1s 139us/sample - loss: 0.1424 - accuracy: 0.9538 - val_loss: 1.0270 - val_accuracy: 0.7910\n",
      "Epoch 16/20\n",
      "7982/7982 [==============================] - 1s 138us/sample - loss: 0.1309 - accuracy: 0.9579 - val_loss: 1.1957 - val_accuracy: 0.7710\n",
      "Epoch 17/20\n",
      "7982/7982 [==============================] - 1s 142us/sample - loss: 0.1258 - accuracy: 0.9579 - val_loss: 1.0532 - val_accuracy: 0.7950\n",
      "Epoch 18/20\n",
      "7982/7982 [==============================] - 1s 139us/sample - loss: 0.1244 - accuracy: 0.9578 - val_loss: 1.0257 - val_accuracy: 0.8000\n",
      "Epoch 19/20\n",
      "7982/7982 [==============================] - 1s 138us/sample - loss: 0.1172 - accuracy: 0.9555 - val_loss: 1.0416 - val_accuracy: 0.7980\n",
      "Epoch 20/20\n",
      "7982/7982 [==============================] - 1s 136us/sample - loss: 0.1093 - accuracy: 0.9587 - val_loss: 1.0811 - val_accuracy: 0.8020\n"
     ]
    }
   ],
   "source": [
    "history = model.fit(partial_x_train,\n",
    "partial_y_train,\n",
    "epochs=20,\n",
    "batch_size=512,\n",
    "validation_data=(x_val, y_val))"
   ]
  },
  {
   "cell_type": "code",
   "execution_count": 13,
   "metadata": {},
   "outputs": [
    {
     "data": {
      "text/plain": [
       "<Figure size 640x480 with 1 Axes>"
      ]
     },
     "metadata": {},
     "output_type": "display_data"
    }
   ],
   "source": [
    "import matplotlib.pyplot as plt\n",
    "loss = history.history['loss']\n",
    "val_loss = history.history['val_loss']\n",
    "epochs = range(1, len(loss) + 1)\n",
    "plt.plot(epochs, loss, 'bo', label='Training loss')\n",
    "plt.plot(epochs, val_loss, 'b', label='Validation loss')\n",
    "plt.title('Training and validation loss')\n",
    "plt.xlabel('Epochs')\n",
    "plt.ylabel('Loss')\n",
    "plt.legend()\n",
    "plt.show()"
   ]
  },
  {
   "cell_type": "code",
   "execution_count": 14,
   "metadata": {},
   "outputs": [
    {
     "data": {
      "image/png": "[encoded data removed]",
      "text/plain": [
       "<Figure size 432x288 with 1 Axes>"
      ]
     },
     "metadata": {
      "needs_background": "light"
     },
     "output_type": "display_data"
    }
   ],
   "source": [
    "plt.clf()\n",
    "acc1 = history.history['accuracy']\n",
    "val_acc = history.history['val_accuracy']\n",
    "plt.plot(epochs, acc1, 'bo', label='Training acc')\n",
    "plt.plot(epochs, val_acc, 'b', label='Validation acc')\n",
    "plt.title('Training and validation accuracy')\n",
    "plt.xlabel('Epochs')\n",
    "plt.ylabel('Loss')\n",
    "plt.legend()\n",
    "plt.show()"
   ]
  },
  {
   "cell_type": "code",
   "execution_count": null,
   "metadata": {},
   "outputs": [],
   "source": []
  }
 ],
 "metadata": {
  "kernelspec": {
   "display_name": "Python 3",
   "language": "python",
   "name": "python3"
  },
  "language_info": {
   "codemirror_mode": {
    "name": "ipython",
    "version": 3
   },
   "file_extension": ".py",
   "mimetype": "text/x-python",
   "name": "python",
   "nbconvert_exporter": "python",
   "pygments_lexer": "ipython3",
   "version": "3.7.3"
  }
 },
 "nbformat": 4,
 "nbformat_minor": 2
}
