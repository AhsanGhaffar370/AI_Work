{
 "cells": [
  {
   "cell_type": "markdown",
   "metadata": {},
   "source": [
    "## Classifying newswires:\n",
    "### a multiclass classification example:\n",
    "\n",
    "##### For detailed description. visit the IMDB example"
   ]
  },
  {
   "cell_type": "code",
   "execution_count": null,
   "metadata": {},
   "outputs": [],
   "source": [
    "from tensorflow.keras.datasets import reuters\n",
    "(train_data, train_labels), (test_data, test_labels) = reuters.load_data( num_words=10000)"
   ]
  },
  {
   "cell_type": "code",
   "execution_count": 2,
   "metadata": {},
   "outputs": [
    {
     "data": {
      "text/plain": [
       "8982"
      ]
     },
     "execution_count": 2,
     "metadata": {},
     "output_type": "execute_result"
    }
   ],
   "source": [
    "len(train_data)"
   ]
  },
  {
   "cell_type": "code",
   "execution_count": 3,
   "metadata": {},
   "outputs": [
    {
     "data": {
      "text/plain": [
       "2246"
      ]
     },
     "execution_count": 3,
     "metadata": {},
     "output_type": "execute_result"
    }
   ],
   "source": [
    "len(test_data)"
   ]
  },
  {
   "cell_type": "code",
   "execution_count": 8,
   "metadata": {},
   "outputs": [
    {
     "data": {
      "text/plain": [
       "'? ? ? said as a result of its december acquisition of space co it expects earnings per share in 1987 of 1 15 to 1 30 dlrs per share up from 70 cts in 1986 the company said pretax net should rise to nine to 10 mln dlrs from six mln dlrs in 1986 and rental operation revenues to 19 to 22 mln dlrs from 12 5 mln dlrs it said cash flow per share this year should be 2 50 to three dlrs reuter 3'"
      ]
     },
     "execution_count": 8,
     "metadata": {},
     "output_type": "execute_result"
    }
   ],
   "source": [
    "# Decoding newswires back to text\n",
    "word_index = reuters.get_word_index()\n",
    "\n",
    "reverse_word_index = dict([(value, key) for (key, value) in word_index.items()])\n",
    "\n",
    "decoded_newswire = ' '.join([reverse_word_index.get(i - 3, '?') for i in train_data[0]])\n",
    "\n",
    "decoded_newswire"
   ]
  },
  {
   "cell_type": "code",
   "execution_count": 9,
   "metadata": {},
   "outputs": [],
   "source": [
    "# vectorizing the features"
   ]
  },
  {
   "cell_type": "code",
   "execution_count": 10,
   "metadata": {},
   "outputs": [],
   "source": [
    "# Preparing the data\n",
    "# Encoding the integer sequences into a binary matrix\n",
    "\n",
    "import numpy as np\n",
    "def vectorize_sequences(sequences, dimension=10000):\n",
    "    results = np.zeros((len(sequences), dimension))\n",
    "    for i, sequence in enumerate(sequences):\n",
    "        results[i, sequence] = 1.\n",
    "    return results\n",
    "\n",
    "x_train = vectorize_sequences(train_data)\n",
    "x_test = vectorize_sequences(test_data)"
   ]
  },
  {
   "cell_type": "code",
   "execution_count": 11,
   "metadata": {},
   "outputs": [],
   "source": [
    "# vectorizing the labels"
   ]
  },
  {
   "cell_type": "code",
   "execution_count": 12,
   "metadata": {},
   "outputs": [],
   "source": [
    "# To vectorize the labels, there are two possibilities: \n",
    "# 1.  you can cast the label list as an integer tensor.\n",
    "# 2.  you can use one-hot encoding. \n",
    "# One-hot encoding is a widely used format for categorical data, also called categorical encoding.\n",
    "\n",
    "# One-hot encoding\n",
    "\n",
    "# def to_one_hot(labels, dimension=46):\n",
    "#     results = np.zeros((len(labels), dimension))  \n",
    "#     for i, label in enumerate(labels):\n",
    "#         results[i, label] = 1. \n",
    "#     return results\n",
    "\n",
    "# one_hot_train_labels = to_one_hot(train_labels)\n",
    "# one_hot_test_labels = to_one_hot(test_labels)\n",
    "\n",
    "\n",
    "# there is a built-in way to do this in Keras\n",
    "from tensorflow.keras.utils import to_categorical\n",
    "\n",
    "one_hot_train_labels = to_categorical(train_labels)\n",
    "one_hot_test_labels = to_categorical(test_labels)"
   ]
  },
  {
   "cell_type": "code",
   "execution_count": 14,
   "metadata": {},
   "outputs": [],
   "source": [
    "# There are three other things you should note about this architecture:\n",
    "    \n",
    "#  You end the network with a Dense layer of size 46. This means for each input sample, the \n",
    "# network will output a 46-dimensional vector.\n",
    "\n",
    "#  The last layer uses a softmax activation. You saw this pattern in the MNIST example. It means \n",
    "# the network will output a probability distribution over the 46 different output classes.\n",
    "\n",
    "#  The best loss function to use in this case is categorical_crossentropy. It measures\n",
    "# the distance between two probability distributions.\n",
    "\n",
    "from tensorflow.keras import models\n",
    "from tensorflow.keras import layers\n",
    "model = models.Sequential()\n",
    "model.add(layers.Dense(64, activation='relu', input_shape=(10000,)))\n",
    "model.add(layers.Dense(64, activation='relu'))\n",
    "model.add(layers.Dense(46, activation='softmax'))"
   ]
  },
  {
   "cell_type": "code",
   "execution_count": 15,
   "metadata": {},
   "outputs": [],
   "source": [
    "# compiling the model\n",
    "\n",
    "model.compile(optimizer='rmsprop',\n",
    "loss='categorical_crossentropy', # categorical_crosentropy(multiclass classification problem)\n",
    "metrics=['accuracy'])"
   ]
  },
  {
   "cell_type": "code",
   "execution_count": 16,
   "metadata": {},
   "outputs": [],
   "source": [
    "# Validating your approach\n",
    "\n",
    "# Setting aside a validation set\n",
    "# Let’s set apart 1,000 samples in the training data to use as a validation set.\n",
    "\n",
    "x_val = x_train[:1000]\n",
    "partial_x_train = x_train[1000:]\n",
    "y_val = one_hot_train_labels[:1000]\n",
    "partial_y_train = one_hot_train_labels[1000:]"
   ]
  },
  {
   "cell_type": "code",
   "execution_count": 17,
   "metadata": {},
   "outputs": [
    {
     "name": "stdout",
     "output_type": "stream",
     "text": [
      "Train on 7982 samples, validate on 1000 samples\n",
      "Epoch 1/20\n",
      "7982/7982 [==============================] - 2s 215us/sample - loss: 2.6487 - accuracy: 0.5408 - val_loss: 1.7499 - val_accuracy: 0.6480\n",
      "Epoch 2/20\n",
      "7982/7982 [==============================] - 1s 162us/sample - loss: 1.4026 - accuracy: 0.7091 - val_loss: 1.3180 - val_accuracy: 0.7190\n",
      "Epoch 3/20\n",
      "7982/7982 [==============================] - 1s 154us/sample - loss: 1.0340 - accuracy: 0.7826 - val_loss: 1.1368 - val_accuracy: 0.7630\n",
      "Epoch 4/20\n",
      "7982/7982 [==============================] - 1s 152us/sample - loss: 0.8178 - accuracy: 0.8329 - val_loss: 1.0384 - val_accuracy: 0.7850\n",
      "Epoch 5/20\n",
      "7982/7982 [==============================] - 1s 165us/sample - loss: 0.6538 - accuracy: 0.8657 - val_loss: 0.9865 - val_accuracy: 0.8000\n",
      "Epoch 6/20\n",
      "7982/7982 [==============================] - 1s 151us/sample - loss: 0.5259 - accuracy: 0.8925 - val_loss: 0.9381 - val_accuracy: 0.8080\n",
      "Epoch 7/20\n",
      "7982/7982 [==============================] - 1s 147us/sample - loss: 0.4248 - accuracy: 0.9117 - val_loss: 0.9094 - val_accuracy: 0.8160\n",
      "Epoch 8/20\n",
      "7982/7982 [==============================] - 1s 148us/sample - loss: 0.3448 - accuracy: 0.9268 - val_loss: 0.9177 - val_accuracy: 0.8180\n",
      "Epoch 9/20\n",
      "7982/7982 [==============================] - 1s 144us/sample - loss: 0.2915 - accuracy: 0.9351 - val_loss: 0.8999 - val_accuracy: 0.8200\n",
      "Epoch 10/20\n",
      "7982/7982 [==============================] - 1s 139us/sample - loss: 0.2461 - accuracy: 0.9440 - val_loss: 0.9379 - val_accuracy: 0.8190\n",
      "Epoch 11/20\n",
      "7982/7982 [==============================] - 1s 146us/sample - loss: 0.2108 - accuracy: 0.9476 - val_loss: 0.9118 - val_accuracy: 0.8240\n",
      "Epoch 12/20\n",
      "7982/7982 [==============================] - 1s 152us/sample - loss: 0.1917 - accuracy: 0.9516 - val_loss: 0.9684 - val_accuracy: 0.8060\n",
      "Epoch 13/20\n",
      "7982/7982 [==============================] - 1s 165us/sample - loss: 0.1664 - accuracy: 0.9525 - val_loss: 0.9882 - val_accuracy: 0.8030\n",
      "Epoch 14/20\n",
      "7982/7982 [==============================] - 1s 150us/sample - loss: 0.1535 - accuracy: 0.9567 - val_loss: 0.9685 - val_accuracy: 0.8170\n",
      "Epoch 15/20\n",
      "7982/7982 [==============================] - 1s 150us/sample - loss: 0.1435 - accuracy: 0.9559 - val_loss: 1.0298 - val_accuracy: 0.7980\n",
      "Epoch 16/20\n",
      "7982/7982 [==============================] - 1s 151us/sample - loss: 0.1378 - accuracy: 0.9560 - val_loss: 0.9985 - val_accuracy: 0.8070\n",
      "Epoch 17/20\n",
      "7982/7982 [==============================] - 1s 147us/sample - loss: 0.1263 - accuracy: 0.9564 - val_loss: 1.1055 - val_accuracy: 0.7930\n",
      "Epoch 18/20\n",
      "7982/7982 [==============================] - 1s 142us/sample - loss: 0.1240 - accuracy: 0.9564 - val_loss: 1.0723 - val_accuracy: 0.7950\n",
      "Epoch 19/20\n",
      "7982/7982 [==============================] - 1s 152us/sample - loss: 0.1190 - accuracy: 0.9560 - val_loss: 1.1459 - val_accuracy: 0.7940\n",
      "Epoch 20/20\n",
      "7982/7982 [==============================] - 1s 143us/sample - loss: 0.1177 - accuracy: 0.9569 - val_loss: 1.0968 - val_accuracy: 0.8000\n"
     ]
    }
   ],
   "source": [
    "# Training the model\n",
    "\n",
    "history = model.fit(partial_x_train,partial_y_train,\n",
    "                    epochs=20,batch_size=512,\n",
    "                    validation_data=(x_val, y_val))"
   ]
  },
  {
   "cell_type": "code",
   "execution_count": 19,
   "metadata": {},
   "outputs": [
    {
     "data": {
      "image/png": "[encoded data removed]",
      "text/plain": [
       "<Figure size 432x288 with 1 Axes>"
      ]
     },
     "metadata": {
      "needs_background": "light"
     },
     "output_type": "display_data"
    }
   ],
   "source": [
    "# Plotting the training and validation loss\n",
    "\n",
    "import matplotlib.pyplot as plt\n",
    "loss = history.history['loss']\n",
    "val_loss = history.history['val_loss']\n",
    "epochs = range(1, len(loss) + 1)\n",
    "plt.plot(epochs, loss, 'bo', label='Training loss')\n",
    "plt.plot(epochs, val_loss, 'b', label='Validation loss')\n",
    "plt.title('Training and validation loss')\n",
    "plt.xlabel('Epochs')\n",
    "plt.ylabel('Loss')\n",
    "plt.legend()\n",
    "plt.show()"
   ]
  },
  {
   "cell_type": "code",
   "execution_count": 20,
   "metadata": {},
   "outputs": [
    {
     "data": {
      "image/png": "[encoded data removed]",
      "text/plain": [
       "<Figure size 432x288 with 1 Axes>"
      ]
     },
     "metadata": {
      "needs_background": "light"
     },
     "output_type": "display_data"
    }
   ],
   "source": [
    "# Plotting the training and validation accuracy\n",
    "\n",
    "plt.clf()\n",
    "acc1 = history.history['accuracy']\n",
    "val_acc = history.history['val_accuracy']\n",
    "plt.plot(epochs, acc1, 'bo', label='Training acc')\n",
    "plt.plot(epochs, val_acc, 'b', label='Validation acc')\n",
    "plt.title('Training and validation accuracy')\n",
    "plt.xlabel('Epochs')\n",
    "plt.ylabel('Loss')\n",
    "plt.legend()\n",
    "plt.show()"
   ]
  },
  {
   "cell_type": "code",
   "execution_count": 21,
   "metadata": {},
   "outputs": [],
   "source": [
    "# After analyzing the graph, we suggest that\n",
    "\n",
    "# The network begins to overfit after nine epochs. Let’s train a new network from\n",
    "# scratch for nine epochs and then evaluate it on the test set."
   ]
  },
  {
   "cell_type": "code",
   "execution_count": 22,
   "metadata": {},
   "outputs": [
    {
     "name": "stdout",
     "output_type": "stream",
     "text": [
      "Train on 7982 samples, validate on 1000 samples\n",
      "Epoch 1/9\n",
      "7982/7982 [==============================] - 2s 207us/sample - loss: 2.6764 - accuracy: 0.4781 - val_loss: 1.7377 - val_accuracy: 0.6430\n",
      "Epoch 2/9\n",
      "7982/7982 [==============================] - 1s 147us/sample - loss: 1.4155 - accuracy: 0.7126 - val_loss: 1.2947 - val_accuracy: 0.7200\n",
      "Epoch 3/9\n",
      "7982/7982 [==============================] - 1s 143us/sample - loss: 1.0463 - accuracy: 0.7760 - val_loss: 1.1278 - val_accuracy: 0.7470\n",
      "Epoch 4/9\n",
      "7982/7982 [==============================] - 1s 137us/sample - loss: 0.8246 - accuracy: 0.8218 - val_loss: 1.0456 - val_accuracy: 0.7710\n",
      "Epoch 5/9\n",
      "7982/7982 [==============================] - 1s 144us/sample - loss: 0.6656 - accuracy: 0.8581 - val_loss: 0.9604 - val_accuracy: 0.8000\n",
      "Epoch 6/9\n",
      "7982/7982 [==============================] - 1s 140us/sample - loss: 0.5351 - accuracy: 0.8905 - val_loss: 0.9334 - val_accuracy: 0.8050\n",
      "Epoch 7/9\n",
      "7982/7982 [==============================] - 1s 140us/sample - loss: 0.4368 - accuracy: 0.9097 - val_loss: 0.8987 - val_accuracy: 0.8160\n",
      "Epoch 8/9\n",
      "7982/7982 [==============================] - 1s 143us/sample - loss: 0.3547 - accuracy: 0.9273 - val_loss: 0.9129 - val_accuracy: 0.8080\n",
      "Epoch 9/9\n",
      "7982/7982 [==============================] - 1s 137us/sample - loss: 0.2937 - accuracy: 0.9356 - val_loss: 0.8896 - val_accuracy: 0.8190\n"
     ]
    },
    {
     "data": {
      "text/plain": [
       "<tensorflow.python.keras.callbacks.History at 0x281cc5d2198>"
      ]
     },
     "execution_count": 22,
     "metadata": {},
     "output_type": "execute_result"
    }
   ],
   "source": [
    "model = models.Sequential()\n",
    "\n",
    "model.add(layers.Dense(64, activation='relu', input_shape=(10000,)))\n",
    "model.add(layers.Dense(64, activation='relu'))\n",
    "model.add(layers.Dense(46, activation='softmax'))\n",
    "\n",
    "model.compile(optimizer='rmsprop',\n",
    "loss='categorical_crossentropy',\n",
    "metrics=['accuracy'])\n",
    "\n",
    "model.fit(partial_x_train,partial_y_train,\n",
    "          epochs=9,batch_size=512,\n",
    "          validation_data=(x_val, y_val))"
   ]
  },
  {
   "cell_type": "code",
   "execution_count": 23,
   "metadata": {},
   "outputs": [
    {
     "name": "stdout",
     "output_type": "stream",
     "text": [
      "2246/2246 [==============================] - 0s 140us/sample - loss: 1.0006 - accuracy: 0.7832\n"
     ]
    }
   ],
   "source": [
    "results = model.evaluate(x_test, one_hot_test_labels)"
   ]
  },
  {
   "cell_type": "code",
   "execution_count": 24,
   "metadata": {},
   "outputs": [
    {
     "data": {
      "text/plain": [
       "[1.0005925378943805, 0.7831701]"
      ]
     },
     "execution_count": 24,
     "metadata": {},
     "output_type": "execute_result"
    }
   ],
   "source": [
    "results"
   ]
  },
  {
   "cell_type": "code",
   "execution_count": null,
   "metadata": {},
   "outputs": [],
   "source": []
  }
 ],
 "metadata": {
  "kernelspec": {
   "display_name": "Python 3",
   "language": "python",
   "name": "python3"
  },
  "language_info": {
   "codemirror_mode": {
    "name": "ipython",
    "version": 3
   },
   "file_extension": ".py",
   "mimetype": "text/x-python",
   "name": "python",
   "nbconvert_exporter": "python",
   "pygments_lexer": "ipython3",
   "version": "3.7.3"
  }
 },
 "nbformat": 4,
 "nbformat_minor": 2
}
