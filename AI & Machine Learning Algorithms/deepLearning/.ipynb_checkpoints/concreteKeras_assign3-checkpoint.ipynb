{
 "cells": [
  {
   "cell_type": "code",
   "execution_count": null,
   "metadata": {},
   "outputs": [],
   "source": [
    "# Load Data\n",
    "# Check Missing Values ( If Exist ; Fill each record with mean of its feature )\n",
    "# Split into 50% Training(Samples,Labels) , 30% Test(Samples,Labels) and 20% Validation Data(Samples,Labels).\n",
    "# Model : input Layer (No. of features ), 3 hidden layers including 10,8,6 unit & Output Layer with activation function relu/tanh (check by experiment).\n",
    "# Compilation Step (Note : Its a Regression problem , select loss , metrics according to it)\n",
    "# Train the Model with Epochs (100) and validate it\n",
    "# If the model gets overfit tune your model by changing the units , No. of layers , activation function , epochs , add dropout layer or add Regularizer according to the need .\n",
    "# Evaluation Step\n",
    "# Prediction"
   ]
  },
  {
   "cell_type": "code",
   "execution_count": 7,
   "metadata": {},
   "outputs": [
    {
     "data": {
      "text/html": [
       "<div>\n",
       "<style scoped>\n",
       "    .dataframe tbody tr th:only-of-type {\n",
       "        vertical-align: middle;\n",
       "    }\n",
       "\n",
       "    .dataframe tbody tr th {\n",
       "        vertical-align: top;\n",
       "    }\n",
       "\n",
       "    .dataframe thead th {\n",
       "        text-align: right;\n",
       "    }\n",
       "</style>\n",
       "<table border=\"1\" class=\"dataframe\">\n",
       "  <thead>\n",
       "    <tr style=\"text-align: right;\">\n",
       "      <th></th>\n",
       "      <th>Cement (component 1)(kg in a m^3 mixture)</th>\n",
       "      <th>Blast Furnace Slag (component 2)(kg in a m^3 mixture)</th>\n",
       "      <th>Fly Ash (component 3)(kg in a m^3 mixture)</th>\n",
       "      <th>Water  (component 4)(kg in a m^3 mixture)</th>\n",
       "      <th>Superplasticizer (component 5)(kg in a m^3 mixture)</th>\n",
       "      <th>Coarse Aggregate  (component 6)(kg in a m^3 mixture)</th>\n",
       "      <th>Fine Aggregate (component 7)(kg in a m^3 mixture)</th>\n",
       "      <th>Age (day)</th>\n",
       "      <th>Concrete compressive strength(MPa, megapascals)</th>\n",
       "    </tr>\n",
       "  </thead>\n",
       "  <tbody>\n",
       "    <tr>\n",
       "      <th>420</th>\n",
       "      <td>165.0</td>\n",
       "      <td>128.5</td>\n",
       "      <td>132.1</td>\n",
       "      <td>175.1</td>\n",
       "      <td>8.1</td>\n",
       "      <td>1005.8</td>\n",
       "      <td>746.6</td>\n",
       "      <td>14</td>\n",
       "      <td>33.09</td>\n",
       "    </tr>\n",
       "    <tr>\n",
       "      <th>180</th>\n",
       "      <td>439.0</td>\n",
       "      <td>177.0</td>\n",
       "      <td>0.0</td>\n",
       "      <td>186.0</td>\n",
       "      <td>11.1</td>\n",
       "      <td>884.9</td>\n",
       "      <td>707.9</td>\n",
       "      <td>91</td>\n",
       "      <td>73.30</td>\n",
       "    </tr>\n",
       "    <tr>\n",
       "      <th>710</th>\n",
       "      <td>250.2</td>\n",
       "      <td>166.8</td>\n",
       "      <td>0.0</td>\n",
       "      <td>203.5</td>\n",
       "      <td>0.0</td>\n",
       "      <td>977.6</td>\n",
       "      <td>694.1</td>\n",
       "      <td>28</td>\n",
       "      <td>36.96</td>\n",
       "    </tr>\n",
       "    <tr>\n",
       "      <th>965</th>\n",
       "      <td>330.5</td>\n",
       "      <td>169.6</td>\n",
       "      <td>0.0</td>\n",
       "      <td>194.9</td>\n",
       "      <td>8.1</td>\n",
       "      <td>811.0</td>\n",
       "      <td>802.3</td>\n",
       "      <td>28</td>\n",
       "      <td>56.62</td>\n",
       "    </tr>\n",
       "    <tr>\n",
       "      <th>219</th>\n",
       "      <td>166.1</td>\n",
       "      <td>0.0</td>\n",
       "      <td>163.3</td>\n",
       "      <td>176.5</td>\n",
       "      <td>4.5</td>\n",
       "      <td>1058.6</td>\n",
       "      <td>780.1</td>\n",
       "      <td>3</td>\n",
       "      <td>10.76</td>\n",
       "    </tr>\n",
       "  </tbody>\n",
       "</table>\n",
       "</div>"
      ],
      "text/plain": [
       "     Cement (component 1)(kg in a m^3 mixture)  \\\n",
       "420                                      165.0   \n",
       "180                                      439.0   \n",
       "710                                      250.2   \n",
       "965                                      330.5   \n",
       "219                                      166.1   \n",
       "\n",
       "     Blast Furnace Slag (component 2)(kg in a m^3 mixture)  \\\n",
       "420                                              128.5       \n",
       "180                                              177.0       \n",
       "710                                              166.8       \n",
       "965                                              169.6       \n",
       "219                                                0.0       \n",
       "\n",
       "     Fly Ash (component 3)(kg in a m^3 mixture)  \\\n",
       "420                                       132.1   \n",
       "180                                         0.0   \n",
       "710                                         0.0   \n",
       "965                                         0.0   \n",
       "219                                       163.3   \n",
       "\n",
       "     Water  (component 4)(kg in a m^3 mixture)  \\\n",
       "420                                      175.1   \n",
       "180                                      186.0   \n",
       "710                                      203.5   \n",
       "965                                      194.9   \n",
       "219                                      176.5   \n",
       "\n",
       "     Superplasticizer (component 5)(kg in a m^3 mixture)  \\\n",
       "420                                                8.1     \n",
       "180                                               11.1     \n",
       "710                                                0.0     \n",
       "965                                                8.1     \n",
       "219                                                4.5     \n",
       "\n",
       "     Coarse Aggregate  (component 6)(kg in a m^3 mixture)  \\\n",
       "420                                             1005.8      \n",
       "180                                              884.9      \n",
       "710                                              977.6      \n",
       "965                                              811.0      \n",
       "219                                             1058.6      \n",
       "\n",
       "     Fine Aggregate (component 7)(kg in a m^3 mixture)  Age (day)  \\\n",
       "420                                              746.6         14   \n",
       "180                                              707.9         91   \n",
       "710                                              694.1         28   \n",
       "965                                              802.3         28   \n",
       "219                                              780.1          3   \n",
       "\n",
       "     Concrete compressive strength(MPa, megapascals)   \n",
       "420                                             33.09  \n",
       "180                                             73.30  \n",
       "710                                             36.96  \n",
       "965                                             56.62  \n",
       "219                                             10.76  "
      ]
     },
     "execution_count": 7,
     "metadata": {},
     "output_type": "execute_result"
    }
   ],
   "source": [
    "import numpy as np\n",
    "import pandas as pd\n",
    "import random\n",
    "import sklearn.preprocessing as pp\n",
    "\n",
    "# step01 --> select a data set for training and testing\n",
    "# data_set=pd.read_csv(\"C:\\\\Users\\\\Ahsan Ghaffar\\\\Desktop\\\\Git_AI_Work\\\\AI & Machine Learning Algorithms\\\\data anaysis\\\\sonar.csv\", header=None)\n",
    "data_set=pd.read_csv(\"compresive_strength_concrete.csv\")\n",
    "\n",
    "data_set=data_set.sample(frac=1)\n",
    "data_set.head(5)"
   ]
  },
  {
   "cell_type": "code",
   "execution_count": 8,
   "metadata": {},
   "outputs": [],
   "source": [
    "# df.drop(['0', '1']) remove row\n",
    "\n",
    "# data_set.fillna(data_set.mean())"
   ]
  },
  {
   "cell_type": "code",
   "execution_count": 9,
   "metadata": {},
   "outputs": [],
   "source": [
    "features = data_set.values[:, :-1]  #x\n",
    "labels= data_set.values[: , -1]  # y\n",
    "\n",
    "\n",
    "train=70\n",
    "index=int(len(data_set)*int(train)/100) #find last index num for 70% training data\n",
    "\n",
    "index1=int(len(data_set)*int(20)/100) ## find 20% for validation\n",
    "index1=index+index1\n",
    "\n",
    "\n",
    "\n",
    "feature_train=features[0:index,:]\n",
    "label_train=labels[0:index]\n",
    "\n",
    "validation_train=features[index:index1,:]\n",
    "validation_test=labels[index:index1]\n",
    "\n",
    "feature_test=features[index1:len(data_set),:]\n",
    "label_test=labels[index1:len(data_set)]"
   ]
  },
  {
   "cell_type": "code",
   "execution_count": 10,
   "metadata": {},
   "outputs": [],
   "source": [
    "# x_train=data_set[data_set.columns[:-1]]\n",
    "# y_test=data_set[data_set.columns[-1]]\n",
    "\n",
    "# from sklearn.model_selection import train_test_split\n",
    "# x_train, x_test, y_train, y_test = train_test_split(x_train, y_test ,test_size = 0.2)\n",
    "\n"
   ]
  },
  {
   "cell_type": "code",
   "execution_count": 11,
   "metadata": {},
   "outputs": [],
   "source": [
    "from tensorflow.keras import models\n",
    "from tensorflow.keras import layers\n",
    "model = models.Sequential()\n",
    "model.add(layers.Dense(10, activation='relu', input_shape=(8,)))\n",
    "model.add(layers.Dense(8, activation='relu'))\n",
    "model.add(layers.Dense(6, activation='relu'))\n",
    "model.add(layers.Dense(1, activation='sigmoid'))"
   ]
  },
  {
   "cell_type": "code",
   "execution_count": 12,
   "metadata": {},
   "outputs": [
    {
     "name": "stdout",
     "output_type": "stream",
     "text": [
      "Train on 721 samples, validate on 206 samples\n",
      "Epoch 1/60\n",
      "721/721 [==============================] - 0s 686us/sample - loss: -1972.6097 - acc: 0.0000e+00 - val_loss: -2156.0088 - val_acc: 0.0000e+00\n",
      "Epoch 2/60\n",
      "721/721 [==============================] - 0s 15us/sample - loss: -2176.2371 - acc: 0.0000e+00 - val_loss: -2313.0032 - val_acc: 0.0000e+00\n",
      "Epoch 3/60\n",
      "721/721 [==============================] - 0s 17us/sample - loss: -2341.2173 - acc: 0.0000e+00 - val_loss: -2456.4038 - val_acc: 0.0000e+00\n",
      "Epoch 4/60\n",
      "721/721 [==============================] - 0s 15us/sample - loss: -2492.7043 - acc: 0.0000e+00 - val_loss: -2591.4941 - val_acc: 0.0000e+00\n",
      "Epoch 5/60\n",
      "721/721 [==============================] - 0s 26us/sample - loss: -2636.7817 - acc: 0.0000e+00 - val_loss: -2725.1675 - val_acc: 0.0000e+00\n",
      "Epoch 6/60\n",
      "721/721 [==============================] - 0s 17us/sample - loss: -2777.7312 - acc: 0.0000e+00 - val_loss: -2858.5588 - val_acc: 0.0000e+00\n",
      "Epoch 7/60\n",
      "721/721 [==============================] - 0s 15us/sample - loss: -2917.1072 - acc: 0.0000e+00 - val_loss: -2993.3965 - val_acc: 0.0000e+00\n",
      "Epoch 8/60\n",
      "721/721 [==============================] - 0s 17us/sample - loss: -3057.0090 - acc: 0.0000e+00 - val_loss: -3129.2300 - val_acc: 0.0000e+00\n",
      "Epoch 9/60\n",
      "721/721 [==============================] - 0s 15us/sample - loss: -3196.1726 - acc: 0.0000e+00 - val_loss: -3264.8872 - val_acc: 0.0000e+00\n",
      "Epoch 10/60\n",
      "721/721 [==============================] - 0s 14us/sample - loss: -3335.1096 - acc: 0.0000e+00 - val_loss: -3400.2715 - val_acc: 0.0000e+00\n",
      "Epoch 11/60\n",
      "721/721 [==============================] - 0s 14us/sample - loss: -3473.0222 - acc: 0.0000e+00 - val_loss: -3536.7173 - val_acc: 0.0000e+00\n",
      "Epoch 12/60\n",
      "721/721 [==============================] - 0s 14us/sample - loss: -3610.4910 - acc: 0.0000e+00 - val_loss: -3672.8540 - val_acc: 0.0000e+00\n",
      "Epoch 13/60\n",
      "721/721 [==============================] - 0s 15us/sample - loss: -3747.7168 - acc: 0.0000e+00 - val_loss: -3809.6550 - val_acc: 0.0000e+00\n",
      "Epoch 14/60\n",
      "721/721 [==============================] - 0s 15us/sample - loss: -3885.3152 - acc: 0.0000e+00 - val_loss: -3947.0947 - val_acc: 0.0000e+00\n",
      "Epoch 15/60\n",
      "721/721 [==============================] - 0s 18us/sample - loss: -4023.1438 - acc: 0.0000e+00 - val_loss: -4085.3708 - val_acc: 0.0000e+00\n",
      "Epoch 16/60\n",
      "721/721 [==============================] - 0s 19us/sample - loss: -4161.1001 - acc: 0.0000e+00 - val_loss: -4224.0283 - val_acc: 0.0000e+00\n",
      "Epoch 17/60\n",
      "721/721 [==============================] - 0s 26us/sample - loss: -4299.2949 - acc: 0.0000e+00 - val_loss: -4362.6685 - val_acc: 0.0000e+00\n",
      "Epoch 18/60\n",
      "721/721 [==============================] - 0s 19us/sample - loss: -4438.2441 - acc: 0.0000e+00 - val_loss: -4501.6318 - val_acc: 0.0000e+00\n",
      "Epoch 19/60\n",
      "721/721 [==============================] - 0s 19us/sample - loss: -4577.5928 - acc: 0.0000e+00 - val_loss: -4641.5557 - val_acc: 0.0000e+00\n",
      "Epoch 20/60\n",
      "721/721 [==============================] - 0s 21us/sample - loss: -4717.8677 - acc: 0.0000e+00 - val_loss: -4781.7817 - val_acc: 0.0000e+00\n",
      "Epoch 21/60\n",
      "721/721 [==============================] - 0s 18us/sample - loss: -4858.5435 - acc: 0.0000e+00 - val_loss: -4922.2554 - val_acc: 0.0000e+00\n",
      "Epoch 22/60\n",
      "721/721 [==============================] - 0s 19us/sample - loss: -4999.5234 - acc: 0.0000e+00 - val_loss: -5063.2559 - val_acc: 0.0000e+00\n",
      "Epoch 23/60\n",
      "721/721 [==============================] - 0s 21us/sample - loss: -5141.1016 - acc: 0.0000e+00 - val_loss: -5204.8730 - val_acc: 0.0000e+00\n",
      "Epoch 24/60\n",
      "721/721 [==============================] - 0s 18us/sample - loss: -5282.8848 - acc: 0.0000e+00 - val_loss: -5347.3892 - val_acc: 0.0000e+00\n",
      "Epoch 25/60\n",
      "721/721 [==============================] - 0s 18us/sample - loss: -5425.1958 - acc: 0.0000e+00 - val_loss: -5490.7627 - val_acc: 0.0000e+00\n",
      "Epoch 26/60\n",
      "721/721 [==============================] - 0s 19us/sample - loss: -5567.9717 - acc: 0.0000e+00 - val_loss: -5634.6870 - val_acc: 0.0000e+00\n",
      "Epoch 27/60\n",
      "721/721 [==============================] - 0s 18us/sample - loss: -5711.4395 - acc: 0.0000e+00 - val_loss: -5779.1699 - val_acc: 0.0000e+00\n",
      "Epoch 28/60\n",
      "721/721 [==============================] - 0s 15us/sample - loss: -5855.6401 - acc: 0.0000e+00 - val_loss: -5924.9219 - val_acc: 0.0000e+00\n",
      "Epoch 29/60\n",
      "721/721 [==============================] - 0s 18us/sample - loss: -6000.9526 - acc: 0.0000e+00 - val_loss: -6071.6245 - val_acc: 0.0000e+00\n",
      "Epoch 30/60\n",
      "721/721 [==============================] - 0s 18us/sample - loss: -6147.1172 - acc: 0.0000e+00 - val_loss: -6219.4482 - val_acc: 0.0000e+00\n",
      "Epoch 31/60\n",
      "721/721 [==============================] - 0s 17us/sample - loss: -6294.4390 - acc: 0.0000e+00 - val_loss: -6368.1543 - val_acc: 0.0000e+00\n",
      "Epoch 32/60\n",
      "721/721 [==============================] - 0s 22us/sample - loss: -6442.6650 - acc: 0.0000e+00 - val_loss: -6517.8647 - val_acc: 0.0000e+00\n",
      "Epoch 33/60\n",
      "721/721 [==============================] - 0s 18us/sample - loss: -6591.9390 - acc: 0.0000e+00 - val_loss: -6669.0117 - val_acc: 0.0000e+00\n",
      "Epoch 34/60\n",
      "721/721 [==============================] - 0s 17us/sample - loss: -6742.6289 - acc: 0.0000e+00 - val_loss: -6822.6729 - val_acc: 0.0000e+00\n",
      "Epoch 35/60\n",
      "721/721 [==============================] - 0s 18us/sample - loss: -6895.1001 - acc: 0.0000e+00 - val_loss: -6979.5708 - val_acc: 0.0000e+00\n",
      "Epoch 36/60\n",
      "721/721 [==============================] - 0s 17us/sample - loss: -7050.1533 - acc: 0.0000e+00 - val_loss: -7142.2104 - val_acc: 0.0000e+00\n",
      "Epoch 37/60\n",
      "721/721 [==============================] - 0s 18us/sample - loss: -7210.4526 - acc: 0.0000e+00 - val_loss: -7317.4790 - val_acc: 0.0000e+00\n",
      "Epoch 38/60\n",
      "721/721 [==============================] - 0s 18us/sample - loss: -7380.1270 - acc: 0.0000e+00 - val_loss: -7503.5200 - val_acc: 0.0000e+00\n",
      "Epoch 39/60\n",
      "721/721 [==============================] - 0s 15us/sample - loss: -7560.9126 - acc: 0.0000e+00 - val_loss: -7705.4976 - val_acc: 0.0000e+00\n",
      "Epoch 40/60\n",
      "721/721 [==============================] - 0s 18us/sample - loss: -7762.8662 - acc: 0.0000e+00 - val_loss: -7923.9653 - val_acc: 0.0000e+00\n",
      "Epoch 41/60\n",
      "721/721 [==============================] - 0s 17us/sample - loss: -7985.4751 - acc: 0.0000e+00 - val_loss: -8144.2817 - val_acc: 0.0000e+00\n",
      "Epoch 42/60\n",
      "721/721 [==============================] - 0s 17us/sample - loss: -8213.7051 - acc: 0.0000e+00 - val_loss: -8364.2920 - val_acc: 0.0000e+00\n",
      "Epoch 43/60\n",
      "721/721 [==============================] - 0s 17us/sample - loss: -8442.4873 - acc: 0.0000e+00 - val_loss: -8604.4688 - val_acc: 0.0000e+00\n",
      "Epoch 44/60\n",
      "721/721 [==============================] - 0s 18us/sample - loss: -8691.9902 - acc: 0.0000e+00 - val_loss: -8871.7910 - val_acc: 0.0000e+00\n",
      "Epoch 45/60\n",
      "721/721 [==============================] - 0s 17us/sample - loss: -8960.1064 - acc: 0.0000e+00 - val_loss: -9148.8545 - val_acc: 0.0000e+00\n",
      "Epoch 46/60\n",
      "721/721 [==============================] - 0s 24us/sample - loss: -9238.9551 - acc: 0.0000e+00 - val_loss: -9432.6494 - val_acc: 0.0000e+00\n",
      "Epoch 47/60\n",
      "721/721 [==============================] - 0s 18us/sample - loss: -9526.7764 - acc: 0.0000e+00 - val_loss: -9719.0859 - val_acc: 0.0000e+00\n",
      "Epoch 48/60\n",
      "721/721 [==============================] - 0s 24us/sample - loss: -9818.3594 - acc: 0.0000e+00 - val_loss: -10003.2783 - val_acc: 0.0000e+00\n",
      "Epoch 49/60\n",
      "721/721 [==============================] - 0s 19us/sample - loss: -10105.9697 - acc: 0.0000e+00 - val_loss: -10286.9004 - val_acc: 0.0000e+00\n",
      "Epoch 50/60\n",
      "721/721 [==============================] - 0s 19us/sample - loss: -10390.7402 - acc: 0.0000e+00 - val_loss: -10567.7803 - val_acc: 0.0000e+00\n",
      "Epoch 51/60\n",
      "721/721 [==============================] - 0s 17us/sample - loss: -10672.1133 - acc: 0.0000e+00 - val_loss: -10845.5811 - val_acc: 0.0000e+00\n",
      "Epoch 52/60\n",
      "721/721 [==============================] - 0s 14us/sample - loss: -10951.2480 - acc: 0.0000e+00 - val_loss: -11121.0215 - val_acc: 0.0000e+00\n",
      "Epoch 53/60\n",
      "721/721 [==============================] - 0s 15us/sample - loss: -11228.5332 - acc: 0.0000e+00 - val_loss: -11395.5918 - val_acc: 0.0000e+00\n",
      "Epoch 54/60\n",
      "721/721 [==============================] - 0s 15us/sample - loss: -11504.7471 - acc: 0.0000e+00 - val_loss: -11670.7451 - val_acc: 0.0000e+00\n"
     ]
    },
    {
     "name": "stdout",
     "output_type": "stream",
     "text": [
      "Epoch 55/60\n",
      "721/721 [==============================] - 0s 14us/sample - loss: -11780.2578 - acc: 0.0000e+00 - val_loss: -11946.3887 - val_acc: 0.0000e+00\n",
      "Epoch 56/60\n",
      "721/721 [==============================] - 0s 17us/sample - loss: -12055.6230 - acc: 0.0000e+00 - val_loss: -12222.5596 - val_acc: 0.0000e+00\n",
      "Epoch 57/60\n",
      "721/721 [==============================] - 0s 21us/sample - loss: -12332.0391 - acc: 0.0000e+00 - val_loss: -12501.4043 - val_acc: 0.0000e+00\n",
      "Epoch 58/60\n",
      "721/721 [==============================] - 0s 15us/sample - loss: -12610.7656 - acc: 0.0000e+00 - val_loss: -12782.3701 - val_acc: 0.0000e+00\n",
      "Epoch 59/60\n",
      "721/721 [==============================] - 0s 15us/sample - loss: -12892.5605 - acc: 0.0000e+00 - val_loss: -13064.1348 - val_acc: 0.0000e+00\n",
      "Epoch 60/60\n",
      "721/721 [==============================] - 0s 15us/sample - loss: -13176.6475 - acc: 0.0000e+00 - val_loss: -13347.5020 - val_acc: 0.0000e+00\n"
     ]
    }
   ],
   "source": [
    "model.compile(optimizer='rmsprop', loss='binary_crossentropy', metrics=['acc'])\n",
    "# history = model.fit(feature_train, label_train, epochs=20, batch_size=512, validation_data=(x_val, y_val))\n",
    "history = model.fit(feature_train, label_train, epochs=60, batch_size=index, validation_data=(validation_train, validation_test))"
   ]
  },
  {
   "cell_type": "code",
   "execution_count": 13,
   "metadata": {},
   "outputs": [
    {
     "data": {
      "text/plain": [
       "dict_keys(['loss', 'acc', 'val_loss', 'val_acc'])"
      ]
     },
     "execution_count": 13,
     "metadata": {},
     "output_type": "execute_result"
    }
   ],
   "source": [
    "history_dict = history.history\n",
    "history_dict.keys()"
   ]
  },
  {
   "cell_type": "code",
   "execution_count": 17,
   "metadata": {},
   "outputs": [
    {
     "data": {
      "image/png": "[encoded data removed]",
      "text/plain": [
       "<Figure size 432x288 with 1 Axes>"
      ]
     },
     "metadata": {
      "needs_background": "light"
     },
     "output_type": "display_data"
    }
   ],
   "source": [
    "# Plotting the training and validation loss\n",
    "\n",
    "import matplotlib.pyplot as plt\n",
    "history_dict = history.history\n",
    "loss_values = history_dict['loss']\n",
    "val_loss_values = history_dict['val_loss']\n",
    "epochs = range(1, len(history_dict['acc']) + 1)\n",
    "plt.plot(epochs, loss_values, 'bo', label='Training loss')\n",
    "plt.plot(epochs, val_loss_values, 'r', label='Validation loss')\n",
    "plt.title('Training and validation loss')\n",
    "plt.xlabel('Epochs')\n",
    "plt.ylabel('Loss')\n",
    "plt.legend()\n",
    "plt.show()"
   ]
  },
  {
   "cell_type": "code",
   "execution_count": 18,
   "metadata": {},
   "outputs": [
    {
     "data": {
      "image/png": "[encoded data removed]",
      "text/plain": [
       "<Figure size 432x288 with 1 Axes>"
      ]
     },
     "metadata": {
      "needs_background": "light"
     },
     "output_type": "display_data"
    }
   ],
   "source": [
    "# Plotting the training and validation accuracy\n",
    "\n",
    "plt.clf()\n",
    "acc_values = history_dict['acc']\n",
    "val_acc_values = history_dict['val_acc']\n",
    "plt.plot(epochs, history_dict['acc'], 'bo', label='Training acc')\n",
    "plt.plot(epochs, history_dict['val_acc'], 'r', label='Validation acc')\n",
    "plt.title('Training and validation accuracy')\n",
    "plt.xlabel('Epochs')\n",
    "plt.ylabel('Loss')\n",
    "plt.legend()\n",
    "plt.show()"
   ]
  },
  {
   "cell_type": "code",
   "execution_count": 19,
   "metadata": {},
   "outputs": [
    {
     "name": "stdout",
     "output_type": "stream",
     "text": [
      "103/103 [==============================] - 0s 90us/sample - loss: -12331.2361 - acc: 0.0000e+00\n",
      "loss -1233123.6062651698\n",
      "Accuracy 0.0\n"
     ]
    }
   ],
   "source": [
    "evaluate = model.evaluate(feature_test,label_test)\n",
    "print(\"loss\",evaluate[0]*100)\n",
    "print(\"Accuracy\",evaluate[1]*100)"
   ]
  },
  {
   "cell_type": "code",
   "execution_count": 20,
   "metadata": {},
   "outputs": [
    {
     "name": "stdout",
     "output_type": "stream",
     "text": [
      "721/721 [==============================] - 0s 44us/sample - loss: -13462.3589 - acc: 0.0000e+00\n",
      "loss -1346235.88928138\n",
      "Accuracy 0.0\n"
     ]
    }
   ],
   "source": [
    "evaluate = model.evaluate(feature_train,label_train)\n",
    "print(\"loss\",evaluate[0]*100)\n",
    "print(\"Accuracy\",evaluate[1]*100)"
   ]
  },
  {
   "cell_type": "code",
   "execution_count": null,
   "metadata": {},
   "outputs": [],
   "source": []
  }
 ],
 "metadata": {
  "kernelspec": {
   "display_name": "Python 3",
   "language": "python",
   "name": "python3"
  },
  "language_info": {
   "codemirror_mode": {
    "name": "ipython",
    "version": 3
   },
   "file_extension": ".py",
   "mimetype": "text/x-python",
   "name": "python",
   "nbconvert_exporter": "python",
   "pygments_lexer": "ipython3",
   "version": "3.7.3"
  }
 },
 "nbformat": 4,
 "nbformat_minor": 2
}
