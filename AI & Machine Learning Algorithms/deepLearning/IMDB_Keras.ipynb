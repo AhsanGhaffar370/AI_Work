{
 "cells": [
  {
   "cell_type": "markdown",
   "metadata": {},
   "source": [
    "# The IMDB dataset"
   ]
  },
  {
   "cell_type": "code",
   "execution_count": 40,
   "metadata": {},
   "outputs": [],
   "source": [
    "# You’ll work with the IMDB dataset: a set of 50,000 highly polarized reviews from the\n",
    "# Internet Movie Database. They’re split into 25,000 reviews for training and 25,000\n",
    "# reviews for testing, each set consisting of 50% negative and 50% positive reviews.\n",
    "\n",
    "from tensorflow.keras.datasets import imdb\n",
    "(feature_train, label_train), (feature_test, label_test) = imdb.load_data(num_words=10000)"
   ]
  },
  {
   "cell_type": "code",
   "execution_count": 41,
   "metadata": {},
   "outputs": [
    {
     "data": {
      "text/plain": [
       "[1,\n",
       " 14,\n",
       " 22,\n",
       " 16,\n",
       " 43,\n",
       " 530,\n",
       " 973,\n",
       " 1622,\n",
       " 1385,\n",
       " 65,\n",
       " 458,\n",
       " 4468,\n",
       " 66,\n",
       " 3941,\n",
       " 4,\n",
       " 173,\n",
       " 36,\n",
       " 256,\n",
       " 5,\n",
       " 25,\n",
       " 100,\n",
       " 43,\n",
       " 838,\n",
       " 112,\n",
       " 50,\n",
       " 670,\n",
       " 2,\n",
       " 9,\n",
       " 35,\n",
       " 480,\n",
       " 284,\n",
       " 5,\n",
       " 150,\n",
       " 4,\n",
       " 172,\n",
       " 112,\n",
       " 167,\n",
       " 2,\n",
       " 336,\n",
       " 385,\n",
       " 39,\n",
       " 4,\n",
       " 172,\n",
       " 4536,\n",
       " 1111,\n",
       " 17,\n",
       " 546,\n",
       " 38,\n",
       " 13,\n",
       " 447,\n",
       " 4,\n",
       " 192,\n",
       " 50,\n",
       " 16,\n",
       " 6,\n",
       " 147,\n",
       " 2025,\n",
       " 19,\n",
       " 14,\n",
       " 22,\n",
       " 4,\n",
       " 1920,\n",
       " 4613,\n",
       " 469,\n",
       " 4,\n",
       " 22,\n",
       " 71,\n",
       " 87,\n",
       " 12,\n",
       " 16,\n",
       " 43,\n",
       " 530,\n",
       " 38,\n",
       " 76,\n",
       " 15,\n",
       " 13,\n",
       " 1247,\n",
       " 4,\n",
       " 22,\n",
       " 17,\n",
       " 515,\n",
       " 17,\n",
       " 12,\n",
       " 16,\n",
       " 626,\n",
       " 18,\n",
       " 2,\n",
       " 5,\n",
       " 62,\n",
       " 386,\n",
       " 12,\n",
       " 8,\n",
       " 316,\n",
       " 8,\n",
       " 106,\n",
       " 5,\n",
       " 4,\n",
       " 2223,\n",
       " 5244,\n",
       " 16,\n",
       " 480,\n",
       " 66,\n",
       " 3785,\n",
       " 33,\n",
       " 4,\n",
       " 130,\n",
       " 12,\n",
       " 16,\n",
       " 38,\n",
       " 619,\n",
       " 5,\n",
       " 25,\n",
       " 124,\n",
       " 51,\n",
       " 36,\n",
       " 135,\n",
       " 48,\n",
       " 25,\n",
       " 1415,\n",
       " 33,\n",
       " 6,\n",
       " 22,\n",
       " 12,\n",
       " 215,\n",
       " 28,\n",
       " 77,\n",
       " 52,\n",
       " 5,\n",
       " 14,\n",
       " 407,\n",
       " 16,\n",
       " 82,\n",
       " 2,\n",
       " 8,\n",
       " 4,\n",
       " 107,\n",
       " 117,\n",
       " 5952,\n",
       " 15,\n",
       " 256,\n",
       " 4,\n",
       " 2,\n",
       " 7,\n",
       " 3766,\n",
       " 5,\n",
       " 723,\n",
       " 36,\n",
       " 71,\n",
       " 43,\n",
       " 530,\n",
       " 476,\n",
       " 26,\n",
       " 400,\n",
       " 317,\n",
       " 46,\n",
       " 7,\n",
       " 4,\n",
       " 2,\n",
       " 1029,\n",
       " 13,\n",
       " 104,\n",
       " 88,\n",
       " 4,\n",
       " 381,\n",
       " 15,\n",
       " 297,\n",
       " 98,\n",
       " 32,\n",
       " 2071,\n",
       " 56,\n",
       " 26,\n",
       " 141,\n",
       " 6,\n",
       " 194,\n",
       " 7486,\n",
       " 18,\n",
       " 4,\n",
       " 226,\n",
       " 22,\n",
       " 21,\n",
       " 134,\n",
       " 476,\n",
       " 26,\n",
       " 480,\n",
       " 5,\n",
       " 144,\n",
       " 30,\n",
       " 5535,\n",
       " 18,\n",
       " 51,\n",
       " 36,\n",
       " 28,\n",
       " 224,\n",
       " 92,\n",
       " 25,\n",
       " 104,\n",
       " 4,\n",
       " 226,\n",
       " 65,\n",
       " 16,\n",
       " 38,\n",
       " 1334,\n",
       " 88,\n",
       " 12,\n",
       " 16,\n",
       " 283,\n",
       " 5,\n",
       " 16,\n",
       " 4472,\n",
       " 113,\n",
       " 103,\n",
       " 32,\n",
       " 15,\n",
       " 16,\n",
       " 5345,\n",
       " 19,\n",
       " 178,\n",
       " 32]"
      ]
     },
     "execution_count": 41,
     "metadata": {},
     "output_type": "execute_result"
    }
   ],
   "source": [
    "# training data\n",
    "feature_train[0]"
   ]
  },
  {
   "cell_type": "code",
   "execution_count": 42,
   "metadata": {},
   "outputs": [
    {
     "data": {
      "text/plain": [
       "1"
      ]
     },
     "execution_count": 42,
     "metadata": {},
     "output_type": "execute_result"
    }
   ],
   "source": [
    "label_train[0]"
   ]
  },
  {
   "cell_type": "code",
   "execution_count": 43,
   "metadata": {},
   "outputs": [
    {
     "data": {
      "text/plain": [
       "9999"
      ]
     },
     "execution_count": 43,
     "metadata": {},
     "output_type": "execute_result"
    }
   ],
   "source": [
    "#find max num from dataset\n",
    "max([max(sequence) for sequence in feature_train])"
   ]
  },
  {
   "cell_type": "code",
   "execution_count": 44,
   "metadata": {},
   "outputs": [
    {
     "data": {
      "text/plain": [
       "\"|| this film was just brilliant casting location scenery story direction everyone's really suited the part they played and you could just imagine being there robert || is an amazing actor and now the same being director || father came from the same scottish island as myself so i loved the fact there was a real connection with this film the witty remarks throughout the film were great it was just brilliant so much that i bought the film as soon as it was released for || and would recommend it to everyone to watch and the fly fishing was amazing really cried at the end it was so sad and you know what they say if you cry at a film it must have been good and this definitely was also || to the two little boy's that played the || of norman and paul they were just brilliant children are often left out of the || list i think because the stars that play them all grown up are such a big profile for the whole film but these children are amazing and should be praised for what they have done don't you think the whole story was so lovely because it was true and was someone's life after all that was shared with us all\""
      ]
     },
     "execution_count": 44,
     "metadata": {},
     "output_type": "execute_result"
    }
   ],
   "source": [
    "# convert numeric data in readable format just for understanding.\n",
    "\n",
    "word_index = imdb.get_word_index()\n",
    "\n",
    "reverse_word_index = dict( [(value, key) for (key, value) in word_index.items()])\n",
    "\n",
    "decoded_review = ' '.join( [reverse_word_index.get(i - 3, '||') for i in feature_train[0]])\n",
    "\n",
    "decoded_review"
   ]
  },
  {
   "cell_type": "code",
   "execution_count": 45,
   "metadata": {},
   "outputs": [],
   "source": [
    "# Preparing the data:\n",
    "\n",
    "# You can’t feed lists of integers into a neural network. You have to turn your lists into tensors. \n",
    "# There are two ways to do that:\n",
    "    \n",
    "#  Pad your lists so that they all have same length, turn them into integer tensor of \n",
    "#    shape (samples, word_indices).\n",
    "#  One-hot encode your lists to turn them into vectors of 0s and 1s. This would mean, for instance, \n",
    "#    turning the sequence [3, 5] into a 10,000-dimensional vector that would be all 0s except for \n",
    "#    indices 3 and 5, which would be 1s.\n",
    "\n",
    "# Let’s go with the latter solution to vectorize the data, which you’ll do manually for\n",
    "# maximum clarity."
   ]
  },
  {
   "cell_type": "code",
   "execution_count": 46,
   "metadata": {},
   "outputs": [],
   "source": [
    "# Encoding the integer sequences into a binary matrix"
   ]
  },
  {
   "cell_type": "code",
   "execution_count": 47,
   "metadata": {},
   "outputs": [],
   "source": [
    "# vectorizing the features\n",
    "import numpy as np\n",
    "def vectorize_sequences(sequences, dimension=10000):\n",
    "    results = np.zeros((len(sequences), dimension))\n",
    "    for i, sequence in enumerate(sequences):\n",
    "        results[i, sequence] = 1.\n",
    "    return results\n",
    "\n",
    "feature_train = vectorize_sequences(feature_train)\n",
    "feature_test = vectorize_sequences(feature_test)\n",
    "\n",
    "# You should also vectorize your labels, which is straightforward:\n",
    "label_train = np.asarray(label_train).astype('float32')\n",
    "label_test = np.asarray(label_test).astype('float32')\n",
    "\n",
    "# Now the data is ready to be fed into a neural network."
   ]
  },
  {
   "cell_type": "code",
   "execution_count": 48,
   "metadata": {},
   "outputs": [],
   "source": [
    "# Validating your approach:\n",
    "# In order to monitor during training the accuracy of the model on data it has never\n",
    "# seen before, you’ll create a validation set by setting apart 10,000 samples from the\n",
    "# original training data.\n",
    "\n",
    "feature_validation = feature_train[:10000]\n",
    "feature_train2 = feature_train[10000:]\n",
    "\n",
    "label_validation = label_train[:10000]\n",
    "label_train2 = label_train[10000:]"
   ]
  },
  {
   "cell_type": "code",
   "execution_count": 49,
   "metadata": {},
   "outputs": [],
   "source": [
    "# The model definition\n",
    "\n",
    "# Sigmoid-->For binary classification, Sigmoid(tanh,Softmax) & their combinations work well.\n",
    "# ReLU --> most famous activation func. ReLu should be only used in hidden layers.\n",
    "# Softmax --> For binary & mulit classification we use softmax\n",
    "# Leaky ReLU --> It was proposed to fix the dying neurons problem of ReLu.\n",
    "\n",
    "# Always remember ReLu should be only used in hidden layers. Sigmoid and tanh should not be used \n",
    "# as activation function for the hidden layer. This is because of the vanishing gradient problem.\n",
    "\n",
    "from tensorflow.keras import models\n",
    "from tensorflow.keras import layers\n",
    "model = models.Sequential()\n",
    "model.add(layers.Dense(16, activation='relu', input_shape=(10000,)))\n",
    "model.add(layers.Dense(16, activation='relu'))\n",
    "model.add(layers.Dense(1, activation='sigmoid'))"
   ]
  },
  {
   "cell_type": "code",
   "execution_count": 50,
   "metadata": {},
   "outputs": [],
   "source": [
    "# compiling the model\n",
    "\n",
    "# Loss functions: (page#89 for detail):\n",
    "# o  binary_crosentropy(two class clasification problem)\n",
    "# o  categorical_crosentropy(multiclass classification problem)\n",
    "# o  sparse_categorical_crossentropy(With integer labels, you should use it)\n",
    "# o  mean_squared_error(mse)\n",
    "# o  connectionist_temporal_classification(CTC)\n",
    "\n",
    "model.compile(optimizer='rmsprop', loss='binary_crossentropy', metrics=['accuracy'])"
   ]
  },
  {
   "cell_type": "code",
   "execution_count": 51,
   "metadata": {},
   "outputs": [],
   "source": [
    "# Configuring the optimizer, metrices and loses\n",
    "\n",
    "# You’re passing your optimizer, loss function, and metrics as strings, which is possible because \n",
    "# rmsprop, binary_crossentropy, and accuracy are packaged as part of Keras. Sometimes you may want \n",
    "# to configure the parameters of your optimizer or pass a custom loss function or metric function.\n",
    "\n",
    "# Both above and below defined methods are same.\n",
    "\n",
    "\n",
    "# from tensorflow.keras import optimizers\n",
    "# from tensorflow.keras import losses\n",
    "# from tensorflow.keras import metrics\n",
    "\n",
    "# model.compile(optimizer=optimizers.RMSprop(lr=0.001), \n",
    "#               loss=losses.binary_crossentropy, \n",
    "#               metrics=[metrics.binary_accuracy])"
   ]
  },
  {
   "cell_type": "code",
   "execution_count": 52,
   "metadata": {},
   "outputs": [
    {
     "name": "stdout",
     "output_type": "stream",
     "text": [
      "Train on 15000 samples, validate on 10000 samples\n",
      "Epoch 1/20\n",
      "15000/15000 [==============================] - 2s 140us/sample - loss: 0.5127 - accuracy: 0.7945 - val_loss: 0.3932 - val_accuracy: 0.8629\n",
      "Epoch 2/20\n",
      "15000/15000 [==============================] - 2s 111us/sample - loss: 0.3103 - accuracy: 0.9033 - val_loss: 0.3251 - val_accuracy: 0.8726\n",
      "Epoch 3/20\n",
      "15000/15000 [==============================] - 2s 105us/sample - loss: 0.2305 - accuracy: 0.9251 - val_loss: 0.2808 - val_accuracy: 0.8885\n",
      "Epoch 4/20\n",
      "15000/15000 [==============================] - 2s 107us/sample - loss: 0.1822 - accuracy: 0.9405 - val_loss: 0.2726 - val_accuracy: 0.8894\n",
      "Epoch 5/20\n",
      "15000/15000 [==============================] - 2s 106us/sample - loss: 0.1456 - accuracy: 0.9553 - val_loss: 0.2990 - val_accuracy: 0.8805\n",
      "Epoch 6/20\n",
      "15000/15000 [==============================] - 2s 106us/sample - loss: 0.1219 - accuracy: 0.9607 - val_loss: 0.2866 - val_accuracy: 0.8862\n",
      "Epoch 7/20\n",
      "15000/15000 [==============================] - 2s 110us/sample - loss: 0.1010 - accuracy: 0.9705 - val_loss: 0.3062 - val_accuracy: 0.8823\n",
      "Epoch 8/20\n",
      "15000/15000 [==============================] - 2s 112us/sample - loss: 0.0849 - accuracy: 0.9763 - val_loss: 0.3218 - val_accuracy: 0.8833\n",
      "Epoch 9/20\n",
      "15000/15000 [==============================] - 2s 117us/sample - loss: 0.0684 - accuracy: 0.9827 - val_loss: 0.3856 - val_accuracy: 0.8719\n",
      "Epoch 10/20\n",
      "15000/15000 [==============================] - 2s 118us/sample - loss: 0.0564 - accuracy: 0.9861 - val_loss: 0.3727 - val_accuracy: 0.8779\n",
      "Epoch 11/20\n",
      "15000/15000 [==============================] - 2s 108us/sample - loss: 0.0459 - accuracy: 0.9893 - val_loss: 0.3998 - val_accuracy: 0.8784\n",
      "Epoch 12/20\n",
      "15000/15000 [==============================] - 2s 105us/sample - loss: 0.0375 - accuracy: 0.9921 - val_loss: 0.4358 - val_accuracy: 0.8710\n",
      "Epoch 13/20\n",
      "15000/15000 [==============================] - 2s 108us/sample - loss: 0.0303 - accuracy: 0.9941 - val_loss: 0.4638 - val_accuracy: 0.8686\n",
      "Epoch 14/20\n",
      "15000/15000 [==============================] - 2s 105us/sample - loss: 0.0242 - accuracy: 0.9959 - val_loss: 0.4983 - val_accuracy: 0.8686\n",
      "Epoch 15/20\n",
      "15000/15000 [==============================] - 2s 110us/sample - loss: 0.0225 - accuracy: 0.9959 - val_loss: 0.5253 - val_accuracy: 0.8686\n",
      "Epoch 16/20\n",
      "15000/15000 [==============================] - 2s 112us/sample - loss: 0.0130 - accuracy: 0.9990 - val_loss: 0.6540 - val_accuracy: 0.8531\n",
      "Epoch 17/20\n",
      "15000/15000 [==============================] - 2s 110us/sample - loss: 0.0140 - accuracy: 0.9975 - val_loss: 0.5845 - val_accuracy: 0.8670\n",
      "Epoch 18/20\n",
      "15000/15000 [==============================] - 2s 111us/sample - loss: 0.0074 - accuracy: 0.9997 - val_loss: 0.6201 - val_accuracy: 0.8660\n",
      "Epoch 19/20\n",
      "15000/15000 [==============================] - 2s 112us/sample - loss: 0.0106 - accuracy: 0.9977 - val_loss: 0.6394 - val_accuracy: 0.8658\n",
      "Epoch 20/20\n",
      "15000/15000 [==============================] - 2s 104us/sample - loss: 0.0071 - accuracy: 0.9991 - val_loss: 0.6727 - val_accuracy: 0.8672\n"
     ]
    }
   ],
   "source": [
    "# Training your model\n",
    "history = model.fit(feature_train2, label_train2, \n",
    "                    epochs=20, batch_size=512, \n",
    "                    validation_data=(feature_validation, label_validation))"
   ]
  },
  {
   "cell_type": "code",
   "execution_count": 53,
   "metadata": {},
   "outputs": [
    {
     "data": {
      "text/plain": [
       "dict_keys(['loss', 'accuracy', 'val_loss', 'val_accuracy'])"
      ]
     },
     "execution_count": 53,
     "metadata": {},
     "output_type": "execute_result"
    }
   ],
   "source": [
    "# Note that the call to model.fit() returns a History object. This object has a member\n",
    "# history, which is a dictionary containing data about everything that happened\n",
    "# during training. Let’s look at it:\n",
    "\n",
    "history_dict = history.history\n",
    "history_dict.keys()"
   ]
  },
  {
   "cell_type": "code",
   "execution_count": 54,
   "metadata": {},
   "outputs": [
    {
     "data": {
      "image/png": "[encoded data removed]",
      "text/plain": [
       "<Figure size 432x288 with 1 Axes>"
      ]
     },
     "metadata": {
      "needs_background": "light"
     },
     "output_type": "display_data"
    }
   ],
   "source": [
    "# Plotting the training and validation loss\n",
    "\n",
    "import matplotlib.pyplot as plt\n",
    "history_dict = history.history\n",
    "loss_values = history_dict['loss']\n",
    "val_loss_values = history_dict['val_loss']\n",
    "epochs = range(1, len(history_dict['accuracy']) + 1)\n",
    "plt.plot(epochs, loss_values, 'bo', label='Training loss')\n",
    "plt.plot(epochs, val_loss_values, 'b', label='Validation loss')\n",
    "plt.title('Training and validation loss')\n",
    "plt.xlabel('Epochs')\n",
    "plt.ylabel('Loss')\n",
    "plt.legend()\n",
    "plt.show()"
   ]
  },
  {
   "cell_type": "code",
   "execution_count": 55,
   "metadata": {},
   "outputs": [
    {
     "data": {
      "image/png": "[encoded data removed]",
      "text/plain": [
       "<Figure size 432x288 with 1 Axes>"
      ]
     },
     "metadata": {
      "needs_background": "light"
     },
     "output_type": "display_data"
    }
   ],
   "source": [
    "# Plotting the training and validation accuracy\n",
    "\n",
    "plt.clf()\n",
    "acc_values = history_dict['accuracy']\n",
    "val_acc_values = history_dict['val_accuracy']\n",
    "\n",
    "plt.plot(epochs, history_dict['accuracy'], 'bo', label='Training acc')\n",
    "plt.plot(epochs, history_dict['val_accuracy'], 'b', label='Validation acc')\n",
    "plt.title('Training and validation accuracy')\n",
    "plt.xlabel('Epochs')\n",
    "plt.ylabel('Loss')\n",
    "plt.legend()\n",
    "plt.show()"
   ]
  },
  {
   "cell_type": "code",
   "execution_count": 56,
   "metadata": {},
   "outputs": [],
   "source": [
    "# o As you can see, the training loss decreases with every epoch, and the training accuracy increases \n",
    "#   with every epoch. That’s what you would expect when running gradient descent optimization. \n",
    "    \n",
    "# o The quantity you’re trying to minimize should be less with every iteration. But that isn’t the case \n",
    "#   for validation loss and acc: they seem to peak at fourth epoch. This is an example of overfitting:\n",
    "  \n",
    "# o After the second epoch, you’re over optimizing on the training data, and you end up learning \n",
    "#   representations that are specific to the training data and don’t generalize to data outside of \n",
    "#   the training set.\n",
    "\n",
    "# o In this case, to prevent overfitting, you could stop training after three epochs. In eneral, you \n",
    "#   can use a range of techniques to mitigate overfitting, which we’ll cover in chapter 4."
   ]
  },
  {
   "cell_type": "code",
   "execution_count": 57,
   "metadata": {},
   "outputs": [],
   "source": [
    "# Let’s train a new network from scratch for four epochs and then evaluate it on the\n",
    "# test data."
   ]
  },
  {
   "cell_type": "code",
   "execution_count": 58,
   "metadata": {},
   "outputs": [],
   "source": [
    "# Retraining a model from scratch\n",
    "\n",
    "model = models.Sequential()\n",
    "model.add(layers.Dense(16, activation='relu', input_shape=(10000,)))\n",
    "model.add(layers.Dense(16, activation='relu'))\n",
    "model.add(layers.Dense(1, activation='sigmoid'))"
   ]
  },
  {
   "cell_type": "code",
   "execution_count": 59,
   "metadata": {},
   "outputs": [
    {
     "name": "stdout",
     "output_type": "stream",
     "text": [
      "Train on 15000 samples, validate on 10000 samples\n",
      "Epoch 1/4\n",
      "15000/15000 [==============================] - 2s 136us/sample - loss: 0.5253 - accuracy: 0.7747 - val_loss: 0.3897 - val_accuracy: 0.8630\n",
      "Epoch 2/4\n",
      "15000/15000 [==============================] - 2s 104us/sample - loss: 0.3110 - accuracy: 0.9013 - val_loss: 0.3119 - val_accuracy: 0.8832\n",
      "Epoch 3/4\n",
      "15000/15000 [==============================] - 2s 106us/sample - loss: 0.2243 - accuracy: 0.9294 - val_loss: 0.2802 - val_accuracy: 0.8905\n",
      "Epoch 4/4\n",
      "15000/15000 [==============================] - 2s 103us/sample - loss: 0.1769 - accuracy: 0.9437 - val_loss: 0.2886 - val_accuracy: 0.8855\n"
     ]
    }
   ],
   "source": [
    "model.compile(optimizer='rmsprop', loss='binary_crossentropy', metrics=['accuracy'])\n",
    "\n",
    "history = model.fit(feature_train2, label_train2, \n",
    "                    epochs=4, batch_size=512, \n",
    "                    validation_data=(feature_validation, label_validation))"
   ]
  },
  {
   "cell_type": "code",
   "execution_count": 60,
   "metadata": {},
   "outputs": [
    {
     "data": {
      "text/plain": [
       "dict_keys(['loss', 'accuracy', 'val_loss', 'val_accuracy'])"
      ]
     },
     "execution_count": 60,
     "metadata": {},
     "output_type": "execute_result"
    }
   ],
   "source": [
    "history_dict = history.history\n",
    "history_dict.keys()"
   ]
  },
  {
   "cell_type": "code",
   "execution_count": 61,
   "metadata": {},
   "outputs": [
    {
     "data": {
      "image/png": "[encoded data removed]",
      "text/plain": [
       "<Figure size 432x288 with 1 Axes>"
      ]
     },
     "metadata": {
      "needs_background": "light"
     },
     "output_type": "display_data"
    }
   ],
   "source": [
    "# Again Plotting the training and validation loss\n",
    "\n",
    "import matplotlib.pyplot as plt\n",
    "history_dict = history.history\n",
    "loss_values = history_dict['loss']\n",
    "val_loss_values = history_dict['val_loss']\n",
    "epochs = range(1, len(history_dict['accuracy']) + 1)\n",
    "plt.plot(epochs, loss_values, 'bo', label='Training loss')\n",
    "plt.plot(epochs, val_loss_values, 'b', label='Validation loss')\n",
    "plt.title('Training and validation loss')\n",
    "plt.xlabel('Epochs')\n",
    "plt.ylabel('Loss')\n",
    "plt.legend()\n",
    "plt.show()"
   ]
  },
  {
   "cell_type": "code",
   "execution_count": 62,
   "metadata": {},
   "outputs": [
    {
     "data": {
      "image/png": "[encoded data removed]",
      "text/plain": [
       "<Figure size 432x288 with 1 Axes>"
      ]
     },
     "metadata": {
      "needs_background": "light"
     },
     "output_type": "display_data"
    }
   ],
   "source": [
    "# Again Plotting the training and validation accuracy\n",
    "\n",
    "plt.clf()\n",
    "acc_values = history_dict['accuracy']\n",
    "val_acc_values = history_dict['val_accuracy']\n",
    "\n",
    "plt.plot(epochs, history_dict['accuracy'], 'bo', label='Training acc')\n",
    "plt.plot(epochs, history_dict['val_accuracy'], 'b', label='Validation acc')\n",
    "plt.title('Training and validation accuracy')\n",
    "plt.xlabel('Epochs')\n",
    "plt.ylabel('Loss')\n",
    "plt.legend()\n",
    "plt.show()"
   ]
  },
  {
   "cell_type": "code",
   "execution_count": 65,
   "metadata": {},
   "outputs": [
    {
     "name": "stdout",
     "output_type": "stream",
     "text": [
      "25000/25000 [==============================] - 2s 94us/sample - loss: 0.3034 - accuracy: 0.8764\n"
     ]
    },
    {
     "data": {
      "text/plain": [
       "0.8764"
      ]
     },
     "execution_count": 65,
     "metadata": {},
     "output_type": "execute_result"
    }
   ],
   "source": [
    "# Now, finally let's test the model using evaluate function\n",
    "\n",
    "test_loss, test_acc  = model.evaluate(feature_test, label_test)\n",
    "test_acc"
   ]
  },
  {
   "cell_type": "code",
   "execution_count": null,
   "metadata": {},
   "outputs": [],
   "source": [
    "# This fairly naive approach achieves an accuracy of 88%. With state-of-the-art\n",
    "# approaches, you should be able to get close to 95%."
   ]
  },
  {
   "cell_type": "code",
   "execution_count": 64,
   "metadata": {},
   "outputs": [
    {
     "data": {
      "text/plain": [
       "array([[0.3133458 ],\n",
       "       [0.99965847],\n",
       "       [0.96486026],\n",
       "       ...,\n",
       "       [0.1542363 ],\n",
       "       [0.2766856 ],\n",
       "       [0.63362306]], dtype=float32)"
      ]
     },
     "execution_count": 64,
     "metadata": {},
     "output_type": "execute_result"
    }
   ],
   "source": [
    "model.predict(feature_test)"
   ]
  },
  {
   "cell_type": "code",
   "execution_count": null,
   "metadata": {},
   "outputs": [],
   "source": []
  }
 ],
 "metadata": {
  "kernelspec": {
   "display_name": "Python 3",
   "language": "python",
   "name": "python3"
  },
  "language_info": {
   "codemirror_mode": {
    "name": "ipython",
    "version": 3
   },
   "file_extension": ".py",
   "mimetype": "text/x-python",
   "name": "python",
   "nbconvert_exporter": "python",
   "pygments_lexer": "ipython3",
   "version": "3.7.3"
  }
 },
 "nbformat": 4,
 "nbformat_minor": 2
}
