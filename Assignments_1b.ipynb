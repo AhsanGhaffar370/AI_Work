{
 "cells": [
  {
   "cell_type": "markdown",
   "metadata": {},
   "source": [
    "#  Name: Ahsan Ghaffar\n",
    "\n",
    "## File Name:  Python Assignments\n",
    "## Roll Number: AIC028631\n",
    "## Teacher Name: Sir qasim\n",
    "## Institute Name:Saylani Office Head Campus\n",
    "## Timing:Sunday (12:15 to 3:15)"
   ]
  },
  {
   "cell_type": "markdown",
   "metadata": {},
   "source": [
    "# Question 1:\n",
    "### Write a program to solve a classic ancient Chinese puzzle:\n",
    "### We count 35 heads and 94 legs among the chickens and rabbits in a\n",
    "### farm. How many rabbits and how many chickens do we have?\n",
    "### Hint:\n",
    "### Use for loop to iterate all possible solutions."
   ]
  },
  {
   "cell_type": "code",
   "execution_count": 1,
   "metadata": {},
   "outputs": [
    {
     "name": "stdout",
     "output_type": "stream",
     "text": [
      "Chicken heads:23\n",
      "Rabbit heads:12\n"
     ]
    }
   ],
   "source": [
    "def chinese_puzzle(legs=94, heads=35):\n",
    "    \n",
    "    for chicken_heads in range(0,heads):\n",
    "        \n",
    "        rabbit_heads=heads-chicken_heads\n",
    "        \n",
    "        if (chicken_heads*2)+(rabbit_heads*4) == 94:\n",
    "            break\n",
    "    return (\"Chicken heads:{}\\nRabbit heads:{}\").format(chicken_heads,rabbit_heads)\n",
    "\n",
    "print(chinese_puzzle())"
   ]
  },
  {
   "cell_type": "markdown",
   "metadata": {},
   "source": [
    "# Question 2:\n",
    "### Please write a program which accepts a string from console and print\n",
    "### the characters that have even indexes.\n",
    "### Example:\n",
    "### If the following string is given as input to the program:\n",
    "### H1e2l3l4o5w6o7r8l9d\n",
    "### Then, the output of the program should be:\n",
    "### Helloworld\n",
    "### Hints:\n",
    "### Use list[::2] to iterate a list by step 2."
   ]
  },
  {
   "cell_type": "code",
   "execution_count": 2,
   "metadata": {},
   "outputs": [
    {
     "name": "stdout",
     "output_type": "stream",
     "text": [
      "Enter any string:H1e2l3l4o5w6o7r8l9d\n",
      "Helloworld\n"
     ]
    }
   ],
   "source": [
    "val=input(\"Enter any string:\")\n",
    "\n",
    "t=val[::2]\n",
    "print(t)\n"
   ]
  },
  {
   "cell_type": "markdown",
   "metadata": {},
   "source": [
    "# Question 3:\n",
    "### Please write a program which accepts a string from console and print\n",
    "### it in reverse order.\n",
    "### Example:\n",
    "### If the following string is given as input to the program:\n",
    "### rise to vote sir\n",
    "### Then, the output of the program should be:\n",
    "### ris etov ot esir\n",
    "### Hints:\n",
    "### Use list[::-1] to iterate a list in a reverse order."
   ]
  },
  {
   "cell_type": "code",
   "execution_count": 3,
   "metadata": {},
   "outputs": [
    {
     "name": "stdout",
     "output_type": "stream",
     "text": [
      "Enter any string:rise to vote sir\n",
      "ris etov ot esir\n"
     ]
    }
   ],
   "source": [
    "val=input(\"Enter any string:\")\n",
    "\n",
    "t=val[::-1]\n",
    "\n",
    "print(t)"
   ]
  },
  {
   "cell_type": "markdown",
   "metadata": {},
   "source": [
    "# Question 4:\n",
    "### Please write a program which count and print the numbers of each\n",
    "### character in a string input by console.\n",
    "### Example:\n",
    "### If the following string is given as input to the program:\n",
    "### abcdefgabc\n",
    "### Then, the output of the program should be:\n",
    "### a,2\n",
    "### c,2\n",
    "### b,2\n",
    "### e,1\n",
    "### d,1\n",
    "### g,1\n",
    "### f,1\n",
    "### Hints:\n",
    "### Use dict to store key/value pairs.\n",
    "### Use dict.get() method to lookup a key with default value."
   ]
  },
  {
   "cell_type": "code",
   "execution_count": 4,
   "metadata": {},
   "outputs": [
    {
     "name": "stdout",
     "output_type": "stream",
     "text": [
      "enter any string: abcdefgabc\n",
      "a,2\n",
      "b,2\n",
      "c,2\n",
      "d,1\n",
      "e,1\n",
      "f,1\n",
      "g,1\n"
     ]
    }
   ],
   "source": [
    "val=list(input(\"enter any string: \"))\n",
    "t1=dict.fromkeys(val)\n",
    "\n",
    "for i in t1:\n",
    "    t1[i]=val.count(i)\n",
    "    print(i+\",\"+str(t1.get(i)))"
   ]
  },
  {
   "cell_type": "markdown",
   "metadata": {},
   "source": [
    "# Question 5:\n",
    "### Define a class named Shape and its subclass Square. The Square class\n",
    "### has an init function which takes a length as argument. Both classes\n",
    "### have a area function which can print the area of the shape where\n",
    "### Shape's area is 0 by default.\n",
    "### Hints:\n",
    "### To override a method in super class, we can define a method with the\n",
    "### same name in the super class."
   ]
  },
  {
   "cell_type": "code",
   "execution_count": 5,
   "metadata": {},
   "outputs": [],
   "source": [
    "class shape():\n",
    "   \n",
    "    def area(self):\n",
    "        return \"By default \"+str(0)\n",
    "        \n",
    "\n",
    "class square(shape):\n",
    "    \n",
    "    def __init__(self,length):\n",
    "        self.__length=length\n",
    "        \n",
    "    def area(self):\n",
    "        return self.__length**2   "
   ]
  },
  {
   "cell_type": "code",
   "execution_count": 6,
   "metadata": {},
   "outputs": [],
   "source": [
    "sq_obj=square(3)\n",
    "sh_obj=shape()"
   ]
  },
  {
   "cell_type": "code",
   "execution_count": 7,
   "metadata": {},
   "outputs": [
    {
     "name": "stdout",
     "output_type": "stream",
     "text": [
      "Area of Square: 9\n",
      "Area of Shape : By default 0\n"
     ]
    }
   ],
   "source": [
    "print(\"Area of Square:\",sq_obj.area())\n",
    "print(\"Area of Shape :\",sh_obj.area())"
   ]
  },
  {
   "cell_type": "markdown",
   "metadata": {},
   "source": [
    "# Question 6:\n",
    "### Write a function to compute 5/0 and use try/except to catch the exceptions.\n",
    "### Hints:\n",
    "### Use try/except to catch exceptions."
   ]
  },
  {
   "cell_type": "code",
   "execution_count": 8,
   "metadata": {},
   "outputs": [
    {
     "name": "stdout",
     "output_type": "stream",
     "text": [
      "Numerator: 5\n",
      "Denominator: 0\n",
      "Zero Divisor Error \n",
      "***Denominator shouldn't be zero*** \n",
      "Answer: None\n"
     ]
    }
   ],
   "source": [
    "def zero_den(numerator,denominator):\n",
    "    try:\n",
    "        ans=numerator/denominator\n",
    "\n",
    "    except ZeroDivisionError as e:\n",
    "        ans=None\n",
    "        print(\"Zero Divisor Error\",\"\\n***Denominator shouldn't be zero***\",\"\\nAnswer:\",ans)\n",
    "    else:\n",
    "        return \"Successfully run: \"+str(round((ans),2))\n",
    "\n",
    "num=float(input(\"Numerator: \"))\n",
    "den=float(input(\"Denominator: \"))\n",
    "zero_den(num,den)"
   ]
  },
  {
   "cell_type": "markdown",
   "metadata": {},
   "source": [
    "# Question 7:\n",
    "### Assuming that we have some email addresses in the\n",
    "### \"username@companyname.com\" format, please write program to print the\n",
    "### user name of a given email address. Both user names and company\n",
    "### names are composed of letters only.\n",
    "### Example:\n",
    "### If the following email address is given as input to the program:\n",
    "### john@google.com\n",
    "### Then, the output of the program should be:\n",
    "### john\n",
    "### In case of input data being supplied to the question, it should be\n",
    "### assumed to be a console input.\n",
    "### Hints:\n",
    "### Use \\w to match letters."
   ]
  },
  {
   "cell_type": "code",
   "execution_count": 9,
   "metadata": {},
   "outputs": [
    {
     "name": "stdout",
     "output_type": "stream",
     "text": [
      "Enter your Email adress:ahsan@gmail.com\n",
      "name: ahsan\n",
      "company: gmail\n"
     ]
    }
   ],
   "source": [
    "import re\n",
    "email=input(\"Enter your Email adress:\")\n",
    "\n",
    "regex=re.search(r\"^\\w+@\\w+(\\.\\w+)+$\",email)\n",
    "\n",
    "if regex != None:\n",
    "    ind1=email.find(\"@\")\n",
    "    ind2=email.find(\".\")\n",
    "\n",
    "    if email[0:ind1].isalpha() and email[(ind1+1):ind2].isalpha():\n",
    "        print(\"name:\",email[0:ind1])\n",
    "        print(\"company:\",email[(ind1+1):ind2])\n",
    "    else:\n",
    "        print(\"username or company name is invalid\\nIt should be consist of letters only\")\n",
    "else:\n",
    "    print(\"invalid Email address\")"
   ]
  },
  {
   "cell_type": "markdown",
   "metadata": {},
   "source": [
    "# Question 8:\n",
    "### Write a program which accepts a sequence of words separated by\n",
    "### whitespace as input to print the words composed of digits only.\n",
    "### Example:\n",
    "### If the following words is given as input to the program:\n",
    "### 2 cats and 3 dogs.\n",
    "### Then, the output of the program should be:\n",
    "### ['2', '3']\n",
    "### In case of input data being supplied to the question, it should be\n",
    "### assumed to be a console input.\n",
    "### Hints:\n",
    "### Use re.findall() to find all substring using regex."
   ]
  },
  {
   "cell_type": "code",
   "execution_count": 10,
   "metadata": {},
   "outputs": [
    {
     "name": "stdout",
     "output_type": "stream",
     "text": [
      "Enter string: 2 cats and 3 dogs.\n",
      "['2', '3']\n"
     ]
    }
   ],
   "source": [
    "import re\n",
    "inp1=input(\"Enter string: \")\n",
    "\n",
    "tmp=re.findall(r\"\\d+\",inp1)\n",
    "\n",
    "print(tmp)"
   ]
  },
  {
   "cell_type": "markdown",
   "metadata": {},
   "source": [
    "# Question 9:\n",
    "### Write a program to compute 1/2+2/3+3/4+...+n/n+1 with a given n\n",
    "### input by console (n>0).\n",
    "### Example:\n",
    "### If the following n is given as input to the program:\n",
    "### 5\n",
    "### Then, the output of the program should be:\n",
    "### 3.55\n",
    "### In case of input data being supplied to the question, it should be\n",
    "### ### assumed to be a console input.\n",
    "### Hints:\n",
    "### Use float() to convert an integer to a float"
   ]
  },
  {
   "cell_type": "code",
   "execution_count": 11,
   "metadata": {},
   "outputs": [
    {
     "name": "stdout",
     "output_type": "stream",
     "text": [
      "enter any number:5\n",
      "Answer: 3.55\n"
     ]
    }
   ],
   "source": [
    "n=float(input(\"enter any number:\"))\n",
    "\n",
    "if n > 0:\n",
    "    sol=0\n",
    "    for i in range(1,int(n)+1):\n",
    "        sol+=i/(i+1)\n",
    "    print(\"Answer:\",round(sol,2))\n",
    "else:\n",
    "    print(\"invalid number\")"
   ]
  },
  {
   "cell_type": "markdown",
   "metadata": {},
   "source": [
    "# Question 10:\n",
    "### Write a program to compute:\n",
    "### f(n)=f(n-1)+100 when n>0\n",
    "### and f(0)=1\n",
    "### with a given n input by console (n>0).\n",
    "### Example:\n",
    "### If the following n is given as input to the program:\n",
    "### 5\n",
    "### Then, the output of the program should be:\n",
    "### 500\n",
    "### In case of input data being supplied to the question, it should be\n",
    "### assumed to be a console input.\n",
    "### Hints:\n",
    "### We can define recursive function in Python."
   ]
  },
  {
   "cell_type": "code",
   "execution_count": 12,
   "metadata": {},
   "outputs": [
    {
     "name": "stdout",
     "output_type": "stream",
     "text": [
      "enter any number:5\n"
     ]
    },
    {
     "data": {
      "text/plain": [
       "500.0"
      ]
     },
     "execution_count": 12,
     "metadata": {},
     "output_type": "execute_result"
    }
   ],
   "source": [
    "def rec(n):\n",
    "    \n",
    "    if n==0:\n",
    "        return n\n",
    "    else:\n",
    "        return (rec(n-1)+100)\n",
    "    \n",
    "n=float(input(\"enter any number:\"))\n",
    "rec(n)"
   ]
  },
  {
   "cell_type": "markdown",
   "metadata": {},
   "source": [
    "# Question 11:\n",
    "### A website requires the users to input username and password to\n",
    "### register. Write a program to check the validity of password input by\n",
    "### users.\n",
    "### Following are the criteria for checking the password:\n",
    "### 1. At least 1 letter between [a-z]\n",
    "### 2. At least 1 number between [0-9]\n",
    "### 1. At least 1 letter between [A-Z]\n",
    "### 3. At least 1 character from [dollar_sign#@]\n",
    "### 4. Minimum length of transaction password: 6\n",
    "### 5. Maximum length of transaction password: 12\n",
    "### Your program should accept a sequence of comma separated passwords\n",
    "### and will check them according to the above criteria. Passwords that\n",
    "### match the criteria are to be printed, each separated by a comma.\n",
    "### Example\n",
    "### If the following passwords are given as input to the program:\n",
    "### ABd1234@1,a F1#,2w3E*,2We3345\n",
    "### Then, the output of the program should be:\n",
    "### ### ABd1234@1\n",
    "### Hints:\n",
    "### In case of input data being supplied to the question, it should be\n",
    "### assumed to be a console input."
   ]
  },
  {
   "cell_type": "code",
   "execution_count": 13,
   "metadata": {},
   "outputs": [
    {
     "name": "stdout",
     "output_type": "stream",
     "text": [
      "Input your password:ABd1234@1,a F1#,2w3E*,2We3345\n",
      "ABd1234@1\n"
     ]
    }
   ],
   "source": [
    "import re\n",
    "inp= input(\"Input your password:\")\n",
    "\n",
    "inp1=inp.split(\",\")\n",
    "\n",
    "for regex in inp1:  \n",
    "    if re.search(\"[a-z]\",regex) == None:\n",
    "        continue   \n",
    "    elif re.search(\"[0-9]\",regex) == None:\n",
    "        continue    \n",
    "    elif re.search(\"[A-Z]\",regex) == None:\n",
    "        continue    \n",
    "    elif re.search(\"[$#@]\",regex) == None:\n",
    "        continue  \n",
    "    elif re.search(r\"^[\\w$#@]{6,12}$\",regex) == None:\n",
    "        continue \n",
    "    else:\n",
    "        print(regex)"
   ]
  },
  {
   "cell_type": "markdown",
   "metadata": {},
   "source": [
    "# Question 12:\n",
    "### You are required to write a program to sort the (name, age, height)\n",
    "### tuples by ascending order where name is string, age and height are\n",
    "### numbers. The tuples are input by console. The sort criteria is:\n",
    "### 1: Sort based on name;\n",
    "### 2: Then sort based on age;\n",
    "### 3: Then sort by score.\n",
    "### The priority is that name > age > score.\n",
    "### If the following tuples are given as input to the program:\n",
    "### Tom,19,80\n",
    "### John,20,90\n",
    "### Jony,17,91\n",
    "### Jony,17,93\n",
    "### Json,21,85\n",
    "### Then, the output of the program should be:\n",
    "### [('John', '20', '90'), ('Jony', '17', '91'), ('Jony', '17', '93'),\n",
    "### ('Json', '21', '85'), ('Tom', '19', '80')]\n",
    "### Hints:\n",
    "### In case of input data being supplied to the question, it should be\n",
    "### assumed to be a console input.\n",
    "### We use itemgetter to enable multiple sort keys."
   ]
  },
  {
   "cell_type": "code",
   "execution_count": 14,
   "metadata": {},
   "outputs": [
    {
     "name": "stdout",
     "output_type": "stream",
     "text": [
      "\n",
      "Tuple 1 DATA:\n",
      "enter name:Tom\n",
      "enter age:19\n",
      "enter score:80\n",
      "\n",
      "Tuple 2 DATA:\n",
      "enter name:John\n",
      "enter age:20\n",
      "enter score:90\n",
      "\n",
      "Tuple 3 DATA:\n",
      "enter name:Jony\n",
      "enter age:17\n",
      "enter score:91\n",
      "\n",
      "Tuple 4 DATA:\n",
      "enter name:Jony\n",
      "enter age:17\n",
      "enter score:93\n",
      "\n",
      "Tuple 5 DATA:\n",
      "enter name:Json\n",
      "enter age:21\n",
      "enter score:85\n",
      "\n",
      "Sorting based on Name\n",
      "[('John', 20, 90), ('Jony', 17, 91), ('Jony', 17, 93), ('Json', 21, 85), ('Tom', 19, 80)]\n"
     ]
    }
   ],
   "source": [
    "import operator\n",
    "\n",
    "list1=[]\n",
    "for i in range(5):\n",
    "    print(\"\\nTuple\",(i+1),\"DATA:\")\n",
    "    for j in range(1):\n",
    "        name=input(\"enter name:\")\n",
    "        age=int(input(\"enter age:\"))\n",
    "        score=int(input(\"enter score:\"))\n",
    "        tup=(name,age,score)\n",
    "        list1.append(tup)\n",
    "\n",
    "print(\"\\nSorting based on Name\")\n",
    "list1.sort(key=operator.itemgetter(0))\n",
    "print(list1)\n"
   ]
  },
  {
   "cell_type": "markdown",
   "metadata": {},
   "source": [
    "# Question 13:\n",
    "### Define a class with a generator which can iterate the numbers, which\n",
    "### are divisible by 7, between a given range 0 and n.\n",
    "### Hints:\n",
    "### Consider use yield"
   ]
  },
  {
   "cell_type": "code",
   "execution_count": 15,
   "metadata": {},
   "outputs": [],
   "source": [
    "class generator():\n",
    "    \n",
    "    def __init__(self,num):\n",
    "        self.__num=num\n",
    "        \n",
    "    def divisor(self):\n",
    "        for i in range(0,self.__num+1):   \n",
    "            if i%7==0:\n",
    "                print(i)\n",
    "\n"
   ]
  },
  {
   "cell_type": "code",
   "execution_count": 19,
   "metadata": {},
   "outputs": [
    {
     "name": "stdout",
     "output_type": "stream",
     "text": [
      "enter num: 80\n",
      "0\n",
      "7\n",
      "14\n",
      "21\n",
      "28\n",
      "35\n",
      "42\n",
      "49\n",
      "56\n",
      "63\n",
      "70\n",
      "77\n"
     ]
    }
   ],
   "source": [
    "num=int(input(\"enter num: \"))\n",
    "obj=generator(num)\n",
    "\n",
    "obj.divisor()"
   ]
  },
  {
   "cell_type": "markdown",
   "metadata": {},
   "source": [
    "# Question 14:\n",
    "### A robot moves in a plane starting from the original point (0,0). The\n",
    "### robot can move toward UP, DOWN, LEFT and RIGHT with a given steps.\n",
    "### The trace of robot movement is shown as the following:\n",
    "### UP 5\n",
    "### DOWN 3\n",
    "### LEFT 3\n",
    "### RIGHT 2\n",
    "### ¡\n",
    "### The numbers after the direction are steps. Please write a program to\n",
    "### compute the distance from current position after a sequence of\n",
    "### movement and original point. If the distance is a float, then just\n",
    "### print the nearest integer.\n",
    "### Example:\n",
    "### If the following tuples are given as input to the program:\n",
    "### UP 5\n",
    "### DOWN 3\n",
    "### LEFT 3\n",
    "### RIGHT 2\n",
    "### Then, the output of the program should be:\n",
    "### 2\n",
    "### Hints:\n",
    "### In case of input data being supplied to the question, it should be\n",
    "### assumed to be a console input."
   ]
  },
  {
   "cell_type": "code",
   "execution_count": 2,
   "metadata": {},
   "outputs": [
    {
     "name": "stdout",
     "output_type": "stream",
     "text": [
      "Input pattern: direction(UP,Down,Left,right) any_int_value(3,4,1,5,3,0)\n",
      "up 5\n",
      "down 3\n",
      "left 1\n",
      "right 2\n",
      "up 2\n",
      "x\n",
      "( 4 , 1 )\n",
      "Current Position is : 4\n"
     ]
    }
   ],
   "source": [
    "import math\n",
    "print('Input pattern: direction(UP,Down,Left,right) any_int_value(3,4,1,5,3,0)')\n",
    "\n",
    "dir1 =[0,0]\n",
    "while True:\n",
    "    inp = input()\n",
    "    dir_list = inp.split(' ')\n",
    "    \n",
    "    if dir_list[0].upper() == 'UP':\n",
    "        dir1[0] += int(dir_list[1])\n",
    "    elif dir_list[0].upper() == 'DOWN':\n",
    "        dir1[0] -= int(dir_list[1])\n",
    "    elif dir_list[0].upper() == 'LEFT':\n",
    "        dir1[1] -= int(dir_list[1])\n",
    "    elif dir_list[0].upper() == 'RIGHT':\n",
    "        dir1[1] += int(dir_list[1])\n",
    "    else:\n",
    "        break\n",
    "print (\"(\",dir1[0],\",\",dir1[1],\")\")\n",
    "print ('Current Position is :', int(round(math.sqrt(dir1[0] ** 2 + dir1[1] ** 2))))"
   ]
  },
  {
   "cell_type": "markdown",
   "metadata": {},
   "source": [
    "##### Question 15:\n",
    "### Write a program to compute the frequency of the words from the\n",
    "### input. The output should output after sorting the key\n",
    "### alphanumerically.\n",
    "### Suppose the following input is supplied to the program:\n",
    "### New to Python or choosing between Python 2 and Python 3? Read Python\n",
    "### 2 or Python 3.\n",
    "### Then, the output should be:\n",
    "### 2:2\n",
    "### 3.:1\n",
    "### 3?:1\n",
    "### New:1\n",
    "### Python:5\n",
    "### Read:1\n",
    "### and:1\n",
    "### between:1\n",
    "### choosing:1\n",
    "### or:2\n",
    "### to:1\n",
    "### Hints\n",
    "### In case of input data being supplied to the question, it should be\n",
    "### assumed to be a console input."
   ]
  },
  {
   "cell_type": "code",
   "execution_count": 22,
   "metadata": {},
   "outputs": [
    {
     "name": "stdout",
     "output_type": "stream",
     "text": [
      "enter: New to Python or choosing between Python 2 and Python 3? Read Python 2 or Python 3.\n",
      "2:2\n",
      "3.:1\n",
      "3?:1\n",
      "New:1\n",
      "Python:5\n",
      "Read:1\n",
      "and:1\n",
      "between:1\n",
      "choosing:1\n",
      "or:2\n",
      "to:1\n"
     ]
    }
   ],
   "source": [
    "st=input(\"enter: \")\n",
    "\n",
    "st1=sorted(st.split(\" \"))\n",
    "st2=[]\n",
    "for i in st1:\n",
    "    if i not in st2:\n",
    "        st2.append(i)\n",
    "for i in st2:\n",
    "    print(str(i)+\":\"+str(st.count(i)))"
   ]
  }
 ],
 "metadata": {
  "kernelspec": {
   "display_name": "Python 3",
   "language": "python",
   "name": "python3"
  },
  "language_info": {
   "codemirror_mode": {
    "name": "ipython",
    "version": 3
   },
   "file_extension": ".py",
   "mimetype": "text/x-python",
   "name": "python",
   "nbconvert_exporter": "python",
   "pygments_lexer": "ipython3",
   "version": "3.7.3"
  }
 },
 "nbformat": 4,
 "nbformat_minor": 2
}
