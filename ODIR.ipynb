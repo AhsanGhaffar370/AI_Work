{
 "cells": [
  {
   "cell_type": "code",
   "execution_count": 8,
   "metadata": {},
   "outputs": [],
   "source": [
    "import tensorflow as tf\n",
    "from tensorflow import keras\n",
    "# Helper libraries\n",
    "import numpy as np\n",
    "import pandas as pd\n",
    "import matplotlib.pyplot as plt\n",
    "\n",
    "# from tensorflow.keras.preprocessing.image import ImageDataGenerator\n",
    "# from tensorflow.keras.layers import Conv2D, MaxPooling2D\n",
    "# from tensorflow.keras.layers import Dense, Dropout, Flatten, Activation\n",
    "# from tensorflow.keras.models import Sequential\n",
    "# from tensorflow.keras.callbacks import EarlyStopping, ReduceLROnPlateau, ModelCheckpoint\n",
    "# from tensorflow.keras.optimizers import Adam\n",
    "\n",
    "from tensorflow.keras.preprocessing.image import ImageDataGenerator\n",
    "from tensorflow.keras.models import Sequential\n",
    "from tensorflow.keras.layers import Dense, Dropout, Activation, Flatten\n",
    "from tensorflow.keras.layers import Conv2D, MaxPooling2D\n",
    "\n",
    "import os\n",
    "import cv2\n",
    "\n",
    "from sklearn.utils import shuffle\n",
    "from sklearn.metrics import confusion_matrix\n",
    "from sklearn.model_selection import train_test_split\n",
    "import itertools\n",
    "import shutil\n",
    "import matplotlib.pyplot as plt\n",
    "%matplotlib inline\n",
    "\n",
    "import itertools\n",
    "from sklearn import metrics\n",
    "from sklearn.metrics import confusion_matrix\n",
    "from tensorflow.keras.preprocessing.image import ImageDataGenerator, img_to_array, load_img \n",
    "# from keras.models import Sequential \n",
    "from tensorflow.keras import optimizers\n",
    "from tensorflow.keras.preprocessing import image\n",
    "# from keras.layers import Dropout, Flatten, Dense  \n",
    "from tensorflow.keras import applications\n",
    "# from tensorflow.keras.utils.np_utils import to_categorical  \n",
    "# import matplotlib.pyplot as plt \n",
    "import matplotlib.image as mpimg\n",
    "# %matplotlib inline\n",
    "import math  \n",
    "import datetime\n",
    "import time"
   ]
  },
  {
   "cell_type": "code",
   "execution_count": 9,
   "metadata": {},
   "outputs": [
    {
     "data": {
      "text/plain": [
       "['.ipynb_checkpoints',\n",
       " 'dataset',\n",
       " 'ODIR-5K_Training_Annotations(Updated)_V2.xlsx',\n",
       " 'output',\n",
       " 'testing_image',\n",
       " 'training_image',\n",
       " 'train_csv.csv',\n",
       " 'Untitled.ipynb',\n",
       " 'Untitled1.ipynb',\n",
       " 'x.pickle',\n",
       " 'y.pickle']"
      ]
     },
     "execution_count": 9,
     "metadata": {},
     "output_type": "execute_result"
    }
   ],
   "source": [
    "os.listdir('../FYP')"
   ]
  },
  {
   "cell_type": "code",
   "execution_count": 10,
   "metadata": {},
   "outputs": [],
   "source": [
    "IMAGE_SIZE = 96\n",
    "IMAGE_CHANNELS = 3\n",
    "\n",
    "SAMPLE_SIZE = 80000 # the number of images we use from each of the two classes"
   ]
  },
  {
   "cell_type": "code",
   "execution_count": 11,
   "metadata": {},
   "outputs": [
    {
     "name": "stdout",
     "output_type": "stream",
     "text": [
      "7000\n",
      "1000\n"
     ]
    }
   ],
   "source": [
    "print(len(os.listdir('../FYP/training_image')))\n",
    "print(len(os.listdir('../FYP/testing_image')))\n",
    "original_dataset_train_dir = '../FYP/training_image'\n",
    "original_dataset_test_dir = '../FYP/testing_image'"
   ]
  },
  {
   "cell_type": "code",
   "execution_count": 12,
   "metadata": {},
   "outputs": [
    {
     "name": "stdout",
     "output_type": "stream",
     "text": [
      "(3500, 15)\n"
     ]
    }
   ],
   "source": [
    "df_data = pd.read_csv('../FYP/train_csv.csv')\n",
    "\n",
    "# removing this image because it caused a training error previously\n",
    "# df_data[df_data['ID'] != 'dd6dfed324f9fcb6f93f46f32fc800f2ec196be2']\n",
    "\n",
    "# # # removing this image because it's black\n",
    "# df_data[df_data['ID'] != '9369c7278ec8bcc6c880d99194de09fc2bd4efbe']\n",
    "\n",
    "\n",
    "print(df_data.shape)"
   ]
  },
  {
   "cell_type": "code",
   "execution_count": 13,
   "metadata": {},
   "outputs": [
    {
     "data": {
      "text/html": [
       "<div>\n",
       "<style scoped>\n",
       "    .dataframe tbody tr th:only-of-type {\n",
       "        vertical-align: middle;\n",
       "    }\n",
       "\n",
       "    .dataframe tbody tr th {\n",
       "        vertical-align: top;\n",
       "    }\n",
       "\n",
       "    .dataframe thead th {\n",
       "        text-align: right;\n",
       "    }\n",
       "</style>\n",
       "<table border=\"1\" class=\"dataframe\">\n",
       "  <thead>\n",
       "    <tr style=\"text-align: right;\">\n",
       "      <th></th>\n",
       "      <th>ID</th>\n",
       "      <th>Patient Age</th>\n",
       "      <th>Patient Sex</th>\n",
       "      <th>Left-Fundus</th>\n",
       "      <th>Right-Fundus</th>\n",
       "      <th>Left-Diagnostic Keywords</th>\n",
       "      <th>Right-Diagnostic Keywords</th>\n",
       "      <th>N</th>\n",
       "      <th>D</th>\n",
       "      <th>G</th>\n",
       "      <th>C</th>\n",
       "      <th>A</th>\n",
       "      <th>H</th>\n",
       "      <th>M</th>\n",
       "      <th>O</th>\n",
       "    </tr>\n",
       "  </thead>\n",
       "  <tbody>\n",
       "    <tr>\n",
       "      <th>0</th>\n",
       "      <td>0</td>\n",
       "      <td>69</td>\n",
       "      <td>Female</td>\n",
       "      <td>0_left.jpg</td>\n",
       "      <td>0_right.jpg</td>\n",
       "      <td>cataract</td>\n",
       "      <td>normal fundus</td>\n",
       "      <td>0</td>\n",
       "      <td>0</td>\n",
       "      <td>0</td>\n",
       "      <td>1</td>\n",
       "      <td>0</td>\n",
       "      <td>0</td>\n",
       "      <td>0</td>\n",
       "      <td>0</td>\n",
       "    </tr>\n",
       "    <tr>\n",
       "      <th>1</th>\n",
       "      <td>1</td>\n",
       "      <td>57</td>\n",
       "      <td>Male</td>\n",
       "      <td>1_left.jpg</td>\n",
       "      <td>1_right.jpg</td>\n",
       "      <td>normal fundus</td>\n",
       "      <td>normal fundus</td>\n",
       "      <td>1</td>\n",
       "      <td>0</td>\n",
       "      <td>0</td>\n",
       "      <td>0</td>\n",
       "      <td>0</td>\n",
       "      <td>0</td>\n",
       "      <td>0</td>\n",
       "      <td>0</td>\n",
       "    </tr>\n",
       "    <tr>\n",
       "      <th>2</th>\n",
       "      <td>2</td>\n",
       "      <td>42</td>\n",
       "      <td>Male</td>\n",
       "      <td>2_left.jpg</td>\n",
       "      <td>2_right.jpg</td>\n",
       "      <td>laser spot?moderate non proliferative retinopathy</td>\n",
       "      <td>moderate non proliferative retinopathy</td>\n",
       "      <td>0</td>\n",
       "      <td>1</td>\n",
       "      <td>0</td>\n",
       "      <td>0</td>\n",
       "      <td>0</td>\n",
       "      <td>0</td>\n",
       "      <td>0</td>\n",
       "      <td>1</td>\n",
       "    </tr>\n",
       "    <tr>\n",
       "      <th>3</th>\n",
       "      <td>3</td>\n",
       "      <td>66</td>\n",
       "      <td>Male</td>\n",
       "      <td>3_left.jpg</td>\n",
       "      <td>3_right.jpg</td>\n",
       "      <td>normal fundus</td>\n",
       "      <td>branch retinal artery occlusion</td>\n",
       "      <td>0</td>\n",
       "      <td>0</td>\n",
       "      <td>0</td>\n",
       "      <td>0</td>\n",
       "      <td>0</td>\n",
       "      <td>0</td>\n",
       "      <td>0</td>\n",
       "      <td>1</td>\n",
       "    </tr>\n",
       "    <tr>\n",
       "      <th>4</th>\n",
       "      <td>4</td>\n",
       "      <td>53</td>\n",
       "      <td>Male</td>\n",
       "      <td>4_left.jpg</td>\n",
       "      <td>4_right.jpg</td>\n",
       "      <td>macular epiretinal membrane</td>\n",
       "      <td>mild nonproliferative retinopathy</td>\n",
       "      <td>0</td>\n",
       "      <td>1</td>\n",
       "      <td>0</td>\n",
       "      <td>0</td>\n",
       "      <td>0</td>\n",
       "      <td>0</td>\n",
       "      <td>0</td>\n",
       "      <td>1</td>\n",
       "    </tr>\n",
       "  </tbody>\n",
       "</table>\n",
       "</div>"
      ],
      "text/plain": [
       "   ID  Patient Age Patient Sex Left-Fundus Right-Fundus  \\\n",
       "0   0           69      Female  0_left.jpg  0_right.jpg   \n",
       "1   1           57        Male  1_left.jpg  1_right.jpg   \n",
       "2   2           42        Male  2_left.jpg  2_right.jpg   \n",
       "3   3           66        Male  3_left.jpg  3_right.jpg   \n",
       "4   4           53        Male  4_left.jpg  4_right.jpg   \n",
       "\n",
       "                            Left-Diagnostic Keywords  \\\n",
       "0                                           cataract   \n",
       "1                                      normal fundus   \n",
       "2  laser spot?moderate non proliferative retinopathy   \n",
       "3                                      normal fundus   \n",
       "4                        macular epiretinal membrane   \n",
       "\n",
       "                Right-Diagnostic Keywords  N  D  G  C  A  H  M  O  \n",
       "0                           normal fundus  0  0  0  1  0  0  0  0  \n",
       "1                           normal fundus  1  0  0  0  0  0  0  0  \n",
       "2  moderate non proliferative retinopathy  0  1  0  0  0  0  0  1  \n",
       "3         branch retinal artery occlusion  0  0  0  0  0  0  0  1  \n",
       "4       mild nonproliferative retinopathy  0  1  0  0  0  0  0  1  "
      ]
     },
     "execution_count": 13,
     "metadata": {},
     "output_type": "execute_result"
    }
   ],
   "source": [
    "df_data['M'].value_counts()\n",
    "df_data.head(5)"
   ]
  },
  {
   "cell_type": "code",
   "execution_count": 14,
   "metadata": {},
   "outputs": [
    {
     "name": "stdout",
     "output_type": "stream",
     "text": [
      "3500\n",
      "8127\n"
     ]
    }
   ],
   "source": [
    "# Path of images\n",
    "IMAGE_PATH = '../FYP/train_image/' \n",
    "# categories = [\"N\",\"D\",\"G\",\"C\",\"A\",\"H\",\"M\",\"O\"]\n",
    "\n",
    "# Inialiaze the categories og train\n",
    "NORMAL_train = []\n",
    "DIABETES_train = []\n",
    "GLYCOMA_train = []\n",
    "CATARACT_train = []\n",
    "AMD_train = []\n",
    "HYPERTENSION_train = []\n",
    "MYOPIA_train = []\n",
    "OTHER_train = []\n",
    "\n",
    "\n",
    "# Inialiaze the categories og test\n",
    "NORMAL_test = []\n",
    "DIABETES_test = []\n",
    "GLYCOMA_test = []\n",
    "CATARACT_test = []\n",
    "AMD_test = []\n",
    "HYPERTENSION_test = []\n",
    "MYOPIA_test = []\n",
    "OTHER_test = []\n",
    "\n",
    "# Data load from dataset\n",
    "normal_fundus_from_dataset = df_data[\"N\"]\n",
    "diabetes_fundus_from_dataset = df_data[\"D\"]\n",
    "glycoma_fundus_from_dataset = df_data[\"G\"]\n",
    "cataract_fundus_from_dataset = df_data[\"C\"]\n",
    "amd_fundus_from_dataset = df_data[\"A\"]\n",
    "hypertension_fundus_from_dataset = df_data[\"H\"]\n",
    "myopia_fundus_from_dataset = df_data[\"M\"]\n",
    "other_fundus_from_dataset = df_data[\"O\"]\n",
    "\n",
    "\n",
    "left_image = df_data[\"Left-Fundus\"]\n",
    "right_image = df_data[\"Right-Fundus\"]\n",
    "# print(myopia_fundus)\n",
    "print(len(df_data))\n",
    "for i in range(0,len(df_data)):\n",
    "#     print(myopia_fundus[i])\n",
    "    if normal_fundus_from_dataset[i] == 1:\n",
    "        NORMAL_train.append(left_image[i])\n",
    "        NORMAL_train.append(right_image[i])\n",
    "    if diabetes_fundus_from_dataset[i] == 1:\n",
    "        DIABETES_train.append(left_image[i])\n",
    "        DIABETES_train.append(right_image[i])\n",
    "    \n",
    "    if glycoma_fundus_from_dataset[i] == 1:\n",
    "        GLYCOMA_train.append(left_image[i])\n",
    "        GLYCOMA_train.append(right_image[i])\n",
    "    \n",
    "    if cataract_fundus_from_dataset[i] == 1:\n",
    "        CATARACT_train.append(left_image[i])\n",
    "        CATARACT_train.append(right_image[i])\n",
    "    \n",
    "    if amd_fundus_from_dataset[i] == 1:\n",
    "        AMD_train.append(left_image[i])\n",
    "        AMD_train.append(right_image[i])\n",
    "    \n",
    "    if hypertension_fundus_from_dataset[i] == 1:\n",
    "        HYPERTENSION_train.append(left_image[i])\n",
    "        HYPERTENSION_test.append(right_image[i])\n",
    "    \n",
    "    if myopia_fundus_from_dataset[i] == 1:\n",
    "        MYOPIA_train.append(left_image[i])\n",
    "        MYOPIA_train.append(right_image[i])\n",
    "    \n",
    "    if other_fundus_from_dataset[i] == 1:\n",
    "        OTHER_train.append(left_image[i])\n",
    "        OTHER_train.append(right_image[i])\n",
    "    \n",
    "\n",
    "ee = len(NORMAL_train)+len(MYOPIA_train)+len(CATARACT_train)+len(HYPERTENSION_train)+len(OTHER_train)+len(GLYCOMA_train)+len(AMD_train)+len(DIABETES_train)\n",
    "print(ee)\n",
    "# print(len(CATARACT_train))\n",
    "#     if myopia_fundus[i] == 1:\n",
    "#         myopia.append(left_image[i])\n",
    "#         myopia.append(right_image[i])\n",
    "#     elif cataract_fundus[i] == 1:\n",
    "#         cataract.append(left_image[i])\n",
    "#         cataract.append(right_image[i])\n",
    "#     elif normal_fundus[i] == 1:\n",
    "#         normal.append(left_image[i])\n",
    "#         normal.append(right_image[i])\n",
    "# # dra\n",
    "# for i in len(df_data):\n",
    "#     if myopia_fundus==\"1\":\n",
    "#         print(\"helo\")\n",
    "# comparison_column = np.where(df[\"col1\"] == df[\"col2\"], True, False)\n",
    "\n",
    "# path1 = os.path.join(IMAGE_PATH,left_fundus[0])\n",
    "# for left in left_fundus:\n",
    "#     path = os.path.join(IMAGE_PATH,left)\n",
    "#     print(path)\n",
    "    \n",
    "\n"
   ]
  },
  {
   "cell_type": "code",
   "execution_count": 1,
   "metadata": {},
   "outputs": [],
   "source": [
    "# for i in range((len(df_data)-500),len(df_data)):\n",
    "# #     print(myopia_fundus[i])\n",
    "#     if normal_fundus_from_dataset[i] == 1:\n",
    "#         NORMAL_test.append(left_image[i])\n",
    "#         NORMAL_test.append(right_image[i])\n",
    "#     if diabetes_fundus_from_dataset[i] == 1:\n",
    "#         DIABETES_test.append(left_image[i])\n",
    "#         DIABETES_test.append(right_image[i])\n",
    "    \n",
    "#     if glycoma_fundus_from_dataset[i] == 1:\n",
    "#         GLYCOMA_test.append(left_image[i])\n",
    "#         GLYCOMA_test.append(right_image[i])\n",
    "    \n",
    "#     if cataract_fundus_from_dataset[i] == 1:\n",
    "#         CATARACT_test.append(left_image[i])\n",
    "#         CATARACT_test.append(right_image[i])\n",
    "    \n",
    "#     if amd_fundus_from_dataset[i] == 1:\n",
    "#         AMD_test.append(left_image[i])\n",
    "#         AMD_test.append(right_image[i])\n",
    "    \n",
    "#     if hypertension_fundus_from_dataset[i] == 1:\n",
    "#         HYPERTENSION_test.append(left_image[i])\n",
    "#         HYPERTENSION_test.append(right_image[i])\n",
    "    \n",
    "#     if myopia_fundus_from_dataset[i] == 1:\n",
    "#         MYOPIA_test.append(left_image[i])\n",
    "#         MYOPIA_test.append(right_image[i])\n",
    "    \n",
    "#     if other_fundus_from_dataset[i] == 1:\n",
    "#         OTHER_test.append(left_image[i])\n",
    "#         OTHER_test.append(right_image[i])\n"
   ]
  },
  {
   "cell_type": "code",
   "execution_count": 16,
   "metadata": {},
   "outputs": [
    {
     "data": {
      "text/html": [
       "<div>\n",
       "<style scoped>\n",
       "    .dataframe tbody tr th:only-of-type {\n",
       "        vertical-align: middle;\n",
       "    }\n",
       "\n",
       "    .dataframe tbody tr th {\n",
       "        vertical-align: top;\n",
       "    }\n",
       "\n",
       "    .dataframe thead th {\n",
       "        text-align: right;\n",
       "    }\n",
       "</style>\n",
       "<table border=\"1\" class=\"dataframe\">\n",
       "  <thead>\n",
       "    <tr style=\"text-align: right;\">\n",
       "      <th></th>\n",
       "      <th>ID</th>\n",
       "      <th>Patient Age</th>\n",
       "      <th>Patient Sex</th>\n",
       "      <th>Left-Fundus</th>\n",
       "      <th>Right-Fundus</th>\n",
       "      <th>Left-Diagnostic Keywords</th>\n",
       "      <th>Right-Diagnostic Keywords</th>\n",
       "      <th>N</th>\n",
       "      <th>D</th>\n",
       "      <th>G</th>\n",
       "      <th>C</th>\n",
       "      <th>A</th>\n",
       "      <th>H</th>\n",
       "      <th>M</th>\n",
       "      <th>O</th>\n",
       "    </tr>\n",
       "  </thead>\n",
       "  <tbody>\n",
       "    <tr>\n",
       "      <th>0</th>\n",
       "      <td>0</td>\n",
       "      <td>69</td>\n",
       "      <td>Female</td>\n",
       "      <td>0_left.jpg</td>\n",
       "      <td>0_right.jpg</td>\n",
       "      <td>cataract</td>\n",
       "      <td>normal fundus</td>\n",
       "      <td>0</td>\n",
       "      <td>0</td>\n",
       "      <td>0</td>\n",
       "      <td>1</td>\n",
       "      <td>0</td>\n",
       "      <td>0</td>\n",
       "      <td>0</td>\n",
       "      <td>0</td>\n",
       "    </tr>\n",
       "    <tr>\n",
       "      <th>1</th>\n",
       "      <td>1</td>\n",
       "      <td>57</td>\n",
       "      <td>Male</td>\n",
       "      <td>1_left.jpg</td>\n",
       "      <td>1_right.jpg</td>\n",
       "      <td>normal fundus</td>\n",
       "      <td>normal fundus</td>\n",
       "      <td>1</td>\n",
       "      <td>0</td>\n",
       "      <td>0</td>\n",
       "      <td>0</td>\n",
       "      <td>0</td>\n",
       "      <td>0</td>\n",
       "      <td>0</td>\n",
       "      <td>0</td>\n",
       "    </tr>\n",
       "    <tr>\n",
       "      <th>2</th>\n",
       "      <td>2</td>\n",
       "      <td>42</td>\n",
       "      <td>Male</td>\n",
       "      <td>2_left.jpg</td>\n",
       "      <td>2_right.jpg</td>\n",
       "      <td>laser spot?moderate non proliferative retinopathy</td>\n",
       "      <td>moderate non proliferative retinopathy</td>\n",
       "      <td>0</td>\n",
       "      <td>1</td>\n",
       "      <td>0</td>\n",
       "      <td>0</td>\n",
       "      <td>0</td>\n",
       "      <td>0</td>\n",
       "      <td>0</td>\n",
       "      <td>1</td>\n",
       "    </tr>\n",
       "    <tr>\n",
       "      <th>3</th>\n",
       "      <td>3</td>\n",
       "      <td>66</td>\n",
       "      <td>Male</td>\n",
       "      <td>3_left.jpg</td>\n",
       "      <td>3_right.jpg</td>\n",
       "      <td>normal fundus</td>\n",
       "      <td>branch retinal artery occlusion</td>\n",
       "      <td>0</td>\n",
       "      <td>0</td>\n",
       "      <td>0</td>\n",
       "      <td>0</td>\n",
       "      <td>0</td>\n",
       "      <td>0</td>\n",
       "      <td>0</td>\n",
       "      <td>1</td>\n",
       "    </tr>\n",
       "    <tr>\n",
       "      <th>4</th>\n",
       "      <td>4</td>\n",
       "      <td>53</td>\n",
       "      <td>Male</td>\n",
       "      <td>4_left.jpg</td>\n",
       "      <td>4_right.jpg</td>\n",
       "      <td>macular epiretinal membrane</td>\n",
       "      <td>mild nonproliferative retinopathy</td>\n",
       "      <td>0</td>\n",
       "      <td>1</td>\n",
       "      <td>0</td>\n",
       "      <td>0</td>\n",
       "      <td>0</td>\n",
       "      <td>0</td>\n",
       "      <td>0</td>\n",
       "      <td>1</td>\n",
       "    </tr>\n",
       "  </tbody>\n",
       "</table>\n",
       "</div>"
      ],
      "text/plain": [
       "   ID  Patient Age Patient Sex Left-Fundus Right-Fundus  \\\n",
       "0   0           69      Female  0_left.jpg  0_right.jpg   \n",
       "1   1           57        Male  1_left.jpg  1_right.jpg   \n",
       "2   2           42        Male  2_left.jpg  2_right.jpg   \n",
       "3   3           66        Male  3_left.jpg  3_right.jpg   \n",
       "4   4           53        Male  4_left.jpg  4_right.jpg   \n",
       "\n",
       "                            Left-Diagnostic Keywords  \\\n",
       "0                                           cataract   \n",
       "1                                      normal fundus   \n",
       "2  laser spot?moderate non proliferative retinopathy   \n",
       "3                                      normal fundus   \n",
       "4                        macular epiretinal membrane   \n",
       "\n",
       "                Right-Diagnostic Keywords  N  D  G  C  A  H  M  O  \n",
       "0                           normal fundus  0  0  0  1  0  0  0  0  \n",
       "1                           normal fundus  1  0  0  0  0  0  0  0  \n",
       "2  moderate non proliferative retinopathy  0  1  0  0  0  0  0  1  \n",
       "3         branch retinal artery occlusion  0  0  0  0  0  0  0  1  \n",
       "4       mild nonproliferative retinopathy  0  1  0  0  0  0  0  1  "
      ]
     },
     "execution_count": 16,
     "metadata": {},
     "output_type": "execute_result"
    }
   ],
   "source": [
    "df_data.head(5)"
   ]
  },
  {
   "cell_type": "code",
   "execution_count": 17,
   "metadata": {},
   "outputs": [
    {
     "data": {
      "text/plain": [
       "3500"
      ]
     },
     "execution_count": 17,
     "metadata": {},
     "output_type": "execute_result"
    }
   ],
   "source": [
    "len(df_data)"
   ]
  },
  {
   "cell_type": "code",
   "execution_count": null,
   "metadata": {},
   "outputs": [],
   "source": [
    "# for categ in categories:\n",
    "#     path = os.path.join(IMAGE_PATH,categ)\n",
    "#     print(path)\n",
    "#     for image in os.listdir(path):\n",
    "        \n",
    "#         img_arrow=cv2.imread(os.path.join(path,image),cv2.IMREAD_GRAYSCALE)\n",
    "#         plt.imshow(img_arrow,cmap=\"grey\")\n",
    "#         plt.show()\n",
    "#         break\n",
    "#     break"
   ]
  },
  {
   "cell_type": "code",
   "execution_count": 9,
   "metadata": {},
   "outputs": [],
   "source": [
    "base_dir = '../FYP/dataset'\n",
    "os.mkdir(base_dir)\n"
   ]
  },
  {
   "cell_type": "code",
   "execution_count": 10,
   "metadata": {},
   "outputs": [],
   "source": [
    "train_dir = os.path.join(base_dir, 'training_image')\n",
    "os.mkdir(train_dir)\n",
    "test_dir = os.path.join(base_dir, 'testing_image')\n",
    "os.mkdir(test_dir)"
   ]
  },
  {
   "cell_type": "code",
   "execution_count": 13,
   "metadata": {},
   "outputs": [],
   "source": [
    "# Train Directory\n",
    "train_cataract_dir = os.path.join(train_dir, 'Cataract')\n",
    "os.mkdir(train_cataract_dir)\n",
    "\n",
    "train_myopia_dir = os.path.join(train_dir, 'Myopia')\n",
    "os.mkdir(train_myopia_dir)\n",
    "\n",
    "train_normal_dir = os.path.join(train_dir, 'Normal')\n",
    "os.mkdir(train_normal_dir)\n",
    "\n",
    "train_diabetes_dir = os.path.join(train_dir, 'Diabetes')\n",
    "os.mkdir(train_diabetes_dir)\n",
    "\n",
    "train_hypertensio_dir = os.path.join(train_dir, 'Hypertension')\n",
    "os.mkdir(train_hypertensio_dir)\n",
    "\n",
    "train_glycoma_dir = os.path.join(train_dir, 'Glycauma')\n",
    "os.mkdir(train_glycoma_dir)\n",
    "\n",
    "train_other_dir = os.path.join(train_dir, 'Other')\n",
    "os.mkdir(train_other_dir)\n",
    "# Testing Directory\n",
    "# test_cataract_dir = os.path.join(test_dir, 'Cataract')\n",
    "# os.mkdir(test_cataract_dir)\n",
    "\n",
    "# test_myopia_dir = os.path.join(test_dir, 'Myopia')\n",
    "# os.mkdir(test_myopia_dir)\n",
    "\n",
    "# test_normal_dir = os.path.join(test_dir, 'Normal')\n",
    "# os.mkdir(test_normal_dir)\n",
    "\n",
    "# test_diabetes_dir = os.path.join(test_dir, 'Diabetes')\n",
    "# os.mkdir(test_diabetes_dir)\n",
    "\n",
    "# test_hypertensio_dir = os.path.join(test_dir, 'Hypertension')\n",
    "# os.mkdir(test_hypertensio_dir)\n",
    "\n",
    "# test_glycoma_dir = os.path.join(test_dir, 'Glycauma')\n",
    "# os.mkdir(test_glycoma_dir)\n",
    "\n",
    "# test_other_dir = os.path.join(test_dir, 'Other')\n",
    "# os.mkdir(test_other_dir)\n"
   ]
  },
  {
   "cell_type": "code",
   "execution_count": 14,
   "metadata": {},
   "outputs": [],
   "source": [
    "# fnames = ['cat.{}.jpg'.format(i) for i in range(1000)]\n",
    "# print(fnames)\n",
    "    \n",
    "for cataract in CATARACT_train:\n",
    "    src = os.path.join(original_dataset_train_dir, cataract)\n",
    "    dst = os.path.join(train_cataract_dir, cataract)\n",
    "    shutil.copyfile(src, dst)\n",
    "# for cataract in CATARACT_test:\n",
    "#     src = os.path.join(original_dataset_train_dir, cataract)\n",
    "#     dst = os.path.join(test_cataract_dir, cataract)\n",
    "#     shutil.copyfile(src, dst)\n"
   ]
  },
  {
   "cell_type": "code",
   "execution_count": 15,
   "metadata": {},
   "outputs": [],
   "source": [
    "for myopia in MYOPIA_train:\n",
    "    src = os.path.join(original_dataset_train_dir, myopia)\n",
    "    dst = os.path.join(train_myopia_dir, myopia)\n",
    "    shutil.copyfile(src, dst)\n",
    "# for myopia in MYOPIA_test:\n",
    "#     src = os.path.join(original_dataset_train_dir, myopia)\n",
    "#     dst = os.path.join(test_myopia_dir, myopia)\n",
    "#     shutil.copyfile(src, dst)\n"
   ]
  },
  {
   "cell_type": "code",
   "execution_count": 16,
   "metadata": {},
   "outputs": [],
   "source": [
    "for normal in NORMAL_train:\n",
    "    src = os.path.join(original_dataset_train_dir, normal)\n",
    "    dst = os.path.join(train_normal_dir, normal)\n",
    "    shutil.copyfile(src, dst)\n",
    "# for normal in NORMAL_test:\n",
    "#     src = os.path.join(original_dataset_train_dir, normal)\n",
    "#     dst = os.path.join(test_normal_dir, normal)\n",
    "#     shutil.copyfile(src, dst)\n"
   ]
  },
  {
   "cell_type": "code",
   "execution_count": 17,
   "metadata": {},
   "outputs": [],
   "source": [
    "for diabetes in DIABETES_train:\n",
    "    src = os.path.join(original_dataset_train_dir, diabetes)\n",
    "    dst = os.path.join(train_diabetes_dir, diabetes)\n",
    "    shutil.copyfile(src, dst)\n",
    "# for diabetes in DIABETES_test:\n",
    "#     src = os.path.join(original_dataset_train_dir, diabetes)\n",
    "#     dst = os.path.join(test_diabetes_dir, diabetes)\n",
    "#     shutil.copyfile(src, dst)"
   ]
  },
  {
   "cell_type": "code",
   "execution_count": 18,
   "metadata": {},
   "outputs": [],
   "source": [
    "for glycauma in GLYCOMA_train:\n",
    "    src = os.path.join(original_dataset_train_dir, glycauma)\n",
    "    dst = os.path.join(train_glycoma_dir, glycauma)\n",
    "    shutil.copyfile(src, dst)\n",
    "# for glycauma in GLYCOMA_test:\n",
    "#     src = os.path.join(original_dataset_train_dir, glycauma)\n",
    "#     dst = os.path.join(test_glycoma_dir, glycauma)\n",
    "#     shutil.copyfile(src, dst)"
   ]
  },
  {
   "cell_type": "code",
   "execution_count": 19,
   "metadata": {},
   "outputs": [],
   "source": [
    "for hypertension in HYPERTENSION_train:\n",
    "    src = os.path.join(original_dataset_train_dir, hypertension)\n",
    "    dst = os.path.join(train_hypertensio_dir, hypertension)\n",
    "    shutil.copyfile(src, dst)\n",
    "# for hypertension in HYPERTENSION_test:\n",
    "#     src = os.path.join(original_dataset_train_dir, hypertension)\n",
    "#     dst = os.path.join(test_hypertensio_dir, hypertension)\n",
    "#     shutil.copyfile(src, dst)"
   ]
  },
  {
   "cell_type": "code",
   "execution_count": 20,
   "metadata": {},
   "outputs": [],
   "source": [
    "for other in OTHER_train:\n",
    "    src = os.path.join(original_dataset_train_dir, other)\n",
    "    dst = os.path.join(train_other_dir, other)\n",
    "    shutil.copyfile(src, dst)\n",
    "# for other in OTHER_test:\n",
    "#     src = os.path.join(original_dataset_train_dir, other)\n",
    "#     dst = os.path.join(test_other_dir, other)\n",
    "#     shutil.copyfile(src, dst)"
   ]
  },
  {
   "cell_type": "code",
   "execution_count": null,
   "metadata": {},
   "outputs": [],
   "source": [
    "print('total training Cataract images:', len(os.listdir(train_cataract_dir)))\n",
    "\n",
    "print('total training Myopia images:', len(os.listdir(train_myopia_dir)))\n",
    "\n",
    "print('total training Normal images:', len(os.listdir(train_normal_dir)))\n",
    "\n",
    "print('total training Diabetes images:', len(os.listdir(train_diabetes_dir)))\n",
    "\n",
    "print('total training Glycoama images:', len(os.listdir(train_glycoma_dir)))\n",
    "\n",
    "print('total training Hypertension images:', len(os.listdir(train_hypertensio_dir)))\n",
    "\n",
    "print('total training Other images:', len(os.listdir(train_other_dir)))\n",
    "\n"
   ]
  },
  {
   "cell_type": "code",
   "execution_count": 21,
   "metadata": {},
   "outputs": [
    {
     "data": {
      "image/png": "[encoded data removed]",
      "text/plain": [
       "<Figure size 432x288 with 1 Axes>"
      ]
     },
     "metadata": {
      "needs_background": "light"
     },
     "output_type": "display_data"
    }
   ],
   "source": [
    "class_names = ['Cataract', 'Diabetes', 'Glycauma', 'Hypertension', 'Myopia',\n",
    "               'Normal', 'Other']\n",
    "\n",
    "DATA_DIR = \"../FYP/Dataset/training_image\"\n",
    "\n",
    "for categry in class_names:\n",
    "    path = os.path.join(DATA_DIR,categry)\n",
    "    for image in os.listdir(path):\n",
    "        img_array = cv2.imread(os.path.join(path,image),cv2.IMREAD_GRAYSCALE)\n",
    "        plt.imshow(img_array,cmap =\"gray\")\n",
    "        plt.show()\n",
    "        break\n",
    "    break\n"
   ]
  },
  {
   "cell_type": "code",
   "execution_count": 22,
   "metadata": {},
   "outputs": [
    {
     "name": "stdout",
     "output_type": "stream",
     "text": [
      "[[0 0 0 ... 0 0 0]\n",
      " [0 0 0 ... 0 0 0]\n",
      " [0 0 0 ... 0 0 0]\n",
      " ...\n",
      " [0 0 0 ... 0 0 0]\n",
      " [0 0 0 ... 0 0 0]\n",
      " [0 0 0 ... 0 0 0]]\n"
     ]
    }
   ],
   "source": [
    "print(img_array)"
   ]
  },
  {
   "cell_type": "code",
   "execution_count": 23,
   "metadata": {},
   "outputs": [
    {
     "name": "stdout",
     "output_type": "stream",
     "text": [
      "(1728, 2304)\n"
     ]
    }
   ],
   "source": [
    "print(img_array.shape)"
   ]
  },
  {
   "cell_type": "code",
   "execution_count": 24,
   "metadata": {},
   "outputs": [
    {
     "data": {
      "image/png": "[encoded data removed]",
      "text/plain": [
       "<Figure size 432x288 with 1 Axes>"
      ]
     },
     "metadata": {
      "needs_background": "light"
     },
     "output_type": "display_data"
    }
   ],
   "source": [
    "# IMG_SIZE = 50\n",
    "# new_array = cv2.resize(img_array,(IMG_SIZE,IMG_SIZE))\n",
    "# plt.imshow(new_array,cmap = 'gray')\n",
    "# plt.show()\n",
    "\n",
    "IMG_SIZE = 50\n",
    "\n",
    "new_array = cv2.resize(img_array, (IMG_SIZE, IMG_SIZE))\n",
    "plt.imshow(new_array, cmap='gray')\n",
    "plt.show()"
   ]
  },
  {
   "cell_type": "code",
   "execution_count": 25,
   "metadata": {},
   "outputs": [
    {
     "data": {
      "image/png": "[encoded data removed]",
      "text/plain": [
       "<Figure size 432x288 with 1 Axes>"
      ]
     },
     "metadata": {
      "needs_background": "light"
     },
     "output_type": "display_data"
    }
   ],
   "source": [
    "new_array = cv2.resize(img_array, (IMG_SIZE, IMG_SIZE))\n",
    "plt.imshow(new_array, cmap='gray')\n",
    "plt.show()"
   ]
  },
  {
   "cell_type": "code",
   "execution_count": 26,
   "metadata": {},
   "outputs": [],
   "source": [
    "# training_data = []\n",
    "\n",
    "# def create_training_data():\n",
    "#     for category in CATEGORIES:  # do dogs and cats\n",
    "\n",
    "#         path = os.path.join(DATADIR,category)  # create path to dogs and cats\n",
    "#         class_num = CATEGORIES.index(category)  # get the classification  (0 or a 1). 0=dog 1=cat\n",
    "\n",
    "#         for img in tqdm(os.listdir(path)):  # iterate over each image per dogs and cats\n",
    "#             try:\n",
    "#                 img_array = cv2.imread(os.path.join(path,img) ,cv2.IMREAD_GRAYSCALE)  # convert to array\n",
    "#                 new_array = cv2.resize(img_array, (IMG_SIZE, IMG_SIZE))  # resize to normalize data size\n",
    "#                 training_data.append([new_array, class_num])  # add this to our training_data\n",
    "#             except Exception as e:  # in the interest in keeping the output clean...\n",
    "#                 pass\n",
    "#             #except OSError as e:\n",
    "#             #    print(\"OSErrroBad img most likely\", e, os.path.join(path,img))\n",
    "#             #except Exception as e:\n",
    "#             #    print(\"general exception\", e, os.path.join(path,img))\n",
    "\n",
    "# create_training_data()\n",
    "\n",
    "# print(len(training_data))\n",
    "\n",
    "training_data = []\n",
    "def create_training_data():\n",
    "    for categry in class_names:\n",
    "        path = os.path.join(DATA_DIR,categry)\n",
    "        class_num = class_names.index(categry)\n",
    "        for image in os.listdir(path):\n",
    "#         for image in tqdm(os.listdir(path)):\n",
    "            try:\n",
    "                img_array = cv2.imread(os.path.join(path,image),cv2.IMREAD_GRAYSCALE)\n",
    "                new_array = cv2.resize(img_array,(IMG_SIZE,IMG_SIZE))\n",
    "                training_data.append([new_array,class_num])\n",
    "            except Exception as e:\n",
    "                pass\n",
    "create_training_data()"
   ]
  },
  {
   "cell_type": "code",
   "execution_count": 27,
   "metadata": {},
   "outputs": [
    {
     "name": "stdout",
     "output_type": "stream",
     "text": [
      "7799\n"
     ]
    }
   ],
   "source": [
    "print(len(training_data))"
   ]
  },
  {
   "cell_type": "code",
   "execution_count": 28,
   "metadata": {},
   "outputs": [],
   "source": [
    "import random\n",
    "random.shuffle(training_data)"
   ]
  },
  {
   "cell_type": "code",
   "execution_count": 29,
   "metadata": {},
   "outputs": [
    {
     "name": "stdout",
     "output_type": "stream",
     "text": [
      "5\n",
      "5\n",
      "5\n",
      "2\n",
      "5\n",
      "1\n",
      "1\n",
      "5\n",
      "1\n",
      "2\n"
     ]
    }
   ],
   "source": [
    "for sample in training_data[:10]:\n",
    "    print(sample[1])"
   ]
  },
  {
   "cell_type": "code",
   "execution_count": 30,
   "metadata": {},
   "outputs": [],
   "source": [
    "x=[]\n",
    "y=[]"
   ]
  },
  {
   "cell_type": "code",
   "execution_count": 31,
   "metadata": {},
   "outputs": [
    {
     "name": "stdout",
     "output_type": "stream",
     "text": [
      "[[[[0]\n",
      "   [0]\n",
      "   [0]\n",
      "   ...\n",
      "   [0]\n",
      "   [0]\n",
      "   [0]]\n",
      "\n",
      "  [[0]\n",
      "   [0]\n",
      "   [0]\n",
      "   ...\n",
      "   [0]\n",
      "   [0]\n",
      "   [0]]\n",
      "\n",
      "  [[0]\n",
      "   [0]\n",
      "   [0]\n",
      "   ...\n",
      "   [0]\n",
      "   [0]\n",
      "   [0]]\n",
      "\n",
      "  ...\n",
      "\n",
      "  [[0]\n",
      "   [0]\n",
      "   [0]\n",
      "   ...\n",
      "   [0]\n",
      "   [0]\n",
      "   [0]]\n",
      "\n",
      "  [[0]\n",
      "   [0]\n",
      "   [0]\n",
      "   ...\n",
      "   [0]\n",
      "   [0]\n",
      "   [0]]\n",
      "\n",
      "  [[0]\n",
      "   [0]\n",
      "   [0]\n",
      "   ...\n",
      "   [0]\n",
      "   [0]\n",
      "   [0]]]]\n"
     ]
    }
   ],
   "source": [
    "for features,label in training_data:\n",
    "    x.append(features)\n",
    "    y.append(label)\n",
    "\n",
    "print(x[0].reshape(-1, IMG_SIZE, IMG_SIZE, 1))\n",
    "\n",
    "x = np.array(x).reshape(-1, IMG_SIZE, IMG_SIZE, 1)\n",
    "\n",
    "# for feature,label in training_data:\n",
    "#     x.append(feature)\n",
    "#     y.append(label)\n",
    "# x = np.array(x).reshape(-1,IMG_SIZE,IMG_SIZE,1)"
   ]
  },
  {
   "cell_type": "code",
   "execution_count": 32,
   "metadata": {},
   "outputs": [],
   "source": [
    "import pickle\n",
    "pickle_out = open(\"x.pickle\",\"wb\")\n",
    "pickle.dump(x,pickle_out)\n",
    "pickle_out.close()\n",
    "\n",
    "pickle_out = open(\"y.pickle\",\"wb\")\n",
    "pickle.dump(y,pickle_out)\n",
    "pickle_out.close()"
   ]
  },
  {
   "cell_type": "code",
   "execution_count": 33,
   "metadata": {},
   "outputs": [],
   "source": [
    "pickle_in = open(\"x.pickle\",\"rb\")\n",
    "x = pickle.load(pickle_in)\n",
    "\n",
    "pickle_in = open(\"y.pickle\",\"rb\")\n",
    "y = pickle.load(pickle_in)"
   ]
  },
  {
   "cell_type": "code",
   "execution_count": 34,
   "metadata": {},
   "outputs": [
    {
     "data": {
      "text/plain": [
       "array([[[0],\n",
       "        [0],\n",
       "        [0],\n",
       "        ...,\n",
       "        [0],\n",
       "        [0],\n",
       "        [0]],\n",
       "\n",
       "       [[0],\n",
       "        [0],\n",
       "        [0],\n",
       "        ...,\n",
       "        [0],\n",
       "        [0],\n",
       "        [0]],\n",
       "\n",
       "       [[0],\n",
       "        [0],\n",
       "        [0],\n",
       "        ...,\n",
       "        [0],\n",
       "        [0],\n",
       "        [0]],\n",
       "\n",
       "       ...,\n",
       "\n",
       "       [[0],\n",
       "        [0],\n",
       "        [0],\n",
       "        ...,\n",
       "        [0],\n",
       "        [0],\n",
       "        [0]],\n",
       "\n",
       "       [[0],\n",
       "        [0],\n",
       "        [0],\n",
       "        ...,\n",
       "        [0],\n",
       "        [0],\n",
       "        [0]],\n",
       "\n",
       "       [[0],\n",
       "        [0],\n",
       "        [0],\n",
       "        ...,\n",
       "        [0],\n",
       "        [0],\n",
       "        [0]]], dtype=uint8)"
      ]
     },
     "execution_count": 34,
     "metadata": {},
     "output_type": "execute_result"
    }
   ],
   "source": [
    "x[1]"
   ]
  },
  {
   "cell_type": "code",
   "execution_count": 35,
   "metadata": {},
   "outputs": [
    {
     "name": "stdout",
     "output_type": "stream",
     "text": [
      "Train on 5459 samples, validate on 2340 samples\n",
      "Epoch 1/3\n",
      "5459/5459 [==============================] - 394s 72ms/sample - loss: -87075029.7109 - accuracy: 0.2865 - val_loss: -490845286.5641 - val_accuracy: 0.2940\n",
      "Epoch 2/3\n",
      "5459/5459 [==============================] - 355s 65ms/sample - loss: -4027164204.5503 - accuracy: 0.2872 - val_loss: -11230636608.7658 - val_accuracy: 0.2940\n",
      "Epoch 3/3\n",
      "5459/5459 [==============================] - 356s 65ms/sample - loss: -32450931761.3336 - accuracy: 0.2872 - val_loss: -64147470766.6051 - val_accuracy: 0.2940\n"
     ]
    },
    {
     "data": {
      "text/plain": [
       "<tensorflow.python.keras.callbacks.History at 0x1b2b94d3198>"
      ]
     },
     "execution_count": 35,
     "metadata": {},
     "output_type": "execute_result"
    }
   ],
   "source": [
    "from tensorflow.keras.preprocessing.image import ImageDataGenerator\n",
    "from tensorflow.keras.models import Sequential\n",
    "from tensorflow.keras.layers import Dense, Dropout, Activation, Flatten\n",
    "from tensorflow.keras.layers import Conv2D, MaxPooling2D\n",
    "\n",
    "x = x/255.0\n",
    "\n",
    "y=np.array(y)\n",
    "model = Sequential()\n",
    "\n",
    "model.add(Conv2D(48, (3, 3), input_shape=x.shape[1:]))\n",
    "model.add(Activation('relu'))\n",
    "# model.add(MaxPooling2D(pool_size=(2, 2)))\n",
    "# model.add(Dropout(0.2))\n",
    "\n",
    "model.add(Conv2D(64, (3, 3)))\n",
    "model.add(Activation('relu'))\n",
    "model.add(MaxPooling2D(pool_size=(2, 2)))\n",
    "model.add(Dropout(0.1))\n",
    "\n",
    "model.add(Conv2D(96, (3, 3)))\n",
    "model.add(Activation('relu'))\n",
    "# model.add(MaxPooling2D(pool_size=(2, 2)))\n",
    "# model.add(Dropout(0.2))\n",
    "\n",
    "model.add(Conv2D(112, (3, 3)))\n",
    "model.add(Activation('relu'))\n",
    "model.add(MaxPooling2D(pool_size=(2, 2)))\n",
    "model.add(Dropout(0.1))\n",
    "\n",
    "model.add(Flatten())  # this converts our 3D feature maps to 1D feature vectors\n",
    "\n",
    "model.add(Dense(64, activation='relu'))\n",
    "model.add(Dropout(0.2))\n",
    "model.add(Dense(8))\n",
    "model.add(Activation('softmax'))\n",
    "\n",
    "model.compile(loss='sparse_categorical_crossentropy',\n",
    "              optimizer='adam',\n",
    "              metrics=['accuracy'])\n",
    "\n",
    "model.fit(x, y, batch_size=32, epochs=100, validation_split=0.1)"
   ]
  },
  {
   "cell_type": "markdown",
   "metadata": {},
   "source": [
    "# BS Yehi tk kaam Haai"
   ]
  },
  {
   "cell_type": "code",
   "execution_count": null,
   "metadata": {},
   "outputs": [],
   "source": [
    "# from tensorflow.keras import layers\n",
    "# from tensorflow.keras import models\n",
    "# model = models.Sequential()\n",
    "\n",
    "# model.add(layers.Conv2D(32, (3, 3), activation='relu',input_shape=(150, 150, 3)))\n",
    "# model.add(layers.MaxPooling2D((2, 2)))\n",
    "\n",
    "# model.add(layers.Conv2D(64, (3, 3), activation='relu'))\n",
    "# model.add(layers.MaxPooling2D((2, 2)))\n",
    "\n",
    "# model.add(layers.Conv2D(128, (3, 3), activation='relu'))\n",
    "# model.add(layers.MaxPooling2D((2, 2)))\n",
    "\n",
    "# model.add(layers.Conv2D(128, (3, 3), activation='relu'))\n",
    "# model.add(layers.MaxPooling2D((2, 2)))\n",
    "\n",
    "# model.add(layers.Flatten())\n",
    "\n",
    "# model.add(layers.Dense(512, activation='relu'))\n",
    "# model.add(layers.Dense(1, activation='sigmoid'))"
   ]
  },
  {
   "cell_type": "code",
   "execution_count": null,
   "metadata": {},
   "outputs": [],
   "source": [
    "# model.summary()"
   ]
  },
  {
   "cell_type": "code",
   "execution_count": null,
   "metadata": {},
   "outputs": [],
   "source": [
    "from tensorflow.keras import optimizers\n",
    "\n",
    "model.compile(loss='binary_crossentropy',\n",
    "              optimizer=optimizers.RMSprop(lr=1e-4),\n",
    "              metrics=['acc'])"
   ]
  },
  {
   "cell_type": "code",
   "execution_count": null,
   "metadata": {},
   "outputs": [],
   "source": [
    "# from tensorflow.keras.preprocessing.image import ImageDataGenerator\n",
    "\n",
    "# train_datagen = ImageDataGenerator(rescale=1./255)\n",
    "# test_datagen = ImageDataGenerator(rescale=1./255)\n",
    "\n",
    "# train_generator = train_datagen.flow_from_directory(\n",
    "#                                                     train_dir,\n",
    "#                                                     target_size=(150, 150),\n",
    "#                                                     batch_size=20,\n",
    "#                                                     class_mode='binary')"
   ]
  },
  {
   "cell_type": "code",
   "execution_count": null,
   "metadata": {},
   "outputs": [],
   "source": [
    "\n",
    "# for data_batch, labels_batch in train_generator:\n",
    "#     print('data batch shape:', data_batch.shape)\n",
    "#     print('labels batch shape:', labels_batch.shape)\n",
    "#     break"
   ]
  },
  {
   "cell_type": "code",
   "execution_count": null,
   "metadata": {},
   "outputs": [],
   "source": [
    "# history = model.fit_generator(\n",
    "#                             train_generator,\n",
    "#                             steps_per_epoch=100,\n",
    "#                             epochs=30,\n",
    "#                             )"
   ]
  },
  {
   "cell_type": "markdown",
   "metadata": {},
   "source": [
    "# VGG16 CNN"
   ]
  },
  {
   "cell_type": "code",
   "execution_count": 24,
   "metadata": {},
   "outputs": [],
   "source": [
    "\n",
    "#Default dimensions we found online\n",
    "img_width, img_height = 224, 224  \n",
    "   \n",
    "#Create a bottleneck file\n",
    "top_model_weights_path = 'bottleneck_fc_model.h5' \n",
    "\n",
    "# loading up our datasets\n",
    "train_data_dir = '../FYP/dataset/training_image'  \n",
    "test_data_dir = '../FYP/testing_image' \n",
    "# test_data_dir = 'data/test'\n",
    "   \n",
    "# number of epochs to train top model  \n",
    "epochs = 7 #this has been changed after multiple model run  \n",
    "# batch size used by flow_from_directory and predict_generator  \n",
    "batch_size = 50"
   ]
  },
  {
   "cell_type": "code",
   "execution_count": 19,
   "metadata": {},
   "outputs": [
    {
     "name": "stdout",
     "output_type": "stream",
     "text": [
      "Downloading data from https://github.com/fchollet/deep-learning-models/releases/download/v0.1/vgg16_weights_tf_dim_ordering_tf_kernels_notop.h5\n",
      "58892288/58889256 [==============================] - 338s 6us/step\n"
     ]
    }
   ],
   "source": [
    "#Loading vgc16 model\n",
    "vgg16 = applications.VGG16(include_top=False, weights='imagenet')"
   ]
  },
  {
   "cell_type": "code",
   "execution_count": 21,
   "metadata": {},
   "outputs": [],
   "source": [
    "datagen = ImageDataGenerator(rescale=1. / 255)  #needed to create the bottleneck .npy files"
   ]
  },
  {
   "cell_type": "code",
   "execution_count": 22,
   "metadata": {},
   "outputs": [
    {
     "name": "stdout",
     "output_type": "stream",
     "text": [
      "Found 7799 images belonging to 7 classes.\n",
      "Time:  1:53:29.911915\n"
     ]
    }
   ],
   "source": [
    "#__this can take an hour and half to run so only run it once. \n",
    "#once the npy files have been created, no need to run again. Convert this cell to a code cell to run.__\n",
    "\n",
    "start = datetime.datetime.now()\n",
    "   \n",
    "generator = datagen.flow_from_directory(  \n",
    "     train_data_dir,  \n",
    "     target_size=(img_width, img_height),  \n",
    "     batch_size=batch_size,  \n",
    "     class_mode=None,  \n",
    "     shuffle=False)  \n",
    "   \n",
    "nb_train_samples = len(generator.filenames)  \n",
    "num_classes = len(generator.class_indices)  \n",
    "   \n",
    "predict_size_train = int(math.ceil(nb_train_samples / batch_size))  \n",
    "   \n",
    "bottleneck_features_train = vgg16.predict_generator(generator, predict_size_train)  \n",
    "   \n",
    "np.save('bottleneck_features_train.npy', bottleneck_features_train)\n",
    "end= datetime.datetime.now()\n",
    "elapsed= end-start\n",
    "print ('Time: ', elapsed)"
   ]
  },
  {
   "cell_type": "code",
   "execution_count": 23,
   "metadata": {},
   "outputs": [
    {
     "name": "stdout",
     "output_type": "stream",
     "text": [
      "---------------------------------------------------------------------------------------------------------------------\n"
     ]
    }
   ],
   "source": [
    "print('-'*117)"
   ]
  },
  {
   "cell_type": "code",
   "execution_count": 50,
   "metadata": {},
   "outputs": [
    {
     "ename": "ImportError",
     "evalue": "Keras requires TensorFlow 2.2 or higher. Install TensorFlow via `pip install tensorflow`",
     "output_type": "error",
     "traceback": [
      "\u001b[1;31m---------------------------------------------------------------------------\u001b[0m",
      "\u001b[1;31mModuleNotFoundError\u001b[0m                       Traceback (most recent call last)",
      "\u001b[1;32m~\\Anaconda3\\lib\\site-packages\\keras\\__init__.py\u001b[0m in \u001b[0;36m<module>\u001b[1;34m\u001b[0m\n\u001b[0;32m      2\u001b[0m \u001b[1;32mtry\u001b[0m\u001b[1;33m:\u001b[0m\u001b[1;33m\u001b[0m\u001b[1;33m\u001b[0m\u001b[0m\n\u001b[1;32m----> 3\u001b[1;33m     \u001b[1;32mfrom\u001b[0m \u001b[0mtensorflow\u001b[0m\u001b[1;33m.\u001b[0m\u001b[0mkeras\u001b[0m\u001b[1;33m.\u001b[0m\u001b[0mlayers\u001b[0m\u001b[1;33m.\u001b[0m\u001b[0mexperimental\u001b[0m\u001b[1;33m.\u001b[0m\u001b[0mpreprocessing\u001b[0m \u001b[1;32mimport\u001b[0m \u001b[0mRandomRotation\u001b[0m\u001b[1;33m\u001b[0m\u001b[1;33m\u001b[0m\u001b[0m\n\u001b[0m\u001b[0;32m      4\u001b[0m \u001b[1;32mexcept\u001b[0m \u001b[0mImportError\u001b[0m\u001b[1;33m:\u001b[0m\u001b[1;33m\u001b[0m\u001b[1;33m\u001b[0m\u001b[0m\n",
      "\u001b[1;31mModuleNotFoundError\u001b[0m: No module named 'tensorflow.keras.layers.experimental.preprocessing'",
      "\nDuring handling of the above exception, another exception occurred:\n",
      "\u001b[1;31mImportError\u001b[0m                               Traceback (most recent call last)",
      "\u001b[1;32m<ipython-input-50-1fc8582cff8e>\u001b[0m in \u001b[0;36m<module>\u001b[1;34m\u001b[0m\n\u001b[0;32m      2\u001b[0m \u001b[1;32mfrom\u001b[0m \u001b[0m__future__\u001b[0m \u001b[1;32mimport\u001b[0m \u001b[0mabsolute_import\u001b[0m\u001b[1;33m\u001b[0m\u001b[1;33m\u001b[0m\u001b[0m\n\u001b[0;32m      3\u001b[0m \u001b[1;31m# from tensorflow.keras.utils.np_utils import to_categorical\u001b[0m\u001b[1;33m\u001b[0m\u001b[1;33m\u001b[0m\u001b[1;33m\u001b[0m\u001b[0m\n\u001b[1;32m----> 4\u001b[1;33m \u001b[1;32mfrom\u001b[0m \u001b[0mkeras\u001b[0m\u001b[1;33m.\u001b[0m\u001b[0mutils\u001b[0m\u001b[1;33m.\u001b[0m\u001b[0mnp_utils\u001b[0m \u001b[1;32mimport\u001b[0m \u001b[0mto_categorical\u001b[0m\u001b[1;33m\u001b[0m\u001b[1;33m\u001b[0m\u001b[0m\n\u001b[0m\u001b[0;32m      5\u001b[0m \u001b[1;31m#training data\u001b[0m\u001b[1;33m\u001b[0m\u001b[1;33m\u001b[0m\u001b[1;33m\u001b[0m\u001b[0m\n\u001b[0;32m      6\u001b[0m generator_top = datagen.flow_from_directory(  \n",
      "\u001b[1;32m~\\Anaconda3\\lib\\site-packages\\keras\\__init__.py\u001b[0m in \u001b[0;36m<module>\u001b[1;34m\u001b[0m\n\u001b[0;32m      4\u001b[0m \u001b[1;32mexcept\u001b[0m \u001b[0mImportError\u001b[0m\u001b[1;33m:\u001b[0m\u001b[1;33m\u001b[0m\u001b[1;33m\u001b[0m\u001b[0m\n\u001b[0;32m      5\u001b[0m     raise ImportError(\n\u001b[1;32m----> 6\u001b[1;33m         \u001b[1;34m'Keras requires TensorFlow 2.2 or higher. '\u001b[0m\u001b[1;33m\u001b[0m\u001b[1;33m\u001b[0m\u001b[0m\n\u001b[0m\u001b[0;32m      7\u001b[0m         'Install TensorFlow via `pip install tensorflow`')\n\u001b[0;32m      8\u001b[0m \u001b[1;33m\u001b[0m\u001b[0m\n",
      "\u001b[1;31mImportError\u001b[0m: Keras requires TensorFlow 2.2 or higher. Install TensorFlow via `pip install tensorflow`"
     ]
    }
   ],
   "source": [
    "# import numpy as np\n",
    "from __future__ import absolute_import\n",
    "# from tensorflow.keras.utils.np_utils import to_categorical  \n",
    "from keras.utils.np_utils import to_categorical\n",
    "#training data\n",
    "generator_top = datagen.flow_from_directory(  \n",
    "         train_data_dir,  \n",
    "         target_size=(img_width, img_height),  \n",
    "         batch_size=batch_size,  \n",
    "         class_mode='categorical',  \n",
    "         shuffle=False)  \n",
    "   \n",
    "nb_train_samples = len(generator_top.filenames)  \n",
    "num_classes = len(generator_top.class_indices)  \n",
    "   \n",
    "# load the bottleneck features saved earlier  \n",
    "train_data = np.load('bottleneck_features_train.npy')  \n",
    "   \n",
    "# get the class lebels for the training data, in the original order  \n",
    "train_labels = generator_top.classes  \n",
    "   \n",
    "# convert the training labels to categorical vectors  \n",
    "train_labels = to_categorical(train_labels, num_classes=num_classes)"
   ]
  },
  {
   "cell_type": "code",
   "execution_count": null,
   "metadata": {},
   "outputs": [],
   "source": []
  }
 ],
 "metadata": {
  "kernelspec": {
   "display_name": "Python 3",
   "language": "python",
   "name": "python3"
  },
  "language_info": {
   "codemirror_mode": {
    "name": "ipython",
    "version": 3
   },
   "file_extension": ".py",
   "mimetype": "text/x-python",
   "name": "python",
   "nbconvert_exporter": "python",
   "pygments_lexer": "ipython3",
   "version": "3.7.3"
  }
 },
 "nbformat": 4,
 "nbformat_minor": 2
}
