{
 "cells": [
  {
   "cell_type": "markdown",
   "metadata": {},
   "source": [
    "# operators\n",
    "# strings\n",
    "# list\n",
    "# help\n",
    "# itterator\n",
    "# while\n",
    "# for\n",
    "# if\n",
    "# list comprehensio\n",
    "# dictionary\n",
    "# functions \n",
    "# lambda Functions\n",
    "# -----------------XXXXX---------------"
   ]
  },
  {
   "cell_type": "markdown",
   "metadata": {},
   "source": [
    "# Mathematic Operations"
   ]
  },
  {
   "cell_type": "markdown",
   "metadata": {},
   "source": [
    "### round off division -> //\n",
    "### Modulus -> %\n",
    "### power -> **"
   ]
  },
  {
   "cell_type": "code",
   "execution_count": 1,
   "metadata": {},
   "outputs": [
    {
     "data": {
      "text/plain": [
       "3"
      ]
     },
     "execution_count": 1,
     "metadata": {},
     "output_type": "execute_result"
    }
   ],
   "source": [
    "x=3\n",
    "x"
   ]
  },
  {
   "cell_type": "code",
   "execution_count": 2,
   "metadata": {},
   "outputs": [
    {
     "data": {
      "text/plain": [
       "6"
      ]
     },
     "execution_count": 2,
     "metadata": {},
     "output_type": "execute_result"
    }
   ],
   "source": [
    "x*=2\n",
    "x"
   ]
  },
  {
   "cell_type": "code",
   "execution_count": 3,
   "metadata": {},
   "outputs": [
    {
     "data": {
      "text/plain": [
       "3.0"
      ]
     },
     "execution_count": 3,
     "metadata": {},
     "output_type": "execute_result"
    }
   ],
   "source": [
    "x/=2\n",
    "x"
   ]
  },
  {
   "cell_type": "code",
   "execution_count": 4,
   "metadata": {},
   "outputs": [],
   "source": [
    "x=6"
   ]
  },
  {
   "cell_type": "code",
   "execution_count": 5,
   "metadata": {},
   "outputs": [],
   "source": [
    "x**=2\n"
   ]
  },
  {
   "cell_type": "code",
   "execution_count": 6,
   "metadata": {},
   "outputs": [
    {
     "data": {
      "text/plain": [
       "36"
      ]
     },
     "execution_count": 6,
     "metadata": {},
     "output_type": "execute_result"
    }
   ],
   "source": [
    "x"
   ]
  },
  {
   "cell_type": "code",
   "execution_count": 7,
   "metadata": {},
   "outputs": [
    {
     "data": {
      "text/plain": [
       "36"
      ]
     },
     "execution_count": 7,
     "metadata": {},
     "output_type": "execute_result"
    }
   ],
   "source": [
    "x"
   ]
  },
  {
   "cell_type": "code",
   "execution_count": 8,
   "metadata": {},
   "outputs": [
    {
     "data": {
      "text/plain": [
       "36"
      ]
     },
     "execution_count": 8,
     "metadata": {},
     "output_type": "execute_result"
    }
   ],
   "source": [
    "x=6\n",
    "x=x**2\n",
    "x"
   ]
  },
  {
   "cell_type": "code",
   "execution_count": 9,
   "metadata": {},
   "outputs": [
    {
     "name": "stdout",
     "output_type": "stream",
     "text": [
      "12.0\n"
     ]
    }
   ],
   "source": [
    "print(x/3)"
   ]
  },
  {
   "cell_type": "code",
   "execution_count": 10,
   "metadata": {},
   "outputs": [
    {
     "name": "stdout",
     "output_type": "stream",
     "text": [
      "7.2\n"
     ]
    }
   ],
   "source": [
    "print(x/5)"
   ]
  },
  {
   "cell_type": "code",
   "execution_count": 11,
   "metadata": {},
   "outputs": [
    {
     "data": {
      "text/plain": [
       "18"
      ]
     },
     "execution_count": 11,
     "metadata": {},
     "output_type": "execute_result"
    }
   ],
   "source": [
    "x=x//2\n",
    "x"
   ]
  },
  {
   "cell_type": "code",
   "execution_count": 12,
   "metadata": {},
   "outputs": [
    {
     "data": {
      "text/plain": [
       "2"
      ]
     },
     "execution_count": 12,
     "metadata": {},
     "output_type": "execute_result"
    }
   ],
   "source": [
    "x=5\n",
    "x//=2\n",
    "x"
   ]
  },
  {
   "cell_type": "code",
   "execution_count": 13,
   "metadata": {},
   "outputs": [
    {
     "data": {
      "text/plain": [
       "2"
      ]
     },
     "execution_count": 13,
     "metadata": {},
     "output_type": "execute_result"
    }
   ],
   "source": [
    "x=5\n",
    "x=x//2\n",
    "x"
   ]
  },
  {
   "cell_type": "markdown",
   "metadata": {},
   "source": [
    "## Take input from user"
   ]
  },
  {
   "cell_type": "code",
   "execution_count": 4,
   "metadata": {},
   "outputs": [
    {
     "name": "stdout",
     "output_type": "stream",
     "text": [
      "enter name: ahsan\n",
      "Name : ahsan\n",
      "Age : 21\n",
      "enter your fname and lname (separated by space) : ahsan rao\n",
      "enter your name and age (separated by ,) : ahsan,21\n",
      "ahsan\n",
      "ahsan rao\n",
      "ahsan 21\n"
     ]
    }
   ],
   "source": [
    "name=input(\"enter name: \")\n",
    "name0 , age0  = input (\"Name : \") , input (\"Age : \")\n",
    "##if split bracket is empty.This means it take space by default to split variables\n",
    "fname,lname=input(\"enter your fname and lname (separated by space) : \").split() \n",
    "name1,age1=input(\"enter your name and age (separated by ,) : \").split(\",\") \n",
    "print(name)\n",
    "print(fname,lname)\n",
    "print(name1,age)"
   ]
  },
  {
   "cell_type": "markdown",
   "metadata": {},
   "source": [
    "# STRING  \n",
    "\n",
    "### type( any variable ) -> return data type of variable\n",
    "### .upper()\n",
    "### .lower()\n",
    "### .title()\n",
    "### .lstrip() OR .lstrip(character)\n",
    "### .rstrip()\n",
    "### .strip()\n",
    "### .count(string) OR .count(string, start_index) OR .count(string, start_index, end_index) \n",
    "### .index(string) OR .index(string, start_index) OR .index(string, start_index, end_index) ->with error \n",
    "### .find(string) OR .find(string, start_index) OR .find(string, start_index, end_index) ->without error \n",
    "### .isalnum() ->find alphanumeric characters in string\n",
    "### .isdigit()  -> find digits\n",
    "### .islower()\n",
    "### .isalpha() -> find alphabets\n",
    "### .isnumeric() -> find alphabets and digits\n",
    "### .isspace()\n",
    "### .istitle()\n",
    "### .replace(old, new, number of char to replace)\n",
    "### .split('char') OR .split('char',2) -> convert string into list\n",
    "### .swapcase() "
   ]
  },
  {
   "cell_type": "code",
   "execution_count": 14,
   "metadata": {},
   "outputs": [
    {
     "name": "stdout",
     "output_type": "stream",
     "text": [
      "my name is ahsan ghaffar Rajput. I'm 23 years old\n",
      "<class 'str'>\n"
     ]
    }
   ],
   "source": [
    "name=\"ahsan ghaffar Rajput\"\n",
    "age=23\n",
    "print (\"my name is \" +name+ \". \" + \"I'm \"+str(age)+\" years old\" )\n",
    "print(type(name))"
   ]
  },
  {
   "cell_type": "code",
   "execution_count": 15,
   "metadata": {},
   "outputs": [
    {
     "data": {
      "text/plain": [
       "'Ahsan Ghaffar Rajput'"
      ]
     },
     "execution_count": 15,
     "metadata": {},
     "output_type": "execute_result"
    }
   ],
   "source": [
    "name.title()"
   ]
  },
  {
   "cell_type": "code",
   "execution_count": 16,
   "metadata": {},
   "outputs": [
    {
     "data": {
      "text/plain": [
       "'Ahsan Ghaffar Rajput'"
      ]
     },
     "execution_count": 16,
     "metadata": {},
     "output_type": "execute_result"
    }
   ],
   "source": [
    "name=\"ahsan ghaffar Rajput\"\n",
    "name.title()"
   ]
  },
  {
   "cell_type": "code",
   "execution_count": 17,
   "metadata": {},
   "outputs": [
    {
     "data": {
      "text/plain": [
       "'AHSAN GHAFFAR RAJPUT'"
      ]
     },
     "execution_count": 17,
     "metadata": {},
     "output_type": "execute_result"
    }
   ],
   "source": [
    "name.upper()"
   ]
  },
  {
   "cell_type": "code",
   "execution_count": 18,
   "metadata": {},
   "outputs": [
    {
     "data": {
      "text/plain": [
       "'ahsan ghaffar rajput'"
      ]
     },
     "execution_count": 18,
     "metadata": {},
     "output_type": "execute_result"
    }
   ],
   "source": [
    "name.lower()"
   ]
  },
  {
   "cell_type": "code",
   "execution_count": 19,
   "metadata": {},
   "outputs": [
    {
     "data": {
      "text/plain": [
       "'ahsan ghaffar Rajput         '"
      ]
     },
     "execution_count": 19,
     "metadata": {},
     "output_type": "execute_result"
    }
   ],
   "source": [
    "name=\"       ahsan ghaffar Rajput         \"\n",
    "name.lstrip()"
   ]
  },
  {
   "cell_type": "code",
   "execution_count": 20,
   "metadata": {},
   "outputs": [
    {
     "data": {
      "text/plain": [
       "'       ahsan ghaffar Rajput'"
      ]
     },
     "execution_count": 20,
     "metadata": {},
     "output_type": "execute_result"
    }
   ],
   "source": [
    "name.rstrip()"
   ]
  },
  {
   "cell_type": "code",
   "execution_count": 21,
   "metadata": {},
   "outputs": [
    {
     "data": {
      "text/plain": [
       "'ahsan ghaffar Rajput'"
      ]
     },
     "execution_count": 21,
     "metadata": {},
     "output_type": "execute_result"
    }
   ],
   "source": [
    "name.strip()"
   ]
  },
  {
   "cell_type": "code",
   "execution_count": 22,
   "metadata": {},
   "outputs": [
    {
     "name": "stdout",
     "output_type": "stream",
     "text": [
      "2\n",
      "1\n",
      "2\n",
      "1\n"
     ]
    }
   ],
   "source": [
    "name=\"ahsan rao ghaffar rao\"\n",
    "\n",
    "print(name.count('rao'))\n",
    "print(name.count('rao',8))\n",
    "print(name.count('rao',6))\n",
    "print(name.count('rao',0,15))"
   ]
  },
  {
   "cell_type": "code",
   "execution_count": 23,
   "metadata": {},
   "outputs": [
    {
     "name": "stdout",
     "output_type": "stream",
     "text": [
      "He love Pakistan, He love Pakistan, He love python\n",
      "He love Pakistan, I love Pakistan, I love python\n"
     ]
    }
   ],
   "source": [
    "s=\"I love Pakistan, I love Pakistan, I love python\"\n",
    "print(s.replace('I','He'))\n",
    "print(s.replace('I','He',1))"
   ]
  },
  {
   "cell_type": "markdown",
   "metadata": {},
   "source": [
    "# LIST \n",
    "\n",
    "### split\n",
    "### join\n",
    "### .append (\"any value\")\n",
    "### .insert ( index , \"value\" )\n",
    "### del  list  OR  del list[index] \n",
    "### .remove (index)\n",
    "### .pop ()  OR  .pop(index)\n",
    "### .index (value)\n",
    "### .enumerate()  -> create tuple inside list in this format [ ( index, value1 ) ,  ( index, value2 ) ..... ]\n",
    "### zip(list1, list2,----)\n",
    "### unzip --> zip(*list) "
   ]
  },
  {
   "cell_type": "code",
   "execution_count": 35,
   "metadata": {},
   "outputs": [
    {
     "data": {
      "text/plain": [
       "['ahsan', 'ali', 'faraz', 'talha']"
      ]
     },
     "execution_count": 35,
     "metadata": {},
     "output_type": "execute_result"
    }
   ],
   "source": [
    "names=[\"ahsan\",\"ali\",\"faraz\",\"talha\"] ##LIST \n",
    "names"
   ]
  },
  {
   "cell_type": "code",
   "execution_count": 36,
   "metadata": {},
   "outputs": [
    {
     "data": {
      "text/plain": [
       "'faraz'"
      ]
     },
     "execution_count": 36,
     "metadata": {},
     "output_type": "execute_result"
    }
   ],
   "source": [
    "names[2]"
   ]
  },
  {
   "cell_type": "code",
   "execution_count": 37,
   "metadata": {},
   "outputs": [
    {
     "data": {
      "text/plain": [
       "'AHSAN'"
      ]
     },
     "execution_count": 37,
     "metadata": {},
     "output_type": "execute_result"
    }
   ],
   "source": [
    "names[0].upper()"
   ]
  },
  {
   "cell_type": "code",
   "execution_count": 24,
   "metadata": {},
   "outputs": [
    {
     "name": "stdout",
     "output_type": "stream",
     "text": [
      "['I', 'love', 'Pakistan,', 'I', 'love', 'Pakistan,', 'I', 'love', 'python']\n",
      "['I love Pakistan', ' I love Pakistan', ' I love python']\n",
      "['I love Pakistan', ' I love Pakistan, I love python']\n"
     ]
    }
   ],
   "source": [
    "s=\"I love Pakistan, I love Pakistan, I love python\"\n",
    "\n",
    "print(s.split())\n",
    "print(s.split(','))\n",
    "print(s.split(',',1)) "
   ]
  },
  {
   "cell_type": "code",
   "execution_count": 25,
   "metadata": {},
   "outputs": [
    {
     "name": "stdout",
     "output_type": "stream",
     "text": [
      "['I', 'love', 'Pakistan,', 'I', 'love', 'Pakistan,', 'I', 'love', 'python']\n",
      "I-love-Pakistan,-I-love-Pakistan,-I-love-python\n"
     ]
    }
   ],
   "source": [
    "s1=s.split()\n",
    "print(s1)\n",
    "s2='-'.join(s1)\n",
    "print(s2)"
   ]
  },
  {
   "cell_type": "code",
   "execution_count": 38,
   "metadata": {},
   "outputs": [
    {
     "data": {
      "text/plain": [
       "['ahsan', 'ali', 'faraz', 'talha', 'rao']"
      ]
     },
     "execution_count": 38,
     "metadata": {},
     "output_type": "execute_result"
    }
   ],
   "source": [
    "names.append(\"rao\")\n",
    "names"
   ]
  },
  {
   "cell_type": "code",
   "execution_count": 39,
   "metadata": {},
   "outputs": [
    {
     "data": {
      "text/plain": [
       "['ahsan', 'noman', 'ali', 'faraz', 'talha', 'rao']"
      ]
     },
     "execution_count": 39,
     "metadata": {},
     "output_type": "execute_result"
    }
   ],
   "source": [
    "names.insert(1,\"noman\")\n",
    "names"
   ]
  },
  {
   "cell_type": "code",
   "execution_count": 40,
   "metadata": {},
   "outputs": [
    {
     "data": {
      "text/plain": [
       "['ahsan', 'noman', 'faraz', 'talha', 'rao']"
      ]
     },
     "execution_count": 40,
     "metadata": {},
     "output_type": "execute_result"
    }
   ],
   "source": [
    "del names[2]\n",
    "names"
   ]
  },
  {
   "cell_type": "code",
   "execution_count": 41,
   "metadata": {},
   "outputs": [
    {
     "data": {
      "text/plain": [
       "['ahsan', 'noman', 'talha', 'rao']"
      ]
     },
     "execution_count": 41,
     "metadata": {},
     "output_type": "execute_result"
    }
   ],
   "source": [
    "names.remove(\"faraz\")\n",
    "names"
   ]
  },
  {
   "cell_type": "code",
   "execution_count": 42,
   "metadata": {},
   "outputs": [
    {
     "data": {
      "text/plain": [
       "['ahsan', 'noman', 'talha']"
      ]
     },
     "execution_count": 42,
     "metadata": {},
     "output_type": "execute_result"
    }
   ],
   "source": [
    "delName=names.pop()\n",
    "delName\n",
    "names"
   ]
  },
  {
   "cell_type": "code",
   "execution_count": 43,
   "metadata": {},
   "outputs": [
    {
     "name": "stdout",
     "output_type": "stream",
     "text": [
      "rao\n"
     ]
    }
   ],
   "source": [
    "print(delName)"
   ]
  },
  {
   "cell_type": "code",
   "execution_count": 44,
   "metadata": {},
   "outputs": [
    {
     "name": "stdout",
     "output_type": "stream",
     "text": [
      "noman\n",
      "['ahsan', 'talha']\n"
     ]
    }
   ],
   "source": [
    "delName=names.pop(1)\n",
    "print(delName)\n",
    "print(names)"
   ]
  },
  {
   "cell_type": "code",
   "execution_count": 45,
   "metadata": {},
   "outputs": [
    {
     "name": "stdout",
     "output_type": "stream",
     "text": [
      "noman\n",
      "['ahsan', 'talha']\n"
     ]
    }
   ],
   "source": [
    "names=['ahsan', 'noman', 'talha']\n",
    "delName=names.pop(1)\n",
    "print(delName)\n",
    "print(names)"
   ]
  },
  {
   "cell_type": "code",
   "execution_count": 46,
   "metadata": {},
   "outputs": [
    {
     "name": "stdout",
     "output_type": "stream",
     "text": [
      "noman\n",
      "['ahsan', 'talha']\n"
     ]
    }
   ],
   "source": [
    "names=['ahsan', 'noman', 'talha']\n",
    "delName=names.pop(1)\n",
    "print(delName)\n",
    "print(names)"
   ]
  },
  {
   "cell_type": "code",
   "execution_count": 47,
   "metadata": {},
   "outputs": [
    {
     "data": {
      "text/plain": [
       "1"
      ]
     },
     "execution_count": 47,
     "metadata": {},
     "output_type": "execute_result"
    }
   ],
   "source": [
    "marks=[23,44,11,9,0,5,55,32]\n",
    "marks.index(44)"
   ]
  },
  {
   "cell_type": "code",
   "execution_count": 48,
   "metadata": {},
   "outputs": [
    {
     "data": {
      "text/plain": [
       "[(0, 23), (1, 44), (2, 11), (3, 9), (4, 0), (5, 5), (6, 55), (7, 32)]"
      ]
     },
     "execution_count": 48,
     "metadata": {},
     "output_type": "execute_result"
    }
   ],
   "source": [
    "list(enumerate(marks))"
   ]
  },
  {
   "cell_type": "code",
   "execution_count": 32,
   "metadata": {},
   "outputs": [
    {
     "name": "stdout",
     "output_type": "stream",
     "text": [
      "0--->ahsan\n",
      "1--->rao\n",
      "2--->ali\n",
      "3--->osama\n"
     ]
    }
   ],
   "source": [
    "names=[\"ahsan\",'rao','ali','osama']\n",
    "\n",
    "for index,value in enumerate(names):\n",
    "    print(f\"{index}--->{value}\")"
   ]
  },
  {
   "cell_type": "code",
   "execution_count": 49,
   "metadata": {},
   "outputs": [
    {
     "name": "stdout",
     "output_type": "stream",
     "text": [
      "140725901759424\n",
      "140725901759424\n"
     ]
    }
   ],
   "source": [
    "a,b=5,5\n",
    "print(id(a))\n",
    "print(id(b))"
   ]
  },
  {
   "cell_type": "code",
   "execution_count": 50,
   "metadata": {},
   "outputs": [
    {
     "data": {
      "text/plain": [
       "[23, 44, 11, 9, 0, 5, 55, 32]"
      ]
     },
     "execution_count": 50,
     "metadata": {},
     "output_type": "execute_result"
    }
   ],
   "source": [
    "marks"
   ]
  },
  {
   "cell_type": "code",
   "execution_count": 35,
   "metadata": {},
   "outputs": [
    {
     "data": {
      "text/plain": [
       "[('user1', 'ahsan'), ('user2', 'ali'), ('user3', 'raza')]"
      ]
     },
     "execution_count": 35,
     "metadata": {},
     "output_type": "execute_result"
    }
   ],
   "source": [
    "lis1=['user1','user2','user3']\n",
    "lis2=['ahsan','ali','raza']\n",
    "\n",
    "list(zip(lis1,lis2))"
   ]
  },
  {
   "cell_type": "code",
   "execution_count": 39,
   "metadata": {},
   "outputs": [
    {
     "name": "stdout",
     "output_type": "stream",
     "text": [
      "[('user1', 'ahsan', 'rao'), ('user2', 'ali', 'mian'), ('user3', 'raza', 'khan')]\n"
     ]
    }
   ],
   "source": [
    "id1=['user1','user2','user3']\n",
    "fname=['ahsan','ali','raza']\n",
    "lname=['rao','mian','khan']\n",
    "\n",
    "data=list(zip(id1,fname,lname))\n",
    "\n",
    "print(data)"
   ]
  },
  {
   "cell_type": "code",
   "execution_count": 43,
   "metadata": {},
   "outputs": [
    {
     "name": "stdout",
     "output_type": "stream",
     "text": [
      "('user1', 'user2', 'user3')\n",
      "('ahsan', 'ali', 'raza')\n",
      "('rao', 'mian', 'khan')\n"
     ]
    }
   ],
   "source": [
    "id2,fname1,lname1=list(zip(*data))\n",
    "print(id2)\n",
    "print(fname1)\n",
    "print(lname1)"
   ]
  },
  {
   "cell_type": "markdown",
   "metadata": {},
   "source": [
    "# LIST\n",
    "\n",
    "## list( any_string) -> convert any string in list\n",
    "## sort() -> list sort permenetly\n",
    "## sorted( list ) -> list sort temporarily\n",
    "## sort(reverse=True)\n",
    "## reverse()\n",
    "## min(list_name)\n",
    "## max(list_name)\n",
    "## len(list_name)\n",
    "## sum(list_name)\n",
    "## count(value) \n",
    "## list3=list1+list2\n",
    "## list1.extend(list2) -> store list2 values in list1"
   ]
  },
  {
   "cell_type": "code",
   "execution_count": 51,
   "metadata": {},
   "outputs": [
    {
     "name": "stdout",
     "output_type": "stream",
     "text": [
      "[0, 5, 9, 11, 23, 32, 44, 55]\n",
      "[23, 44, 11, 9, 0, 5, 55, 32]\n",
      "[0, 5, 9, 11, 23, 32, 44, 55]\n"
     ]
    }
   ],
   "source": [
    "marks=[23,44,11,9,0,5,55,32]\n",
    "\n",
    "print(sorted(marks)) #list sort temporarily\n",
    "print(marks)\n",
    "\n",
    "marks.sort() #list sort permenetly\n",
    "print(marks)"
   ]
  },
  {
   "cell_type": "code",
   "execution_count": 52,
   "metadata": {},
   "outputs": [
    {
     "name": "stdout",
     "output_type": "stream",
     "text": [
      "[0, 5, 9, 11, 23, 32, 44, 55]\n"
     ]
    }
   ],
   "source": [
    "print(marks)"
   ]
  },
  {
   "cell_type": "code",
   "execution_count": 53,
   "metadata": {},
   "outputs": [
    {
     "name": "stdout",
     "output_type": "stream",
     "text": [
      "[55, 44, 32, 23, 11, 9, 5, 0]\n",
      "[55, 44, 32, 23, 11, 9, 5, 0]\n"
     ]
    }
   ],
   "source": [
    "marks=[23,44,11,9,0,5,55,32]\n",
    "\n",
    "marks.sort(reverse=True)#1st method\n",
    "print(marks)\n",
    "\n",
    "print(sorted(marks,reverse=True))#2nd method\n"
   ]
  },
  {
   "cell_type": "code",
   "execution_count": 54,
   "metadata": {},
   "outputs": [],
   "source": [
    "marks=[23,44,11,9,0,5,55,32]\n",
    "marks.reverse()"
   ]
  },
  {
   "cell_type": "code",
   "execution_count": 55,
   "metadata": {},
   "outputs": [
    {
     "data": {
      "text/plain": [
       "[32, 55, 5, 0, 9, 11, 44, 23]"
      ]
     },
     "execution_count": 55,
     "metadata": {},
     "output_type": "execute_result"
    }
   ],
   "source": [
    "marks"
   ]
  },
  {
   "cell_type": "code",
   "execution_count": 56,
   "metadata": {},
   "outputs": [
    {
     "data": {
      "text/plain": [
       "8"
      ]
     },
     "execution_count": 56,
     "metadata": {},
     "output_type": "execute_result"
    }
   ],
   "source": [
    "len(marks)"
   ]
  },
  {
   "cell_type": "code",
   "execution_count": 57,
   "metadata": {},
   "outputs": [
    {
     "data": {
      "text/plain": [
       "0"
      ]
     },
     "execution_count": 57,
     "metadata": {},
     "output_type": "execute_result"
    }
   ],
   "source": [
    "min(marks)"
   ]
  },
  {
   "cell_type": "code",
   "execution_count": 58,
   "metadata": {},
   "outputs": [
    {
     "data": {
      "text/plain": [
       "55"
      ]
     },
     "execution_count": 58,
     "metadata": {},
     "output_type": "execute_result"
    }
   ],
   "source": [
    "max(marks)"
   ]
  },
  {
   "cell_type": "code",
   "execution_count": 59,
   "metadata": {},
   "outputs": [
    {
     "data": {
      "text/plain": [
       "179"
      ]
     },
     "execution_count": 59,
     "metadata": {},
     "output_type": "execute_result"
    }
   ],
   "source": [
    "sum(marks)"
   ]
  },
  {
   "cell_type": "code",
   "execution_count": 60,
   "metadata": {},
   "outputs": [
    {
     "data": {
      "text/plain": [
       "4"
      ]
     },
     "execution_count": 60,
     "metadata": {},
     "output_type": "execute_result"
    }
   ],
   "source": [
    "a=list(\"pakistan zindabad\")\n",
    "a.count(\"a\")"
   ]
  },
  {
   "cell_type": "code",
   "execution_count": 36,
   "metadata": {},
   "outputs": [],
   "source": [
    "l1=[21,32,4,21]\n",
    "l2=[43,5,2,56]\n",
    "l3=l1+l2 #inline"
   ]
  },
  {
   "cell_type": "code",
   "execution_count": 37,
   "metadata": {},
   "outputs": [
    {
     "name": "stdout",
     "output_type": "stream",
     "text": [
      "[21, 32, 4, 21]\n",
      "[43, 5, 2, 56]\n",
      "[21, 32, 4, 21, 43, 5, 2, 56]\n"
     ]
    }
   ],
   "source": [
    "print(l1)\n",
    "print(l2)\n",
    "print(l3)"
   ]
  },
  {
   "cell_type": "code",
   "execution_count": 63,
   "metadata": {},
   "outputs": [],
   "source": [
    "l1.extend(l2) #in memory"
   ]
  },
  {
   "cell_type": "code",
   "execution_count": 64,
   "metadata": {},
   "outputs": [
    {
     "data": {
      "text/plain": [
       "[21, 32, 4, 21, 43, 5, 2, 56]"
      ]
     },
     "execution_count": 64,
     "metadata": {},
     "output_type": "execute_result"
    }
   ],
   "source": [
    "l1"
   ]
  },
  {
   "cell_type": "markdown",
   "metadata": {},
   "source": [
    "## map(function_name, list_name) -> apply function on each value of list\n",
    "## chr( ASCII_code ) -> find value from ASCII code\n",
    "## ord( value ) -> find ASCII code from value\n",
    "## range( start, end, difference)"
   ]
  },
  {
   "cell_type": "code",
   "execution_count": 65,
   "metadata": {},
   "outputs": [
    {
     "data": {
      "text/plain": [
       "['A',\n",
       " 'B',\n",
       " 'C',\n",
       " 'D',\n",
       " 'E',\n",
       " 'F',\n",
       " 'G',\n",
       " 'H',\n",
       " 'I',\n",
       " 'J',\n",
       " 'K',\n",
       " 'L',\n",
       " 'M',\n",
       " 'N',\n",
       " 'O',\n",
       " 'P',\n",
       " 'Q',\n",
       " 'R',\n",
       " 'S',\n",
       " 'T',\n",
       " 'U',\n",
       " 'V',\n",
       " 'W',\n",
       " 'X',\n",
       " 'Y',\n",
       " 'Z']"
      ]
     },
     "execution_count": 65,
     "metadata": {},
     "output_type": "execute_result"
    }
   ],
   "source": [
    "marks=[]\n",
    "for i in range(65,91,1):\n",
    "    marks.append(i)\n",
    "    i+=1\n",
    "list(map(chr,marks))"
   ]
  },
  {
   "cell_type": "code",
   "execution_count": 66,
   "metadata": {},
   "outputs": [
    {
     "data": {
      "text/plain": [
       "[1, 1, 5, 4]"
      ]
     },
     "execution_count": 66,
     "metadata": {},
     "output_type": "execute_result"
    }
   ],
   "source": [
    "mark1=['2','2',\"ahsan\",\"33.4\"]\n",
    "list(map(len,mark1))"
   ]
  },
  {
   "cell_type": "code",
   "execution_count": 67,
   "metadata": {},
   "outputs": [
    {
     "data": {
      "text/plain": [
       "[1, 2, 3, 4, 5, 6, 7, 8, 9, 10]"
      ]
     },
     "execution_count": 67,
     "metadata": {},
     "output_type": "execute_result"
    }
   ],
   "source": [
    "mark2=list(range(1,11))\n",
    "mark2"
   ]
  },
  {
   "cell_type": "code",
   "execution_count": 68,
   "metadata": {},
   "outputs": [
    {
     "data": {
      "text/plain": [
       "[1.0, 2.0, 3.0, 4.0, 5.0, 6.0, 7.0, 8.0, 9.0, 10.0]"
      ]
     },
     "execution_count": 68,
     "metadata": {},
     "output_type": "execute_result"
    }
   ],
   "source": [
    "list(map(float,mark2))"
   ]
  },
  {
   "cell_type": "code",
   "execution_count": 69,
   "metadata": {},
   "outputs": [
    {
     "data": {
      "text/plain": [
       "65"
      ]
     },
     "execution_count": 69,
     "metadata": {},
     "output_type": "execute_result"
    }
   ],
   "source": [
    "#to find ASCII code from value we use ord function ord(value)\n",
    "ord(\"A\")"
   ]
  },
  {
   "cell_type": "code",
   "execution_count": 70,
   "metadata": {},
   "outputs": [
    {
     "data": {
      "text/plain": [
       "'A'"
      ]
     },
     "execution_count": 70,
     "metadata": {},
     "output_type": "execute_result"
    }
   ],
   "source": [
    "#to find value from ASCII code we use chr function chr(ASCII_code)\n",
    "chr(65)"
   ]
  },
  {
   "cell_type": "code",
   "execution_count": 71,
   "metadata": {},
   "outputs": [
    {
     "data": {
      "text/plain": [
       "'A'"
      ]
     },
     "execution_count": 71,
     "metadata": {},
     "output_type": "execute_result"
    }
   ],
   "source": [
    "chr(65)"
   ]
  },
  {
   "cell_type": "code",
   "execution_count": 72,
   "metadata": {},
   "outputs": [],
   "source": [
    "#0 - 9  ( 48 - 57 )\n",
    "#A - Z  ( 65 - 90 )\n",
    "#a - z  ( 97 - 122 )"
   ]
  },
  {
   "cell_type": "code",
   "execution_count": 73,
   "metadata": {},
   "outputs": [
    {
     "name": "stdout",
     "output_type": "stream",
     "text": [
      "[97, 98, 99, 100, 101, 102, 103, 104, 105, 106, 107, 108, 109, 110, 111, 112, 113, 114, 115, 116, 117, 118, 119, 120, 121, 122]\n",
      "[65, 66, 67, 68, 69, 70, 71, 72, 73, 74, 75, 76, 77, 78, 79, 80, 81, 82, 83, 84, 85, 86, 87, 88, 89, 90]\n",
      "[48, 49, 50, 51, 52, 53, 54, 55, 56, 57]\n"
     ]
    }
   ],
   "source": [
    "abc=list(range(97,123))\n",
    "ABC=list(range(65,91))\n",
    "zero_nine=list(range(48,58))\n",
    "print(abc)\n",
    "print(ABC)\n",
    "print(zero_nine)"
   ]
  },
  {
   "cell_type": "code",
   "execution_count": 74,
   "metadata": {},
   "outputs": [
    {
     "data": {
      "text/plain": [
       "['a',\n",
       " 'b',\n",
       " 'c',\n",
       " 'd',\n",
       " 'e',\n",
       " 'f',\n",
       " 'g',\n",
       " 'h',\n",
       " 'i',\n",
       " 'j',\n",
       " 'k',\n",
       " 'l',\n",
       " 'm',\n",
       " 'n',\n",
       " 'o',\n",
       " 'p',\n",
       " 'q',\n",
       " 'r',\n",
       " 's',\n",
       " 't',\n",
       " 'u',\n",
       " 'v',\n",
       " 'w',\n",
       " 'x',\n",
       " 'y',\n",
       " 'z']"
      ]
     },
     "execution_count": 74,
     "metadata": {},
     "output_type": "execute_result"
    }
   ],
   "source": [
    "list(map(chr,abc))"
   ]
  },
  {
   "cell_type": "code",
   "execution_count": 75,
   "metadata": {},
   "outputs": [
    {
     "data": {
      "text/plain": [
       "['A',\n",
       " 'B',\n",
       " 'C',\n",
       " 'D',\n",
       " 'E',\n",
       " 'F',\n",
       " 'G',\n",
       " 'H',\n",
       " 'I',\n",
       " 'J',\n",
       " 'K',\n",
       " 'L',\n",
       " 'M',\n",
       " 'N',\n",
       " 'O',\n",
       " 'P',\n",
       " 'Q',\n",
       " 'R',\n",
       " 'S',\n",
       " 'T',\n",
       " 'U',\n",
       " 'V',\n",
       " 'W',\n",
       " 'X',\n",
       " 'Y',\n",
       " 'Z']"
      ]
     },
     "execution_count": 75,
     "metadata": {},
     "output_type": "execute_result"
    }
   ],
   "source": [
    "list(map(chr,ABC))"
   ]
  },
  {
   "cell_type": "code",
   "execution_count": 76,
   "metadata": {},
   "outputs": [
    {
     "data": {
      "text/plain": [
       "['0', '1', '2', '3', '4', '5', '6', '7', '8', '9']"
      ]
     },
     "execution_count": 76,
     "metadata": {},
     "output_type": "execute_result"
    }
   ],
   "source": [
    "list(map(chr,zero_nine))"
   ]
  },
  {
   "cell_type": "code",
   "execution_count": null,
   "metadata": {},
   "outputs": [],
   "source": []
  },
  {
   "cell_type": "markdown",
   "metadata": {},
   "source": [
    "## help(function_name) \n",
    "## ?\n",
    "## ??\n",
    "## \"\"\"  \"\"\" \n",
    "## '''   ''' \n",
    "## .format() \n",
    "## f \"string\""
   ]
  },
  {
   "cell_type": "code",
   "execution_count": 77,
   "metadata": {},
   "outputs": [
    {
     "name": "stdout",
     "output_type": "stream",
     "text": [
      "Help on built-in function print in module builtins:\n",
      "\n",
      "print(...)\n",
      "    print(value, ..., sep=' ', end='\\n', file=sys.stdout, flush=False)\n",
      "    \n",
      "    Prints the values to a stream, or to sys.stdout by default.\n",
      "    Optional keyword arguments:\n",
      "    file:  a file-like object (stream); defaults to the current sys.stdout.\n",
      "    sep:   string inserted between values, default a space.\n",
      "    end:   string appended after the last value, default a newline.\n",
      "    flush: whether to forcibly flush the stream.\n",
      "\n"
     ]
    }
   ],
   "source": [
    "help(print)"
   ]
  },
  {
   "cell_type": "code",
   "execution_count": 78,
   "metadata": {},
   "outputs": [
    {
     "name": "stdout",
     "output_type": "stream",
     "text": [
      "Help on built-in function sum in module builtins:\n",
      "\n",
      "sum(iterable, start=0, /)\n",
      "    Return the sum of a 'start' value (default: 0) plus an iterable of numbers\n",
      "    \n",
      "    When the iterable is empty, return the start value.\n",
      "    This function is intended specifically for use with numeric values and may\n",
      "    reject non-numeric types.\n",
      "\n"
     ]
    }
   ],
   "source": [
    "help(sum)"
   ]
  },
  {
   "cell_type": "code",
   "execution_count": 79,
   "metadata": {},
   "outputs": [],
   "source": [
    "sum?"
   ]
  },
  {
   "cell_type": "code",
   "execution_count": 80,
   "metadata": {},
   "outputs": [],
   "source": [
    "sum??"
   ]
  },
  {
   "cell_type": "code",
   "execution_count": 81,
   "metadata": {},
   "outputs": [],
   "source": [
    "num=\"\"\"\n",
    "my name is\n",
    "ahsan\n",
    "ghaffar\n",
    "\"\"\""
   ]
  },
  {
   "cell_type": "code",
   "execution_count": 82,
   "metadata": {},
   "outputs": [
    {
     "name": "stdout",
     "output_type": "stream",
     "text": [
      "\n",
      "name: ahsan\n",
      "fname: ghaffar\n",
      "age: 23\n",
      "\n"
     ]
    }
   ],
   "source": [
    "name=\"ahsan\"\n",
    "fname=\"ghaffar\"\n",
    "age=23\n",
    "list1=\"\"\"\n",
    "name: {}\n",
    "fname: {}\n",
    "age: {}\n",
    "\"\"\"\n",
    "print(list1.format(name,fname,age))"
   ]
  },
  {
   "cell_type": "code",
   "execution_count": 83,
   "metadata": {},
   "outputs": [
    {
     "name": "stdout",
     "output_type": "stream",
     "text": [
      "\n",
      "name: ghaffar\n",
      "fname: 23\n",
      "age: ahsan\n",
      "\n"
     ]
    }
   ],
   "source": [
    "name=\"ahsan\"\n",
    "fname=\"ghaffar\"\n",
    "age=23\n",
    "list1=\"\"\"\n",
    "name: {1}\n",
    "fname: {2}\n",
    "age: {0}\n",
    "\"\"\"\n",
    "print(list1.format(name,fname,age))"
   ]
  },
  {
   "cell_type": "code",
   "execution_count": 84,
   "metadata": {},
   "outputs": [
    {
     "name": "stdout",
     "output_type": "stream",
     "text": [
      "Enter your name: ahsan\n"
     ]
    }
   ],
   "source": [
    "a=input(\"Enter your name: \")"
   ]
  },
  {
   "cell_type": "code",
   "execution_count": 85,
   "metadata": {},
   "outputs": [
    {
     "name": "stdout",
     "output_type": "stream",
     "text": [
      "Enter your name: ahsan\n",
      "Enter your fname: ghaffar\n",
      "Enter your age: 21\n",
      "\n",
      "name: ahsan\n",
      "fname: ghaffar\n",
      "age: 21\n",
      "\n"
     ]
    }
   ],
   "source": [
    "name=input(\"Enter your name: \")\n",
    "fname=input(\"Enter your fname: \")\n",
    "age=input(\"Enter your age: \")\n",
    "list1=\"\"\"\n",
    "name: {}\n",
    "fname: {}\n",
    "age: {}\n",
    "\"\"\"\n",
    "print(list1.format(name,fname,age))"
   ]
  },
  {
   "cell_type": "code",
   "execution_count": 34,
   "metadata": {},
   "outputs": [
    {
     "name": "stdout",
     "output_type": "stream",
     "text": [
      "Enter your name: ahsan\n",
      "Enter your fname: rao\n",
      "Enter your age: 21\n",
      "\n",
      "name: ahsan\n",
      "fname: rao\n",
      "age: 21\n",
      "\n"
     ]
    }
   ],
   "source": [
    "###f string\n",
    "name=input(\"Enter your name: \")\n",
    "fname=input(\"Enter your fname: \")\n",
    "age=input(\"Enter your age: \")\n",
    "list1=f\"\"\"\n",
    "name: {name}\n",
    "fname: {fname}\n",
    "age: {age}\n",
    "\"\"\"\n",
    "print(list1)\n"
   ]
  },
  {
   "cell_type": "code",
   "execution_count": 86,
   "metadata": {},
   "outputs": [
    {
     "name": "stdout",
     "output_type": "stream",
     "text": [
      "The Zen of Python, by Tim Peters\n",
      "\n",
      "Beautiful is better than ugly.\n",
      "Explicit is better than implicit.\n",
      "Simple is better than complex.\n",
      "Complex is better than complicated.\n",
      "Flat is better than nested.\n",
      "Sparse is better than dense.\n",
      "Readability counts.\n",
      "Special cases aren't special enough to break the rules.\n",
      "Although practicality beats purity.\n",
      "Errors should never pass silently.\n",
      "Unless explicitly silenced.\n",
      "In the face of ambiguity, refuse the temptation to guess.\n",
      "There should be one-- and preferably only one --obvious way to do it.\n",
      "Although that way may not be obvious at first unless you're Dutch.\n",
      "Now is better than never.\n",
      "Although never is often better than *right* now.\n",
      "If the implementation is hard to explain, it's a bad idea.\n",
      "If the implementation is easy to explain, it may be a good idea.\n",
      "Namespaces are one honking great idea -- let's do more of those!\n"
     ]
    }
   ],
   "source": [
    "import this"
   ]
  },
  {
   "cell_type": "markdown",
   "metadata": {},
   "source": [
    "# ITERATOR"
   ]
  },
  {
   "cell_type": "code",
   "execution_count": 5,
   "metadata": {},
   "outputs": [
    {
     "name": "stdout",
     "output_type": "stream",
     "text": [
      "1\n",
      "4\n",
      "2\n",
      "54\n"
     ]
    }
   ],
   "source": [
    "lis=[1,4,2,54]\n",
    "\n",
    "iter1=iter(lis)\n",
    "\n",
    "print(iter1.__next__())\n",
    "print(iter1.__next__())\n",
    "print(iter1.__next__())\n",
    "print(next(iter1))"
   ]
  },
  {
   "cell_type": "markdown",
   "metadata": {},
   "source": [
    "# while\n",
    "# for\n",
    "# if elif else \n",
    "## we can use --> (raise StopIteration)  in if else condition to stop for loop"
   ]
  },
  {
   "cell_type": "code",
   "execution_count": 87,
   "metadata": {},
   "outputs": [
    {
     "name": "stdout",
     "output_type": "stream",
     "text": [
      "65\n",
      "66\n",
      "67\n",
      "68\n",
      "69\n",
      "70\n",
      "71\n",
      "72\n",
      "73\n",
      "74\n",
      "75\n",
      "76\n",
      "77\n",
      "78\n",
      "79\n",
      "80\n",
      "81\n",
      "82\n",
      "83\n",
      "84\n",
      "85\n",
      "86\n",
      "87\n",
      "88\n",
      "89\n",
      "90\n"
     ]
    }
   ],
   "source": [
    "i=0\n",
    "while i<len(marks):\n",
    "    print(marks[i])\n",
    "    i+=1\n",
    "    "
   ]
  },
  {
   "cell_type": "code",
   "execution_count": 88,
   "metadata": {},
   "outputs": [
    {
     "name": "stdout",
     "output_type": "stream",
     "text": [
      "25\n",
      "5\n",
      "4\n",
      "542\n",
      "2\n",
      "5\n",
      "24\n",
      "23\n"
     ]
    }
   ],
   "source": [
    "marks=[23,24,5,2,542,4,5,25]\n",
    "i=len(marks)-1\n",
    "while i>=0:\n",
    "    print(marks[i])\n",
    "    i-=1"
   ]
  },
  {
   "cell_type": "code",
   "execution_count": 89,
   "metadata": {},
   "outputs": [
    {
     "data": {
      "text/plain": [
       "[23, 24, 5, 2, 542, 4, 5, 25]"
      ]
     },
     "execution_count": 89,
     "metadata": {},
     "output_type": "execute_result"
    }
   ],
   "source": [
    "marks"
   ]
  },
  {
   "cell_type": "code",
   "execution_count": 90,
   "metadata": {},
   "outputs": [
    {
     "name": "stdout",
     "output_type": "stream",
     "text": [
      "name: ahsan\n",
      "name: rao\n",
      "name: ali\n",
      "name: nhi\n",
      "name: hamza\n",
      "name: hasim\n",
      "name: x\n"
     ]
    },
    {
     "data": {
      "text/plain": [
       "['ahsan', 'rao', 'ali', 'nhi', 'hamza', 'hasim']"
      ]
     },
     "execution_count": 90,
     "metadata": {},
     "output_type": "execute_result"
    }
   ],
   "source": [
    "name2=[]\n",
    "\n",
    "while True: ##while true means to run the loop infinite times\n",
    "    a=input(\"name: \")\n",
    "    if a != \"x\":\n",
    "        name2.append(a)\n",
    "    else:\n",
    "        break## or we can use --> raise StopIteration \n",
    "name2        \n",
    "        "
   ]
  },
  {
   "cell_type": "code",
   "execution_count": 91,
   "metadata": {},
   "outputs": [
    {
     "name": "stdout",
     "output_type": "stream",
     "text": [
      "23\n",
      "24\n",
      "5\n",
      "2\n",
      "542\n",
      "4\n",
      "5\n",
      "25\n"
     ]
    }
   ],
   "source": [
    "marks=[23,24,5,2,542,4,5,25]\n",
    "for i in marks:\n",
    "    print(i)\n",
    "    i+=1\n",
    "    "
   ]
  },
  {
   "cell_type": "code",
   "execution_count": 92,
   "metadata": {},
   "outputs": [
    {
     "data": {
      "text/plain": [
       "['__add__',\n",
       " '__class__',\n",
       " '__contains__',\n",
       " '__delattr__',\n",
       " '__delitem__',\n",
       " '__dir__',\n",
       " '__doc__',\n",
       " '__eq__',\n",
       " '__format__',\n",
       " '__ge__',\n",
       " '__getattribute__',\n",
       " '__getitem__',\n",
       " '__gt__',\n",
       " '__hash__',\n",
       " '__iadd__',\n",
       " '__imul__',\n",
       " '__init__',\n",
       " '__init_subclass__',\n",
       " '__iter__',\n",
       " '__le__',\n",
       " '__len__',\n",
       " '__lt__',\n",
       " '__mul__',\n",
       " '__ne__',\n",
       " '__new__',\n",
       " '__reduce__',\n",
       " '__reduce_ex__',\n",
       " '__repr__',\n",
       " '__reversed__',\n",
       " '__rmul__',\n",
       " '__setattr__',\n",
       " '__setitem__',\n",
       " '__sizeof__',\n",
       " '__str__',\n",
       " '__subclasshook__',\n",
       " 'append',\n",
       " 'clear',\n",
       " 'copy',\n",
       " 'count',\n",
       " 'extend',\n",
       " 'index',\n",
       " 'insert',\n",
       " 'pop',\n",
       " 'remove',\n",
       " 'reverse',\n",
       " 'sort']"
      ]
     },
     "execution_count": 92,
     "metadata": {},
     "output_type": "execute_result"
    }
   ],
   "source": [
    "dir(marks)"
   ]
  },
  {
   "cell_type": "code",
   "execution_count": 93,
   "metadata": {},
   "outputs": [
    {
     "data": {
      "text/plain": [
       "list"
      ]
     },
     "execution_count": 93,
     "metadata": {},
     "output_type": "execute_result"
    }
   ],
   "source": [
    "marks.__class__"
   ]
  },
  {
   "cell_type": "code",
   "execution_count": 22,
   "metadata": {},
   "outputs": [
    {
     "name": "stdout",
     "output_type": "stream",
     "text": [
      "enter name and age: Ahsan 21\n",
      "sorry you can't watch movie\n",
      "you can watch movie\n"
     ]
    }
   ],
   "source": [
    "##Exercise\n",
    "name,age=input(\"enter name and age: \").split()\n",
    "if name.find('a',0,1)!=-1 and int(age)>10: ##find return index of char which it find. If value isn't present then output=-1\n",
    "    print(\"you can watch movie\")\n",
    "else:\n",
    "    print(\"sorry you can't watch movie\")\n",
    "\n",
    "######################OR#######################\n",
    "if name[0].lower()=='a' and int(age)>10: \n",
    "    print(\"you can watch movie\")\n",
    "else:\n",
    "    print(\"sorry you can't watch movie\")"
   ]
  },
  {
   "cell_type": "code",
   "execution_count": 94,
   "metadata": {},
   "outputs": [
    {
     "name": "stdout",
     "output_type": "stream",
     "text": [
      "[23, 24, 5, 2, 542, 4, 5, 25]\n"
     ]
    }
   ],
   "source": [
    "if 2>3 or 4>1 or 5<3 or 5!=3:\n",
    "    print(marks)\n",
    "elif len(marks) >= len(names):\n",
    "    print(names)\n",
    "else:\n",
    "    print(\"none of the above\")## or we can use --> raise StopIteration "
   ]
  },
  {
   "cell_type": "code",
   "execution_count": 95,
   "metadata": {},
   "outputs": [
    {
     "name": "stdout",
     "output_type": "stream",
     "text": [
      "23\n",
      "24\n",
      "5\n",
      "2\n",
      "542\n",
      "4\n",
      "5\n",
      "25\n"
     ]
    }
   ],
   "source": [
    "for i in marks:\n",
    "    print(i)"
   ]
  },
  {
   "cell_type": "markdown",
   "metadata": {},
   "source": [
    "# range()\n",
    "# list comprehensive [::] ->slice"
   ]
  },
  {
   "cell_type": "code",
   "execution_count": 96,
   "metadata": {},
   "outputs": [
    {
     "data": {
      "text/plain": [
       "[65,\n",
       " 66,\n",
       " 67,\n",
       " 68,\n",
       " 69,\n",
       " 70,\n",
       " 71,\n",
       " 72,\n",
       " 73,\n",
       " 74,\n",
       " 75,\n",
       " 76,\n",
       " 77,\n",
       " 78,\n",
       " 79,\n",
       " 80,\n",
       " 81,\n",
       " 82,\n",
       " 83,\n",
       " 84,\n",
       " 85,\n",
       " 86,\n",
       " 87,\n",
       " 88,\n",
       " 89,\n",
       " 90]"
      ]
     },
     "execution_count": 96,
     "metadata": {},
     "output_type": "execute_result"
    }
   ],
   "source": [
    "l1=list(range(65,91))\n",
    "l1"
   ]
  },
  {
   "cell_type": "code",
   "execution_count": 97,
   "metadata": {},
   "outputs": [
    {
     "name": "stdout",
     "output_type": "stream",
     "text": [
      "A\n",
      "B\n",
      "C\n",
      "D\n",
      "E\n",
      "F\n",
      "G\n",
      "H\n",
      "I\n",
      "J\n",
      "K\n",
      "L\n",
      "M\n",
      "N\n",
      "O\n",
      "P\n",
      "Q\n",
      "R\n",
      "S\n",
      "T\n",
      "U\n",
      "V\n",
      "W\n",
      "X\n",
      "Y\n",
      "Z\n"
     ]
    }
   ],
   "source": [
    "for e in l1:\n",
    "    print(chr(e))"
   ]
  },
  {
   "cell_type": "code",
   "execution_count": 98,
   "metadata": {},
   "outputs": [
    {
     "data": {
      "text/plain": [
       "[1, 2, 3, 4, 5, 6, 7, 8, 9, 10]"
      ]
     },
     "execution_count": 98,
     "metadata": {},
     "output_type": "execute_result"
    }
   ],
   "source": [
    "#for itteration we can do 2 thing \n",
    "#1st one is using loop eg: for, while\n",
    "#2nd one is using itterative method eg: list()\n",
    "list(range(1,11))"
   ]
  },
  {
   "cell_type": "code",
   "execution_count": 99,
   "metadata": {},
   "outputs": [
    {
     "name": "stdout",
     "output_type": "stream",
     "text": [
      "1\n",
      "2\n",
      "3\n",
      "4\n",
      "5\n",
      "6\n",
      "7\n",
      "8\n",
      "9\n",
      "10\n"
     ]
    }
   ],
   "source": [
    "#for itteration we can do 2 thing \n",
    "#1st one is using loop eg: for, while\n",
    "#2nd one is using itterative method eg: list()\n",
    "for j in range(1,11): \n",
    "    print(j)"
   ]
  },
  {
   "cell_type": "code",
   "execution_count": 100,
   "metadata": {},
   "outputs": [
    {
     "data": {
      "text/plain": [
       "[0, 20, 40, 60, 80, 100]"
      ]
     },
     "execution_count": 100,
     "metadata": {},
     "output_type": "execute_result"
    }
   ],
   "source": [
    "list(range(0,101,20))"
   ]
  },
  {
   "cell_type": "code",
   "execution_count": 101,
   "metadata": {},
   "outputs": [
    {
     "name": "stdout",
     "output_type": "stream",
     "text": [
      "a b c d e f g h i j k l m n o p q r s t u v w x y z  \n"
     ]
    }
   ],
   "source": [
    "val=list(map(chr,list(range(97,123))))\n",
    "print(*val, \" \")"
   ]
  },
  {
   "cell_type": "code",
   "execution_count": 102,
   "metadata": {},
   "outputs": [
    {
     "name": "stdout",
     "output_type": "stream",
     "text": [
      "a\n",
      "c\n",
      "e\n",
      "g\n",
      "i\n",
      "k\n"
     ]
    }
   ],
   "source": [
    "for j in range(0,11,2): # range(start, end, difference) \n",
    "    print(val[j])"
   ]
  },
  {
   "cell_type": "code",
   "execution_count": 103,
   "metadata": {},
   "outputs": [
    {
     "name": "stdout",
     "output_type": "stream",
     "text": [
      "length of val is: 26\n",
      "a\n",
      "c\n",
      "e\n",
      "g\n",
      "i\n",
      "k\n",
      "m\n",
      "o\n",
      "q\n",
      "s\n",
      "u\n",
      "w\n",
      "y\n"
     ]
    }
   ],
   "source": [
    "print(\"length of val is: \"+str(len(val)))\n",
    "for j in range(0,len(val),2): # range(start, end, difference) \n",
    "    print(val[j])"
   ]
  },
  {
   "cell_type": "code",
   "execution_count": 104,
   "metadata": {},
   "outputs": [
    {
     "name": "stdout",
     "output_type": "stream",
     "text": [
      "\n",
      "name: ahsan\n",
      "fname: ghaffar\n",
      "age: 23\n",
      "\n",
      "pakistan\n",
      "2\n",
      "4\n",
      "6\n",
      "8\n",
      "10\n",
      "12\n",
      "14\n",
      "16\n",
      "18\n",
      "20\n"
     ]
    }
   ],
   "source": [
    "#format without comprehension\n",
    "name=\"ahsan\"\n",
    "fname=\"ghaffar\"\n",
    "age=23\n",
    "list1=\"\"\"\n",
    "name: {}\n",
    "fname: {}\n",
    "age: {}\n",
    "\"\"\"\n",
    "print(list1.format(name,fname,age))\n",
    "\n",
    "#if else without comprehension\n",
    "a=5\n",
    "if a==5:\n",
    "    print(\"pakistan\")\n",
    "else:\n",
    "    print(\"india\")\n",
    "\n",
    "#for loop without comprehension\n",
    "for x in range(1,11):\n",
    "    print(x*2)"
   ]
  },
  {
   "cell_type": "code",
   "execution_count": 105,
   "metadata": {},
   "outputs": [
    {
     "name": "stdout",
     "output_type": "stream",
     "text": [
      "pakistan\n",
      "[0, 1, 4, 9, 16, 25, 36, 49, 64, 81]\n",
      "[0, 1, 2, 3, 4, 5, 6, 7, 8, 9]\n"
     ]
    },
    {
     "data": {
      "text/plain": [
       "['2 X 1=  2',\n",
       " '2 X 2=  4',\n",
       " '2 X 3=  6',\n",
       " '2 X 4=  8',\n",
       " '2 X 5=  10',\n",
       " '2 X 6=  12',\n",
       " '2 X 7=  14',\n",
       " '2 X 8=  16',\n",
       " '2 X 9=  18',\n",
       " '2 X 10=  20']"
      ]
     },
     "execution_count": 105,
     "metadata": {},
     "output_type": "execute_result"
    }
   ],
   "source": [
    "#list comprehensive \n",
    "#compressing the syntax in 1 line is called comprehensive\n",
    "a=5 \n",
    "print(\"pakistan\") if a==5 else print(\"india\") #if else condition using comprehension\n",
    "\n",
    "print([y**2 for y in range(0,10)]) #for looop using comprehension\n",
    "abc=[x for x in range(0,10)]\n",
    "print(abc)\n",
    "\n",
    "[\"name={}, fname={} , age={}\".format(\"ahsan\", \"ghaffar\", \"23\")] #format using comprehension\n",
    "\n",
    "[\"{} X {}=  {}\".format(2, x, x*2) for x in range(1,11)]\n"
   ]
  },
  {
   "cell_type": "code",
   "execution_count": 106,
   "metadata": {},
   "outputs": [
    {
     "data": {
      "text/plain": [
       "[280, 560, 840]"
      ]
     },
     "execution_count": 106,
     "metadata": {},
     "output_type": "execute_result"
    }
   ],
   "source": [
    "[x for x in range(1,1001) if x%5==0 and x%7==0 and x%40==0]"
   ]
  },
  {
   "cell_type": "code",
   "execution_count": 107,
   "metadata": {},
   "outputs": [
    {
     "name": "stdout",
     "output_type": "stream",
     "text": [
      "[32, 55, 5, 0, 9]\n",
      "[32, 5, 9, 44]\n"
     ]
    }
   ],
   "source": [
    "#SLICING\n",
    "marks=[32, 55, 5, 0, 9, 11, 44, 23]\n",
    "print(marks[0:5])\n",
    "print(marks[0:9:2])"
   ]
  },
  {
   "cell_type": "code",
   "execution_count": 108,
   "metadata": {},
   "outputs": [
    {
     "name": "stdout",
     "output_type": "stream",
     "text": [
      "['A', 'B', 'C', 'D', 'E', 'F', 'G', 'H', 'I', 'J', 'K', 'L', 'M', 'N', 'O', 'P', 'Q', 'R', 'S', 'T', 'U', 'V', 'W', 'X', 'Y', 'Z']\n",
      "['A', 'B', 'C', 'D', 'E', 'F', 'G', 'H', 'I', 'J', 'K', 'L', 'M', 'N', 'O', 'P', 'Q', 'R', 'S', 'T', 'U', 'V', 'W', 'X', 'Y', 'Z']\n",
      "['Z', 'Y', 'X', 'W', 'V', 'U', 'T', 'S', 'R', 'Q', 'P', 'O', 'N', 'M', 'L', 'K', 'J', 'I', 'H', 'G', 'F', 'E', 'D', 'C', 'B', 'A']\n",
      "['A', 'C', 'E', 'G', 'I', 'K', 'M', 'O', 'Q', 'S', 'U', 'W', 'Y']\n",
      "['V', 'W', 'X', 'Y', 'Z']\n",
      "['G', 'F', 'E', 'D', 'C', 'B', 'A']\n",
      "['M', 'N']\n",
      "[]\n",
      "['V', 'U']\n"
     ]
    }
   ],
   "source": [
    "marks=list(map(chr,list(range(65,91))))\n",
    "print(marks)\n",
    "#print(marks[0::])\n",
    "#print(marks[:])\n",
    "#print(marks[::])\n",
    "print(marks[-26::])\n",
    "print(marks[::-1])\n",
    "print(marks[::2])\n",
    "print(marks[-5:])\n",
    "print(marks[-20::-1])\n",
    "print(marks[-14:-12])\n",
    "print(marks[-5:-7:])\n",
    "print(marks[-5:-7:-1])"
   ]
  },
  {
   "cell_type": "markdown",
   "metadata": {},
   "source": [
    "# DICTIONARY"
   ]
  },
  {
   "cell_type": "code",
   "execution_count": 109,
   "metadata": {},
   "outputs": [
    {
     "name": "stdout",
     "output_type": "stream",
     "text": [
      "{'fname': 'ahsan', 'lastname': 'Elliott', 'address': '4803 Wellesley St.'}\n"
     ]
    }
   ],
   "source": [
    "##DICTIONARY\n",
    "customer= {\"fname\": \"David\", \"lastname\": \"Elliott\", \"address\": \"4803 Wellesley St.\"}\n",
    "customer[\"fname\"]=\"ahsan\"\n",
    "print(customer)"
   ]
  },
  {
   "cell_type": "code",
   "execution_count": 110,
   "metadata": {},
   "outputs": [
    {
     "ename": "TypeError",
     "evalue": "unhashable type: 'list'",
     "output_type": "error",
     "traceback": [
      "\u001b[1;31m---------------------------------------------------------------------------\u001b[0m",
      "\u001b[1;31mTypeError\u001b[0m                                 Traceback (most recent call last)",
      "\u001b[1;32m<ipython-input-110-ff46015de6ae>\u001b[0m in \u001b[0;36m<module>\u001b[1;34m\u001b[0m\n\u001b[0;32m      1\u001b[0m \u001b[1;31m##DICTIONARY\u001b[0m\u001b[1;33m\u001b[0m\u001b[1;33m\u001b[0m\u001b[1;33m\u001b[0m\u001b[0m\n\u001b[1;32m----> 2\u001b[1;33m \u001b[0mcustomer\u001b[0m\u001b[1;33m=\u001b[0m \u001b[1;33m{\u001b[0m\u001b[1;34m\"fname\"\u001b[0m\u001b[1;33m:\u001b[0m \u001b[1;34m\"David\"\u001b[0m\u001b[1;33m,\u001b[0m \u001b[1;34m\"lastname\"\u001b[0m\u001b[1;33m:\u001b[0m \u001b[1;34m\"Elliott\"\u001b[0m\u001b[1;33m,\u001b[0m \u001b[1;33m[\u001b[0m\u001b[1;34m\"address\"\u001b[0m\u001b[1;33m]\u001b[0m\u001b[1;33m:\u001b[0m \u001b[1;34m\"4803 Wellesley St.\"\u001b[0m\u001b[1;33m,\u001b[0m \u001b[1;36m0\u001b[0m\u001b[1;33m:\u001b[0m\u001b[1;34m\"PAkistan\"\u001b[0m\u001b[1;33m}\u001b[0m\u001b[1;33m\u001b[0m\u001b[1;33m\u001b[0m\u001b[0m\n\u001b[0m\u001b[0;32m      3\u001b[0m \u001b[1;31m#here \"address\" key list is not hashable thats why it couldn't use in dictionary\u001b[0m\u001b[1;33m\u001b[0m\u001b[1;33m\u001b[0m\u001b[1;33m\u001b[0m\u001b[0m\n\u001b[0;32m      4\u001b[0m \u001b[0mcustomer\u001b[0m\u001b[1;33m[\u001b[0m\u001b[1;34m\"fname\"\u001b[0m\u001b[1;33m]\u001b[0m\u001b[1;33m=\u001b[0m\u001b[1;34m\"ahsan\"\u001b[0m\u001b[1;33m\u001b[0m\u001b[1;33m\u001b[0m\u001b[0m\n\u001b[0;32m      5\u001b[0m \u001b[0mprint\u001b[0m\u001b[1;33m(\u001b[0m\u001b[0mcustomer\u001b[0m\u001b[1;33m)\u001b[0m\u001b[1;33m\u001b[0m\u001b[1;33m\u001b[0m\u001b[0m\n",
      "\u001b[1;31mTypeError\u001b[0m: unhashable type: 'list'"
     ]
    }
   ],
   "source": [
    "##DICTIONARY\n",
    "customer= {\"fname\": \"David\", \"lastname\": \"Elliott\", [\"address\"]: \"4803 Wellesley St.\", 0:\"PAkistan\"}\n",
    "#here \"address\" key list is not hashable thats why it couldn't use in dictionary\n",
    "customer[\"fname\"]=\"ahsan\"\n",
    "print(customer)\n",
    "print(customer[0])"
   ]
  },
  {
   "cell_type": "code",
   "execution_count": null,
   "metadata": {},
   "outputs": [],
   "source": [
    "##DICTIONARY\n",
    "customer= {\"fname\": \"David\", \"lastname\": \"Elliott\", (\"address\"): \"4803 Wellesley St.\", 0:\"PAkistan\"} \n",
    "#here \"address\" tuple is hashable thats why it could use in dictionary\n",
    "customer[\"fname\"]=\"ahsan\"\n",
    "print(customer)\n",
    "print(customer[0])\n",
    "print(customer.keys())"
   ]
  },
  {
   "cell_type": "code",
   "execution_count": null,
   "metadata": {},
   "outputs": [],
   "source": [
    "customer= {\"fname\": \"ahsan\", \"lname\": \"ghaffar\", \"address\": \"4321\", 'abc': [\"12\", 23, \"abc\"]} \n",
    "\n",
    "customer['abc']"
   ]
  },
  {
   "cell_type": "code",
   "execution_count": null,
   "metadata": {},
   "outputs": [],
   "source": [
    "customer[\"abc\"][1]"
   ]
  },
  {
   "cell_type": "markdown",
   "metadata": {},
   "source": [
    "# FUNCTIONS\n",
    "### Refer to ch_46"
   ]
  },
  {
   "cell_type": "code",
   "execution_count": 112,
   "metadata": {},
   "outputs": [
    {
     "name": "stdout",
     "output_type": "stream",
     "text": [
      "name=ahsan\n",
      "fname=rao\n",
      "ID=123\n"
     ]
    }
   ],
   "source": [
    "def abc(name, fname, id1):\n",
    "    print(\"name=\"+name+\"\\nfname=\"+fname+\"\\nID=\"+str(id1))\n",
    "\n",
    "abc(\"ahsan\",\"rao\", 123)\n",
    "    "
   ]
  },
  {
   "cell_type": "code",
   "execution_count": 113,
   "metadata": {},
   "outputs": [
    {
     "name": "stdout",
     "output_type": "stream",
     "text": [
      "\n",
      "    name= ahsan\n",
      "    fname= ghaffar\n",
      "    rollNo= 1234\n",
      "    course= math\n",
      "    \n"
     ]
    }
   ],
   "source": [
    "def student(name,fname,rollNo,course):\n",
    "    data=\"\"\"\n",
    "    name= {}\n",
    "    fname= {}\n",
    "    rollNo= {}\n",
    "    course= {}\n",
    "    \"\"\".format(name,fname,rollNo,course)\n",
    "    \n",
    "    return data\n",
    "\n",
    "print(student(\"ahsan\",\"ghaffar\",1234,\"math\"))\n"
   ]
  },
  {
   "cell_type": "markdown",
   "metadata": {},
   "source": [
    "# ARGS  --> arguments\n",
    "### return values of type tuple\n"
   ]
  },
  {
   "cell_type": "code",
   "execution_count": 26,
   "metadata": {},
   "outputs": [
    {
     "name": "stdout",
     "output_type": "stream",
     "text": [
      "((1, 2, 3, 4, 5), 15)\n",
      "((1, 2, 35), 38)\n",
      "((1, 2, 3, 5), 11)\n",
      "((5,), 5)\n"
     ]
    }
   ],
   "source": [
    "def abc1(*val): #inifinite parameters for list in other words we can say infinite variables\n",
    "    \n",
    "    return val,sum(val)\n",
    "\n",
    "print(abc1(1,2,3,4,5))\n",
    "print(abc1(1,2,35))\n",
    "print(abc1(1,2,3,5))\n",
    "print(abc1(5))\n"
   ]
  },
  {
   "cell_type": "markdown",
   "metadata": {},
   "source": [
    "# KWARGS --> keyword arguments\n",
    "### return values of type dictionary"
   ]
  },
  {
   "cell_type": "code",
   "execution_count": 115,
   "metadata": {},
   "outputs": [
    {
     "name": "stdout",
     "output_type": "stream",
     "text": [
      "{'name': 'ahsan'}\n",
      "{'a': 'b', 'c': 'd'}\n",
      "{'a': 'b', 'c': 'd', 'b': 'b', 'd': 'd'}\n"
     ]
    }
   ],
   "source": [
    "def abc2(**d): #infinite parameters for dictionary\n",
    "    return d\n",
    "\n",
    "print(abc2(name=\"ahsan\"))\n",
    "print(abc2(a=\"b\",c=\"d\"))\n",
    "print(abc2(a=\"b\",c=\"d\",b=\"b\",d=\"d\"))"
   ]
  },
  {
   "cell_type": "code",
   "execution_count": 116,
   "metadata": {},
   "outputs": [
    {
     "name": "stdout",
     "output_type": "stream",
     "text": [
      "0\n",
      "1\n",
      "3\n",
      "6\n"
     ]
    }
   ],
   "source": [
    "def add(a=0, b=0, c=0): #it means we set pre default value for a,b,c in case when we not pass argument of any variable\n",
    "    return a+b+c\n",
    "\n",
    "print(add())\n",
    "print(add(1))\n",
    "print(add(1,2))\n",
    "print(add(1,2,3))"
   ]
  },
  {
   "cell_type": "code",
   "execution_count": 117,
   "metadata": {},
   "outputs": [
    {
     "name": "stdout",
     "output_type": "stream",
     "text": [
      "name=ahsan\n",
      "fname=ghaffar\n",
      "ID=444\n"
     ]
    }
   ],
   "source": [
    "l3=[\"ahsan\",\"ghaffar\",444]\n",
    "\n",
    "abc(l3[0],l3[1],l3[2])"
   ]
  },
  {
   "cell_type": "code",
   "execution_count": 118,
   "metadata": {},
   "outputs": [
    {
     "name": "stdout",
     "output_type": "stream",
     "text": [
      "name=ahsan\n",
      "fname=ghaffar\n",
      "ID=444\n"
     ]
    }
   ],
   "source": [
    "abc(*l3)"
   ]
  },
  {
   "cell_type": "code",
   "execution_count": 119,
   "metadata": {},
   "outputs": [
    {
     "name": "stdout",
     "output_type": "stream",
     "text": [
      "name=ahsan\n",
      "fname=ghaffar\n",
      "ID=54321\n"
     ]
    }
   ],
   "source": [
    "abc(id1=54321,name=\"ahsan\",fname=\"ghaffar\")"
   ]
  },
  {
   "cell_type": "code",
   "execution_count": 120,
   "metadata": {},
   "outputs": [
    {
     "name": "stdout",
     "output_type": "stream",
     "text": [
      "name=David\n",
      "fname=Elliott\n",
      "ID=4803\n"
     ]
    }
   ],
   "source": [
    "customer= {\"name\": \"David\", \"fname\": \"Elliott\", \"id1\": 4803}\n",
    "\n",
    "abc(**customer)"
   ]
  },
  {
   "cell_type": "code",
   "execution_count": 1,
   "metadata": {},
   "outputs": [
    {
     "name": "stdout",
     "output_type": "stream",
     "text": [
      "ahsan\n",
      "{'age': 12, 'gender': 'male', 'post': 'commando'}\n"
     ]
    }
   ],
   "source": [
    "def dic1(name,**data):\n",
    "    print(name)\n",
    "    print(data)\n",
    "\n",
    "dic1(name=\"ahsan\",age=12,gender=\"male\",post=\"commando\")"
   ]
  },
  {
   "cell_type": "markdown",
   "metadata": {},
   "source": [
    "# LAMBDA FUNCTIONS"
   ]
  },
  {
   "cell_type": "code",
   "execution_count": 9,
   "metadata": {},
   "outputs": [
    {
     "name": "stdout",
     "output_type": "stream",
     "text": [
      "10\n"
     ]
    }
   ],
   "source": [
    "################# LAMBDA FUNCTIONS  ##################\n",
    "\n",
    "sum_lambda= lambda a,b : a+b\n",
    "\n",
    "print(sum_lambda(5,5))\n",
    "\n"
   ]
  },
  {
   "cell_type": "code",
   "execution_count": 12,
   "metadata": {},
   "outputs": [
    {
     "name": "stdout",
     "output_type": "stream",
     "text": [
      "[2, 54, 4, 2, 44]\n"
     ]
    }
   ],
   "source": [
    "###without lambda function\n",
    "def is_even(nums):\n",
    "    return nums%2==0 ##return true or false\n",
    "\n",
    "nums=[1,2,3,54,5,73,4,2,33,44]\n",
    "evens=list(filter(is_even,nums))\n",
    "print(evens)"
   ]
  },
  {
   "cell_type": "code",
   "execution_count": 13,
   "metadata": {},
   "outputs": [
    {
     "name": "stdout",
     "output_type": "stream",
     "text": [
      "[2, 54, 4, 2, 44]\n"
     ]
    }
   ],
   "source": [
    "###with lambda function\n",
    "\n",
    "nums=[1,2,3,54,5,73,4,2,33,44]\n",
    "evens=list(filter(lambda nums : nums%2==0,nums))\n",
    "print(evens)"
   ]
  },
  {
   "cell_type": "code",
   "execution_count": 38,
   "metadata": {},
   "outputs": [
    {
     "name": "stdout",
     "output_type": "stream",
     "text": [
      "[False, True, False, True, False, False, True, True, False, True]\n"
     ]
    }
   ],
   "source": [
    "###map with lambda function\n",
    "\n",
    "nums=[1,2,3,54,5,73,4,2,33,44]\n",
    "evens=list(map(lambda nums : nums%2==0,nums))\n",
    "print(evens)"
   ]
  },
  {
   "cell_type": "code",
   "execution_count": 30,
   "metadata": {},
   "outputs": [
    {
     "name": "stdout",
     "output_type": "stream",
     "text": [
      "True\n"
     ]
    }
   ],
   "source": [
    "##example\n",
    "s=\"ahsan\"\n",
    "func= lambda s : True if len(s)>3 else False\n",
    "print(func(s))"
   ]
  },
  {
   "cell_type": "markdown",
   "metadata": {},
   "source": [
    "# dictionary \n",
    "\n",
    "### .copy\n",
    "### dict.fromkeys( list ) -> convert list into dictionary\n",
    "### .get( key ) -> to prevent from errors in case of wrong key input\n",
    "### keys -> return keys of dictionary\n",
    "### .values -> return values of dictionary\n",
    "### .items -> convert dict into tuple inside list [('name', 'David'), ('fname', 'Elliott'), ('id1', 4803)]\n",
    "### dict1.update( dict2 ) -> dict1 me dict2 ki values+keys insert krdega or jo keys same hongi unki values dict2 ki dal dega\n",
    "### .pop( key ) -> returns value \n",
    "### .popitem ( )  -> return value+ key\n",
    "### setdefault  -> insert default key+value\n",
    "### zip(list1, list2)"
   ]
  },
  {
   "cell_type": "code",
   "execution_count": null,
   "metadata": {},
   "outputs": [],
   "source": [
    "##deep opy: when 2 objects are same but their address are diffrent\n",
    "##shallow copy: when 2 objects are same and their addresses are also same\n",
    "customer1=customer #shallow copy\n",
    "customer2=customer.copy() #deep copy\n",
    "\n",
    "print(\"shallow copy\")\n",
    "print(id(customer))\n",
    "print(id(customer1))\n",
    "\n",
    "print(\"\\ndeep copy\")\n",
    "print(id(customer))\n",
    "print(id(customer2))"
   ]
  },
  {
   "cell_type": "code",
   "execution_count": null,
   "metadata": {},
   "outputs": [],
   "source": [
    "#how to convert list items into dictionary keys\n",
    "l4=[\"name\",\"fname\",\"id\"]\n",
    "dic1=dict.fromkeys(l4)\n",
    "\n",
    "dic1"
   ]
  },
  {
   "cell_type": "code",
   "execution_count": null,
   "metadata": {},
   "outputs": [],
   "source": [
    "dic1[\"name\"]=\"ahsan\"\n",
    "\n",
    "dic1"
   ]
  },
  {
   "cell_type": "code",
   "execution_count": null,
   "metadata": {},
   "outputs": [],
   "source": [
    "dic1=dict.fromkeys(l4,\"abc\")\n",
    "dic1"
   ]
  },
  {
   "cell_type": "code",
   "execution_count": null,
   "metadata": {},
   "outputs": [],
   "source": [
    "#how to convert dictionary keys into ist items\n",
    "l3=dic1.keys()\n",
    "l3"
   ]
  },
  {
   "cell_type": "code",
   "execution_count": null,
   "metadata": {},
   "outputs": [],
   "source": [
    "### direct calling of element \n",
    "dic1[\"course\"]"
   ]
  },
  {
   "cell_type": "code",
   "execution_count": null,
   "metadata": {},
   "outputs": [],
   "source": [
    "##calling of element using get method\n",
    "dic1.get(\"course\")"
   ]
  },
  {
   "cell_type": "code",
   "execution_count": null,
   "metadata": {},
   "outputs": [],
   "source": [
    "##or \n",
    "dic1.get(\"course\", \"invalid key\")"
   ]
  },
  {
   "cell_type": "code",
   "execution_count": null,
   "metadata": {},
   "outputs": [],
   "source": [
    "dic1.get(\"name\", \"invalid key\")"
   ]
  },
  {
   "cell_type": "code",
   "execution_count": null,
   "metadata": {},
   "outputs": [],
   "source": [
    "print(l3)\n",
    "for j in l3:\n",
    "    if j==\"pakistan\":\n",
    "        print(True)\n",
    "        break\n",
    "    else:\n",
    "        print(False) \n",
    "        break"
   ]
  },
  {
   "cell_type": "code",
   "execution_count": null,
   "metadata": {},
   "outputs": [],
   "source": [
    "##simply we can do\n",
    "\"ahsan\" in l3"
   ]
  },
  {
   "cell_type": "code",
   "execution_count": null,
   "metadata": {},
   "outputs": [],
   "source": [
    "\"name\" in l3"
   ]
  },
  {
   "cell_type": "markdown",
   "metadata": {},
   "source": [
    "## keys, values, items using for loop"
   ]
  },
  {
   "cell_type": "code",
   "execution_count": null,
   "metadata": {},
   "outputs": [],
   "source": [
    "customer= {\"name\": \"David\", \"fname\": \"Elliott\", \"id1\": 4803}\n",
    "customer.keys()"
   ]
  },
  {
   "cell_type": "code",
   "execution_count": null,
   "metadata": {},
   "outputs": [],
   "source": [
    "customer.values()"
   ]
  },
  {
   "cell_type": "code",
   "execution_count": null,
   "metadata": {},
   "outputs": [],
   "source": [
    "customer.items()"
   ]
  },
  {
   "cell_type": "code",
   "execution_count": null,
   "metadata": {},
   "outputs": [],
   "source": [
    "for key in customer.keys(): #OR we can write customer only instead of customer.keys()\n",
    "    print(customer[key])\n",
    "print(\"*\")    \n",
    "for key in customer.keys(): #OR we can write customer only instead of customer.keys()\n",
    "    print(key)  \n",
    "print(\"*\")    \n",
    "for val in customer.values(): \n",
    "    print(val)"
   ]
  },
  {
   "cell_type": "code",
   "execution_count": null,
   "metadata": {},
   "outputs": [],
   "source": [
    "dic={0:'a',\n",
    "     3:'d',\n",
    "     1:'b',\n",
    "     2:'c',}\n",
    "dic"
   ]
  },
  {
   "cell_type": "code",
   "execution_count": null,
   "metadata": {},
   "outputs": [],
   "source": [
    "dic.sort()"
   ]
  },
  {
   "cell_type": "code",
   "execution_count": null,
   "metadata": {},
   "outputs": [],
   "source": [
    "sorted(dic)"
   ]
  },
  {
   "cell_type": "code",
   "execution_count": null,
   "metadata": {},
   "outputs": [],
   "source": [
    "sorted(dic.keys())"
   ]
  },
  {
   "cell_type": "code",
   "execution_count": null,
   "metadata": {},
   "outputs": [],
   "source": [
    "for e in customer:\n",
    "    print(e)"
   ]
  },
  {
   "cell_type": "code",
   "execution_count": null,
   "metadata": {},
   "outputs": [],
   "source": [
    "for e in customer.keys():\n",
    "    print(e)"
   ]
  },
  {
   "cell_type": "code",
   "execution_count": null,
   "metadata": {},
   "outputs": [],
   "source": [
    "for e in customer.values():\n",
    "    print(e)"
   ]
  },
  {
   "cell_type": "code",
   "execution_count": null,
   "metadata": {},
   "outputs": [],
   "source": [
    "for k,v in customer.items():\n",
    "    print(\"keys= \"+str(k)+\"\\tvalues= \"+str(v)+\"\\n\")"
   ]
  },
  {
   "cell_type": "code",
   "execution_count": null,
   "metadata": {},
   "outputs": [],
   "source": [
    "customer= {\"fname\": \"ahsan\", \"lname\": \"ghaffar\", \"id1\": \"4321\", 'abc': [\"12\", 23, \"abc\"]} \n",
    "customerd=customer\n",
    "print(customerd)\n",
    "print(customer)"
   ]
  },
  {
   "cell_type": "code",
   "execution_count": null,
   "metadata": {},
   "outputs": [],
   "source": [
    "customerd.pop(\"id1\")"
   ]
  },
  {
   "cell_type": "code",
   "execution_count": null,
   "metadata": {},
   "outputs": [],
   "source": [
    "#insert value in dictionary\n",
    "customerd[0]=\"pakistan\"\n",
    "customerd"
   ]
  },
  {
   "cell_type": "code",
   "execution_count": null,
   "metadata": {},
   "outputs": [],
   "source": [
    "customerd.popitem()"
   ]
  },
  {
   "cell_type": "code",
   "execution_count": null,
   "metadata": {},
   "outputs": [],
   "source": [
    "customerd.setdefault('def key',\"default value\")"
   ]
  },
  {
   "cell_type": "code",
   "execution_count": null,
   "metadata": {},
   "outputs": [],
   "source": [
    "customerd"
   ]
  },
  {
   "cell_type": "code",
   "execution_count": null,
   "metadata": {},
   "outputs": [],
   "source": [
    "#how to update dict\n",
    "new_dic={\"fname\": \"update fname\", \"lname\": \"update lname\",\"new items\":\"123\"}"
   ]
  },
  {
   "cell_type": "code",
   "execution_count": null,
   "metadata": {},
   "outputs": [],
   "source": [
    "customerd.update(new_dic)\n",
    "customerd"
   ]
  },
  {
   "cell_type": "code",
   "execution_count": null,
   "metadata": {},
   "outputs": [],
   "source": [
    "#set\n",
    "{1,2,3,4,1,2,4}"
   ]
  },
  {
   "cell_type": "code",
   "execution_count": null,
   "metadata": {},
   "outputs": [],
   "source": [
    "dic1={}"
   ]
  },
  {
   "cell_type": "code",
   "execution_count": null,
   "metadata": {},
   "outputs": [],
   "source": [
    "dic1[\"name\"]=\"ahsan\"\n",
    "dic1[1]=\"new\"\n",
    "dic1"
   ]
  },
  {
   "cell_type": "code",
   "execution_count": null,
   "metadata": {},
   "outputs": [],
   "source": [
    "db=[]\n",
    "\n",
    "while True: ##while true means to run the loop infinite times\n",
    "    name=input(\"name: \")\n",
    "    fname=input(\"fname: \")\n",
    "    r={}\n",
    "    if name != \"x\" or fname != \"x\":\n",
    "        r[\"name\"]=name\n",
    "        r[\"fname\"]=fname\n",
    "        db.append(r)\n",
    "    else:\n",
    "        break\n",
    "        db    "
   ]
  },
  {
   "cell_type": "code",
   "execution_count": null,
   "metadata": {},
   "outputs": [],
   "source": [
    "db #dictionary inside list"
   ]
  },
  {
   "cell_type": "code",
   "execution_count": null,
   "metadata": {},
   "outputs": [],
   "source": [
    "db[0]['name'] #access dictionary values inside list"
   ]
  },
  {
   "cell_type": "code",
   "execution_count": 36,
   "metadata": {},
   "outputs": [
    {
     "data": {
      "text/plain": [
       "{'user1': 'ahsan', 'user2': 'ali', 'user3': 'raza'}"
      ]
     },
     "execution_count": 36,
     "metadata": {},
     "output_type": "execute_result"
    }
   ],
   "source": [
    "lis1=['user1','user2','user3']\n",
    "lis2=['ahsan','ali','raza']\n",
    "\n",
    "\n",
    "dict(zip(lis1,lis2))"
   ]
  },
  {
   "cell_type": "code",
   "execution_count": 37,
   "metadata": {},
   "outputs": [
    {
     "ename": "ValueError",
     "evalue": "dictionary update sequence element #0 has length 3; 2 is required",
     "output_type": "error",
     "traceback": [
      "\u001b[1;31m---------------------------------------------------------------------------\u001b[0m",
      "\u001b[1;31mValueError\u001b[0m                                Traceback (most recent call last)",
      "\u001b[1;32m<ipython-input-37-93981053a6c5>\u001b[0m in \u001b[0;36m<module>\u001b[1;34m\u001b[0m\n\u001b[0;32m      3\u001b[0m \u001b[0mlname\u001b[0m\u001b[1;33m=\u001b[0m\u001b[1;33m[\u001b[0m\u001b[1;34m'rao'\u001b[0m\u001b[1;33m,\u001b[0m\u001b[1;34m'mian'\u001b[0m\u001b[1;33m,\u001b[0m\u001b[1;34m'khan'\u001b[0m\u001b[1;33m]\u001b[0m\u001b[1;33m\u001b[0m\u001b[1;33m\u001b[0m\u001b[0m\n\u001b[0;32m      4\u001b[0m \u001b[1;33m\u001b[0m\u001b[0m\n\u001b[1;32m----> 5\u001b[1;33m \u001b[0mdict\u001b[0m\u001b[1;33m(\u001b[0m\u001b[0mzip\u001b[0m\u001b[1;33m(\u001b[0m\u001b[0mid1\u001b[0m\u001b[1;33m,\u001b[0m\u001b[0mfname\u001b[0m\u001b[1;33m,\u001b[0m\u001b[0mlname\u001b[0m\u001b[1;33m)\u001b[0m\u001b[1;33m)\u001b[0m\u001b[1;33m\u001b[0m\u001b[1;33m\u001b[0m\u001b[0m\n\u001b[0m",
      "\u001b[1;31mValueError\u001b[0m: dictionary update sequence element #0 has length 3; 2 is required"
     ]
    }
   ],
   "source": [
    "id1=['user1','user2','user3']\n",
    "fname=['ahsan','ali','raza']\n",
    "lname=['rao','mian','khan']\n",
    "\n",
    "dict(zip(id1,fname,lname))"
   ]
  }
 ],
 "metadata": {
  "kernelspec": {
   "display_name": "Python 3",
   "language": "python",
   "name": "python3"
  },
  "language_info": {
   "codemirror_mode": {
    "name": "ipython",
    "version": 3
   },
   "file_extension": ".py",
   "mimetype": "text/x-python",
   "name": "python",
   "nbconvert_exporter": "python",
   "pygments_lexer": "ipython3",
   "version": "3.7.3"
  }
 },
 "nbformat": 4,
 "nbformat_minor": 2
}
