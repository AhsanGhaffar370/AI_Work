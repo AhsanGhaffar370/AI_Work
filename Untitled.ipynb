{
 "cells": [
  {
   "cell_type": "code",
   "execution_count": null,
   "metadata": {},
   "outputs": [],
   "source": [
    "import os\n",
    "import shutil\n",
    "\n",
    "EXT_AUDIO= ['.wav','.mp3','.raw','.wma']\n",
    "EXT_VIDEO= ['.mp4','.m4a','.m4v','.f4v','.m4b','.f4b','.f4a','.m4r','.mov','.avi','wmv','flv']\n",
    "EXT_IMAGES= ['.jpeg','.png','.svg','.gif','bmp']\n",
    "EXT_DOCUMENTS= ['.txt','.pdf','.doc','.docx','.odt','.html']\n",
    "\n",
    "print(\"Downloads folder cleanup\")\n",
    "print(\"Current directory:{}\".format(os.getcwd()))\n",
    "\n",
    "print()\n",
    "\n",
    "files=os.listdir()\n",
    "\n",
    "DIRS= ['Audio','Videos','Images','Documents', 'Folders',\"Others\"]\n",
    "\n",
    "if not os.path.isdir('./Audio'):\n",
    "    for d in DIRS:\n",
    "        os.mkdir(\"./{}\".format(d))\n",
    "        \n",
    "    print(\"Directories created successfully\")\n",
    "    \n",
    "for f in fiels:\n",
    "    name, extensio = os.path.splittext(f)\n",
    "    \n",
    "    if extensio in EXT_AUDIO:\n",
    "        shutil.move(f,\"./Images/{}\".format(f))\n",
    "    elif extensio in EXT_VIDEO:\n",
    "        shutil.move(f,\"./Audio/{}\".format(f))\n",
    "    elif extensio in EXT_IMAGES:\n",
    "        shutil.move(f,\"./Video/{}\".format(f))\n",
    "    elif extensio in EXT_DOCUMENTS:\n",
    "        shutil.move(f,\"./Document/{}\".format(f))\n",
    "        \n",
    "    else\n",
    "    if os.path.isdir(name):\n",
    "        if name not in DIRS:\n",
    "            shutil.move(f,\"./Folders/{}\".format(f))\n",
    "            \n",
    "        else:\n",
    "            if f!='cleardir.py':\n",
    "                shutil.move(f,'./Other/{}'.format(f))\n",
    "                \n",
    "print('Cleanup completed')"
   ]
  }
 ],
 "metadata": {
  "kernelspec": {
   "display_name": "Python 3",
   "language": "python",
   "name": "python3"
  },
  "language_info": {
   "codemirror_mode": {
    "name": "ipython",
    "version": 3
   },
   "file_extension": ".py",
   "mimetype": "text/x-python",
   "name": "python",
   "nbconvert_exporter": "python",
   "pygments_lexer": "ipython3",
   "version": "3.7.3"
  }
 },
 "nbformat": 4,
 "nbformat_minor": 2
}
