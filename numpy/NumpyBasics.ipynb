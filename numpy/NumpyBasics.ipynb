{
 "cells": [
  {
   "cell_type": "markdown",
   "metadata": {},
   "source": [
    "# ARRAYS"
   ]
  },
  {
   "cell_type": "code",
   "execution_count": 1,
   "metadata": {},
   "outputs": [],
   "source": [
    "###initializing array with different data types\n",
    "\n",
    "import array as arr\n",
    "\n",
    "#in python we have dynamic arrays, at any point we can shrink or expand tha array\n",
    "#  i=int\n",
    "#  f=float\n",
    "#  d=double\n",
    "#  l=long\n",
    "#  b=char\n",
    "vals=arr.array(\"i\",[1,2,34,1,2,4,3])\n",
    "vals1=arr.array(\"f\",[1,2,34,1,2,4,3])"
   ]
  },
  {
   "cell_type": "code",
   "execution_count": 2,
   "metadata": {},
   "outputs": [
    {
     "name": "stdout",
     "output_type": "stream",
     "text": [
      "array('i', [1, 2, 34, 1, 2, 4, 3])\n",
      "array('f', [1.0, 2.0, 34.0, 1.0, 2.0, 4.0, 3.0])\n"
     ]
    }
   ],
   "source": [
    "##print array elements\n",
    "\n",
    "print(vals)\n",
    "print(vals1)"
   ]
  },
  {
   "cell_type": "code",
   "execution_count": 3,
   "metadata": {},
   "outputs": [
    {
     "name": "stdout",
     "output_type": "stream",
     "text": [
      "array('i', [122, 1, 2, 34, 1, 2, 4, 3, 0])\n"
     ]
    }
   ],
   "source": [
    "###insert and append element into array\n",
    "\n",
    "vals.append(0)\n",
    "vals.insert(0,122)\n",
    "\n",
    "print(vals)"
   ]
  },
  {
   "cell_type": "code",
   "execution_count": 4,
   "metadata": {},
   "outputs": [
    {
     "data": {
      "text/plain": [
       "array('i', [1, 2, 34, 1, 2, 4, 3, 0])"
      ]
     },
     "execution_count": 4,
     "metadata": {},
     "output_type": "execute_result"
    }
   ],
   "source": [
    "##delete element from an array\n",
    "\n",
    "vals.pop(0)\n",
    "vals"
   ]
  },
  {
   "cell_type": "code",
   "execution_count": 5,
   "metadata": {},
   "outputs": [
    {
     "name": "stdout",
     "output_type": "stream",
     "text": [
      "array('i', [0, 3, 4, 2, 1, 34, 2, 1])\n"
     ]
    }
   ],
   "source": [
    "##print array in reverse order\n",
    "\n",
    "vals.reverse()\n",
    "print(vals)"
   ]
  },
  {
   "cell_type": "code",
   "execution_count": 6,
   "metadata": {},
   "outputs": [
    {
     "name": "stdout",
     "output_type": "stream",
     "text": [
      "(2481959831904, 8)\n"
     ]
    }
   ],
   "source": [
    "#return address and size of array\n",
    "\n",
    "\n",
    "print(vals.buffer_info())   ###(1541182283984, 7) --> (Address, size)"
   ]
  },
  {
   "cell_type": "code",
   "execution_count": 7,
   "metadata": {},
   "outputs": [
    {
     "name": "stdout",
     "output_type": "stream",
     "text": [
      "0\n",
      "3\n",
      "4\n",
      "2\n",
      "1\n",
      "34\n",
      "2\n",
      "1\n",
      "\n",
      "\n",
      "\n",
      "0\n",
      "9\n",
      "16\n",
      "4\n",
      "1\n",
      "1156\n",
      "4\n",
      "1\n",
      "array('i', [0, 3, 4, 2, 1, 34, 2, 1])\n",
      "array('f', [0.0, 3.0, 4.0, 2.0, 1.0, 34.0, 2.0, 1.0])\n"
     ]
    }
   ],
   "source": [
    "##different ways of copying elements of one array into another\n",
    "\n",
    "#########01\n",
    "#copy values of vals array in to new_arr using for loop\n",
    "new_arr=arr.array(vals.typecode,(a for a in vals)) ###(could_done_any_thing_with_a for a in vals)\n",
    "new2=arr.array(vals.typecode,(a*a for a in vals))\n",
    "\n",
    "for i in new_arr:\n",
    "    print(i)\n",
    "print(\"\\n\\n\")\n",
    "for i in new2:\n",
    "    print(i)\n",
    "    \n",
    "#########02 \n",
    "#copy values of vals array in to new_arr1 without using for loop\n",
    "new_arr1=arr.array(vals.typecode,vals) #vals.typecode copy the type of vals array into new_arr1, we can give it in hardCoded\n",
    "print(new_arr1)\n",
    "\n",
    "#########03\n",
    "#copy values of vals array in to new_arr1 without using for loop\n",
    "arr2=arr.array(\"f\",[]) \n",
    "\n",
    "for i in vals:\n",
    "    arr2.append(i)\n",
    "    \n",
    "print(arr2)"
   ]
  },
  {
   "cell_type": "code",
   "execution_count": null,
   "metadata": {},
   "outputs": [],
   "source": []
  },
  {
   "cell_type": "markdown",
   "metadata": {},
   "source": [
    "# NUMPY\n",
    "\n"
   ]
  },
  {
   "cell_type": "code",
   "execution_count": 8,
   "metadata": {},
   "outputs": [],
   "source": [
    "###initialize numpy array\n",
    "\n",
    "import numpy as np ##numpy used for multi dimensional array\n",
    "\n",
    "#from numpy import numpy --> this method doesn't required extension \n",
    "#exp: numpy.array([1,2,3]) -----> array([1,2,3]) (can write in this manner)\n",
    "\n",
    "ndarr=np.array([1,2,3,4,5])"
   ]
  },
  {
   "cell_type": "code",
   "execution_count": 9,
   "metadata": {},
   "outputs": [
    {
     "name": "stdout",
     "output_type": "stream",
     "text": [
      "[1 2 3 4 5]\n"
     ]
    }
   ],
   "source": [
    "print(ndarr)"
   ]
  },
  {
   "cell_type": "markdown",
   "metadata": {},
   "source": [
    "### ways of initializing numpy array"
   ]
  },
  {
   "cell_type": "code",
   "execution_count": 10,
   "metadata": {},
   "outputs": [
    {
     "name": "stdout",
     "output_type": "stream",
     "text": [
      "int32\n",
      "[ 2  4  1  4 23  3]\n",
      "\n",
      "\n",
      "\n",
      "float64\n",
      "[ 2.   4.   1.   4.  23.   3.1]\n",
      "\n",
      "\n",
      "\n",
      "<U11\n",
      "['2' '4' '1' '4' '23' '3.1']\n",
      "\n",
      "\n",
      "\n",
      "int32\n",
      "[ 2  4  1  4 23  3]\n",
      "2\n",
      "\n",
      "\n",
      "\n",
      "float64\n",
      "[ 2.  4.  1.  4. 23.  3.]\n"
     ]
    }
   ],
   "source": [
    "arr1=np.array([2,4,1,4,23,3]) ##by default numpy array choose its data type on the basis of elements\n",
    "print(arr1.dtype)\n",
    "print(arr1)\n",
    "\n",
    "print(\"\\n\\n\")\n",
    "arr2=np.array([2,4,1,4,23,3.1]) #by_default choose its DT on basis of elements-->because ofsingle 3.1, whole array \n",
    "print(arr2.dtype)                  #converted into float datatype\n",
    "print(arr2)\n",
    "\n",
    "print(\"\\n\\n\")\n",
    "arr2=np.array([2,4,1,4,23,\"3.1\"]) #by_default choose its DT on basis of elements-->because ofsingle 3.1, whole array \n",
    "print(arr2.dtype)                  #converted into string datatype\n",
    "print(arr2)\n",
    "\n",
    "print(\"\\n\\n\")\n",
    "arr3=np.array([2.7,4.9,1,4,23,3.1],int) ##you can also assign data type \n",
    "print(arr3.dtype)\n",
    "print(arr3)\n",
    "print(arr3[0])\n",
    "\n",
    "print(\"\\n\\n\")\n",
    "arr2=np.array([2,4,1,4,23,3],float) ##you can also assign data type \n",
    "print(arr2.dtype)\n",
    "print(arr2)"
   ]
  },
  {
   "cell_type": "markdown",
   "metadata": {},
   "source": [
    "## ways of initializing numpy array with default values\n",
    "\n",
    "### arange\n",
    "### zeros\n",
    "### ones\n",
    "### empty\n",
    "### linespace\n",
    "### logspace\n",
    "### random number"
   ]
  },
  {
   "cell_type": "code",
   "execution_count": 11,
   "metadata": {},
   "outputs": [
    {
     "name": "stdout",
     "output_type": "stream",
     "text": [
      "Array1 [ 0  1  2  3  4  5  6  7  8  9 10]\n",
      "\n",
      "Array2 [ 5  6  7  8  9 10 11 12 13 14 15 16 17 18 19 20 21 22 23 24 25 26 27 28\n",
      " 29 30 31 32 33 34 35 36 37 38 39 40 41 42 43 44 45 46 47 48 49]\n",
      "\n",
      "Array3 [ 5 15 25 35 45]\n",
      "\n",
      "Array4 [2.4 3.4 4.4 5.4 6.4 7.4 8.4 9.4]\n"
     ]
    }
   ],
   "source": [
    "#arange(start,end-1,steps_optional)\n",
    "arr=np.arange(11)\n",
    "print(\"Array1\",arr)\n",
    "\n",
    "arr=np.arange(5,50)\n",
    "print(\"\\nArray2\",arr)\n",
    "\n",
    "arr=np.arange(5,50,10)\n",
    "print(\"\\nArray3\",arr)\n",
    "\n",
    "arr2=np.arange(2.4, 10.1, 1)\n",
    "print(\"\\nArray4\",arr2)\n"
   ]
  },
  {
   "cell_type": "code",
   "execution_count": 12,
   "metadata": {},
   "outputs": [
    {
     "name": "stdout",
     "output_type": "stream",
     "text": [
      "[0. 0. 0. 0. 0. 0. 0. 0. 0. 0.]\n",
      "[1. 1. 1. 1. 1. 1. 1. 1. 1. 1.]\n",
      "[0 0 0 0 0 0 0 0 0 0]\n",
      "[1 1 1 1 1 1 1 1 1 1]\n"
     ]
    }
   ],
   "source": [
    "arr=np.zeros(10)\n",
    "arr1=np.ones(10)\n",
    "arr2=np.zeros(10,int)\n",
    "arr3=np.ones(10,int)\n",
    "print(arr)\n",
    "print(arr1)\n",
    "print(arr2)\n",
    "print(arr3)"
   ]
  },
  {
   "cell_type": "code",
   "execution_count": 13,
   "metadata": {},
   "outputs": [
    {
     "name": "stdout",
     "output_type": "stream",
     "text": [
      "[-583187312        577          0          0          0          0\n",
      "          0          0          0          0]\n"
     ]
    }
   ],
   "source": [
    "arr4=np.empty(10,int) ##empty set generate random values \n",
    "print(arr4)"
   ]
  },
  {
   "cell_type": "code",
   "execution_count": 14,
   "metadata": {},
   "outputs": [
    {
     "name": "stdout",
     "output_type": "stream",
     "text": [
      "[[1. 0. 0.]\n",
      " [0. 1. 0.]\n",
      " [0. 0. 1.]]\n"
     ]
    }
   ],
   "source": [
    "arr11=np.eye(3)\n",
    "print(arr11)"
   ]
  },
  {
   "cell_type": "code",
   "execution_count": 15,
   "metadata": {},
   "outputs": [
    {
     "name": "stdout",
     "output_type": "stream",
     "text": [
      "[ 5. 10. 15. 20. 25. 30. 35. 40. 45. 50.]\n",
      "[ 5.   7.5 10. ]\n"
     ]
    }
   ],
   "source": [
    "#arange(start,end,how many evenly spaced elements required) -->last section btata he ke start se end bech ktne \n",
    "#elements required he to phr jtne elements required hote he usi hisab se ek num se dusre number ke darmian difference create \n",
    "# hota he\n",
    "arr=np.linspace(5,50,10) ##(min limit,max limit, limit)\n",
    "print(arr)\n",
    "\n",
    "arr1=np.linspace(5,10,3)\n",
    "print(arr1)"
   ]
  },
  {
   "cell_type": "code",
   "execution_count": 16,
   "metadata": {},
   "outputs": [
    {
     "name": "stdout",
     "output_type": "stream",
     "text": [
      "[1.e+05 1.e+10 1.e+15 1.e+20 1.e+25 1.e+30 1.e+35 1.e+40 1.e+45 1.e+50]\n",
      "[1.00000000e+05 3.16227766e+07 1.00000000e+10]\n"
     ]
    }
   ],
   "source": [
    "arr=np.logspace(5,50,10) ##(min limit,max limit, limit)\n",
    "print(arr)\n",
    "\n",
    "arr1=np.logspace(5,10,3)\n",
    "print(arr1)"
   ]
  },
  {
   "cell_type": "code",
   "execution_count": 17,
   "metadata": {},
   "outputs": [
    {
     "data": {
      "text/plain": [
       "array([2, 5, 4, 3, 4, 3, 6, 5, 5, 4])"
      ]
     },
     "execution_count": 17,
     "metadata": {},
     "output_type": "execute_result"
    }
   ],
   "source": [
    "##np.random.randint(min limit,max limit,size)\n",
    "\n",
    "arr=np.random.randint(2,8,10) ##generate array of 10 random numbers between 2 to 8\n",
    "arr"
   ]
  },
  {
   "cell_type": "code",
   "execution_count": 18,
   "metadata": {},
   "outputs": [
    {
     "name": "stdout",
     "output_type": "stream",
     "text": [
      "[0.98881896 0.44193085 0.46302369 0.89811699 0.36284623]\n",
      "\n",
      "\n",
      " [[0.25933615 0.40546563 0.3180553  0.98282396 0.29112314]\n",
      " [0.2622     0.65059651 0.23178055 0.8111132  0.60573578]\n",
      " [0.47026917 0.20289896 0.33210688 0.27343361 0.28926029]\n",
      " [0.19006094 0.5924386  0.05359546 0.38935356 0.04761387]\n",
      " [0.56966075 0.10075193 0.5546197  0.11536026 0.48832504]]\n",
      "\n",
      "\n",
      " [[ 0.12152309 -0.57885858  0.30361107 -1.14942975 -1.5450736 ]\n",
      " [ 2.60050606 -0.29780655 -1.49861083  0.6609285  -2.18927416]\n",
      " [-1.50574731  1.14693983  0.15407749  0.3859739  -1.16181161]\n",
      " [-2.15021284  0.59810922  0.60852091 -0.43985101  0.1361509 ]\n",
      " [ 1.13564257  0.14185473  0.50801291  0.06698094 -0.75967244]]\n"
     ]
    }
   ],
   "source": [
    "arr=np.random.rand(5)\n",
    "print(arr)\n",
    "\n",
    "arr=np.random.rand(5,5)\n",
    "print(\"\\n\\n\",arr)\n",
    "\n",
    "arr=np.random.randn(5,5)\n",
    "print(\"\\n\\n\",arr)"
   ]
  },
  {
   "cell_type": "markdown",
   "metadata": {},
   "source": [
    "## Numpy arrray Mathematic operations"
   ]
  },
  {
   "cell_type": "code",
   "execution_count": 19,
   "metadata": {},
   "outputs": [],
   "source": [
    "import numpy as np\n",
    "num_arr=np.array([\n",
    "                 [1,2,3],\n",
    "                 [5,6,7],\n",
    "                 [5,6,7]\n",
    "                ])\n",
    "num_arr1=np.array([\n",
    "                 [2,2,3],\n",
    "                 [5,6,7],\n",
    "                 [5,6,7]\n",
    "                ])"
   ]
  },
  {
   "cell_type": "code",
   "execution_count": 20,
   "metadata": {},
   "outputs": [
    {
     "data": {
      "text/plain": [
       "array([[ 2,  4,  9],\n",
       "       [25, 36, 49],\n",
       "       [25, 36, 49]])"
      ]
     },
     "execution_count": 20,
     "metadata": {},
     "output_type": "execute_result"
    }
   ],
   "source": [
    "num_arr*num_arr1"
   ]
  },
  {
   "cell_type": "code",
   "execution_count": 21,
   "metadata": {},
   "outputs": [
    {
     "data": {
      "text/plain": [
       "array([[ 3,  4,  6],\n",
       "       [10, 12, 14],\n",
       "       [10, 12, 14]])"
      ]
     },
     "execution_count": 21,
     "metadata": {},
     "output_type": "execute_result"
    }
   ],
   "source": [
    "num_arr+num_arr1"
   ]
  },
  {
   "cell_type": "code",
   "execution_count": 22,
   "metadata": {},
   "outputs": [
    {
     "data": {
      "text/plain": [
       "array([[-1,  0,  0],\n",
       "       [ 0,  0,  0],\n",
       "       [ 0,  0,  0]])"
      ]
     },
     "execution_count": 22,
     "metadata": {},
     "output_type": "execute_result"
    }
   ],
   "source": [
    "num_arr-num_arr1"
   ]
  },
  {
   "cell_type": "code",
   "execution_count": 23,
   "metadata": {},
   "outputs": [
    {
     "data": {
      "text/plain": [
       "array([[ 27,  32,  38],\n",
       "       [ 75,  88, 106],\n",
       "       [ 75,  88, 106]])"
      ]
     },
     "execution_count": 23,
     "metadata": {},
     "output_type": "execute_result"
    }
   ],
   "source": [
    "# array multiplication\n",
    "num_arr@num_arr1 #x and y axis must be same exp: 4*4, 3*3, 2*2 etc"
   ]
  },
  {
   "cell_type": "code",
   "execution_count": 24,
   "metadata": {},
   "outputs": [
    {
     "data": {
      "text/plain": [
       "array([[ 27,  32,  38],\n",
       "       [ 75,  88, 106],\n",
       "       [ 75,  88, 106]])"
      ]
     },
     "execution_count": 24,
     "metadata": {},
     "output_type": "execute_result"
    }
   ],
   "source": [
    "# array multiplication\n",
    "num_arr.dot(num_arr1) #x and y axis or all dimensions must be same must be same exp: 4*4, 3*3*3, 2 etc"
   ]
  },
  {
   "cell_type": "code",
   "execution_count": 25,
   "metadata": {},
   "outputs": [
    {
     "data": {
      "text/plain": [
       "array([[1, 2, 3],\n",
       "       [5, 6, 7],\n",
       "       [5, 6, 7]])"
      ]
     },
     "execution_count": 25,
     "metadata": {},
     "output_type": "execute_result"
    }
   ],
   "source": [
    "num_arr*=1\n",
    "num_arr"
   ]
  },
  {
   "cell_type": "code",
   "execution_count": 26,
   "metadata": {},
   "outputs": [
    {
     "data": {
      "text/plain": [
       "array([[ 1,  4,  9],\n",
       "       [25, 36, 49],\n",
       "       [25, 36, 49]], dtype=int32)"
      ]
     },
     "execution_count": 26,
     "metadata": {},
     "output_type": "execute_result"
    }
   ],
   "source": [
    "num_arr=num_arr**2\n",
    "num_arr"
   ]
  },
  {
   "cell_type": "code",
   "execution_count": 27,
   "metadata": {},
   "outputs": [
    {
     "name": "stdout",
     "output_type": "stream",
     "text": [
      "transpose\n"
     ]
    },
    {
     "data": {
      "text/plain": [
       "array([[ 1, 25, 25],\n",
       "       [ 4, 36, 36],\n",
       "       [ 9, 49, 49]], dtype=int32)"
      ]
     },
     "execution_count": 27,
     "metadata": {},
     "output_type": "execute_result"
    }
   ],
   "source": [
    "print(\"transpose\")\n",
    "num_arr.T"
   ]
  },
  {
   "cell_type": "code",
   "execution_count": 28,
   "metadata": {},
   "outputs": [
    {
     "name": "stdout",
     "output_type": "stream",
     "text": [
      "\n",
      " [[ 0.84147098 -0.7568025   0.41211849]\n",
      " [-0.13235175 -0.99177885 -0.95375265]\n",
      " [-0.13235175 -0.99177885 -0.95375265]]\n",
      "\n",
      " [[ 0.54030231 -0.65364362 -0.91113026]\n",
      " [ 0.99120281 -0.12796369  0.30059254]\n",
      " [ 0.99120281 -0.12796369  0.30059254]]\n",
      "\n",
      " [[ 1.55740772  1.15782128 -0.45231566]\n",
      " [-0.13352641  7.75047091 -3.17290855]\n",
      " [-0.13352641  7.75047091 -3.17290855]]\n",
      "\n",
      " [[1.17520119e+00 2.72899172e+01 4.05154190e+03]\n",
      " [3.60024497e+10 2.15561577e+15 9.53673286e+20]\n",
      " [3.60024497e+10 2.15561577e+15 9.53673286e+20]]\n",
      "\n",
      " [[1.17520119e+00 2.72899172e+01 4.05154190e+03]\n",
      " [3.60024497e+10 2.15561577e+15 9.53673286e+20]\n",
      " [3.60024497e+10 2.15561577e+15 9.53673286e+20]]\n"
     ]
    }
   ],
   "source": [
    "\n",
    "print(\"\\n\",np.sin(num_arr))\n",
    "print(\"\\n\",np.cos(num_arr))\n",
    "print(\"\\n\",np.tan(num_arr))\n",
    "print(\"\\n\",np.sinh(num_arr))\n",
    "print(\"\\n\",np.sinh(num_arr))\n"
   ]
  },
  {
   "cell_type": "code",
   "execution_count": 29,
   "metadata": {},
   "outputs": [
    {
     "name": "stdout",
     "output_type": "stream",
     "text": [
      "\n",
      "Sum: 234\n",
      "\n",
      "Product: 1293683264\n",
      "\n",
      "Minimum: 1\n",
      "\n",
      "Maximum: 49\n",
      "\n",
      "mean: 26.0\n",
      "\n",
      "Standard Deviation: 17.18526500620032\n",
      "\n",
      "Variance: 295.3333333333333\n",
      "\n",
      "index of minimum element: 0\n",
      "\n",
      "index of maximum element: 5\n"
     ]
    }
   ],
   "source": [
    "print(\"\\nSum:\",np.sum(num_arr))\n",
    "print(\"\\nProduct:\",np.prod(num_arr))\n",
    "print(\"\\nMinimum:\",np.min(num_arr))\n",
    "print(\"\\nMaximum:\",np.max(num_arr))\n",
    "print(\"\\nmean:\",np.mean(num_arr))\n",
    "print(\"\\nStandard Deviation:\",np.std(num_arr))\n",
    "print(\"\\nVariance:\",np.var(num_arr))\n",
    "print(\"\\nindex of minimum element:\",np.argmin(num_arr))\n",
    "print(\"\\nindex of maximum element:\",np.argmax(num_arr))\n"
   ]
  },
  {
   "cell_type": "code",
   "execution_count": 30,
   "metadata": {},
   "outputs": [
    {
     "name": "stdout",
     "output_type": "stream",
     "text": [
      "\n",
      "before sort array:\n",
      " [[ 1  2  0]\n",
      " [ 9  2  7]\n",
      " [ 5 33  7]]\n",
      "\n",
      "sort with respect to elements:\n",
      " [[2 0 1]\n",
      " [1 2 0]\n",
      " [0 2 1]]\n"
     ]
    }
   ],
   "source": [
    "num_arr=np.array([\n",
    "                 [1,2,0],\n",
    "                 [9,2,7],\n",
    "                 [5,33,7]\n",
    "                ])\n",
    "print(\"\\nbefore sort array:\\n\",num_arr)\n",
    "print(\"\\nsort with respect to elements:\\n\",np.argsort(num_arr))"
   ]
  },
  {
   "cell_type": "markdown",
   "metadata": {},
   "source": [
    "## multidimension numpy array with it's functions\n",
    "#### how to access multidimension array\n",
    "#### ndim\n",
    "#### shape *\n",
    "#### reshape *\n",
    "#### size *\n",
    "#### flatten  or ravel\n",
    "#### matrix \n",
    "#### diagonal\n",
    "#### \n",
    "#### "
   ]
  },
  {
   "cell_type": "code",
   "execution_count": 31,
   "metadata": {},
   "outputs": [
    {
     "name": "stdout",
     "output_type": "stream",
     "text": [
      "[[ 1  2  3]\n",
      " [ 5  0  7]\n",
      " [ 5  6  7]\n",
      " [ 3 54 76]]\n",
      "\n",
      " [1 2 3]\n",
      "\n",
      " 6\n",
      "[ 1  3  7 54]\n"
     ]
    }
   ],
   "source": [
    "arr1=np.array([\n",
    "                 [1,2,3],\n",
    "                 [5,0,7],\n",
    "                 [5,6,7],\n",
    "                 [3,54,76]\n",
    "                 ])\n",
    "\n",
    "print(arr1)\n",
    "print(\"\\n\",arr1[0])\n",
    "print(\"\\n\",arr1[2,1])\n",
    "\n",
    "print(arr1[[0, 3, 2, 3], [0, 0, 2, 1]])"
   ]
  },
  {
   "cell_type": "code",
   "execution_count": 32,
   "metadata": {},
   "outputs": [
    {
     "name": "stdout",
     "output_type": "stream",
     "text": [
      "2\n",
      "(4, 3)\n",
      "12\n",
      "[[[ 1  2]\n",
      "  [ 3  5]\n",
      "  [ 0  7]]\n",
      "\n",
      " [[ 5  6]\n",
      "  [ 7  3]\n",
      "  [54 76]]]\n",
      "\n",
      "\n",
      "\n",
      "\n",
      " [[[ 0  1  2  3]\n",
      "  [ 4  5  6  7]]\n",
      "\n",
      " [[ 8  9 10 11]\n",
      "  [12 13 14 15]]]\n"
     ]
    }
   ],
   "source": [
    "print(arr1.ndim) ##return the dimesions of array\n",
    "print(arr1.shape) ##return the rows and columns of array\n",
    "print(arr1.size) ##return the number of elements present in array\n",
    "\n",
    "\n",
    "arr3=arr1.reshape(2,3,2) ##reshape(rows,columns)\n",
    "print(arr3)\n",
    "\n",
    "\n",
    "arr4 = np.arange(16).reshape((2, 2, 4))\n",
    "print(\"\\n\\n\\n\\n\",arr4)"
   ]
  },
  {
   "cell_type": "code",
   "execution_count": 33,
   "metadata": {},
   "outputs": [
    {
     "name": "stdout",
     "output_type": "stream",
     "text": [
      "[ 1  2  3  5  0  7  5  6  7  3 54 76]\n",
      "[[ 1  2  3]\n",
      " [ 5  0  7]\n",
      " [ 5  6  7]\n",
      " [ 3 54 76]]\n",
      "[[[ 1  2  3  5]]\n",
      "\n",
      " [[ 0  7  5  6]]\n",
      "\n",
      " [[ 7  3 54 76]]]\n"
     ]
    }
   ],
   "source": [
    "arr2=arr1.flatten() ##make a multi dimensional array in 1 dimensional \n",
    "print(arr2)\n",
    "\n",
    "arr3=arr2.reshape(4,3) ##reshape(rows,columns)\n",
    "print(arr3)\n",
    "\n",
    "arr3=arr2.reshape(3,1,4)##3d array\n",
    "print(arr3)"
   ]
  },
  {
   "cell_type": "code",
   "execution_count": 34,
   "metadata": {},
   "outputs": [
    {
     "name": "stdout",
     "output_type": "stream",
     "text": [
      "\n",
      " [1 2 3 5 1 2 7 0 3]\n",
      "dimension: 1\n",
      "shape: (9,)\n",
      "\n",
      " [[1]\n",
      " [2]\n",
      " [3]\n",
      " [5]\n",
      " [1]\n",
      " [2]\n",
      " [7]\n",
      " [0]\n",
      " [3]]\n",
      "dimension: 2\n",
      "shape: (9, 1)\n"
     ]
    }
   ],
   "source": [
    "arr1=np.array([1,2,3,5,1,2,7,0,3])\n",
    "\n",
    "print(\"\\n\",arr1)\n",
    "print(\"dimension:\",arr1.ndim)\n",
    "print(\"shape:\",arr1.shape)\n",
    "\n",
    "arr1=arr1.reshape(-1,1) ##to convert 1dim array into 2 dim\n",
    "\n",
    "print(\"\\n\",arr1)\n",
    "print(\"dimension:\",arr1.ndim)\n",
    "print(\"shape:\",arr1.shape)"
   ]
  },
  {
   "cell_type": "markdown",
   "metadata": {},
   "source": [
    "## Numpy Linear algebra "
   ]
  },
  {
   "cell_type": "code",
   "execution_count": 35,
   "metadata": {},
   "outputs": [
    {
     "data": {
      "text/plain": [
       "matrix([[1, 2, 3, 4],\n",
       "        [5, 6, 7, 8]])"
      ]
     },
     "execution_count": 35,
     "metadata": {},
     "output_type": "execute_result"
    }
   ],
   "source": [
    "arr1=np.array([[1,2,3,4],\n",
    "                 [5,6,7,8]])\n",
    "mat=np.matrix(arr1)\n",
    "mat"
   ]
  },
  {
   "cell_type": "code",
   "execution_count": 36,
   "metadata": {},
   "outputs": [
    {
     "name": "stdout",
     "output_type": "stream",
     "text": [
      "[[1 2 3]\n",
      " [5 7 5]\n",
      " [4 3 9]]\n",
      "\n",
      "\n",
      "[[1 0 8]\n",
      " [1 3 0]\n",
      " [0 2 4]]\n"
     ]
    }
   ],
   "source": [
    "mat2=np.matrix('1 2 3 ; 5 7 5 ; 4 3 9')\n",
    "mat3=np.matrix('1 0 8 ; 1 3 0 ; 0 2 4')\n",
    "print(mat2)\n",
    "print(\"\\n\")\n",
    "print(mat3)"
   ]
  },
  {
   "cell_type": "code",
   "execution_count": 37,
   "metadata": {},
   "outputs": [
    {
     "data": {
      "text/plain": [
       "array([[1., 0., 0., 0., 0.],\n",
       "       [0., 1., 0., 0., 0.],\n",
       "       [0., 0., 1., 0., 0.],\n",
       "       [0., 0., 0., 1., 0.],\n",
       "       [0., 0., 0., 0., 1.]])"
      ]
     },
     "execution_count": 37,
     "metadata": {},
     "output_type": "execute_result"
    }
   ],
   "source": [
    "identity1=np.identity(5)\n",
    "identity1"
   ]
  },
  {
   "cell_type": "code",
   "execution_count": null,
   "metadata": {},
   "outputs": [],
   "source": []
  },
  {
   "cell_type": "code",
   "execution_count": 38,
   "metadata": {},
   "outputs": [
    {
     "name": "stdout",
     "output_type": "stream",
     "text": [
      "[[1 7 9]]\n"
     ]
    }
   ],
   "source": [
    "\n",
    "print(mat2.diagonal())"
   ]
  },
  {
   "cell_type": "code",
   "execution_count": 39,
   "metadata": {},
   "outputs": [
    {
     "data": {
      "text/plain": [
       "matrix([[ 2,  2, 11],\n",
       "        [ 6, 10,  5],\n",
       "        [ 4,  5, 13]])"
      ]
     },
     "execution_count": 39,
     "metadata": {},
     "output_type": "execute_result"
    }
   ],
   "source": [
    "mat4=mat2+mat3\n",
    "mat4"
   ]
  },
  {
   "cell_type": "code",
   "execution_count": 40,
   "metadata": {},
   "outputs": [
    {
     "data": {
      "text/plain": [
       "matrix([[ 3, 12, 20],\n",
       "        [12, 31, 60],\n",
       "        [ 7, 27, 68]])"
      ]
     },
     "execution_count": 40,
     "metadata": {},
     "output_type": "execute_result"
    }
   ],
   "source": [
    "mat4=mat2*mat3\n",
    "mat4"
   ]
  },
  {
   "cell_type": "markdown",
   "metadata": {},
   "source": [
    "## Conditional array and indexing"
   ]
  },
  {
   "cell_type": "code",
   "execution_count": 41,
   "metadata": {},
   "outputs": [],
   "source": [
    "arr1=np.array([\n",
    "                [1,2,3],\n",
    "                [1,2,3],\n",
    "                [1,2,3]\n",
    "              ])"
   ]
  },
  {
   "cell_type": "code",
   "execution_count": 42,
   "metadata": {},
   "outputs": [
    {
     "data": {
      "text/plain": [
       "(3, 3)"
      ]
     },
     "execution_count": 42,
     "metadata": {},
     "output_type": "execute_result"
    }
   ],
   "source": [
    "arr1.shape"
   ]
  },
  {
   "cell_type": "code",
   "execution_count": 43,
   "metadata": {},
   "outputs": [
    {
     "name": "stdout",
     "output_type": "stream",
     "text": [
      "[[False False  True]\n",
      " [False False  True]\n",
      " [False False  True]]\n"
     ]
    }
   ],
   "source": [
    "arr_bool=arr1>2\n",
    "\n",
    "print(arr_bool)"
   ]
  },
  {
   "cell_type": "code",
   "execution_count": 44,
   "metadata": {},
   "outputs": [
    {
     "data": {
      "text/plain": [
       "array([3, 3, 3])"
      ]
     },
     "execution_count": 44,
     "metadata": {},
     "output_type": "execute_result"
    }
   ],
   "source": [
    "arr1[arr1>2]"
   ]
  },
  {
   "cell_type": "code",
   "execution_count": 45,
   "metadata": {},
   "outputs": [
    {
     "name": "stdout",
     "output_type": "stream",
     "text": [
      "[[88 20 13]\n",
      " [88 22  3]\n",
      " [ 7  3  9]]\n"
     ]
    }
   ],
   "source": [
    "slice_arr=np.array([\n",
    "                [1,20,13],\n",
    "                [12,22,3],\n",
    "                [7,3,9]\n",
    "              ])\n",
    "\n",
    "slice_arr[0:2,0:1]=88\n",
    "\n",
    "print(slice_arr)"
   ]
  },
  {
   "cell_type": "code",
   "execution_count": 46,
   "metadata": {},
   "outputs": [
    {
     "name": "stdout",
     "output_type": "stream",
     "text": [
      "34\n",
      "[-45  34  -2]\n",
      "[67 89 34]\n",
      "\n",
      "\n",
      "slicing\n",
      "[[ 6]\n",
      " [61]]\n"
     ]
    }
   ],
   "source": [
    "###class_29_sep_2019_numpy_codes\n",
    "\n",
    "# indexing and fancy indexing\n",
    "arr = np.array([12,-45,67,89,34,-2,-2,6,-7,8])\n",
    "print(arr[4]) # indexing\n",
    "\n",
    "# fancy indexing\n",
    "ind = [1, 4, 6]\n",
    "print(arr[ ind ])\n",
    "\n",
    "# slicing\n",
    "print(arr [2:5 ])\n",
    "# slicing in two diminesion\n",
    "print(\"\\n\\nslicing\")\n",
    "a = np.array([[1,2,3],[4,5,6], [41,51,61], [42,52,62]])\n",
    "print(a[1:3, 2:3, ])"
   ]
  },
  {
   "cell_type": "code",
   "execution_count": 47,
   "metadata": {},
   "outputs": [
    {
     "name": "stdout",
     "output_type": "stream",
     "text": [
      "[[False False False]\n",
      " [ True False  True]]\n",
      "[[ 8 10 12]\n",
      " [ 8 16 12]]\n",
      "[[ True  True  True]\n",
      " [ True False  True]]\n",
      "[ 8 10 12  8 12]\n",
      "[ 8 10 12  8 12]\n"
     ]
    }
   ],
   "source": [
    "###class_29_sep_2019_numpy_codes\n",
    "\n",
    "a = np.array([[1,2,3],[4,5,6]])\n",
    "b = np.array([[7,8,9],[4,11,6]])\n",
    "\n",
    "# comparing array will return boolean array\n",
    "# we can use boolean array for filtering data\n",
    "boolean_e = (a == b)\n",
    "print(boolean_e)\n",
    "\n",
    "c = a + b\n",
    "print(c)\n",
    "\n",
    "boolean_e = c < 15\n",
    "print(boolean_e)\n",
    "\n",
    "# filtering data using boolean array\n",
    "cFilter  = c[boolean_e]\n",
    "print(cFilter)\n",
    "\n",
    "# direct filter instead of boolean array\n",
    "cFilter  = c[c < 15]\n",
    "print(cFilter)"
   ]
  },
  {
   "cell_type": "code",
   "execution_count": 48,
   "metadata": {},
   "outputs": [
    {
     "name": "stdout",
     "output_type": "stream",
     "text": [
      "[[ 0  0 33]\n",
      " [ 0  0 33]\n",
      " [ 0  0 33]]\n",
      "[['False' 'False' 'True']\n",
      " ['False' 'False' 'True']\n",
      " ['False' 'False' 'True']]\n"
     ]
    }
   ],
   "source": [
    "arr1=np.array([\n",
    "                [1,2,3],\n",
    "                [1,2,3],\n",
    "                [1,2,3]\n",
    "              ])\n",
    "\n",
    "arr11=np.where(arr1>2,33,0)\n",
    "print(arr11)\n",
    "\n",
    "arr11=np.where(arr1>2,\"True\",\"False\")\n",
    "print(arr11)"
   ]
  },
  {
   "cell_type": "markdown",
   "metadata": {},
   "source": [
    "# Book Examples"
   ]
  },
  {
   "cell_type": "code",
   "execution_count": 49,
   "metadata": {},
   "outputs": [
    {
     "name": "stdout",
     "output_type": "stream",
     "text": [
      "['ahsan' 'rao' 'ali' 'rao' 'rana' 'osama' 'ali']\n",
      "[[ 1.05385303 -0.98451975 -0.39373385]\n",
      " [-1.31156467  1.25031133 -1.14379067]\n",
      " [-0.72647663 -0.70413503 -0.73532468]\n",
      " [ 1.74966126  0.47971354 -1.09001855]\n",
      " [-0.62751947  2.37929909  0.06512132]\n",
      " [-1.09273323 -1.32969825 -1.27432341]\n",
      " [ 0.67766     0.68859661 -1.17331839]]\n"
     ]
    }
   ],
   "source": [
    "import numpy as np\n",
    "\n",
    "names=np.array(['ahsan','rao','ali','rao','rana','osama','ali'])\n",
    "\n",
    "data=np.random.randn(7, 3)\n",
    "\n",
    "print(names)\n",
    "print(data)"
   ]
  },
  {
   "cell_type": "code",
   "execution_count": 50,
   "metadata": {},
   "outputs": [
    {
     "name": "stdout",
     "output_type": "stream",
     "text": [
      "['rao' 'rao']\n",
      "[False  True False  True False False False]\n",
      "[ True  True False  True False False False]\n"
     ]
    }
   ],
   "source": [
    "bool_name=names[names=='rao']\n",
    "\n",
    "print(bool_name)\n",
    "\n",
    "\n",
    "bool_name=(names=='rao')\n",
    "bool_name1 = (names == 'rao') | (names == 'ahsan')\n",
    "print(bool_name)\n",
    "print(bool_name1)"
   ]
  },
  {
   "cell_type": "code",
   "execution_count": 51,
   "metadata": {},
   "outputs": [
    {
     "data": {
      "text/plain": [
       "array([[-1.31156467,  1.25031133, -1.14379067],\n",
       "       [ 1.74966126,  0.47971354, -1.09001855]])"
      ]
     },
     "execution_count": 51,
     "metadata": {},
     "output_type": "execute_result"
    }
   ],
   "source": [
    "data[bool_name]"
   ]
  },
  {
   "cell_type": "code",
   "execution_count": 52,
   "metadata": {},
   "outputs": [
    {
     "data": {
      "text/plain": [
       "array([[ 1.05385303, -0.98451975, -0.39373385],\n",
       "       [-0.72647663, -0.70413503, -0.73532468],\n",
       "       [-0.62751947,  2.37929909,  0.06512132],\n",
       "       [-1.09273323, -1.32969825, -1.27432341],\n",
       "       [ 0.67766   ,  0.68859661, -1.17331839]])"
      ]
     },
     "execution_count": 52,
     "metadata": {},
     "output_type": "execute_result"
    }
   ],
   "source": [
    "data[~bool_name] #~ symbol used as not or !"
   ]
  },
  {
   "cell_type": "code",
   "execution_count": 53,
   "metadata": {},
   "outputs": [
    {
     "data": {
      "text/plain": [
       "array([[ 1.25031133, -1.14379067],\n",
       "       [ 0.47971354, -1.09001855]])"
      ]
     },
     "execution_count": 53,
     "metadata": {},
     "output_type": "execute_result"
    }
   ],
   "source": [
    "data[names == 'rao', 1:]"
   ]
  },
  {
   "cell_type": "code",
   "execution_count": 54,
   "metadata": {},
   "outputs": [
    {
     "name": "stdout",
     "output_type": "stream",
     "text": [
      "Before\n",
      " [[ 1.05385303 -0.98451975 -0.39373385]\n",
      " [-1.31156467  1.25031133 -1.14379067]\n",
      " [-0.72647663 -0.70413503 -0.73532468]\n",
      " [ 1.74966126  0.47971354 -1.09001855]\n",
      " [-0.62751947  2.37929909  0.06512132]\n",
      " [-1.09273323 -1.32969825 -1.27432341]\n",
      " [ 0.67766     0.68859661 -1.17331839]]\n",
      "\n",
      "after\n",
      " [[1.05385303 8.         8.        ]\n",
      " [8.         1.25031133 8.        ]\n",
      " [8.         8.         8.        ]\n",
      " [1.74966126 0.47971354 8.        ]\n",
      " [8.         2.37929909 0.06512132]\n",
      " [8.         8.         8.        ]\n",
      " [0.67766    0.68859661 8.        ]]\n"
     ]
    }
   ],
   "source": [
    "print(\"Before\\n\",data)\n",
    "\n",
    "data[data < 0] = 8\n",
    "print(\"\\nafter\\n\",data)"
   ]
  },
  {
   "cell_type": "code",
   "execution_count": 58,
   "metadata": {},
   "outputs": [
    {
     "name": "stdout",
     "output_type": "stream",
     "text": [
      "[1.1 2.2 1.3 1.4 2.5]\n"
     ]
    }
   ],
   "source": [
    "xarr = np.array([1.1, 1.2, 1.3, 1.4, 1.5])\n",
    "yarr = np.array([2.1, 2.2, 2.3, 2.4, 2.5])\n",
    "cond = np.array([True, False, True, True, False])\n",
    "\n",
    "result = np.where(cond, xarr, yarr)\n",
    "\n",
    "print(result)"
   ]
  },
  {
   "cell_type": "code",
   "execution_count": 60,
   "metadata": {},
   "outputs": [
    {
     "name": "stdout",
     "output_type": "stream",
     "text": [
      "[2.1 2.2 2.3 2.4 2.5]\n"
     ]
    }
   ],
   "source": [
    "xarr = np.array([1.1, 2.2, 1.3, 2.4, 1.5])\n",
    "yarr = np.array([2.1, 1.2, 2.3, 1.4, 2.5])\n",
    "\n",
    "result = np.where(xarr>yarr, xarr, yarr)\n",
    "\n",
    "print(result)"
   ]
  },
  {
   "cell_type": "code",
   "execution_count": 62,
   "metadata": {},
   "outputs": [
    {
     "name": "stdout",
     "output_type": "stream",
     "text": [
      "[1.1 2.2 1.3 2.4 1.5]\n"
     ]
    }
   ],
   "source": [
    "xarr = np.array([1.1, 2.2, 1.3, 2.4, 1.5])\n",
    "yarr = np.array([2.1, 1.2, 2.3, 1.4, 2.5])\n",
    "\n",
    "result = np.where(xarr>0, xarr, yarr)\n",
    "\n",
    "print(result)"
   ]
  },
  {
   "cell_type": "code",
   "execution_count": 63,
   "metadata": {},
   "outputs": [
    {
     "data": {
      "text/plain": [
       "array([-1.1,  2. ,  2. ,  2. , -1.5])"
      ]
     },
     "execution_count": 63,
     "metadata": {},
     "output_type": "execute_result"
    }
   ],
   "source": [
    "xarr = np.array([-1.1, 2.2, 1.3, 2.4, -1.5])\n",
    "np.where(xarr > 0, 2, xarr)"
   ]
  },
  {
   "cell_type": "code",
   "execution_count": 65,
   "metadata": {},
   "outputs": [],
   "source": [
    "arr = np.arange(10)\n",
    "np.save('some_array', arr)"
   ]
  },
  {
   "cell_type": "code",
   "execution_count": 67,
   "metadata": {},
   "outputs": [
    {
     "data": {
      "text/plain": [
       "array([0, 1, 2, 3, 4, 5, 6, 7, 8, 9])"
      ]
     },
     "execution_count": 67,
     "metadata": {},
     "output_type": "execute_result"
    }
   ],
   "source": [
    "np.load('some_array.npy')"
   ]
  },
  {
   "cell_type": "code",
   "execution_count": 70,
   "metadata": {},
   "outputs": [],
   "source": [
    "xarr = np.array([1.1, 2.2, 1.3, 2.4, 1.5])\n",
    "yarr = np.array([2.1, 1.2, 2.3, 1.4, 2.5])\n",
    "\n",
    "np.savez('array_archive.npz', a=xarr, b=yarr)"
   ]
  },
  {
   "cell_type": "code",
   "execution_count": 72,
   "metadata": {},
   "outputs": [
    {
     "name": "stdout",
     "output_type": "stream",
     "text": [
      "[2.1 1.2 2.3 1.4 2.5]\n",
      "[1.1 2.2 1.3 2.4 1.5]\n"
     ]
    }
   ],
   "source": [
    "arch = np.load('array_archive.npz')\n",
    "print(arch['b'])\n",
    "print(arch['a'])"
   ]
  },
  {
   "cell_type": "code",
   "execution_count": 75,
   "metadata": {},
   "outputs": [],
   "source": [
    "xarr = np.array([1.1, 2.2, 1.3, 2.4, 1.5])\n",
    "yarr = np.array([2.1, 1.2, 2.3, 1.4, 2.5])\n",
    "\n",
    "np.savez_compressed('array_archive1.npz', a=xarr, b=yarr)"
   ]
  },
  {
   "cell_type": "code",
   "execution_count": 76,
   "metadata": {},
   "outputs": [
    {
     "name": "stdout",
     "output_type": "stream",
     "text": [
      "[2.1 1.2 2.3 1.4 2.5]\n",
      "[1.1 2.2 1.3 2.4 1.5]\n"
     ]
    }
   ],
   "source": [
    "arch = np.load('array_archive1.npz')\n",
    "print(arch['b'])\n",
    "print(arch['a'])"
   ]
  },
  {
   "cell_type": "code",
   "execution_count": null,
   "metadata": {},
   "outputs": [],
   "source": []
  },
  {
   "cell_type": "markdown",
   "metadata": {},
   "source": [
    "# Class Tasks"
   ]
  },
  {
   "cell_type": "code",
   "execution_count": 2,
   "metadata": {},
   "outputs": [
    {
     "name": "stdout",
     "output_type": "stream",
     "text": [
      "<class 'numpy.ndarray'>\n",
      "['NumPy,' 'short' 'for' 'Numerical' 'Python,' 'is' 'one' 'of' 'the' 'most'] \n",
      " 117\n"
     ]
    }
   ],
   "source": [
    "###class_29_sep_2019_numpy_codes\n",
    "\n",
    "import numpy as np\n",
    "text = \"\"\"NumPy, short for Numerical Python, is one of the most important foundational pack‐\n",
    "ages for numerical computing in Python. Most computational packages providing\n",
    "scientific functionality use NumPy’s array objects as the lingua franca for data\n",
    "exchange.\n",
    "Here are some of the things you’ll find in NumPy:\n",
    "• ndarray, an efficient multidimensional array providing fast array-oriented arith‐\n",
    "metic operations and flexible broadcasting capabilities.\n",
    "• Mathematical functions for fast operations on entire arrays of data without hav‐\n",
    "ing to write loops.\n",
    "• Tools for reading/writing array data to disk and working with memory-mapped\n",
    "files.\n",
    "• Linear algebra, random number generation, and Fourier transform capabilities.\n",
    "• A C API for connecting NumPy with libraries written in C, C++, or FORTRAN.\"\"\"\n",
    "nptext = np.array(text.split())\n",
    "print(type(nptext))\n",
    "print(nptext[:10], \"\\n\", len(nptext))"
   ]
  },
  {
   "cell_type": "code",
   "execution_count": 3,
   "metadata": {},
   "outputs": [
    {
     "name": "stdout",
     "output_type": "stream",
     "text": [
      "array [[[111 112 113]\n",
      "  [121 122 123]]\n",
      "\n",
      " [[211 212 213]\n",
      "  [221 222 224]]\n",
      "\n",
      " [[311 312 313]\n",
      "  [321 322 323]]\n",
      "\n",
      " [[411 412 413]\n",
      "  [421 422 423]]]\n",
      "size 24\n",
      "shape (4, 2, 3)\n",
      "dimensions 3\n",
      "[array([[111, 112, 113],\n",
      "       [121, 122, 123]]), array([[211, 212, 213],\n",
      "       [221, 222, 224]]), array([[311, 312, 313],\n",
      "       [321, 322, 323]]), array([[411, 412, 413],\n",
      "       [421, 422, 423]])]\n",
      "<class 'list'>\n"
     ]
    }
   ],
   "source": [
    "###class_29_sep_2019_numpy_codes\n",
    "\n",
    "\n",
    "arr = np.arange(10)\n",
    "\n",
    "arr = np.arange(5,10)\n",
    "arr = np.array([-1, -2, 1 ,2, 4, -8], dtype=\"float\")\n",
    "#print(arr[:10])\n",
    "x = arr.shape\n",
    "#print(np.abs(arr) \n",
    "#rint(arr.shape, arr.dtype, arr.ndim)\n",
    "d3 = np.array([ [\n",
    "                  [111, 112, 113] , \n",
    "                  [121, 122, 123] \n",
    "                ],\n",
    "                [ \n",
    "                  [211, 212, 213] , \n",
    "                  [221, 222, 224] \n",
    "                ],\n",
    "                [\n",
    "                  [311, 312, 313], \n",
    "                  [321, 322, 323]\n",
    "                ],\n",
    "                [\n",
    "                  [411, 412, 413],\n",
    "                  [421, 422, 423] \n",
    "                ]\n",
    "              ])\n",
    "            \n",
    "             \n",
    "print(\"array\", d3)\n",
    "print(\"size\", d3.size)\n",
    "print(\"shape\", d3.shape)\n",
    "print(\"dimensions\", d3.ndim)\n",
    "x = list(d3)\n",
    "print(x)\n",
    "print(type(x))"
   ]
  },
  {
   "cell_type": "code",
   "execution_count": 4,
   "metadata": {},
   "outputs": [
    {
     "name": "stdout",
     "output_type": "stream",
     "text": [
      "Before absolute\n",
      " [[ 12 -45  67  89  34]\n",
      " [ -2  -2   6  -7   8]]\n",
      "\n",
      "After absolute\n",
      " [[12 45 67 89 34]\n",
      " [ 2  2  6  7  8]]\n"
     ]
    }
   ],
   "source": [
    "arr = np.array([12,-45,67,89,34,-2,-2,6,-7,8])\n",
    "arr = arr.reshape([2,5 ])\n",
    "print(\"Before absolute\\n\",arr)\n",
    "#print(arr[[4,3,0,6]])\n",
    "print(\"\\nAfter absolute\\n\",np.abs(arr))"
   ]
  },
  {
   "cell_type": "code",
   "execution_count": 5,
   "metadata": {},
   "outputs": [
    {
     "name": "stdout",
     "output_type": "stream",
     "text": [
      "[ 10  20  30  40  50  60  70  80  90 100]\n",
      "[array([10, 20]), array([30, 40, 50]), array([60, 70]), array([ 80,  90, 100])]\n"
     ]
    }
   ],
   "source": [
    "na = np.array ([ [1,2,3,4], [1,2,3,4] ])\n",
    "na2 = np.array(   [[2,3,4,5],  [2,3,4,5] ])\n",
    "na4 = np.concatenate([na2,na], axis =1)\n",
    "na   = np.array( [10,20,30,40,50,60,70,80,90,100] )\n",
    "print(na)\n",
    "print(np.split(na, [2, 5, 7]) )"
   ]
  },
  {
   "cell_type": "code",
   "execution_count": 6,
   "metadata": {},
   "outputs": [
    {
     "name": "stdout",
     "output_type": "stream",
     "text": [
      "10\n",
      "['Here' 'are' 'some' 'of' 'the' 'find' 'in']\n"
     ]
    }
   ],
   "source": [
    "import numpy as np\n",
    "text = \"Here are some of the things you’ll find in NumPy:\"\n",
    "l = text.split(\" \")\n",
    "arr = np.array(text.split(\" \"))\n",
    "print(len(arr))\n",
    "#prn = print\n",
    "#rn(\"testing\")\n",
    "#print(arr)\n",
    "lnth = np.vectorize(len)\n",
    "print(arr[lnth(arr)<5])\n",
    "#print(arr[ np.vectorize(len)(arr) <5]) "
   ]
  },
  {
   "cell_type": "code",
   "execution_count": null,
   "metadata": {},
   "outputs": [],
   "source": []
  }
 ],
 "metadata": {
  "kernelspec": {
   "display_name": "Python 3",
   "language": "python",
   "name": "python3"
  },
  "language_info": {
   "codemirror_mode": {
    "name": "ipython",
    "version": 3
   },
   "file_extension": ".py",
   "mimetype": "text/x-python",
   "name": "python",
   "nbconvert_exporter": "python",
   "pygments_lexer": "ipython3",
   "version": "3.7.3"
  }
 },
 "nbformat": 4,
 "nbformat_minor": 2
}
