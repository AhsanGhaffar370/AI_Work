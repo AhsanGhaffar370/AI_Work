{
 "cells": [
  {
   "cell_type": "code",
   "execution_count": 28,
   "metadata": {},
   "outputs": [
    {
     "name": "stdout",
     "output_type": "stream",
     "text": [
      "Image1\n",
      "Shape : (20, 200, 200, 3)\n",
      "Image2\n",
      "Shape : (20, 200, 200, 3)\n",
      "Image3\n",
      "Shape : (20, 200, 200, 3)\n",
      "Image4\n",
      "Shape : (20, 200, 200, 3)\n",
      "Image5\n",
      "Shape : (20, 200, 200, 3)\n",
      "Image6\n",
      "Shape : (20, 200, 200, 3)\n",
      "Image7\n",
      "Shape : (20, 200, 200, 3)\n",
      "Image8\n",
      "Shape : (20, 200, 200, 3)\n",
      "Image9\n",
      "Shape : (20, 200, 200, 3)\n",
      "Image10\n",
      "Shape : (20, 200, 200, 3)\n",
      "Image11\n",
      "Shape : (20, 200, 200, 3)\n",
      "Image12\n",
      "Shape : (20, 200, 200, 3)\n",
      "Image13\n",
      "Shape : (20, 200, 200, 3)\n",
      "Image14\n",
      "Shape : (20, 200, 200, 3)\n",
      "Image15\n",
      "Shape : (20, 200, 200, 3)\n",
      "Image16\n",
      "Shape : (20, 200, 200, 3)\n",
      "Image17\n",
      "Shape : (20, 200, 200, 3)\n",
      "Image18\n",
      "Shape : (20, 200, 200, 3)\n",
      "Image19\n",
      "Shape : (20, 200, 200, 3)\n",
      "Image20\n",
      "Shape : (20, 200, 200, 3)\n"
     ]
    }
   ],
   "source": [
    "import numpy as np\n",
    "import os\n",
    "import PIL as Image\n",
    "import PIL.Image\n",
    "\n",
    "def resize(files, Dir):  \n",
    "    counter= 0\n",
    "   \n",
    "    for i in files:\n",
    "        dir_list = os.listdir(\".\\photos\")\n",
    "        num_files= len(dir_list)\n",
    "        arr = np.zeros([num_files,200,200,3])\n",
    "        \n",
    "        print(\"Image\"+str(counter+1))\n",
    "        img = PIL.Image.open(Dir+\"//\"+i)\n",
    "        n_img = img.resize((200,200))\n",
    "        arr[counter] = n_img\n",
    "        print(\"Shape :\",arr.shape)\n",
    "        counter+=1\n",
    "         \n",
    "for Dir, List, files in os.walk(\"./photos\"):\n",
    "    resize(files, Dir)"
   ]
  },
  {
   "cell_type": "code",
   "execution_count": 29,
   "metadata": {},
   "outputs": [
    {
     "data": {
      "text/plain": [
       "array([[[  3,   2,  20],\n",
       "        [  3,   2,  20],\n",
       "        [  3,   2,  20],\n",
       "        ...,\n",
       "        [  0,   0,   0],\n",
       "        [  0,   0,   0],\n",
       "        [  0,   0,   0]],\n",
       "\n",
       "       [[  3,   2,  20],\n",
       "        [  3,   2,  20],\n",
       "        [  3,   2,  20],\n",
       "        ...,\n",
       "        [  0,   0,   0],\n",
       "        [  0,   0,   0],\n",
       "        [  0,   0,   0]],\n",
       "\n",
       "       [[  3,   2,  20],\n",
       "        [  3,   2,  20],\n",
       "        [  3,   2,  20],\n",
       "        ...,\n",
       "        [  0,   0,   0],\n",
       "        [  0,   0,   0],\n",
       "        [  0,   0,   0]],\n",
       "\n",
       "       ...,\n",
       "\n",
       "       [[  3,   2,  20],\n",
       "        [  3,   2,  20],\n",
       "        [  3,   2,  20],\n",
       "        ...,\n",
       "        [112, 105, 147],\n",
       "        [112, 105, 147],\n",
       "        [112, 105, 147]],\n",
       "\n",
       "       [[  3,   2,  20],\n",
       "        [  3,   2,  20],\n",
       "        [  3,   2,  20],\n",
       "        ...,\n",
       "        [112, 105, 147],\n",
       "        [112, 105, 147],\n",
       "        [112, 105, 147]],\n",
       "\n",
       "       [[  3,   2,  20],\n",
       "        [  3,   2,  20],\n",
       "        [  3,   2,  20],\n",
       "        ...,\n",
       "        [112, 105, 147],\n",
       "        [112, 105, 147],\n",
       "        [112, 105, 147]]], dtype=uint8)"
      ]
     },
     "execution_count": 29,
     "metadata": {},
     "output_type": "execute_result"
    }
   ],
   "source": [
    "arr"
   ]
  },
  {
   "cell_type": "code",
   "execution_count": null,
   "metadata": {},
   "outputs": [],
   "source": []
  }
 ],
 "metadata": {
  "kernelspec": {
   "display_name": "Python 3",
   "language": "python",
   "name": "python3"
  },
  "language_info": {
   "codemirror_mode": {
    "name": "ipython",
    "version": 3
   },
   "file_extension": ".py",
   "mimetype": "text/x-python",
   "name": "python",
   "nbconvert_exporter": "python",
   "pygments_lexer": "ipython3",
   "version": "3.7.3"
  }
 },
 "nbformat": 4,
 "nbformat_minor": 2
}
