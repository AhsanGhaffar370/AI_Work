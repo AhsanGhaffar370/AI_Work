{
 "cells": [
  {
   "cell_type": "code",
   "execution_count": 1,
   "metadata": {},
   "outputs": [
    {
     "ename": "IndentationError",
     "evalue": "expected an indented block (<ipython-input-1-a55fa571bfab>, line 6)",
     "output_type": "error",
     "traceback": [
      "\u001b[1;36m  File \u001b[1;32m\"<ipython-input-1-a55fa571bfab>\"\u001b[1;36m, line \u001b[1;32m6\u001b[0m\n\u001b[1;33m    print('Found directory: %s' % 'images')\u001b[0m\n\u001b[1;37m        ^\u001b[0m\n\u001b[1;31mIndentationError\u001b[0m\u001b[1;31m:\u001b[0m expected an indented block\n"
     ]
    }
   ],
   "source": [
    "# Import the os module, for the os.walk function\n",
    "import os\n",
    "# Set the directory you want to start from\n",
    "rootDir = '.'\n",
    "for dirName, subdirList, fileList in os.walk(rootDir):\n",
    "print('Found directory: %s' % 'images')\n",
    "for fname in fileList:\n",
    "print('\\t%s' % fname)\n",
    "print('Found directory: %s' % 'images')to for fname in fileList:e name (with input) as input and load it and resize it to 200, 200, 3  and return a numpy array"
   ]
  },
  {
   "cell_type": "code",
   "execution_count": null,
   "metadata": {},
   "outputs": [],
   "source": [
    "import numpy as np\n",
    "import os, os.path\n",
    "\n",
    "# dir =\".\" . means current directory\n",
    "\n",
    "onlyfiles = next(os.walk(dir))[2]\n",
    "\n",
    "le=len(onlyfiles)\n",
    "print(le)"
   ]
  },
  {
   "cell_type": "code",
   "execution_count": null,
   "metadata": {},
   "outputs": [],
   "source": [
    "import os\n",
    "\n",
    "for dirpath, dirnames, filenames in os.walk('C:\\Users\\Ahsan Ghaffar\\Desktop\\Git_AI_Work\\numpy\\images'):\n",
    "    print (dirpath)\n",
    "    print (dirnames)\n",
    "    print (filenames)"
   ]
  },
  {
   "cell_type": "markdown",
   "metadata": {},
   "source": [
    "# PANDAS"
   ]
  },
  {
   "cell_type": "code",
   "execution_count": 2,
   "metadata": {},
   "outputs": [
    {
     "name": "stdout",
     "output_type": "stream",
     "text": [
      "0    100\n",
      "1    200\n",
      "2    203\n",
      "dtype: int64\n",
      "[100 200 203]\n",
      "RangeIndex(start=0, stop=3, step=1)\n"
     ]
    }
   ],
   "source": [
    "import pandas as pd\n",
    "sales= pd.Series([100,200,203])\n",
    "print(sales)\n",
    "print(sales.values)\n",
    "print(sales.index)"
   ]
  },
  {
   "cell_type": "code",
   "execution_count": 4,
   "metadata": {},
   "outputs": [
    {
     "name": "stdout",
     "output_type": "stream",
     "text": [
      "jan    100\n",
      "feb    200\n",
      "mar    203\n",
      "Name: 4 month sale, dtype: int64\n",
      "[100 200 203]\n",
      "Index(['jan', 'feb', 'mar'], dtype='object')\n"
     ]
    }
   ],
   "source": [
    "monthName= [\"jan\",\"feb\",\"mar\"]\n",
    "sales= pd.Series([100,200,203],\n",
    "                 index=monthName,\n",
    "                 name=\"4 month sale\"\n",
    "                )\n",
    "print(sales)\n",
    "print(sales.values)\n",
    "print(sales.index)"
   ]
  },
  {
   "cell_type": "code",
   "execution_count": 8,
   "metadata": {},
   "outputs": [
    {
     "name": "stdout",
     "output_type": "stream",
     "text": [
      "mon    20\n",
      "tue    30\n",
      "wed    20\n",
      "thu    25\n",
      "fri    30\n",
      "sat    40\n",
      "sun     0\n",
      "dtype: int64\n"
     ]
    }
   ],
   "source": [
    "weekName= [\"mon\",\"tue\",\"wed\",\"thu\",\"fri\",\"sat\",\"sun\"]\n",
    "sales= pd.Series([20,30,20,25,30,40,0],\n",
    "                 index=weekName\n",
    "                )\n",
    "print(sales)"
   ]
  },
  {
   "cell_type": "code",
   "execution_count": 13,
   "metadata": {},
   "outputs": [
    {
     "name": "stdout",
     "output_type": "stream",
     "text": [
      "30\n",
      "40\n",
      "30\n"
     ]
    }
   ],
   "source": [
    "print(sales[1])\n",
    "print(sales[5])\n",
    "print(sales[\"fri\"])"
   ]
  },
  {
   "cell_type": "code",
   "execution_count": 39,
   "metadata": {},
   "outputs": [],
   "source": [
    "import calendar\n",
    "def cal(month_idx):\n",
    "    return calendar.month_name[month_idx]"
   ]
  },
  {
   "cell_type": "code",
   "execution_count": 40,
   "metadata": {},
   "outputs": [
    {
     "name": "stdout",
     "output_type": "stream",
     "text": [
      "January\n"
     ]
    }
   ],
   "source": [
    "print(cal(1))"
   ]
  },
  {
   "cell_type": "code",
   "execution_count": 59,
   "metadata": {},
   "outputs": [
    {
     "name": "stdout",
     "output_type": "stream",
     "text": [
      "Jan    51\n",
      "Feb    24\n",
      "Mar    81\n",
      "Apr    53\n",
      "May    40\n",
      "Jun    92\n",
      "Jul    20\n",
      "Aug    41\n",
      "Sep    75\n",
      "Oct    96\n",
      "Nov    31\n",
      "Dec    63\n",
      "dtype: int32\n"
     ]
    }
   ],
   "source": [
    "import random\n",
    "import numpy as np\n",
    "val = np.random.randint(1,100,size=[12])\n",
    "months=[]\n",
    "for i in range(1,13):\n",
    "    month=calendar.month_abbr[i] #abbr retur short form of month jannuary as jan\n",
    "    months.append(month)\n",
    "\n",
    "\n",
    "ss=pd.Series(val,index=months)\n",
    "\n",
    "print(ss)"
   ]
  },
  {
   "cell_type": "code",
   "execution_count": null,
   "metadata": {},
   "outputs": [],
   "source": [
    "weekName= [\"sindh\":200,\"sindh\":200,}\n",
    "sales= pd.Series([20,30,20,25,30,40,0],\n",
    "                 index=weekName\n",
    "                )\n",
    "print(sales)"
   ]
  }
 ],
 "metadata": {
  "kernelspec": {
   "display_name": "Python 3",
   "language": "python",
   "name": "python3"
  },
  "language_info": {
   "codemirror_mode": {
    "name": "ipython",
    "version": 3
   },
   "file_extension": ".py",
   "mimetype": "text/x-python",
   "name": "python",
   "nbconvert_exporter": "python",
   "pygments_lexer": "ipython3",
   "version": "3.7.3"
  }
 },
 "nbformat": 4,
 "nbformat_minor": 2
}
