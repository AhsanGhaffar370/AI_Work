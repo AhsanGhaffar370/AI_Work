{
 "cells": [
  {
   "cell_type": "code",
   "execution_count": 3,
   "metadata": {},
   "outputs": [
    {
     "ename": "SyntaxError",
     "evalue": "invalid syntax (<ipython-input-3-461fd465454e>, line 9)",
     "output_type": "error",
     "traceback": [
      "\u001b[1;36m  File \u001b[1;32m\"<ipython-input-3-461fd465454e>\"\u001b[1;36m, line \u001b[1;32m9\u001b[0m\n\u001b[1;33m    print('Found directory: %s' , 'images')to for fname in fileList:e name (with input) as input and load it and resize it to 200, 200, 3  and return a numpy array\u001b[0m\n\u001b[1;37m                                            ^\u001b[0m\n\u001b[1;31mSyntaxError\u001b[0m\u001b[1;31m:\u001b[0m invalid syntax\n"
     ]
    }
   ],
   "source": [
    "# Import the os module, for the os.walk function\n",
    "import os\n",
    "# Set the directory you want to start from\n",
    "rootDir = '.'\n",
    "for dirName, subdirList, fileList in os.walk(rootDir):\n",
    "    print('Found directory: ', dirName , 'images and  its sub_directories', subdirList , \"images\")\n",
    "for fname in fileList:\n",
    "    print('\\t', fname)\n",
    "    print('Found directory: %s' , 'images')\n",
    "    for fname in fileList:\n",
    "        e name (with input) as input and load it and resize it to 200, 200, 3  and return a numpy array"
   ]
  },
  {
   "cell_type": "code",
   "execution_count": 5,
   "metadata": {},
   "outputs": [
    {
     "name": "stdout",
     "output_type": "stream",
     "text": [
      "4\n"
     ]
    }
   ],
   "source": [
    "import numpy as np\n",
    "import os, os.path\n",
    "\n",
    "dir =\".\" #. means current directory\n",
    "\n",
    "onlyfiles = next(os.walk(dir))[2]\n",
    "\n",
    "le=len(onlyfiles)\n",
    "print(le)"
   ]
  },
  {
   "cell_type": "code",
   "execution_count": 7,
   "metadata": {},
   "outputs": [
    {
     "name": "stdout",
     "output_type": "stream",
     "text": [
      "images\n",
      "[]\n",
      "['book.png', 'books.jpg', 'download.png', 'jobs.png', 'jobs1.png', 'jobs2.png', 'profile2.png']\n"
     ]
    }
   ],
   "source": [
    "import os\n",
    "\n",
    "for dirpath, dirnames, filenames in os.walk('images'):\n",
    "    print (dirpath)\n",
    "    print (dirnames)\n",
    "    print (filenames)"
   ]
  }
 ],
 "metadata": {
  "kernelspec": {
   "display_name": "Python 3",
   "language": "python",
   "name": "python3"
  },
  "language_info": {
   "codemirror_mode": {
    "name": "ipython",
    "version": 3
   },
   "file_extension": ".py",
   "mimetype": "text/x-python",
   "name": "python",
   "nbconvert_exporter": "python",
   "pygments_lexer": "ipython3",
   "version": "3.7.3"
  }
 },
 "nbformat": 4,
 "nbformat_minor": 2
}
