{
 "cells": [
  {
   "cell_type": "code",
   "execution_count": null,
   "metadata": {},
   "outputs": [],
   "source": [
    "### Read in the data with Pandas\n",
    "import pandas as pd\n",
    "\n",
    "s = time.time()\n",
    "df = pd.read_csv(\"esea_master_dmg_demos.part1.csv\")\n",
    "e = time.time()\n",
    "print(\"Pandas Loading Time = {}\".format(e-s))\n",
    "\n",
    "### Read in the data with Modin\n",
    "import modin.pandas as pd\n",
    "\n",
    "s = time.time()\n",
    "df = pd.read_csv(\"esea_master_dmg_demos.part1.csv\")\n",
    "e = time.time()\n",
    "print(\"Modin Loading Time = {}\".format(e-s))"
   ]
  }
 ],
 "metadata": {
  "kernelspec": {
   "display_name": "Python 3",
   "language": "python",
   "name": "python3"
  },
  "language_info": {
   "codemirror_mode": {
    "name": "ipython",
    "version": 3
   },
   "file_extension": ".py",
   "mimetype": "text/x-python",
   "name": "python",
   "nbconvert_exporter": "python",
   "pygments_lexer": "ipython3",
   "version": "3.7.3"
  }
 },
 "nbformat": 4,
 "nbformat_minor": 2
}
