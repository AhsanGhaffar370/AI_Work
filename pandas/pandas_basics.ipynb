{
 "cells": [
  {
   "cell_type": "markdown",
   "metadata": {},
   "source": [
    "# Pandas \n",
    "### (we can apply all numpy functions on pandas dataframe to manipulate the data such as +,-,*,mean,count,unique )\n",
    "#### pd.Series(data, index, dtype, name)\n",
    "#### pd.index\n",
    "#### pd.values\n",
    "#### \n",
    "#### \n",
    "#### \n",
    "#### \n",
    "#### \n",
    "#### \n",
    "#### \n",
    "#### \n",
    "#### \n",
    "#### \n",
    "#### \n",
    "#### \n",
    "#### "
   ]
  },
  {
   "cell_type": "code",
   "execution_count": 13,
   "metadata": {},
   "outputs": [
    {
     "name": "stdout",
     "output_type": "stream",
     "text": [
      "0    4\n",
      "1    7\n",
      "2   -5\n",
      "3    3\n",
      "dtype: int64\n"
     ]
    }
   ],
   "source": [
    "import pandas as pd\n",
    "import numpy as np\n",
    "import numpy as np\n",
    "obj = pd.Series([4, 7, -5, 3])\n",
    "print(obj)"
   ]
  },
  {
   "cell_type": "code",
   "execution_count": 17,
   "metadata": {},
   "outputs": [
    {
     "name": "stdout",
     "output_type": "stream",
     "text": [
      "Before apply unique <PandasArray>\n",
      "[18, 14, 18, 12, 17, 16, 11, 10, 14, 19]\n",
      "Length: 10, dtype: int32\n",
      "\n",
      "after unique <PandasArray>\n",
      "[18, 14, 12, 17, 16, 11, 10, 19]\n",
      "Length: 8, dtype: int64\n"
     ]
    }
   ],
   "source": [
    "df=pd.array(np.random.randint(10,20,10))\n",
    "print(\"Before apply unique\",df)\n",
    "print(\"\\nafter unique\",pd.unique(df))"
   ]
  },
  {
   "cell_type": "code",
   "execution_count": 3,
   "metadata": {},
   "outputs": [
    {
     "name": "stdout",
     "output_type": "stream",
     "text": [
      "[100 200 100 400]\n",
      "RangeIndex(start=0, stop=4, step=1)\n"
     ]
    }
   ],
   "source": [
    "import pandas as pd\n",
    "sales = pd.Series([100, 200, 100, 400])\n",
    "print(sales.values)\n",
    "print(sales.index)"
   ]
  },
  {
   "cell_type": "code",
   "execution_count": 4,
   "metadata": {},
   "outputs": [
    {
     "name": "stdout",
     "output_type": "stream",
     "text": [
      "List\n",
      "Jan    100\n",
      "Feb    200\n",
      "Mar    100\n",
      "Apr    400\n",
      "dtype: int64\n",
      "[100 200 100 400]\n",
      "Index(['Jan', 'Feb', 'Mar', 'Apr'], dtype='object')\n",
      "\n",
      "Dictionary\n",
      "Jan    100\n",
      "Feb    200\n",
      "Mar    100\n",
      "Apr    400\n",
      "dtype: int64\n",
      "[100 200 100 400]\n",
      "Index(['Jan', 'Feb', 'Mar', 'Apr'], dtype='object')\n"
     ]
    }
   ],
   "source": [
    "sales = pd.Series([100, 200, 100, 400], index = ['Jan', 'Feb', 'Mar','Apr'])\n",
    "\n",
    "sales_dict = pd.Series({'Jan':100, 'Feb':200, 'Mar':100,'Apr':400}) ##use dictionary inplace of index\n",
    "print(\"List\")\n",
    "print(sales)\n",
    "print(sales.values)\n",
    "print(sales.index)\n",
    "print(\"\\nDictionary\")\n",
    "print(sales_dict)\n",
    "print(sales_dict.values)\n",
    "print(sales_dict.index)"
   ]
  },
  {
   "cell_type": "code",
   "execution_count": 5,
   "metadata": {},
   "outputs": [
    {
     "name": "stdout",
     "output_type": "stream",
     "text": [
      "Jan    100\n",
      "Feb    200\n",
      "Mar    100\n",
      "Apr    400\n",
      "Name: 4 month sales, dtype: int64\n",
      "[100 200 100 400]\n"
     ]
    }
   ],
   "source": [
    "monthNames  = ['Jan', 'Feb', 'Mar', 'Apr']\n",
    "sales = pd.Series([100, 200, 100, 400], \n",
    "                  index = ['Jan', 'Feb', 'Mar','Apr'], \n",
    "                  name=\"4 month sales\") \n",
    "# both are same\n",
    "sales = pd.Series([100, 200, 100, 400], \n",
    "                  index = monthNames, \n",
    "                  name=\"4 month sales\") \n",
    "\n",
    "print(sales)\n",
    "print(sales.values)"
   ]
  },
  {
   "cell_type": "code",
   "execution_count": 30,
   "metadata": {},
   "outputs": [
    {
     "name": "stdout",
     "output_type": "stream",
     "text": [
      "Jan    88\n",
      "Feb    73\n",
      "Mar    98\n",
      "Apr    51\n",
      "May    89\n",
      "Jun    86\n",
      "Jul    83\n",
      "Aug    20\n",
      "Sep    79\n",
      "Oct    20\n",
      "Nov    30\n",
      "Dec    87\n",
      "dtype: int32\n"
     ]
    }
   ],
   "source": [
    "import calendar as cal\n",
    "months = []\n",
    "\n",
    "for i in range(1, 13):\n",
    "    mnth = cal.month_abbr[i]\n",
    "    months.append(mnth)\n",
    "    \n",
    "sw = pd.Series( np.random.randint(10,101 , size  = [12]) , \n",
    "               index = months)\n",
    "print(sw)"
   ]
  },
  {
   "cell_type": "code",
   "execution_count": 32,
   "metadata": {},
   "outputs": [
    {
     "name": "stdout",
     "output_type": "stream",
     "text": [
      "73\n",
      "20\n",
      "87\n"
     ]
    }
   ],
   "source": [
    "print(sw[1])\n",
    "print(sw[\"Aug\"])"
   ]
  },
  {
   "cell_type": "code",
   "execution_count": 33,
   "metadata": {},
   "outputs": [
    {
     "name": "stdout",
     "output_type": "stream",
     "text": [
      "Jan     True\n",
      "Feb     True\n",
      "Mar     True\n",
      "Apr     True\n",
      "May     True\n",
      "Jun     True\n",
      "Jul     True\n",
      "Aug    False\n",
      "Sep     True\n",
      "Oct    False\n",
      "Nov     True\n",
      "Dec     True\n",
      "dtype: bool\n",
      "\n",
      "Jan    88\n",
      "Feb    73\n",
      "Mar    98\n",
      "Apr    51\n",
      "May    89\n",
      "Jun    86\n",
      "Jul    83\n",
      "Sep    79\n",
      "Nov    30\n",
      "Dec    87\n",
      "dtype: int32\n"
     ]
    }
   ],
   "source": [
    "print(sw > 20) ##jo values greater than 20 hongi unhe True or False se show krega\n",
    "print()\n",
    "print(sw[sw > 20]) ##jo values greater than 20 hongi unhe print krega"
   ]
  },
  {
   "cell_type": "code",
   "execution_count": null,
   "metadata": {},
   "outputs": [],
   "source": []
  }
 ],
 "metadata": {
  "kernelspec": {
   "display_name": "Python 3",
   "language": "python",
   "name": "python3"
  },
  "language_info": {
   "codemirror_mode": {
    "name": "ipython",
    "version": 3
   },
   "file_extension": ".py",
   "mimetype": "text/x-python",
   "name": "python",
   "nbconvert_exporter": "python",
   "pygments_lexer": "ipython3",
   "version": "3.7.3"
  }
 },
 "nbformat": 4,
 "nbformat_minor": 2
}
