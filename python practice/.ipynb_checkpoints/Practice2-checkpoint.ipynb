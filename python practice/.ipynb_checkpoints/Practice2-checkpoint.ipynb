{
 "cells": [
  {
   "cell_type": "markdown",
   "metadata": {},
   "source": [
    "# Emoji\n",
    "# OOP concepts\n",
    "# Exception handling\n",
    "# file handling\n",
    "# CSV\n",
    "# datetime\n",
    "# regex\n",
    "# -------XXXXXXX--------\n",
    "\n"
   ]
  },
  {
   "cell_type": "markdown",
   "metadata": {},
   "source": [
    "## Emoji unicodes--> https://unicode.org/emoji/charts/full-emoji-list.html"
   ]
  },
  {
   "cell_type": "code",
   "execution_count": 2,
   "metadata": {},
   "outputs": [
    {
     "name": "stdout",
     "output_type": "stream",
     "text": [
      "😅\n"
     ]
    }
   ],
   "source": [
    "print(\"\\U0001F605\")"
   ]
  },
  {
   "cell_type": "markdown",
   "metadata": {},
   "source": [
    "# OOP Concepts\n",
    "#### class\n",
    "#### inner class\n",
    "#### instance\n",
    "#### method --> Types: instance method, class method, static method\n",
    "#### attribute/properties\n",
    "#### class variable\n",
    "#### instance variable\n",
    "#### inheritance\n",
    "#### polymorphism --> Types: duck typing, method overloading & overriding, operator overloading\n",
    "#### encapsulation\n",
    "#### abstraction -> \n",
    "#### overriding -> same method in parent and child class is called overriding (overriding only possible using inheritance concept)\n",
    "#### overloading -> same method in same class but different parameters (overloading is not possible in python )"
   ]
  },
  {
   "cell_type": "code",
   "execution_count": 19,
   "metadata": {},
   "outputs": [],
   "source": [
    "#######creating class man\n",
    "class man():\n",
    "    \n",
    "    h=6.5 #class variable\n",
    "    \n",
    "    def __init__(self, name, fname, course):  #constructor ###we cannot assign more than 1 constructor in a class\n",
    "        self.name=name #instance variable\n",
    "        self.fname=fname #instance variable\n",
    "        self.course=course #instance variable\n",
    "    \n",
    "    ##when we are working with instance variables then it is instance method\n",
    "    def speaking(self, word=\"hello\"): #object/instance method\n",
    "        print(word)\n",
    "    \n",
    "    def walking(self, walk=\"20km/h\"):\n",
    "        print(\"he is walking at speed of: \"+str(walk))\n",
    "    \n",
    "    def eating(self, eat=\"roti\"):\n",
    "        print(\"he is eating: \"+eat)\n",
    "    \n",
    "    ##when we are working with class variables then it is class method    \n",
    "    @classmethod\n",
    "    def height(cls): ##class methods\n",
    "        return \"the height of this man is \"+str(cls.h)\n",
    "    \n",
    "    ##static methods\n",
    "    ##when we have nothing to concerned with class or instance variable then we use static methods\n",
    "    @staticmethod\n",
    "    def greeting():\n",
    "        print(\"welcome to class man\")\n",
    "        "
   ]
  },
  {
   "cell_type": "code",
   "execution_count": 20,
   "metadata": {},
   "outputs": [
    {
     "name": "stdout",
     "output_type": "stream",
     "text": [
      "the height of this man is 6.5\n",
      "welcome to class man\n",
      "None\n"
     ]
    }
   ],
   "source": [
    "obj1=man(\"ahsan\",\"ghaffar\",\"math\") #instance of man class\n",
    "obj2=man(\"ali\",\"raza\",\"science\")#instance of man class\n",
    "obj3=man(\"farza\",\"ahmed\",\"c++\")#instance of man class\n",
    "\n",
    "##to call class method. we don't need to create object\n",
    "print(man.height()) ##how to call class methods\n",
    "print(man.greeting())"
   ]
  },
  {
   "cell_type": "code",
   "execution_count": 22,
   "metadata": {},
   "outputs": [
    {
     "name": "stdout",
     "output_type": "stream",
     "text": [
      "6.5\n",
      "ali\n",
      "he is eating: paratha\n",
      "None\n",
      "he is eating: roti\n",
      "None\n"
     ]
    }
   ],
   "source": [
    "print(obj1.h) \n",
    "print(obj2.name)\n",
    "##to call class method. we have to create object\n",
    "print(obj1.eating(\"paratha\"))  ##how to call instance methods\n",
    "print(obj2.eating())"
   ]
  },
  {
   "cell_type": "code",
   "execution_count": 30,
   "metadata": {},
   "outputs": [
    {
     "name": "stdout",
     "output_type": "stream",
     "text": [
      "laptop brand: dell \n",
      "processor: quard core\n",
      "laptop brand: dell \n",
      "processor: quard core\n",
      "\n",
      "\n",
      "name: ahsan \n",
      "roll no: 12\n",
      "laptop brand: dell \n",
      "processor: quard core\n"
     ]
    }
   ],
   "source": [
    "###inner class\n",
    "class student():\n",
    "    \n",
    "    def __init__(self,name,roll):\n",
    "        self.name=name\n",
    "        self.roll=roll\n",
    "        self.laptop=self.Laptop()\n",
    "        \n",
    "    def show(self):\n",
    "        print(\"name:\",self.name,\"\\nroll no:\",self.roll)\n",
    "        self.laptop.show()\n",
    "    \n",
    "    class Laptop():\n",
    "        \n",
    "        def __init__(self):\n",
    "            self.brand=\"dell\"\n",
    "            self.cpu=\"quard core\"\n",
    "        \n",
    "        def show(self):\n",
    "            print(\"laptop brand:\",self.brand,\"\\nprocessor:\",self.cpu)\n",
    "\n",
    "s1=student(\"ahsan\",12) ##object of student class\n",
    "\n",
    "##we can call laptop's show method in two ways\n",
    "##\n",
    "s1.laptop.show() \n",
    "##\n",
    "lap=s1.laptop ##object of laptop class\n",
    "lap.show()\n",
    "\n",
    "print(\"\\n\")\n",
    "s1.show()"
   ]
  },
  {
   "cell_type": "code",
   "execution_count": 18,
   "metadata": {},
   "outputs": [],
   "source": [
    "#######creating class baba\n",
    "\n",
    "class baba(man):\n",
    "    pass"
   ]
  },
  {
   "cell_type": "code",
   "execution_count": 19,
   "metadata": {},
   "outputs": [],
   "source": [
    "ob1=baba(\"ahsan\",\"rao\",\"c#\")#instance of baba class"
   ]
  },
  {
   "cell_type": "code",
   "execution_count": 20,
   "metadata": {},
   "outputs": [
    {
     "name": "stdout",
     "output_type": "stream",
     "text": [
      "pakistan zindabad\n"
     ]
    }
   ],
   "source": [
    "ob1.speaking(\"pakistan zindabad\")"
   ]
  },
  {
   "cell_type": "code",
   "execution_count": 21,
   "metadata": {},
   "outputs": [
    {
     "name": "stdout",
     "output_type": "stream",
     "text": [
      "my name is ahsan\n"
     ]
    }
   ],
   "source": [
    "ob1.speaking(\"my name is ahsan\")"
   ]
  },
  {
   "cell_type": "code",
   "execution_count": 23,
   "metadata": {},
   "outputs": [],
   "source": [
    "class Employee():\n",
    "    \n",
    "    def __init__(self, fname, lname, pay):  #constructor\n",
    "        self.fname=fname #attributes/properties\n",
    "        self.lname=lname\n",
    "        self.pay=pay\n",
    "        self.xyz=0\n",
    "    \n",
    "    def details(self): #class methods\n",
    "        print(self.fname, self.lname, str(self.pay))"
   ]
  },
  {
   "cell_type": "code",
   "execution_count": 26,
   "metadata": {},
   "outputs": [],
   "source": [
    "emp1=Employee(\"ahsna\",\"rao\", 2000)"
   ]
  },
  {
   "cell_type": "code",
   "execution_count": 25,
   "metadata": {},
   "outputs": [
    {
     "name": "stdout",
     "output_type": "stream",
     "text": [
      "ahsna rao 2000\n"
     ]
    }
   ],
   "source": [
    "emp1.details()"
   ]
  },
  {
   "cell_type": "code",
   "execution_count": 27,
   "metadata": {},
   "outputs": [],
   "source": [
    "class developer(Employee):\n",
    "    \n",
    "    def __init__(self, fname, lname, pay, designation):  #constructor\n",
    "        super().__init__(fname,lname,pay)\n",
    "        self.designation=designation\n",
    "        print(self.designation)"
   ]
  },
  {
   "cell_type": "code",
   "execution_count": 28,
   "metadata": {},
   "outputs": [
    {
     "name": "stdout",
     "output_type": "stream",
     "text": [
      "lahore\n"
     ]
    }
   ],
   "source": [
    "dev1=developer(\"ahsan\",\"rao\",1200,\"lahore\")"
   ]
  },
  {
   "cell_type": "code",
   "execution_count": 31,
   "metadata": {},
   "outputs": [],
   "source": [
    "###POLYMORPHISM\n",
    "##poly=many morph=forms"
   ]
  },
  {
   "cell_type": "code",
   "execution_count": 37,
   "metadata": {},
   "outputs": [
    {
     "name": "stdout",
     "output_type": "stream",
     "text": [
      "pycharm compiled successfully\n",
      "None\n",
      "myEditor compiled successfully\n",
      "None\n",
      "pycharm compiled successfully\n",
      "None\n",
      "myEditor compiled successfully\n",
      "None\n"
     ]
    }
   ],
   "source": [
    "##DUCK TYPING\n",
    "\n",
    "class pycharm():\n",
    "    \n",
    "    def execute(self):\n",
    "        print(\"pycharm compiled successfully\")\n",
    "\n",
    "class myEditor():\n",
    "    \n",
    "    def execute(self):\n",
    "        print(\"myEditor compiled successfully\")\n",
    "\n",
    "class Exec():\n",
    "    \n",
    "    def code(self,ide):\n",
    "        ide.execute()\n",
    "        \n",
    "ide=pycharm()\n",
    "ide1=myEditor()\n",
    "ide2=Exec()\n",
    "\n",
    "print(ide.execute())\n",
    "print(ide1.execute())\n",
    "print(ide2.code(ide))\n",
    "print(ide2.code(ide1))"
   ]
  },
  {
   "cell_type": "code",
   "execution_count": 29,
   "metadata": {},
   "outputs": [
    {
     "name": "stdout",
     "output_type": "stream",
     "text": [
      "ahsan rao\n"
     ]
    }
   ],
   "source": [
    "\n",
    "###Encapsulation\n",
    "class A():\n",
    "    \n",
    "    def __init__(self, fname, lname):  #constructor\n",
    "        self.__fname=fname #private attributes/properties\n",
    "        self.__lname=lname\n",
    "    \n",
    "    def details(self): #class methods\n",
    "        print(self.__fname, self.__lname)\n",
    "    \n",
    "    def setval(self, fname, lname): #class methods OR a setter\n",
    "        self.__fname=fname\n",
    "        self.__lname=lname\n",
    "    \n",
    "    def getFname(self): #class methods OR a getter/accessor\n",
    "        return self.__fname\n",
    "    \n",
    "    def getLname(self): #class methods OR a getter/accessor\n",
    "        return self.__lname\n",
    "        \n",
    "    def __hello(self): ##private method\n",
    "        return \"hahaha\"\n",
    "\n",
    "a1=A(\"ahsan\",\"rao\")\n",
    "a1.details()"
   ]
  },
  {
   "cell_type": "code",
   "execution_count": 30,
   "metadata": {},
   "outputs": [
    {
     "name": "stdout",
     "output_type": "stream",
     "text": [
      "ali raza\n"
     ]
    }
   ],
   "source": [
    "a1.setval(\"ali\",\"raza\")\n",
    "a1.details()"
   ]
  },
  {
   "cell_type": "code",
   "execution_count": 31,
   "metadata": {},
   "outputs": [
    {
     "name": "stdout",
     "output_type": "stream",
     "text": [
      "ali\n",
      "raza\n"
     ]
    }
   ],
   "source": [
    "print(a1.getFname())\n",
    "print(a1.getLname())"
   ]
  },
  {
   "cell_type": "code",
   "execution_count": 32,
   "metadata": {},
   "outputs": [
    {
     "ename": "AttributeError",
     "evalue": "'A' object has no attribute 'name'",
     "output_type": "error",
     "traceback": [
      "\u001b[1;31m---------------------------------------------------------------------------\u001b[0m",
      "\u001b[1;31mAttributeError\u001b[0m                            Traceback (most recent call last)",
      "\u001b[1;32m<ipython-input-32-7c4edabac47e>\u001b[0m in \u001b[0;36m<module>\u001b[1;34m\u001b[0m\n\u001b[1;32m----> 1\u001b[1;33m \u001b[0ma1\u001b[0m\u001b[1;33m.\u001b[0m\u001b[0mname\u001b[0m\u001b[1;33m\u001b[0m\u001b[1;33m\u001b[0m\u001b[0m\n\u001b[0m",
      "\u001b[1;31mAttributeError\u001b[0m: 'A' object has no attribute 'name'"
     ]
    }
   ],
   "source": [
    "a1.name"
   ]
  },
  {
   "cell_type": "code",
   "execution_count": 33,
   "metadata": {},
   "outputs": [
    {
     "data": {
      "text/plain": [
       "'ali'"
      ]
     },
     "execution_count": 33,
     "metadata": {},
     "output_type": "execute_result"
    }
   ],
   "source": [
    "a1._A__fname"
   ]
  },
  {
   "cell_type": "code",
   "execution_count": 34,
   "metadata": {},
   "outputs": [
    {
     "name": "stdout",
     "output_type": "stream",
     "text": [
      "faraz raza\n"
     ]
    }
   ],
   "source": [
    "a1._A__fname=\"faraz\"\n",
    "a1.details()"
   ]
  },
  {
   "cell_type": "code",
   "execution_count": null,
   "metadata": {},
   "outputs": [],
   "source": [
    "a1._A__hello()"
   ]
  },
  {
   "cell_type": "code",
   "execution_count": 35,
   "metadata": {},
   "outputs": [],
   "source": [
    "##ABSTRACTION"
   ]
  },
  {
   "cell_type": "markdown",
   "metadata": {},
   "source": [
    "#  Exception handling"
   ]
  },
  {
   "cell_type": "code",
   "execution_count": 36,
   "metadata": {},
   "outputs": [
    {
     "name": "stdout",
     "output_type": "stream",
     "text": [
      "Can't divisible with zero\n"
     ]
    }
   ],
   "source": [
    "a,b=5,0\n",
    "\n",
    "try:\n",
    "    print(a/b)\n",
    "\n",
    "except ZeroDivisionError:\n",
    "    print(\"Can't divisible with zero\")"
   ]
  },
  {
   "cell_type": "code",
   "execution_count": 37,
   "metadata": {},
   "outputs": [
    {
     "name": "stdout",
     "output_type": "stream",
     "text": [
      "1.6666666666666667\n",
      "zero errors\n"
     ]
    }
   ],
   "source": [
    "a,b=5,3\n",
    "\n",
    "try:\n",
    "    print(a/b)\n",
    "\n",
    "except ZeroDivisionError:\n",
    "    print(\"Can't divisible with zero\") \n",
    "    \n",
    "except IndexError: #we can use more than one except blocks\n",
    "    pass  #agr koi msg na likhna chaho to pass likh do km se km\n",
    "\n",
    "else:\n",
    "    print(\"zero errors\")"
   ]
  },
  {
   "cell_type": "code",
   "execution_count": 38,
   "metadata": {},
   "outputs": [
    {
     "name": "stdout",
     "output_type": "stream",
     "text": [
      "Error: [Errno 2] No such file or directory: 'abc.txt'\n"
     ]
    }
   ],
   "source": [
    "a,b=5,0\n",
    "\n",
    "try:\n",
    "    open(\"abc.txt\")\n",
    "    print(a/b)\n",
    "\n",
    "except Exception as e: #any kind of error can be handled\n",
    "    print(\"Error: \"+str(e))\n",
    "    \n",
    "else:\n",
    "    print(\"zero errors\")"
   ]
  },
  {
   "cell_type": "code",
   "execution_count": 39,
   "metadata": {},
   "outputs": [
    {
     "ename": "Exception",
     "evalue": "Employee Salary must be above 20000",
     "output_type": "error",
     "traceback": [
      "\u001b[1;31m---------------------------------------------------------------------------\u001b[0m",
      "\u001b[1;31mException\u001b[0m                                 Traceback (most recent call last)",
      "\u001b[1;32m<ipython-input-39-12306ed207ea>\u001b[0m in \u001b[0;36m<module>\u001b[1;34m\u001b[0m\n\u001b[0;32m     11\u001b[0m         \u001b[0mprint\u001b[0m\u001b[1;33m(\u001b[0m\u001b[0mself\u001b[0m\u001b[1;33m.\u001b[0m\u001b[0mfname\u001b[0m\u001b[1;33m,\u001b[0m \u001b[0mself\u001b[0m\u001b[1;33m.\u001b[0m\u001b[0mlname\u001b[0m\u001b[1;33m,\u001b[0m \u001b[0mstr\u001b[0m\u001b[1;33m(\u001b[0m\u001b[0mself\u001b[0m\u001b[1;33m.\u001b[0m\u001b[0mpay\u001b[0m\u001b[1;33m)\u001b[0m\u001b[1;33m)\u001b[0m\u001b[1;33m\u001b[0m\u001b[1;33m\u001b[0m\u001b[0m\n\u001b[0;32m     12\u001b[0m \u001b[1;33m\u001b[0m\u001b[0m\n\u001b[1;32m---> 13\u001b[1;33m \u001b[0memp1\u001b[0m\u001b[1;33m=\u001b[0m\u001b[0mEmployee\u001b[0m\u001b[1;33m(\u001b[0m\u001b[1;34m\"ahsan\"\u001b[0m\u001b[1;33m,\u001b[0m\u001b[1;34m\"rao\"\u001b[0m\u001b[1;33m,\u001b[0m\u001b[1;36m19000\u001b[0m\u001b[1;33m)\u001b[0m\u001b[1;33m\u001b[0m\u001b[1;33m\u001b[0m\u001b[0m\n\u001b[0m\u001b[0;32m     14\u001b[0m \u001b[0memp1\u001b[0m\u001b[1;33m.\u001b[0m\u001b[0mdetails\u001b[0m\u001b[1;33m(\u001b[0m\u001b[1;33m)\u001b[0m\u001b[1;33m\u001b[0m\u001b[1;33m\u001b[0m\u001b[0m\n",
      "\u001b[1;32m<ipython-input-39-12306ed207ea>\u001b[0m in \u001b[0;36m__init__\u001b[1;34m(self, fname, lname, pay)\u001b[0m\n\u001b[0;32m      3\u001b[0m     \u001b[1;32mdef\u001b[0m \u001b[0m__init__\u001b[0m\u001b[1;33m(\u001b[0m\u001b[0mself\u001b[0m\u001b[1;33m,\u001b[0m \u001b[0mfname\u001b[0m\u001b[1;33m,\u001b[0m \u001b[0mlname\u001b[0m\u001b[1;33m,\u001b[0m \u001b[0mpay\u001b[0m\u001b[1;33m)\u001b[0m\u001b[1;33m:\u001b[0m  \u001b[1;31m#constructor\u001b[0m\u001b[1;33m\u001b[0m\u001b[1;33m\u001b[0m\u001b[0m\n\u001b[0;32m      4\u001b[0m         \u001b[1;32mif\u001b[0m \u001b[0mpay\u001b[0m\u001b[1;33m<\u001b[0m\u001b[1;36m20000\u001b[0m\u001b[1;33m:\u001b[0m\u001b[1;33m\u001b[0m\u001b[1;33m\u001b[0m\u001b[0m\n\u001b[1;32m----> 5\u001b[1;33m             \u001b[1;32mraise\u001b[0m \u001b[0mException\u001b[0m\u001b[1;33m(\u001b[0m\u001b[1;34m\"Employee Salary must be above 20000\"\u001b[0m\u001b[1;33m)\u001b[0m\u001b[1;33m\u001b[0m\u001b[1;33m\u001b[0m\u001b[0m\n\u001b[0m\u001b[0;32m      6\u001b[0m         \u001b[0mself\u001b[0m\u001b[1;33m.\u001b[0m\u001b[0mfname\u001b[0m\u001b[1;33m=\u001b[0m\u001b[0mfname\u001b[0m \u001b[1;31m#attributes/properties\u001b[0m\u001b[1;33m\u001b[0m\u001b[1;33m\u001b[0m\u001b[0m\n\u001b[0;32m      7\u001b[0m         \u001b[0mself\u001b[0m\u001b[1;33m.\u001b[0m\u001b[0mlname\u001b[0m\u001b[1;33m=\u001b[0m\u001b[0mlname\u001b[0m\u001b[1;33m\u001b[0m\u001b[1;33m\u001b[0m\u001b[0m\n",
      "\u001b[1;31mException\u001b[0m: Employee Salary must be above 20000"
     ]
    }
   ],
   "source": [
    "class Employee():\n",
    "    \n",
    "    def __init__(self, fname, lname, pay):  #constructor\n",
    "        if pay<20000:   \n",
    "            raise Exception(\"Employee Salary must be above 20000\")\n",
    "        self.fname=fname #attributes/properties\n",
    "        self.lname=lname\n",
    "        self.pay=pay\n",
    "        \n",
    "    def details(self): #class methods\n",
    "        print(self.fname, self.lname, str(self.pay))\n",
    "        \n",
    "emp1=Employee(\"ahsan\",\"rao\",19000)\n",
    "emp1.details()"
   ]
  },
  {
   "cell_type": "code",
   "execution_count": 40,
   "metadata": {},
   "outputs": [
    {
     "ename": "EmpSalExcep",
     "evalue": "Employee Salary must be above 20000",
     "output_type": "error",
     "traceback": [
      "\u001b[1;31m---------------------------------------------------------------------------\u001b[0m",
      "\u001b[1;31mEmpSalExcep\u001b[0m                               Traceback (most recent call last)",
      "\u001b[1;32m<ipython-input-40-e129cc0c78d1>\u001b[0m in \u001b[0;36m<module>\u001b[1;34m\u001b[0m\n\u001b[0;32m     14\u001b[0m     \u001b[1;32mpass\u001b[0m\u001b[1;33m\u001b[0m\u001b[1;33m\u001b[0m\u001b[0m\n\u001b[0;32m     15\u001b[0m \u001b[1;33m\u001b[0m\u001b[0m\n\u001b[1;32m---> 16\u001b[1;33m \u001b[0memp1\u001b[0m\u001b[1;33m=\u001b[0m\u001b[0mEmployee\u001b[0m\u001b[1;33m(\u001b[0m\u001b[1;34m\"ahsan\"\u001b[0m\u001b[1;33m,\u001b[0m\u001b[1;34m\"rao\"\u001b[0m\u001b[1;33m,\u001b[0m\u001b[1;36m1000\u001b[0m\u001b[1;33m)\u001b[0m\u001b[1;33m\u001b[0m\u001b[1;33m\u001b[0m\u001b[0m\n\u001b[0m\u001b[0;32m     17\u001b[0m \u001b[0memp1\u001b[0m\u001b[1;33m.\u001b[0m\u001b[0mdetails\u001b[0m\u001b[1;33m(\u001b[0m\u001b[1;33m)\u001b[0m\u001b[1;33m\u001b[0m\u001b[1;33m\u001b[0m\u001b[0m\n",
      "\u001b[1;32m<ipython-input-40-e129cc0c78d1>\u001b[0m in \u001b[0;36m__init__\u001b[1;34m(self, fname, lname, pay)\u001b[0m\n\u001b[0;32m      3\u001b[0m     \u001b[1;32mdef\u001b[0m \u001b[0m__init__\u001b[0m\u001b[1;33m(\u001b[0m\u001b[0mself\u001b[0m\u001b[1;33m,\u001b[0m \u001b[0mfname\u001b[0m\u001b[1;33m,\u001b[0m \u001b[0mlname\u001b[0m\u001b[1;33m,\u001b[0m \u001b[0mpay\u001b[0m\u001b[1;33m)\u001b[0m\u001b[1;33m:\u001b[0m  \u001b[1;31m#constructor\u001b[0m\u001b[1;33m\u001b[0m\u001b[1;33m\u001b[0m\u001b[0m\n\u001b[0;32m      4\u001b[0m         \u001b[1;32mif\u001b[0m \u001b[0mpay\u001b[0m\u001b[1;33m<\u001b[0m\u001b[1;36m20000\u001b[0m\u001b[1;33m:\u001b[0m\u001b[1;33m\u001b[0m\u001b[1;33m\u001b[0m\u001b[0m\n\u001b[1;32m----> 5\u001b[1;33m             \u001b[1;32mraise\u001b[0m \u001b[0mEmpSalExcep\u001b[0m\u001b[1;33m(\u001b[0m\u001b[1;34m\"Employee Salary must be above 20000\"\u001b[0m\u001b[1;33m)\u001b[0m\u001b[1;33m\u001b[0m\u001b[1;33m\u001b[0m\u001b[0m\n\u001b[0m\u001b[0;32m      6\u001b[0m         \u001b[0mself\u001b[0m\u001b[1;33m.\u001b[0m\u001b[0mfname\u001b[0m\u001b[1;33m=\u001b[0m\u001b[0mfname\u001b[0m \u001b[1;31m#attributes/properties\u001b[0m\u001b[1;33m\u001b[0m\u001b[1;33m\u001b[0m\u001b[0m\n\u001b[0;32m      7\u001b[0m         \u001b[0mself\u001b[0m\u001b[1;33m.\u001b[0m\u001b[0mlname\u001b[0m\u001b[1;33m=\u001b[0m\u001b[0mlname\u001b[0m\u001b[1;33m\u001b[0m\u001b[1;33m\u001b[0m\u001b[0m\n",
      "\u001b[1;31mEmpSalExcep\u001b[0m: Employee Salary must be above 20000"
     ]
    }
   ],
   "source": [
    "class Employee():\n",
    "    \n",
    "    def __init__(self, fname, lname, pay):  #constructor\n",
    "        if pay<20000:   \n",
    "            raise EmpSalExcep(\"Employee Salary must be above 20000\")\n",
    "        self.fname=fname #attributes/properties\n",
    "        self.lname=lname\n",
    "        self.pay=pay\n",
    "        \n",
    "    def details(self): #class methods\n",
    "        print(self.fname, self.lname, str(self.pay))\n",
    "        \n",
    "class EmpSalExcep(Exception):\n",
    "    pass\n",
    "        \n",
    "emp1=Employee(\"ahsan\",\"rao\",1000)\n",
    "emp1.details()"
   ]
  },
  {
   "cell_type": "code",
   "execution_count": 41,
   "metadata": {},
   "outputs": [
    {
     "name": "stdout",
     "output_type": "stream",
     "text": [
      "Sal Exception=Employee Salary must be above 20000\n"
     ]
    }
   ],
   "source": [
    "class Employee():\n",
    "    \n",
    "    def __init__(self, fname, lname, pay):  #constructor\n",
    "        if pay<20000:   \n",
    "            raise EmpSalExcep(\"Employee Salary must be above 20000\")\n",
    "        self.fname=fname #attributes/properties\n",
    "        self.lname=lname\n",
    "        self.pay=pay\n",
    "        \n",
    "    def details(self): #class methods\n",
    "        print(self.fname, self.lname, str(self.pay))\n",
    "        \n",
    "class EmpSalExcep(Exception):\n",
    "    pass\n",
    "try:        \n",
    "    emp1=Employee(\"ahsan\",\"rao\",19000)\n",
    "except EmpSalExcep as e:\n",
    "    print(\"Sal Exception=\"+ str(e))\n",
    "else:\n",
    "    emp1.details()"
   ]
  },
  {
   "cell_type": "markdown",
   "metadata": {},
   "source": [
    "# File handling"
   ]
  },
  {
   "cell_type": "markdown",
   "metadata": {},
   "source": [
    "### obj.read()\n",
    "### .closed() \n",
    "### .readlines()\n",
    "### .readline()\n",
    "### .tell()\n",
    "### .seek(index)\n",
    "### r\n",
    "### w\n",
    "### a\n",
    "### x\n",
    "### r+\n",
    "### os.path"
   ]
  },
  {
   "cell_type": "code",
   "execution_count": null,
   "metadata": {},
   "outputs": [],
   "source": [
    "open?"
   ]
  },
  {
   "cell_type": "code",
   "execution_count": 6,
   "metadata": {},
   "outputs": [
    {
     "name": "stdout",
     "output_type": "stream",
     "text": [
      "pakistan zindabad\n",
      "pakistan1 zindabad1\n",
      "pakistan2 zindabad2\n",
      "pakistan3 zindabad3\n"
     ]
    }
   ],
   "source": [
    "data = open('f1.txt')\n",
    "print(data.read())\n",
    "data.close()#yha close ka func use krne ki zarorat he"
   ]
  },
  {
   "cell_type": "code",
   "execution_count": 17,
   "metadata": {},
   "outputs": [
    {
     "name": "stdout",
     "output_type": "stream",
     "text": [
      "pakistan zindabad\n",
      "pakistan1 zindabad1\n",
      "pakistan2 zindabad2\n",
      "pakistan3 zindabad3\n",
      "False\n",
      "True\n"
     ]
    }
   ],
   "source": [
    "data = open('f1.txt')\n",
    "print(data.read())\n",
    "print(data.closed)\n",
    "data.close()#yha close ka func use krne ki zarorat he\n",
    "print(data.closed)"
   ]
  },
  {
   "cell_type": "code",
   "execution_count": 16,
   "metadata": {},
   "outputs": [
    {
     "name": "stdout",
     "output_type": "stream",
     "text": [
      "['pakistan zindabad\\n', 'pakistan1 zindabad1\\n', 'pakistan2 zindabad2\\n', 'pakistan3 zindabad3']\n",
      "4\n",
      "pakistan zindabad\n",
      "pakistan1 zindabad1\n",
      "pakistan2 zindabad2\n",
      "pakistan3 zindabad3"
     ]
    }
   ],
   "source": [
    "data = open('f1.txt')\n",
    "lis=data.readlines() # store data in list format\n",
    "print(lis)\n",
    "print(len(lis))\n",
    "\n",
    "for line in lis:\n",
    "    print(line,end=\"\")\n",
    "data.close()#yha close ka func use krne ki zarorat he"
   ]
  },
  {
   "cell_type": "code",
   "execution_count": 7,
   "metadata": {},
   "outputs": [
    {
     "name": "stdout",
     "output_type": "stream",
     "text": [
      "cursor position -->0\n",
      "pakistan zindabad\n",
      "pakistan1 zindabad1\n",
      "pakistan2 zindabad2\n",
      "pakistan3 zindabad3\n",
      "cursor position -->77\n"
     ]
    }
   ],
   "source": [
    "data = open('f1.txt')\n",
    "print(f\"cursor position -->{data.tell()}\")\n",
    "print(data.read())\n",
    "print(f\"cursor position -->{data.tell()}\")\n",
    "data.close()#yha close ka func use krne ki zarorat he"
   ]
  },
  {
   "cell_type": "code",
   "execution_count": 8,
   "metadata": {},
   "outputs": [
    {
     "name": "stdout",
     "output_type": "stream",
     "text": [
      "cursor position -->0\n",
      "pakistan zindabad\n",
      "pakistan1 zindabad1\n",
      "pakistan2 zindabad2\n",
      "pakistan3 zindabad3\n",
      "cursor position -->77\n",
      "\n",
      "\n",
      "After Seek method\n",
      "\n",
      "cursor position -->5\n",
      "tan zindabad\n",
      "pakistan1 zindabad1\n",
      "pakistan2 zindabad2\n",
      "pakistan3 zindabad3\n",
      "cursor position -->77\n"
     ]
    }
   ],
   "source": [
    "data = open('f1.txt')\n",
    "print(f\"cursor position -->{data.tell()}\")\n",
    "print(data.read())\n",
    "print(f\"cursor position -->{data.tell()}\")\n",
    "print(\"\\n\\nAfter Seek method\\n\")\n",
    "data.seek(5)\n",
    "print(f\"cursor position -->{data.tell()}\")\n",
    "print(data.read())\n",
    "print(f\"cursor position -->{data.tell()}\")\n",
    "data.close()#yha close ka func use krne ki zarorat he"
   ]
  },
  {
   "cell_type": "code",
   "execution_count": 10,
   "metadata": {},
   "outputs": [
    {
     "name": "stdout",
     "output_type": "stream",
     "text": [
      "cursor position -->0\n",
      "pakistan zindabad\n",
      "\n",
      "pakistan1 zindabad1\n",
      "\n",
      "cursor position -->38\n",
      "\n",
      "\n",
      "After Seek method\n",
      "\n",
      "cursor position -->5\n",
      "tan zindabad\n",
      "\n",
      "pakistan1 zindabad1\n",
      "\n",
      "cursor position -->38\n"
     ]
    }
   ],
   "source": [
    "data = open('f1.txt')\n",
    "print(f\"cursor position -->{data.tell()}\")\n",
    "print(data.readline())\n",
    "print(data.readline())\n",
    "print(f\"cursor position -->{data.tell()}\")\n",
    "print(\"\\n\\nAfter Seek method\\n\")\n",
    "data.seek(5)\n",
    "print(f\"cursor position -->{data.tell()}\")\n",
    "print(data.readline())\n",
    "print(data.readline())\n",
    "print(f\"cursor position -->{data.tell()}\")\n",
    "data.close()#yha close ka func use krne ki zarorat he"
   ]
  },
  {
   "cell_type": "code",
   "execution_count": 43,
   "metadata": {},
   "outputs": [
    {
     "name": "stdout",
     "output_type": "stream",
     "text": [
      "pakistan zindabad2\n",
      "pakistan zindabad\n"
     ]
    }
   ],
   "source": [
    "with open('f1.txt') as obj: #yha close ka func use krne ki zarorat ni \n",
    "    data1=obj.read()\n",
    "    print(data1)"
   ]
  },
  {
   "cell_type": "code",
   "execution_count": 44,
   "metadata": {},
   "outputs": [
    {
     "name": "stdout",
     "output_type": "stream",
     "text": [
      "pakistan zindabad2\n",
      "\n",
      "pakistan zindabad\n"
     ]
    }
   ],
   "source": [
    "with open('f1.txt') as obj: #yha close ka func use krne ki zarorat ni \n",
    "    for line in obj:\n",
    "        print(line)"
   ]
  },
  {
   "cell_type": "code",
   "execution_count": 45,
   "metadata": {},
   "outputs": [
    {
     "name": "stdout",
     "output_type": "stream",
     "text": [
      "['pakistan zindabad2\\n', 'pakistan zindabad']\n"
     ]
    }
   ],
   "source": [
    "with open('f1.txt') as obj: #yha close ka func use krne ki zarorat ni \n",
    "    data1=obj.readlines() #store data in list format\n",
    "    print(data1)"
   ]
  },
  {
   "cell_type": "code",
   "execution_count": 46,
   "metadata": {},
   "outputs": [
    {
     "name": "stdout",
     "output_type": "stream",
     "text": [
      "['hello', 'ali', 'pakistan zindabad2\\n', 'pakistan zindabad']\n"
     ]
    }
   ],
   "source": [
    "list1=['hello', 'ali']\n",
    "with open('f1.txt', mode='r') as obj: #yha close ka func use krne ki zarorat ni \n",
    "    data1=obj.readlines()\n",
    "    list1+=data1\n",
    "    print(list1)"
   ]
  },
  {
   "cell_type": "code",
   "execution_count": 47,
   "metadata": {},
   "outputs": [],
   "source": [
    "#w and a mode me file khud crete hojati he\n",
    "\n",
    "with open('f1.txt', mode='w') as obj: #yha close ka func use krne ki zarorat ni \n",
    "    obj.write(\"pakistan zindabad\")"
   ]
  },
  {
   "cell_type": "code",
   "execution_count": 18,
   "metadata": {},
   "outputs": [],
   "source": [
    "#w and a mode me file khud crete hojati he agr wo exist na krti ho wrna requested file me kam hota he\n",
    "\n",
    "with open('f1.txt', mode='a') as obj: \n",
    "    obj.write(\"\\npakistan0 zindabad0\")"
   ]
  },
  {
   "cell_type": "code",
   "execution_count": 49,
   "metadata": {},
   "outputs": [],
   "source": [
    "#x file create krne k lye hota he\n",
    "\n",
    "with open('f3.txt', mode='x') as obj: \n",
    "    obj.write(\"pakistan zindabad\")"
   ]
  },
  {
   "cell_type": "code",
   "execution_count": 23,
   "metadata": {},
   "outputs": [
    {
     "name": "stdout",
     "output_type": "stream",
     "text": [
      "pakistan0 zindabad0\n",
      "pakistan1 zindabad1\n",
      "pakistan2 zindabad2\n",
      "pakistan3 zindabad3\n",
      "\n"
     ]
    }
   ],
   "source": [
    "#r+ se read or write ke operatin perform hota he\n",
    "\n",
    "with open('f1.txt', mode='r+') as obj:\n",
    "    print(obj.read())"
   ]
  },
  {
   "cell_type": "code",
   "execution_count": 29,
   "metadata": {},
   "outputs": [
    {
     "name": "stdout",
     "output_type": "stream",
     "text": [
      "akistan1 zindabad1\n",
      "pakistan2 zindabad2\n",
      "pakistan3 zindabad3\n",
      "\n"
     ]
    }
   ],
   "source": [
    "with open('f1.txt', mode='r+') as obj:\n",
    "    obj.write(\"pakistan00 zindabad00\")\n",
    "    print(obj.read())"
   ]
  },
  {
   "cell_type": "code",
   "execution_count": 28,
   "metadata": {},
   "outputs": [
    {
     "name": "stdout",
     "output_type": "stream",
     "text": [
      "21\n",
      "pakistan00 zindabad00akistan1 zindabad1\n",
      "pakistan2 zindabad2\n",
      "pakistan3 zindabad3\n",
      "\n"
     ]
    }
   ],
   "source": [
    "\n",
    "with open('f1.txt', mode='r+') as obj:\n",
    "    obj.write(\"pakistan00 zindabad00\")\n",
    "    print(obj.tell())\n",
    "    obj.seek(0) ##cursor ki position dubara zero pr le aya kyu ke write krne ki waja se wo age chali gai thi position\n",
    "    print(obj.read())"
   ]
  },
  {
   "cell_type": "code",
   "execution_count": 30,
   "metadata": {},
   "outputs": [
    {
     "name": "stdout",
     "output_type": "stream",
     "text": [
      "cursor position: 101\n",
      "cursor position: 0\n",
      "pakistan0 zindabad0\n",
      "pakistan1 zindabad1\n",
      "pakistan2 zindabad2\n",
      "pakistan3 zindabad3\n",
      "pakistan00 zindabad00\n"
     ]
    }
   ],
   "source": [
    "with open('f1.txt', mode='r+') as obj:\n",
    "    obj.seek(len(obj.read())) ##cursor ki position ko end pr le gae take write shi se hoske\n",
    "    obj.write(\"pakistan00 zindabad00\")\n",
    "    print(f\"cursor position:\",obj.tell())\n",
    "    obj.seek(0)\n",
    "    print(f\"cursor position:\",obj.tell())\n",
    "    print(obj.read())"
   ]
  },
  {
   "cell_type": "code",
   "execution_count": 39,
   "metadata": {},
   "outputs": [],
   "source": [
    "##copy data from one file to another\n",
    "f=open('f1.txt','r')\n",
    "f1=open('f2.txt','w')\n",
    "\n",
    "for data in f:\n",
    "    f1.write(data)"
   ]
  },
  {
   "cell_type": "code",
   "execution_count": 31,
   "metadata": {},
   "outputs": [],
   "source": [
    "with open('f1.txt', mode='r') as r:\n",
    "    with open('f2.txt', mode='w') as w:\n",
    "        w.write(r.read())"
   ]
  },
  {
   "cell_type": "code",
   "execution_count": 13,
   "metadata": {},
   "outputs": [],
   "source": [
    "###create a copy of image\n",
    "f=open('load_icon.JPG','rb')\n",
    "f1=open('new_load_icon.JPG','wb')\n",
    "\n",
    "for data in f:\n",
    "    f1.write(data)\n"
   ]
  },
  {
   "cell_type": "code",
   "execution_count": 14,
   "metadata": {},
   "outputs": [
    {
     "name": "stdout",
     "output_type": "stream",
     "text": [
      "The file does not exist\n"
     ]
    }
   ],
   "source": [
    "##how to remove file\n",
    "import os\n",
    "if os.path.exists(\"demofile.txt\"):\n",
    "  os.remove(\"demofile.txt\")\n",
    "else:\n",
    "  print(\"The file does not exist\") "
   ]
  },
  {
   "cell_type": "code",
   "execution_count": 4,
   "metadata": {},
   "outputs": [
    {
     "data": {
      "text/plain": [
       "True"
      ]
     },
     "execution_count": 4,
     "metadata": {},
     "output_type": "execute_result"
    }
   ],
   "source": [
    "import os\n",
    "\n",
    "file_exist=os.path.isfile(\"f1.txt\") #os(operating system) search krega ke f1 file exist krti he ya nhi \n",
    "\n",
    "file_exist"
   ]
  },
  {
   "cell_type": "code",
   "execution_count": 52,
   "metadata": {},
   "outputs": [
    {
     "data": {
      "text/plain": [
       "False"
      ]
     },
     "execution_count": 52,
     "metadata": {},
     "output_type": "execute_result"
    }
   ],
   "source": [
    "folder_exist=os.path.isdir(\"demo1/\") \n",
    "folder_exist"
   ]
  },
  {
   "cell_type": "code",
   "execution_count": 53,
   "metadata": {},
   "outputs": [
    {
     "ename": "FileNotFoundError",
     "evalue": "[WinError 3] The system cannot find the path specified: 'demo1/'",
     "output_type": "error",
     "traceback": [
      "\u001b[1;31m---------------------------------------------------------------------------\u001b[0m",
      "\u001b[1;31mFileNotFoundError\u001b[0m                         Traceback (most recent call last)",
      "\u001b[1;32m<ipython-input-53-0d9d217b57e4>\u001b[0m in \u001b[0;36m<module>\u001b[1;34m\u001b[0m\n\u001b[1;32m----> 1\u001b[1;33m \u001b[0mfile_exist\u001b[0m\u001b[1;33m=\u001b[0m\u001b[0mos\u001b[0m\u001b[1;33m.\u001b[0m\u001b[0mlistdir\u001b[0m\u001b[1;33m(\u001b[0m\u001b[1;34m\"demo1/\"\u001b[0m\u001b[1;33m)\u001b[0m\u001b[1;33m\u001b[0m\u001b[1;33m\u001b[0m\u001b[0m\n\u001b[0m\u001b[0;32m      2\u001b[0m \u001b[0mfile_exist\u001b[0m\u001b[1;33m\u001b[0m\u001b[1;33m\u001b[0m\u001b[0m\n",
      "\u001b[1;31mFileNotFoundError\u001b[0m: [WinError 3] The system cannot find the path specified: 'demo1/'"
     ]
    }
   ],
   "source": [
    "file_exist=os.listdir(\"demo1/\") \n",
    "file_exist"
   ]
  },
  {
   "cell_type": "markdown",
   "metadata": {},
   "source": [
    "# CSV --> Comma Seperated Values\n",
    "### reader\n",
    "### writer\n",
    "### DictReader\n",
    "### DictWriter"
   ]
  },
  {
   "cell_type": "code",
   "execution_count": 9,
   "metadata": {},
   "outputs": [
    {
     "name": "stdout",
     "output_type": "stream",
     "text": [
      "['name', 'state', 'country']\n",
      "['ahsan', 'karachi', 'pakistan']\n",
      "['ahsan1', 'karachi1', 'pakistan1']\n"
     ]
    }
   ],
   "source": [
    "from csv import reader\n",
    "with open('file_csv.csv', mode='r') as r:\n",
    "    csv_reader=reader(r) ##reader is an iterator\n",
    "    #print(next(csv_reader))\n",
    "    for rr in csv_reader:\n",
    "        print(rr)"
   ]
  },
  {
   "cell_type": "code",
   "execution_count": 10,
   "metadata": {},
   "outputs": [
    {
     "name": "stdout",
     "output_type": "stream",
     "text": [
      "['ahsan', 'karachi', 'pakistan']\n",
      "['ahsan1', 'karachi1', 'pakistan1']\n"
     ]
    }
   ],
   "source": [
    "from csv import reader\n",
    "with open('file_csv.csv', mode='r') as r:\n",
    "    csv_reader=reader(r) ##reader is an iterator\n",
    "    next(csv_reader)\n",
    "    for rr in csv_reader:\n",
    "        print(rr)"
   ]
  },
  {
   "cell_type": "code",
   "execution_count": 11,
   "metadata": {},
   "outputs": [
    {
     "name": "stdout",
     "output_type": "stream",
     "text": [
      "OrderedDict([('name', 'ahsan'), ('state', 'karachi'), ('country', 'pakistan')])\n",
      "OrderedDict([('name', 'ahsan1'), ('state', 'karachi1'), ('country', 'pakistan1')])\n"
     ]
    }
   ],
   "source": [
    "##using DictReader\n",
    "from csv import DictReader\n",
    "with open('file_csv.csv', mode='r') as r:\n",
    "    csv_reader=DictReader(r) ##DictReader is an iterator\n",
    "    for rr in csv_reader:\n",
    "        print(rr)"
   ]
  },
  {
   "cell_type": "code",
   "execution_count": 12,
   "metadata": {},
   "outputs": [
    {
     "name": "stdout",
     "output_type": "stream",
     "text": [
      "ahsan\n",
      "ahsan1\n"
     ]
    }
   ],
   "source": [
    "with open('file_csv.csv', mode='r') as r:\n",
    "    csv_reader=DictReader(r) ##DictReader is an iterator\n",
    "    for rr in csv_reader:\n",
    "        print(rr['name'])"
   ]
  },
  {
   "cell_type": "code",
   "execution_count": 8,
   "metadata": {},
   "outputs": [],
   "source": [
    "from csv import writer\n",
    "with open('file_csv.csv', mode='w',newline='') as w: ##to remove newline space we use newline=''\n",
    "    #csv_writer=writer(w,delimiter='-') \n",
    "    csv_writer=writer(w) \n",
    "    ###there must be only one list as parameter in writerows or we can use list inside list for multiple values\n",
    "    ##1st way\n",
    "    #csv_writer.writerows(['name','country'])\n",
    "    #csv_writer.writerows(['ahsan','pakistan'])\n",
    "    #csv_writer.writerows(['ahsan1','pakistan1'])\n",
    "    ##2nd way\n",
    "    csv_writer.writerows([['name','state','country'],['ahsan','karachi','pakistan'],['ahsan1','karachi1','pakistan1']])"
   ]
  },
  {
   "cell_type": "code",
   "execution_count": 1,
   "metadata": {},
   "outputs": [],
   "source": [
    "from csv import DictWriter\n",
    "with open('file_csv.csv', mode='w',newline='') as w: ##to remove newline space we use newline=''\n",
    "    csv_writer=DictWriter(w,fieldnames=['name','state','country']) \n",
    "    csv_writer.writeheader()\n",
    "    \n",
    "    #csv_writer.writerow({\n",
    "    #   'name':'ahsan',\n",
    "    #   'state':'islamabad',\n",
    "    #   'country':'pakistan'\n",
    "    #})\n",
    "    #csv_writer.writerow({\n",
    "    #    'name':'ahsan1',\n",
    "    #    'state':'islamabad1',\n",
    "    #    'country':'pakistan1'\n",
    "    #})\n",
    "    \n",
    "    csv_writer.writerows([\n",
    "    {\n",
    "        'name':'ahsan',\n",
    "        'state':'islamabad',\n",
    "        'country':'pakistan'\n",
    "    },\n",
    "    {\n",
    "        'name':'ahsan11',\n",
    "        'state':'islamabad11',\n",
    "        'country':'pakistan11'\n",
    "    }\n",
    "    ])\n",
    "    \n",
    "    "
   ]
  },
  {
   "cell_type": "code",
   "execution_count": 69,
   "metadata": {},
   "outputs": [],
   "source": [
    "from csv import DictWriter,DictReader\n",
    "with open('file_csv.csv', mode='r') as r:\n",
    "    with open('file_csv_new.csv', mode='w',newline='') as w: ##to remove newline space we use newline=''\n",
    "        csv_reader=DictReader(r)\n",
    "        csv_writer=DictWriter(w,fieldnames=['name','state','country']) \n",
    "        csv_writer.writeheader()\n",
    "        for row in csv_reader:\n",
    "            name,state,country=row['name'],row['state'],row['country']\n",
    "            csv_writer.writerow({\n",
    "                'name':name,\n",
    "                'state':state,\n",
    "                'country':country\n",
    "            })"
   ]
  },
  {
   "cell_type": "markdown",
   "metadata": {},
   "source": [
    "# DATETIME"
   ]
  },
  {
   "cell_type": "code",
   "execution_count": 1,
   "metadata": {},
   "outputs": [
    {
     "name": "stdout",
     "output_type": "stream",
     "text": [
      "2019-08-02 00:08:01.860740\n",
      "year: 2019\n",
      "month: 08\n",
      "day: 02\n",
      "time: 00:08:01\n",
      "date and time: 08/02/2019, 00:08:01\n"
     ]
    }
   ],
   "source": [
    "from datetime import datetime\n",
    "now = datetime.now() # current date and time\n",
    "print(now)\n",
    "year = now.strftime(\"%Y\")\n",
    "print(\"year:\", year)\n",
    "month = now.strftime(\"%m\")\n",
    "print(\"month:\", month)\n",
    "day = now.strftime(\"%d\")\n",
    "print(\"day:\", day)\n",
    "time = now.strftime(\"%H:%M:%S\")\n",
    "print(\"time:\", time)\n",
    "date_time = now.strftime(\"%m/%d/%Y, %H:%M:%S\")\n",
    "print(\"date and time:\",date_time)"
   ]
  },
  {
   "cell_type": "code",
   "execution_count": 2,
   "metadata": {},
   "outputs": [
    {
     "name": "stdout",
     "output_type": "stream",
     "text": [
      "0\n",
      "8\n",
      "2\n",
      "8\n",
      "2019\n",
      "4\n"
     ]
    }
   ],
   "source": [
    "d=datetime.now()\n",
    "print(d.hour)\n",
    "print(d.second)\n",
    "print(d.day)\n",
    "print(d.month)\n",
    "print(d.year)\n",
    "print(d.weekday())"
   ]
  },
  {
   "cell_type": "code",
   "execution_count": 3,
   "metadata": {},
   "outputs": [
    {
     "name": "stdout",
     "output_type": "stream",
     "text": [
      "2019-07-27 00:00:00\n",
      "02\n",
      "08/02/19\n",
      "08\n",
      "19\n",
      "02 08 2019\n",
      "19 08 02\n",
      "02-08-2019\n",
      "02 Aug 2019\n",
      "02 Aug, 2019\n",
      "00 08 08\n",
      "00:08:08\n"
     ]
    }
   ],
   "source": [
    "dd=datetime(2019,7,27)\n",
    "print(dd)\n",
    "print(d.strftime(\"%d\"))\n",
    "print(d.strftime(\"%D\"))\n",
    "print(d.strftime(\"%m\"))\n",
    "print(d.strftime(\"%y\"))\n",
    "print(d.strftime(\"%d %M %Y\"))\n",
    "print(d.strftime(\"%y %m %d\"))\n",
    "print(d.strftime(\"%d-%m-%Y\"))\n",
    "print(d.strftime(\"%d %b %Y\"))\n",
    "print(d.strftime(\"%d %b, %Y\"))\n",
    "print(d.strftime(\"%H %m %S\"))\n",
    "print(d.strftime(\"%H:%m:%S\"))"
   ]
  },
  {
   "cell_type": "markdown",
   "metadata": {},
   "source": [
    "# # REGEX\n",
    "## findall -> return list of strings which find   return 0 if nothing finds\n",
    "## split    ->\n",
    "## sub  -> replace/substitute result with given string\n",
    "## search  -> return only one result in span form    return None if nothing finds\n",
    "## finditer ->return all results in span form"
   ]
  },
  {
   "cell_type": "markdown",
   "metadata": {},
   "source": [
    "## Regular Expression rules\n",
    "##### {} exp: regex-> \\d{2,4} string-> 1 | 09323 | 879 | 55 | 5673 | 325436  accepted: [879,55,5673]   so the digits should be in range of 2 to 4 characters\n",
    "##### few more exp of {} -> exp:  {3,}:three or many   {3}:exactly 3   {3,5}:(min of 3 max of 5) (between 3 and 5) \n",
    "#####  start of string should be matched with our given regular expression exp: regex-> ^\\d  string-> 1abc | a2b | ab2  answer: accepts only 1abc\n",
    "##### end of string should be matched with our given regular expression exp: regex-> \\d dollar_sign   and string-> 1abc a2b ab2  answer: accepts only ab2       ab are exclude sirf smjhane k lye ab ko sath likha he\n",
    "##### () treat complete string inside () as individual exp: regex-> (ab){2,4}   string-> abab | abc | dqabababab | ababababab answer: abab,abababab\n",
    "##### [] treat each character as individual inside[]  exp: regex-> [ab]{2,4}  string-> aad | bbb | ababab | aaaa | bsdf answer: aad->exclude d,bbb,aaaa\n",
    "##### a? zero or one of a\n",
    "##### a* zero or many a's\n",
    "##### .  any single character\n",
    "##### a+ one or many a's\n",
    "##### ^ starting of given string should be matched with regex\n",
    "##### dollar_sign ending of given string should be matched with regex\n",
    "##### \\b works as both ^ and dollar_sign ->>>> if \\b is placed on right of regex exp: regex-> a\\b  string afsd | bfdsa | aaa | a accepted: bfdsa,aaa,a\n",
    "#####                                                                     if \\b is placed on right of regex exp: regex-> \\ba  string afsd | bfdsa | aaa | a accepted: afsd,aaa,a\n",
    "##### [a-z] , [A-Z] , [a-zA-Z] , [a-zA-Z0-9] \n",
    "##### [^a-z] -> accept anything except a to z\n",
    "##### [^abc] -> accept anything except a , b , c\n",
    "##### \\w, \\d, \\b, \\s ->>>>>>> all capital form of these sign's have opposite functionality\n",
    "#### i , g , m  ->case sensitive flags \n",
    "#### [a-z-[m-z]] -> matching a to l    [a-z&&[m-z]] -> matching intersection\n",
    "\n",
    "### few examples:\n",
    "#### email address->  ^\\w+@\\w+(\\.\\w+)+dollar_sign \n",
    "#### namer=  ^[a-zA-Z\\s]{3,}dollar_sign\n",
    "#### mail=  ^\\w+@\\w+(\\.\\w+)+dollar_sign\n",
    "#### phone no=  ^(\\+92|0)[0-9]{10}dollar_sign\n",
    "#### password =  ^.{7,12}\n",
    "#### zip_code=   ^\\d{5}\n",
    "#### user_id = /^\\d{5,12}dollar_sign"
   ]
  },
  {
   "cell_type": "code",
   "execution_count": 1,
   "metadata": {},
   "outputs": [
    {
     "name": "stdout",
     "output_type": "stream",
     "text": [
      "seach successfull\n",
      "<re.Match object; span=(2, 6), match='dogs'>\n",
      "dogs\n",
      "(2, 6)\n",
      "2\n",
      "6\n"
     ]
    }
   ],
   "source": [
    "import re\n",
    "st=\"3 dogs and 4 kitten but dogs getting bigger than kitten and buts are done.\"\n",
    "\n",
    "b=re.search(r\"dogs\",st)\n",
    "if b.group()== st[b.start():b.end()]:\n",
    "    print(\"seach successfull\")\n",
    "else:\n",
    "    print(\"seach fails\")\n",
    "    \n",
    "print(b)\n",
    "print(b.group())\n",
    "print(b.span())\n",
    "print(b.start())\n",
    "print( b.end())"
   ]
  },
  {
   "cell_type": "code",
   "execution_count": 8,
   "metadata": {},
   "outputs": [
    {
     "name": "stdout",
     "output_type": "stream",
     "text": [
      "True\n"
     ]
    }
   ],
   "source": [
    "name = \"Ahsan rao\"\n",
    "comp=re.compile(r\"^[a-zA-Z\\s]{3,}$\")\n",
    "\n",
    "if comp.search(name) != None:\n",
    "    print(\"True\")\n",
    "else:\n",
    "    print(\"False\")"
   ]
  },
  {
   "cell_type": "code",
   "execution_count": 5,
   "metadata": {},
   "outputs": [
    {
     "name": "stdout",
     "output_type": "stream",
     "text": [
      "seach fails\n",
      "None\n"
     ]
    },
    {
     "ename": "AttributeError",
     "evalue": "'NoneType' object has no attribute 'group'",
     "output_type": "error",
     "traceback": [
      "\u001b[1;31m---------------------------------------------------------------------------\u001b[0m",
      "\u001b[1;31mAttributeError\u001b[0m                            Traceback (most recent call last)",
      "\u001b[1;32m<ipython-input-5-b67865c00380>\u001b[0m in \u001b[0;36m<module>\u001b[1;34m\u001b[0m\n\u001b[0;32m      8\u001b[0m \u001b[0mprint\u001b[0m\u001b[1;33m(\u001b[0m\u001b[0mb\u001b[0m\u001b[1;33m)\u001b[0m\u001b[1;33m\u001b[0m\u001b[1;33m\u001b[0m\u001b[0m\n\u001b[0;32m      9\u001b[0m \u001b[1;31m#so cant print all of these\u001b[0m\u001b[1;33m\u001b[0m\u001b[1;33m\u001b[0m\u001b[1;33m\u001b[0m\u001b[0m\n\u001b[1;32m---> 10\u001b[1;33m \u001b[0mprint\u001b[0m\u001b[1;33m(\u001b[0m\u001b[0mb\u001b[0m\u001b[1;33m.\u001b[0m\u001b[0mgroup\u001b[0m\u001b[1;33m(\u001b[0m\u001b[1;33m)\u001b[0m\u001b[1;33m)\u001b[0m\u001b[1;33m\u001b[0m\u001b[1;33m\u001b[0m\u001b[0m\n\u001b[0m\u001b[0;32m     11\u001b[0m \u001b[0mprint\u001b[0m\u001b[1;33m(\u001b[0m\u001b[0mb\u001b[0m\u001b[1;33m.\u001b[0m\u001b[0mspan\u001b[0m\u001b[1;33m(\u001b[0m\u001b[1;33m)\u001b[0m\u001b[1;33m)\u001b[0m\u001b[1;33m\u001b[0m\u001b[1;33m\u001b[0m\u001b[0m\n\u001b[0;32m     12\u001b[0m \u001b[0mprint\u001b[0m\u001b[1;33m(\u001b[0m\u001b[0mb\u001b[0m\u001b[1;33m.\u001b[0m\u001b[0mstart\u001b[0m\u001b[1;33m(\u001b[0m\u001b[1;33m)\u001b[0m\u001b[1;33m)\u001b[0m\u001b[1;33m\u001b[0m\u001b[1;33m\u001b[0m\u001b[0m\n",
      "\u001b[1;31mAttributeError\u001b[0m: 'NoneType' object has no attribute 'group'"
     ]
    }
   ],
   "source": [
    "b=re.search(r\"moon\",st)\n",
    "\n",
    "if b != None:\n",
    "    print(\"seach successfull\")\n",
    "else:\n",
    "    print(\"seach fails\")\n",
    "    \n",
    "print(b)\n",
    "#so cant print all of these\n",
    "print(b.group())\n",
    "print(b.span())\n",
    "print(b.start())\n",
    "print( b.end())"
   ]
  },
  {
   "cell_type": "code",
   "execution_count": 6,
   "metadata": {},
   "outputs": [
    {
     "name": "stdout",
     "output_type": "stream",
     "text": [
      "['2', '3']\n"
     ]
    }
   ],
   "source": [
    "inp1=\"2 cats and 3 dogs.\"\n",
    "inp=inp1.split(\" \")\n",
    "out=[]\n",
    "\n",
    "for find in inp:\n",
    "    tmp=re.findall(r\"^\\d+$\",find)\n",
    "    \n",
    "    if len(tmp) > 0:\n",
    "        out.append(find)\n",
    "print(out)"
   ]
  },
  {
   "cell_type": "code",
   "execution_count": 7,
   "metadata": {},
   "outputs": [
    {
     "name": "stdout",
     "output_type": "stream",
     "text": [
      "['2S', 'cats', 'dogs', 'ps', 'catS']\n"
     ]
    }
   ],
   "source": [
    "inp1=\"2S cats and 3 dogs ps one catS\"\n",
    "regex=re.compile(r\"\\w+s\",re.IGNORECASE)\n",
    "tmp=regex.findall(inp1)\n",
    "#tmp=re.findall(r\"\\w+s\",inp1)\n",
    "print(tmp)\n"
   ]
  },
  {
   "cell_type": "code",
   "execution_count": 8,
   "metadata": {},
   "outputs": [
    {
     "name": "stdout",
     "output_type": "stream",
     "text": [
      "cats\n",
      "dogs\n",
      "catS\n"
     ]
    }
   ],
   "source": [
    "for i in tmp:\n",
    "    if len(i) > 2:\n",
    "        print(i)"
   ]
  },
  {
   "cell_type": "code",
   "execution_count": 9,
   "metadata": {},
   "outputs": [
    {
     "name": "stdout",
     "output_type": "stream",
     "text": [
      "(0, 2)\n",
      "<re.Match object; span=(0, 2), match='2s'>\n",
      "(3, 7)\n",
      "<re.Match object; span=(3, 7), match='cats'>\n",
      "(14, 18)\n",
      "<re.Match object; span=(14, 18), match='dogs'>\n",
      "(19, 23)\n",
      "<re.Match object; span=(19, 23), match='plus'>\n",
      "(28, 32)\n",
      "<re.Match object; span=(28, 32), match='cats'>\n"
     ]
    }
   ],
   "source": [
    "inp1=\"2s cats and 3 dogs plus one cats\"\n",
    "#mat=re.compile(r\"\\w+s\")\n",
    "#tmp=mat.findall(inp1)\n",
    "\n",
    "for i in re.finditer(r\"\\w+s\",inp1):\n",
    "    tuple1=i.span()\n",
    "    print(tuple1)\n",
    "    print(i)\n",
    "    "
   ]
  },
  {
   "cell_type": "code",
   "execution_count": 10,
   "metadata": {},
   "outputs": [
    {
     "name": "stdout",
     "output_type": "stream",
     "text": [
      "replaced cats and replaced dogs plus one cats\n"
     ]
    }
   ],
   "source": [
    "inp1=\"23s cats and 3S dogs plus one cats\"\n",
    "regex=re.compile(r\"\\d+s\",re.IGNORECASE)\n",
    "tmp=regex.sub(r\"replaced\",inp1)\n",
    "print(tmp)"
   ]
  },
  {
   "cell_type": "code",
   "execution_count": 11,
   "metadata": {},
   "outputs": [
    {
     "name": "stdout",
     "output_type": "stream",
     "text": [
      "2 cats and 3     2 cats and 3     2 cats and 3     2 cats and 3\n"
     ]
    }
   ],
   "source": [
    "inp1=\"\"\"2 cats and 3\n",
    "    2 cats and 3\n",
    "    2 cats and 3\n",
    "    2 cats and 3\"\"\"\n",
    "regex=re.compile(r\"\\n\")\n",
    "tmp=regex.sub(r\" \",inp1)\n",
    "print(tmp)"
   ]
  },
  {
   "cell_type": "code",
   "execution_count": null,
   "metadata": {},
   "outputs": [],
   "source": []
  }
 ],
 "metadata": {
  "kernelspec": {
   "display_name": "Python 3",
   "language": "python",
   "name": "python3"
  },
  "language_info": {
   "codemirror_mode": {
    "name": "ipython",
    "version": 3
   },
   "file_extension": ".py",
   "mimetype": "text/x-python",
   "name": "python",
   "nbconvert_exporter": "python",
   "pygments_lexer": "ipython3",
   "version": "3.7.3"
  }
 },
 "nbformat": 4,
 "nbformat_minor": 2
}
