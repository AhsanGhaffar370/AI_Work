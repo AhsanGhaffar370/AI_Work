{
 "cells": [
  {
   "cell_type": "code",
   "execution_count": 57,
   "metadata": {
    "collapsed": true
   },
   "outputs": [],
   "source": [
    "class graph:\n",
    "    dir_graph={}\n",
    "    undir_graph={}\n",
    "    \n",
    "    def dir_add_edges(self,n1,n2):\n",
    "        if n1 not in self.dir_graph:\n",
    "            self.dir_graph[n1]=[]\n",
    "            self.dir_graph[n1].append(n2)\n",
    "        else:\n",
    "            self.dir_graph[n1].append(n2)\n",
    "        \n",
    "    def undir_add_edges(self,n1,n2):\n",
    "        \n",
    "        if n1 not in self.undir_graph:\n",
    "            self.undir_graph[n1]=[]\n",
    "            self.undir_graph[n1].append(n2)\n",
    "        else:\n",
    "            self.undir_graph[n1].append(n2)\n",
    "            \n",
    "        if n2 not in self.undir_graph:\n",
    "            self.undir_graph[n2]=[]\n",
    "            self.undir_graph[n2].append(n1)\n",
    "        else:\n",
    "            self.undir_graph[n2].append(n1)\n",
    "    \n",
    "    def show_dir_graph(self):\n",
    "        print(self.dir_graph)\n",
    "        \n",
    "    def show_dir_neighbours(self,n1):\n",
    "        print(self.dir_graph[n1])\n",
    "        \n",
    "    def show_undir_graph(self):\n",
    "        print(self.undir_graph)\n",
    "        \n",
    "    def show_undir_neighbours(self,n1):\n",
    "        print(self.undir_graph[n1])\n",
    "        \n",
    "        "
   ]
  },
  {
   "cell_type": "code",
   "execution_count": 58,
   "metadata": {
    "collapsed": true
   },
   "outputs": [],
   "source": [
    "g1=graph()"
   ]
  },
  {
   "cell_type": "code",
   "execution_count": 59,
   "metadata": {
    "collapsed": true
   },
   "outputs": [],
   "source": [
    "g1.dir_add_edges('A','B')\n",
    "g1.dir_add_edges('A','C')\n",
    "g1.dir_add_edges('B','C')\n",
    "g1.dir_add_edges('B','D')\n",
    "g1.dir_add_edges('C','D')"
   ]
  },
  {
   "cell_type": "code",
   "execution_count": 60,
   "metadata": {
    "collapsed": true
   },
   "outputs": [],
   "source": [
    "g1.undir_add_edges('A','B')\n",
    "g1.undir_add_edges('A','C')\n",
    "g1.undir_add_edges('B','C')\n",
    "g1.undir_add_edges('B','D')\n",
    "g1.undir_add_edges('C','D')"
   ]
  },
  {
   "cell_type": "code",
   "execution_count": 61,
   "metadata": {},
   "outputs": [
    {
     "name": "stdout",
     "output_type": "stream",
     "text": [
      "{'A': ['B', 'C'], 'B': ['C', 'D'], 'C': ['D']}\n",
      "{'A': ['B', 'C'], 'B': ['A', 'C', 'D'], 'C': ['A', 'B', 'D'], 'D': ['B', 'C']}\n"
     ]
    }
   ],
   "source": [
    "g1.show_dir_graph()\n",
    "g1.show_undir_graph()"
   ]
  },
  {
   "cell_type": "code",
   "execution_count": 62,
   "metadata": {},
   "outputs": [
    {
     "name": "stdout",
     "output_type": "stream",
     "text": [
      "['B', 'C']\n",
      "['A', 'C', 'D']\n",
      "['A', 'B', 'D']\n"
     ]
    }
   ],
   "source": [
    "g1.show_undir_neighbours('A')\n",
    "g1.show_undir_neighbours('B')\n",
    "g1.show_undir_neighbours('C')"
   ]
  },
  {
   "cell_type": "code",
   "execution_count": 63,
   "metadata": {},
   "outputs": [
    {
     "name": "stdout",
     "output_type": "stream",
     "text": [
      "['B', 'C']\n",
      "['C', 'D']\n",
      "['D']\n"
     ]
    }
   ],
   "source": [
    "g1.show_dir_neighbours('A')\n",
    "g1.show_dir_neighbours('B')\n",
    "g1.show_dir_neighbours('C')"
   ]
  },
  {
   "cell_type": "code",
   "execution_count": 64,
   "metadata": {
    "collapsed": true
   },
   "outputs": [],
   "source": [
    "class f_graph:\n",
    "    graph={}\n",
    "    \n",
    "    def add_edges(self,n1,n2):\n",
    "        \n",
    "        if n1 not in self.graph:\n",
    "            self.graph[n1]=[]\n",
    "            self.graph[n1].append(n2)\n",
    "        else:\n",
    "            self.graph[n1].append(n2)\n",
    "            \n",
    "        if n2 not in self.graph:\n",
    "            self.graph[n2]=[]\n",
    "            self.graph[n2].append(n1)\n",
    "        else:\n",
    "            self.graph[n2].append(n1)\n",
    "    \n",
    "    def show_graph(self):\n",
    "        print(self.graph)\n",
    "        \n",
    "    def show_neighbours(self,n1):\n",
    "        print(self.graph[n1])\n",
    "        \n",
    "        \n",
    "        "
   ]
  },
  {
   "cell_type": "code",
   "execution_count": null,
   "metadata": {
    "collapsed": true
   },
   "outputs": [],
   "source": []
  }
 ],
 "metadata": {
  "kernelspec": {
   "display_name": "Python 3",
   "language": "python",
   "name": "python3"
  },
  "language_info": {
   "codemirror_mode": {
    "name": "ipython",
    "version": 3
   },
   "file_extension": ".py",
   "mimetype": "text/x-python",
   "name": "python",
   "nbconvert_exporter": "python",
   "pygments_lexer": "ipython3",
   "version": "3.7.3"
  }
 },
 "nbformat": 4,
 "nbformat_minor": 2
}
